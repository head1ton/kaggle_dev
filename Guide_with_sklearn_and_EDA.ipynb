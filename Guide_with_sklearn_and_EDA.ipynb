{
  "nbformat": 4,
  "nbformat_minor": 0,
  "metadata": {
    "colab": {
      "name": "Guide with sklearn and EDA.ipynb",
      "provenance": [],
      "collapsed_sections": [],
      "authorship_tag": "ABX9TyOqUvkfZ/DLzf4y50I2iUOt",
      "include_colab_link": true
    },
    "kernelspec": {
      "name": "python3",
      "display_name": "Python 3"
    }
  },
  "cells": [
    {
      "cell_type": "markdown",
      "metadata": {
        "id": "view-in-github",
        "colab_type": "text"
      },
      "source": [
        "<a href=\"https://colab.research.google.com/github/head1ton/kaggle_dev/blob/master/Guide_with_sklearn_and_EDA.ipynb\" target=\"_parent\"><img src=\"https://colab.research.google.com/assets/colab-badge.svg\" alt=\"Open In Colab\"/></a>"
      ]
    },
    {
      "cell_type": "markdown",
      "metadata": {
        "id": "C6a1tFbJZGSu",
        "colab_type": "text"
      },
      "source": [
        "\n",
        "\n",
        "1.   Importing Libraries and Packages\n",
        "2.   Loading and Viewing Data Set\n",
        "3.   Dealing with NaN Values (Imputation)\n",
        "4.   Plotting and Visualizing Data\n",
        "5.   Feature Engineering\n",
        "6.   Feature Rescaling\n",
        "7.   Modeling and Predicting with sklearn\n",
        "8.   Evaluating Model Performances\n",
        "9.   Submission\n",
        "\n"
      ]
    },
    {
      "cell_type": "markdown",
      "metadata": {
        "id": "mZ_uM6NgaQtx",
        "colab_type": "text"
      },
      "source": [
        "1. Importing Libraries and Packages"
      ]
    },
    {
      "cell_type": "code",
      "metadata": {
        "id": "B-EU2WHEaQKA",
        "colab_type": "code",
        "colab": {
          "base_uri": "https://localhost:8080/",
          "height": 34
        },
        "outputId": "ea0c5542-e91e-4562-9dd9-84ae7120940f"
      },
      "source": [
        "import numpy as np\n",
        "import pandas as pd\n",
        "import seaborn as sns\n",
        "from matplotlib import pyplot as plt\n",
        "sns.set_style(\"whitegrid\")\n",
        "%matplotlib inline\n",
        "\n",
        "import warnings\n",
        "warnings.filterwarnings(\"ignore\")\n",
        "\n",
        "import os\n",
        "print(os.listdir(\"./\"))"
      ],
      "execution_count": 62,
      "outputs": [
        {
          "output_type": "stream",
          "text": [
            "['.config', 'train.csv', 'test.csv', 'sample_data']\n"
          ],
          "name": "stdout"
        }
      ]
    },
    {
      "cell_type": "markdown",
      "metadata": {
        "id": "XfJw-GuTbWS_",
        "colab_type": "text"
      },
      "source": [
        "2. Loading and Viewing Data Set"
      ]
    },
    {
      "cell_type": "code",
      "metadata": {
        "id": "kIzo7M4abVY1",
        "colab_type": "code",
        "colab": {}
      },
      "source": [
        "training = pd.read_csv('./train.csv')\n",
        "testing = pd.read_csv('./test.csv')"
      ],
      "execution_count": 0,
      "outputs": []
    },
    {
      "cell_type": "code",
      "metadata": {
        "id": "hr8b3753WpEf",
        "colab_type": "code",
        "colab": {
          "base_uri": "https://localhost:8080/",
          "height": 204
        },
        "outputId": "373fa0b9-b8c7-456a-b6ba-613e45fb930a"
      },
      "source": [
        "training.head()"
      ],
      "execution_count": 64,
      "outputs": [
        {
          "output_type": "execute_result",
          "data": {
            "text/html": [
              "<div>\n",
              "<style scoped>\n",
              "    .dataframe tbody tr th:only-of-type {\n",
              "        vertical-align: middle;\n",
              "    }\n",
              "\n",
              "    .dataframe tbody tr th {\n",
              "        vertical-align: top;\n",
              "    }\n",
              "\n",
              "    .dataframe thead th {\n",
              "        text-align: right;\n",
              "    }\n",
              "</style>\n",
              "<table border=\"1\" class=\"dataframe\">\n",
              "  <thead>\n",
              "    <tr style=\"text-align: right;\">\n",
              "      <th></th>\n",
              "      <th>PassengerId</th>\n",
              "      <th>Survived</th>\n",
              "      <th>Pclass</th>\n",
              "      <th>Name</th>\n",
              "      <th>Sex</th>\n",
              "      <th>Age</th>\n",
              "      <th>SibSp</th>\n",
              "      <th>Parch</th>\n",
              "      <th>Ticket</th>\n",
              "      <th>Fare</th>\n",
              "      <th>Cabin</th>\n",
              "      <th>Embarked</th>\n",
              "    </tr>\n",
              "  </thead>\n",
              "  <tbody>\n",
              "    <tr>\n",
              "      <th>0</th>\n",
              "      <td>1</td>\n",
              "      <td>0</td>\n",
              "      <td>3</td>\n",
              "      <td>Braund, Mr. Owen Harris</td>\n",
              "      <td>male</td>\n",
              "      <td>22.0</td>\n",
              "      <td>1</td>\n",
              "      <td>0</td>\n",
              "      <td>A/5 21171</td>\n",
              "      <td>7.2500</td>\n",
              "      <td>NaN</td>\n",
              "      <td>S</td>\n",
              "    </tr>\n",
              "    <tr>\n",
              "      <th>1</th>\n",
              "      <td>2</td>\n",
              "      <td>1</td>\n",
              "      <td>1</td>\n",
              "      <td>Cumings, Mrs. John Bradley (Florence Briggs Th...</td>\n",
              "      <td>female</td>\n",
              "      <td>38.0</td>\n",
              "      <td>1</td>\n",
              "      <td>0</td>\n",
              "      <td>PC 17599</td>\n",
              "      <td>71.2833</td>\n",
              "      <td>C85</td>\n",
              "      <td>C</td>\n",
              "    </tr>\n",
              "    <tr>\n",
              "      <th>2</th>\n",
              "      <td>3</td>\n",
              "      <td>1</td>\n",
              "      <td>3</td>\n",
              "      <td>Heikkinen, Miss. Laina</td>\n",
              "      <td>female</td>\n",
              "      <td>26.0</td>\n",
              "      <td>0</td>\n",
              "      <td>0</td>\n",
              "      <td>STON/O2. 3101282</td>\n",
              "      <td>7.9250</td>\n",
              "      <td>NaN</td>\n",
              "      <td>S</td>\n",
              "    </tr>\n",
              "    <tr>\n",
              "      <th>3</th>\n",
              "      <td>4</td>\n",
              "      <td>1</td>\n",
              "      <td>1</td>\n",
              "      <td>Futrelle, Mrs. Jacques Heath (Lily May Peel)</td>\n",
              "      <td>female</td>\n",
              "      <td>35.0</td>\n",
              "      <td>1</td>\n",
              "      <td>0</td>\n",
              "      <td>113803</td>\n",
              "      <td>53.1000</td>\n",
              "      <td>C123</td>\n",
              "      <td>S</td>\n",
              "    </tr>\n",
              "    <tr>\n",
              "      <th>4</th>\n",
              "      <td>5</td>\n",
              "      <td>0</td>\n",
              "      <td>3</td>\n",
              "      <td>Allen, Mr. William Henry</td>\n",
              "      <td>male</td>\n",
              "      <td>35.0</td>\n",
              "      <td>0</td>\n",
              "      <td>0</td>\n",
              "      <td>373450</td>\n",
              "      <td>8.0500</td>\n",
              "      <td>NaN</td>\n",
              "      <td>S</td>\n",
              "    </tr>\n",
              "  </tbody>\n",
              "</table>\n",
              "</div>"
            ],
            "text/plain": [
              "   PassengerId  Survived  Pclass  ...     Fare Cabin  Embarked\n",
              "0            1         0       3  ...   7.2500   NaN         S\n",
              "1            2         1       1  ...  71.2833   C85         C\n",
              "2            3         1       3  ...   7.9250   NaN         S\n",
              "3            4         1       1  ...  53.1000  C123         S\n",
              "4            5         0       3  ...   8.0500   NaN         S\n",
              "\n",
              "[5 rows x 12 columns]"
            ]
          },
          "metadata": {
            "tags": []
          },
          "execution_count": 64
        }
      ]
    },
    {
      "cell_type": "code",
      "metadata": {
        "id": "joSp0dOwbrd4",
        "colab_type": "code",
        "colab": {
          "base_uri": "https://localhost:8080/",
          "height": 204
        },
        "outputId": "69dc39ae-d55b-4201-eade-bfcb3d6bb89d"
      },
      "source": [
        "testing.head()"
      ],
      "execution_count": 65,
      "outputs": [
        {
          "output_type": "execute_result",
          "data": {
            "text/html": [
              "<div>\n",
              "<style scoped>\n",
              "    .dataframe tbody tr th:only-of-type {\n",
              "        vertical-align: middle;\n",
              "    }\n",
              "\n",
              "    .dataframe tbody tr th {\n",
              "        vertical-align: top;\n",
              "    }\n",
              "\n",
              "    .dataframe thead th {\n",
              "        text-align: right;\n",
              "    }\n",
              "</style>\n",
              "<table border=\"1\" class=\"dataframe\">\n",
              "  <thead>\n",
              "    <tr style=\"text-align: right;\">\n",
              "      <th></th>\n",
              "      <th>PassengerId</th>\n",
              "      <th>Pclass</th>\n",
              "      <th>Name</th>\n",
              "      <th>Sex</th>\n",
              "      <th>Age</th>\n",
              "      <th>SibSp</th>\n",
              "      <th>Parch</th>\n",
              "      <th>Ticket</th>\n",
              "      <th>Fare</th>\n",
              "      <th>Cabin</th>\n",
              "      <th>Embarked</th>\n",
              "    </tr>\n",
              "  </thead>\n",
              "  <tbody>\n",
              "    <tr>\n",
              "      <th>0</th>\n",
              "      <td>892</td>\n",
              "      <td>3</td>\n",
              "      <td>Kelly, Mr. James</td>\n",
              "      <td>male</td>\n",
              "      <td>34.5</td>\n",
              "      <td>0</td>\n",
              "      <td>0</td>\n",
              "      <td>330911</td>\n",
              "      <td>7.8292</td>\n",
              "      <td>NaN</td>\n",
              "      <td>Q</td>\n",
              "    </tr>\n",
              "    <tr>\n",
              "      <th>1</th>\n",
              "      <td>893</td>\n",
              "      <td>3</td>\n",
              "      <td>Wilkes, Mrs. James (Ellen Needs)</td>\n",
              "      <td>female</td>\n",
              "      <td>47.0</td>\n",
              "      <td>1</td>\n",
              "      <td>0</td>\n",
              "      <td>363272</td>\n",
              "      <td>7.0000</td>\n",
              "      <td>NaN</td>\n",
              "      <td>S</td>\n",
              "    </tr>\n",
              "    <tr>\n",
              "      <th>2</th>\n",
              "      <td>894</td>\n",
              "      <td>2</td>\n",
              "      <td>Myles, Mr. Thomas Francis</td>\n",
              "      <td>male</td>\n",
              "      <td>62.0</td>\n",
              "      <td>0</td>\n",
              "      <td>0</td>\n",
              "      <td>240276</td>\n",
              "      <td>9.6875</td>\n",
              "      <td>NaN</td>\n",
              "      <td>Q</td>\n",
              "    </tr>\n",
              "    <tr>\n",
              "      <th>3</th>\n",
              "      <td>895</td>\n",
              "      <td>3</td>\n",
              "      <td>Wirz, Mr. Albert</td>\n",
              "      <td>male</td>\n",
              "      <td>27.0</td>\n",
              "      <td>0</td>\n",
              "      <td>0</td>\n",
              "      <td>315154</td>\n",
              "      <td>8.6625</td>\n",
              "      <td>NaN</td>\n",
              "      <td>S</td>\n",
              "    </tr>\n",
              "    <tr>\n",
              "      <th>4</th>\n",
              "      <td>896</td>\n",
              "      <td>3</td>\n",
              "      <td>Hirvonen, Mrs. Alexander (Helga E Lindqvist)</td>\n",
              "      <td>female</td>\n",
              "      <td>22.0</td>\n",
              "      <td>1</td>\n",
              "      <td>1</td>\n",
              "      <td>3101298</td>\n",
              "      <td>12.2875</td>\n",
              "      <td>NaN</td>\n",
              "      <td>S</td>\n",
              "    </tr>\n",
              "  </tbody>\n",
              "</table>\n",
              "</div>"
            ],
            "text/plain": [
              "   PassengerId  Pclass  ... Cabin Embarked\n",
              "0          892       3  ...   NaN        Q\n",
              "1          893       3  ...   NaN        S\n",
              "2          894       2  ...   NaN        Q\n",
              "3          895       3  ...   NaN        S\n",
              "4          896       3  ...   NaN        S\n",
              "\n",
              "[5 rows x 11 columns]"
            ]
          },
          "metadata": {
            "tags": []
          },
          "execution_count": 65
        }
      ]
    },
    {
      "cell_type": "code",
      "metadata": {
        "id": "i-wdLEbHbt_b",
        "colab_type": "code",
        "colab": {
          "base_uri": "https://localhost:8080/",
          "height": 119
        },
        "outputId": "657b9b24-c659-46c8-f4cd-d8d9deb2a85b"
      },
      "source": [
        "print(training.keys())\n",
        "print(testing.keys())"
      ],
      "execution_count": 66,
      "outputs": [
        {
          "output_type": "stream",
          "text": [
            "Index(['PassengerId', 'Survived', 'Pclass', 'Name', 'Sex', 'Age', 'SibSp',\n",
            "       'Parch', 'Ticket', 'Fare', 'Cabin', 'Embarked'],\n",
            "      dtype='object')\n",
            "Index(['PassengerId', 'Pclass', 'Name', 'Sex', 'Age', 'SibSp', 'Parch',\n",
            "       'Ticket', 'Fare', 'Cabin', 'Embarked'],\n",
            "      dtype='object')\n"
          ],
          "name": "stdout"
        }
      ]
    },
    {
      "cell_type": "code",
      "metadata": {
        "id": "VASZsWAucI_r",
        "colab_type": "code",
        "colab": {
          "base_uri": "https://localhost:8080/",
          "height": 238
        },
        "outputId": "2fed583e-573d-4477-a21c-71a9901ce35d"
      },
      "source": [
        "types_train = training.dtypes\n",
        "types_train"
      ],
      "execution_count": 67,
      "outputs": [
        {
          "output_type": "execute_result",
          "data": {
            "text/plain": [
              "PassengerId      int64\n",
              "Survived         int64\n",
              "Pclass           int64\n",
              "Name            object\n",
              "Sex             object\n",
              "Age            float64\n",
              "SibSp            int64\n",
              "Parch            int64\n",
              "Ticket          object\n",
              "Fare           float64\n",
              "Cabin           object\n",
              "Embarked        object\n",
              "dtype: object"
            ]
          },
          "metadata": {
            "tags": []
          },
          "execution_count": 67
        }
      ]
    },
    {
      "cell_type": "code",
      "metadata": {
        "id": "8wKIjdNxcLHY",
        "colab_type": "code",
        "colab": {
          "base_uri": "https://localhost:8080/",
          "height": 85
        },
        "outputId": "795e8c27-3cff-4b73-ea6a-564c0e58c79e"
      },
      "source": [
        "num_values = types_train[(types_train == float)]\n",
        "print(\"These are the numerical features: \")\n",
        "print(num_values)"
      ],
      "execution_count": 68,
      "outputs": [
        {
          "output_type": "stream",
          "text": [
            "These are the numerical features: \n",
            "Age     float64\n",
            "Fare    float64\n",
            "dtype: object\n"
          ],
          "name": "stdout"
        }
      ]
    },
    {
      "cell_type": "code",
      "metadata": {
        "id": "4djoZQbrdObu",
        "colab_type": "code",
        "colab": {
          "base_uri": "https://localhost:8080/",
          "height": 297
        },
        "outputId": "710ee966-df15-430a-fb40-7c6ed26af4da"
      },
      "source": [
        "training.describe()"
      ],
      "execution_count": 69,
      "outputs": [
        {
          "output_type": "execute_result",
          "data": {
            "text/html": [
              "<div>\n",
              "<style scoped>\n",
              "    .dataframe tbody tr th:only-of-type {\n",
              "        vertical-align: middle;\n",
              "    }\n",
              "\n",
              "    .dataframe tbody tr th {\n",
              "        vertical-align: top;\n",
              "    }\n",
              "\n",
              "    .dataframe thead th {\n",
              "        text-align: right;\n",
              "    }\n",
              "</style>\n",
              "<table border=\"1\" class=\"dataframe\">\n",
              "  <thead>\n",
              "    <tr style=\"text-align: right;\">\n",
              "      <th></th>\n",
              "      <th>PassengerId</th>\n",
              "      <th>Survived</th>\n",
              "      <th>Pclass</th>\n",
              "      <th>Age</th>\n",
              "      <th>SibSp</th>\n",
              "      <th>Parch</th>\n",
              "      <th>Fare</th>\n",
              "    </tr>\n",
              "  </thead>\n",
              "  <tbody>\n",
              "    <tr>\n",
              "      <th>count</th>\n",
              "      <td>891.000000</td>\n",
              "      <td>891.000000</td>\n",
              "      <td>891.000000</td>\n",
              "      <td>714.000000</td>\n",
              "      <td>891.000000</td>\n",
              "      <td>891.000000</td>\n",
              "      <td>891.000000</td>\n",
              "    </tr>\n",
              "    <tr>\n",
              "      <th>mean</th>\n",
              "      <td>446.000000</td>\n",
              "      <td>0.383838</td>\n",
              "      <td>2.308642</td>\n",
              "      <td>29.699118</td>\n",
              "      <td>0.523008</td>\n",
              "      <td>0.381594</td>\n",
              "      <td>32.204208</td>\n",
              "    </tr>\n",
              "    <tr>\n",
              "      <th>std</th>\n",
              "      <td>257.353842</td>\n",
              "      <td>0.486592</td>\n",
              "      <td>0.836071</td>\n",
              "      <td>14.526497</td>\n",
              "      <td>1.102743</td>\n",
              "      <td>0.806057</td>\n",
              "      <td>49.693429</td>\n",
              "    </tr>\n",
              "    <tr>\n",
              "      <th>min</th>\n",
              "      <td>1.000000</td>\n",
              "      <td>0.000000</td>\n",
              "      <td>1.000000</td>\n",
              "      <td>0.420000</td>\n",
              "      <td>0.000000</td>\n",
              "      <td>0.000000</td>\n",
              "      <td>0.000000</td>\n",
              "    </tr>\n",
              "    <tr>\n",
              "      <th>25%</th>\n",
              "      <td>223.500000</td>\n",
              "      <td>0.000000</td>\n",
              "      <td>2.000000</td>\n",
              "      <td>20.125000</td>\n",
              "      <td>0.000000</td>\n",
              "      <td>0.000000</td>\n",
              "      <td>7.910400</td>\n",
              "    </tr>\n",
              "    <tr>\n",
              "      <th>50%</th>\n",
              "      <td>446.000000</td>\n",
              "      <td>0.000000</td>\n",
              "      <td>3.000000</td>\n",
              "      <td>28.000000</td>\n",
              "      <td>0.000000</td>\n",
              "      <td>0.000000</td>\n",
              "      <td>14.454200</td>\n",
              "    </tr>\n",
              "    <tr>\n",
              "      <th>75%</th>\n",
              "      <td>668.500000</td>\n",
              "      <td>1.000000</td>\n",
              "      <td>3.000000</td>\n",
              "      <td>38.000000</td>\n",
              "      <td>1.000000</td>\n",
              "      <td>0.000000</td>\n",
              "      <td>31.000000</td>\n",
              "    </tr>\n",
              "    <tr>\n",
              "      <th>max</th>\n",
              "      <td>891.000000</td>\n",
              "      <td>1.000000</td>\n",
              "      <td>3.000000</td>\n",
              "      <td>80.000000</td>\n",
              "      <td>8.000000</td>\n",
              "      <td>6.000000</td>\n",
              "      <td>512.329200</td>\n",
              "    </tr>\n",
              "  </tbody>\n",
              "</table>\n",
              "</div>"
            ],
            "text/plain": [
              "       PassengerId    Survived      Pclass  ...       SibSp       Parch        Fare\n",
              "count   891.000000  891.000000  891.000000  ...  891.000000  891.000000  891.000000\n",
              "mean    446.000000    0.383838    2.308642  ...    0.523008    0.381594   32.204208\n",
              "std     257.353842    0.486592    0.836071  ...    1.102743    0.806057   49.693429\n",
              "min       1.000000    0.000000    1.000000  ...    0.000000    0.000000    0.000000\n",
              "25%     223.500000    0.000000    2.000000  ...    0.000000    0.000000    7.910400\n",
              "50%     446.000000    0.000000    3.000000  ...    0.000000    0.000000   14.454200\n",
              "75%     668.500000    1.000000    3.000000  ...    1.000000    0.000000   31.000000\n",
              "max     891.000000    1.000000    3.000000  ...    8.000000    6.000000  512.329200\n",
              "\n",
              "[8 rows x 7 columns]"
            ]
          },
          "metadata": {
            "tags": []
          },
          "execution_count": 69
        }
      ]
    },
    {
      "cell_type": "markdown",
      "metadata": {
        "id": "j_70czBydkn3",
        "colab_type": "text"
      },
      "source": [
        "3. Dealing with NaN Values (Imputation)"
      ]
    },
    {
      "cell_type": "code",
      "metadata": {
        "id": "VQN74NKkdVl_",
        "colab_type": "code",
        "colab": {
          "base_uri": "https://localhost:8080/",
          "height": 493
        },
        "outputId": "65845e49-1e67-418c-80e3-4ac37758a1ea"
      },
      "source": [
        "def null_table(training, testing):\n",
        "    print(\"Training Data Frame\")\n",
        "    print(pd.isnull(training).sum())\n",
        "    print(\" \")\n",
        "    print(\"Testing Data Frame\")\n",
        "    print(pd.isnull(testing).sum())\n",
        "\n",
        "null_table(training, testing)"
      ],
      "execution_count": 70,
      "outputs": [
        {
          "output_type": "stream",
          "text": [
            "Training Data Frame\n",
            "PassengerId      0\n",
            "Survived         0\n",
            "Pclass           0\n",
            "Name             0\n",
            "Sex              0\n",
            "Age            177\n",
            "SibSp            0\n",
            "Parch            0\n",
            "Ticket           0\n",
            "Fare             0\n",
            "Cabin          687\n",
            "Embarked         2\n",
            "dtype: int64\n",
            " \n",
            "Testing Data Frame\n",
            "PassengerId      0\n",
            "Pclass           0\n",
            "Name             0\n",
            "Sex              0\n",
            "Age             86\n",
            "SibSp            0\n",
            "Parch            0\n",
            "Ticket           0\n",
            "Fare             1\n",
            "Cabin          327\n",
            "Embarked         0\n",
            "dtype: int64\n"
          ],
          "name": "stdout"
        }
      ]
    },
    {
      "cell_type": "code",
      "metadata": {
        "id": "PN7cKEAleaNe",
        "colab_type": "code",
        "colab": {
          "base_uri": "https://localhost:8080/",
          "height": 425
        },
        "outputId": "6554de8a-f60d-49e8-95b3-3498beaa3bce"
      },
      "source": [
        "training.drop(labels=['Cabin', 'Ticket'], axis=1, inplace=True)\n",
        "testing.drop(labels=['Cabin', 'Ticket'], axis=1, inplace=True)\n",
        "\n",
        "null_table(training, testing)"
      ],
      "execution_count": 71,
      "outputs": [
        {
          "output_type": "stream",
          "text": [
            "Training Data Frame\n",
            "PassengerId      0\n",
            "Survived         0\n",
            "Pclass           0\n",
            "Name             0\n",
            "Sex              0\n",
            "Age            177\n",
            "SibSp            0\n",
            "Parch            0\n",
            "Fare             0\n",
            "Embarked         2\n",
            "dtype: int64\n",
            " \n",
            "Testing Data Frame\n",
            "PassengerId     0\n",
            "Pclass          0\n",
            "Name            0\n",
            "Sex             0\n",
            "Age            86\n",
            "SibSp           0\n",
            "Parch           0\n",
            "Fare            1\n",
            "Embarked        0\n",
            "dtype: int64\n"
          ],
          "name": "stdout"
        }
      ]
    },
    {
      "cell_type": "markdown",
      "metadata": {
        "id": "YM44SCR2jDz3",
        "colab_type": "text"
      },
      "source": [
        "연령 열의 분포를 확인해보고 비뚤어지거나 대칭인지를 확인한다. NaN값을 대체 할 값을 결정하는데 도움이 된다."
      ]
    },
    {
      "cell_type": "code",
      "metadata": {
        "id": "bO6xq1oZfWOO",
        "colab_type": "code",
        "colab": {
          "base_uri": "https://localhost:8080/",
          "height": 296
        },
        "outputId": "0c1b28c2-6f8b-4764-f6a6-8f6479cd8711"
      },
      "source": [
        "copy = training.copy()\n",
        "copy.dropna(inplace=True)\n",
        "sns.distplot(copy[\"Age\"])"
      ],
      "execution_count": 72,
      "outputs": [
        {
          "output_type": "execute_result",
          "data": {
            "text/plain": [
              "<matplotlib.axes._subplots.AxesSubplot at 0x7ff7607c08d0>"
            ]
          },
          "metadata": {
            "tags": []
          },
          "execution_count": 72
        },
        {
          "output_type": "display_data",
          "data": {
            "image/png": "[encoded data removed]",
            "text/plain": [
              "<Figure size 432x288 with 1 Axes>"
            ]
          },
          "metadata": {
            "tags": []
          }
        }
      ]
    },
    {
      "cell_type": "code",
      "metadata": {
        "id": "gloVx9vCjb3c",
        "colab_type": "code",
        "colab": {
          "base_uri": "https://localhost:8080/",
          "height": 425
        },
        "outputId": "b9769b88-b876-4571-d1d6-9d97553ba128"
      },
      "source": [
        "training[\"Age\"].fillna(training[\"Age\"].median(), inplace=True)\n",
        "testing[\"Age\"].fillna(testing[\"Age\"].median(), inplace=True)\n",
        "training[\"Embarked\"].fillna(\"S\", inplace=True)\n",
        "testing[\"Fare\"].fillna(testing[\"Fare\"].median(), inplace=True)\n",
        "\n",
        "null_table(training, testing)"
      ],
      "execution_count": 73,
      "outputs": [
        {
          "output_type": "stream",
          "text": [
            "Training Data Frame\n",
            "PassengerId    0\n",
            "Survived       0\n",
            "Pclass         0\n",
            "Name           0\n",
            "Sex            0\n",
            "Age            0\n",
            "SibSp          0\n",
            "Parch          0\n",
            "Fare           0\n",
            "Embarked       0\n",
            "dtype: int64\n",
            " \n",
            "Testing Data Frame\n",
            "PassengerId    0\n",
            "Pclass         0\n",
            "Name           0\n",
            "Sex            0\n",
            "Age            0\n",
            "SibSp          0\n",
            "Parch          0\n",
            "Fare           0\n",
            "Embarked       0\n",
            "dtype: int64\n"
          ],
          "name": "stdout"
        }
      ]
    },
    {
      "cell_type": "code",
      "metadata": {
        "id": "wLpFPRZclf5n",
        "colab_type": "code",
        "colab": {
          "base_uri": "https://localhost:8080/",
          "height": 204
        },
        "outputId": "54ad7862-0f99-4d87-d766-f084b0ffcd70"
      },
      "source": [
        "training.head()"
      ],
      "execution_count": 74,
      "outputs": [
        {
          "output_type": "execute_result",
          "data": {
            "text/html": [
              "<div>\n",
              "<style scoped>\n",
              "    .dataframe tbody tr th:only-of-type {\n",
              "        vertical-align: middle;\n",
              "    }\n",
              "\n",
              "    .dataframe tbody tr th {\n",
              "        vertical-align: top;\n",
              "    }\n",
              "\n",
              "    .dataframe thead th {\n",
              "        text-align: right;\n",
              "    }\n",
              "</style>\n",
              "<table border=\"1\" class=\"dataframe\">\n",
              "  <thead>\n",
              "    <tr style=\"text-align: right;\">\n",
              "      <th></th>\n",
              "      <th>PassengerId</th>\n",
              "      <th>Survived</th>\n",
              "      <th>Pclass</th>\n",
              "      <th>Name</th>\n",
              "      <th>Sex</th>\n",
              "      <th>Age</th>\n",
              "      <th>SibSp</th>\n",
              "      <th>Parch</th>\n",
              "      <th>Fare</th>\n",
              "      <th>Embarked</th>\n",
              "    </tr>\n",
              "  </thead>\n",
              "  <tbody>\n",
              "    <tr>\n",
              "      <th>0</th>\n",
              "      <td>1</td>\n",
              "      <td>0</td>\n",
              "      <td>3</td>\n",
              "      <td>Braund, Mr. Owen Harris</td>\n",
              "      <td>male</td>\n",
              "      <td>22.0</td>\n",
              "      <td>1</td>\n",
              "      <td>0</td>\n",
              "      <td>7.2500</td>\n",
              "      <td>S</td>\n",
              "    </tr>\n",
              "    <tr>\n",
              "      <th>1</th>\n",
              "      <td>2</td>\n",
              "      <td>1</td>\n",
              "      <td>1</td>\n",
              "      <td>Cumings, Mrs. John Bradley (Florence Briggs Th...</td>\n",
              "      <td>female</td>\n",
              "      <td>38.0</td>\n",
              "      <td>1</td>\n",
              "      <td>0</td>\n",
              "      <td>71.2833</td>\n",
              "      <td>C</td>\n",
              "    </tr>\n",
              "    <tr>\n",
              "      <th>2</th>\n",
              "      <td>3</td>\n",
              "      <td>1</td>\n",
              "      <td>3</td>\n",
              "      <td>Heikkinen, Miss. Laina</td>\n",
              "      <td>female</td>\n",
              "      <td>26.0</td>\n",
              "      <td>0</td>\n",
              "      <td>0</td>\n",
              "      <td>7.9250</td>\n",
              "      <td>S</td>\n",
              "    </tr>\n",
              "    <tr>\n",
              "      <th>3</th>\n",
              "      <td>4</td>\n",
              "      <td>1</td>\n",
              "      <td>1</td>\n",
              "      <td>Futrelle, Mrs. Jacques Heath (Lily May Peel)</td>\n",
              "      <td>female</td>\n",
              "      <td>35.0</td>\n",
              "      <td>1</td>\n",
              "      <td>0</td>\n",
              "      <td>53.1000</td>\n",
              "      <td>S</td>\n",
              "    </tr>\n",
              "    <tr>\n",
              "      <th>4</th>\n",
              "      <td>5</td>\n",
              "      <td>0</td>\n",
              "      <td>3</td>\n",
              "      <td>Allen, Mr. William Henry</td>\n",
              "      <td>male</td>\n",
              "      <td>35.0</td>\n",
              "      <td>0</td>\n",
              "      <td>0</td>\n",
              "      <td>8.0500</td>\n",
              "      <td>S</td>\n",
              "    </tr>\n",
              "  </tbody>\n",
              "</table>\n",
              "</div>"
            ],
            "text/plain": [
              "   PassengerId  Survived  Pclass  ... Parch     Fare  Embarked\n",
              "0            1         0       3  ...     0   7.2500         S\n",
              "1            2         1       1  ...     0  71.2833         C\n",
              "2            3         1       3  ...     0   7.9250         S\n",
              "3            4         1       1  ...     0  53.1000         S\n",
              "4            5         0       3  ...     0   8.0500         S\n",
              "\n",
              "[5 rows x 10 columns]"
            ]
          },
          "metadata": {
            "tags": []
          },
          "execution_count": 74
        }
      ]
    },
    {
      "cell_type": "code",
      "metadata": {
        "id": "FQaApmpNmRhJ",
        "colab_type": "code",
        "colab": {
          "base_uri": "https://localhost:8080/",
          "height": 204
        },
        "outputId": "c11b268c-a04b-4076-ba83-542c38bd475d"
      },
      "source": [
        "testing.head()"
      ],
      "execution_count": 75,
      "outputs": [
        {
          "output_type": "execute_result",
          "data": {
            "text/html": [
              "<div>\n",
              "<style scoped>\n",
              "    .dataframe tbody tr th:only-of-type {\n",
              "        vertical-align: middle;\n",
              "    }\n",
              "\n",
              "    .dataframe tbody tr th {\n",
              "        vertical-align: top;\n",
              "    }\n",
              "\n",
              "    .dataframe thead th {\n",
              "        text-align: right;\n",
              "    }\n",
              "</style>\n",
              "<table border=\"1\" class=\"dataframe\">\n",
              "  <thead>\n",
              "    <tr style=\"text-align: right;\">\n",
              "      <th></th>\n",
              "      <th>PassengerId</th>\n",
              "      <th>Pclass</th>\n",
              "      <th>Name</th>\n",
              "      <th>Sex</th>\n",
              "      <th>Age</th>\n",
              "      <th>SibSp</th>\n",
              "      <th>Parch</th>\n",
              "      <th>Fare</th>\n",
              "      <th>Embarked</th>\n",
              "    </tr>\n",
              "  </thead>\n",
              "  <tbody>\n",
              "    <tr>\n",
              "      <th>0</th>\n",
              "      <td>892</td>\n",
              "      <td>3</td>\n",
              "      <td>Kelly, Mr. James</td>\n",
              "      <td>male</td>\n",
              "      <td>34.5</td>\n",
              "      <td>0</td>\n",
              "      <td>0</td>\n",
              "      <td>7.8292</td>\n",
              "      <td>Q</td>\n",
              "    </tr>\n",
              "    <tr>\n",
              "      <th>1</th>\n",
              "      <td>893</td>\n",
              "      <td>3</td>\n",
              "      <td>Wilkes, Mrs. James (Ellen Needs)</td>\n",
              "      <td>female</td>\n",
              "      <td>47.0</td>\n",
              "      <td>1</td>\n",
              "      <td>0</td>\n",
              "      <td>7.0000</td>\n",
              "      <td>S</td>\n",
              "    </tr>\n",
              "    <tr>\n",
              "      <th>2</th>\n",
              "      <td>894</td>\n",
              "      <td>2</td>\n",
              "      <td>Myles, Mr. Thomas Francis</td>\n",
              "      <td>male</td>\n",
              "      <td>62.0</td>\n",
              "      <td>0</td>\n",
              "      <td>0</td>\n",
              "      <td>9.6875</td>\n",
              "      <td>Q</td>\n",
              "    </tr>\n",
              "    <tr>\n",
              "      <th>3</th>\n",
              "      <td>895</td>\n",
              "      <td>3</td>\n",
              "      <td>Wirz, Mr. Albert</td>\n",
              "      <td>male</td>\n",
              "      <td>27.0</td>\n",
              "      <td>0</td>\n",
              "      <td>0</td>\n",
              "      <td>8.6625</td>\n",
              "      <td>S</td>\n",
              "    </tr>\n",
              "    <tr>\n",
              "      <th>4</th>\n",
              "      <td>896</td>\n",
              "      <td>3</td>\n",
              "      <td>Hirvonen, Mrs. Alexander (Helga E Lindqvist)</td>\n",
              "      <td>female</td>\n",
              "      <td>22.0</td>\n",
              "      <td>1</td>\n",
              "      <td>1</td>\n",
              "      <td>12.2875</td>\n",
              "      <td>S</td>\n",
              "    </tr>\n",
              "  </tbody>\n",
              "</table>\n",
              "</div>"
            ],
            "text/plain": [
              "   PassengerId  Pclass  ...     Fare Embarked\n",
              "0          892       3  ...   7.8292        Q\n",
              "1          893       3  ...   7.0000        S\n",
              "2          894       2  ...   9.6875        Q\n",
              "3          895       3  ...   8.6625        S\n",
              "4          896       3  ...  12.2875        S\n",
              "\n",
              "[5 rows x 9 columns]"
            ]
          },
          "metadata": {
            "tags": []
          },
          "execution_count": 75
        }
      ]
    },
    {
      "cell_type": "markdown",
      "metadata": {
        "id": "V3iNxj4QmWPs",
        "colab_type": "text"
      },
      "source": [
        "4. Plotting and Visualizing Data"
      ]
    },
    {
      "cell_type": "markdown",
      "metadata": {
        "id": "BC6vVnmEmq6c",
        "colab_type": "text"
      },
      "source": [
        "Gender"
      ]
    },
    {
      "cell_type": "code",
      "metadata": {
        "id": "FLHVe-UbmUee",
        "colab_type": "code",
        "colab": {
          "base_uri": "https://localhost:8080/",
          "height": 380
        },
        "outputId": "6450c7fc-34f1-4977-c212-298ed5badfe3"
      },
      "source": [
        "sns.barplot(x=\"Sex\", y=\"Survived\", data=training)\n",
        "plt.title(\"Distribution of Survival based on Gender\")\n",
        "plt.show()\n",
        "\n",
        "total_survived_females = training[training.Sex == \"female\"][\"Survived\"].sum()\n",
        "total_survived_males = training[training.Sex == \"male\"][\"Survived\"].sum()\n",
        "\n",
        "print(\"Total people survived is : \" + str((total_survived_females + total_survived_males)))\n",
        "print(\"Proportion of Females who survived: \")\n",
        "print(total_survived_females / (total_survived_females + total_survived_males))\n",
        "print(\"Proportion of Males who survived: \")\n",
        "print(total_survived_males / (total_survived_males + total_survived_females))"
      ],
      "execution_count": 76,
      "outputs": [
        {
          "output_type": "display_data",
          "data": {
            "image/png": "[encoded data removed]",
            "text/plain": [
              "<Figure size 432x288 with 1 Axes>"
            ]
          },
          "metadata": {
            "tags": []
          }
        },
        {
          "output_type": "stream",
          "text": [
            "Total people survived is : 342\n",
            "Proportion of Females who survived: \n",
            "0.6812865497076024\n",
            "Proportion of Males who survived: \n",
            "0.31871345029239767\n"
          ],
          "name": "stdout"
        }
      ]
    },
    {
      "cell_type": "code",
      "metadata": {
        "id": "Z9aTAxRlnmJq",
        "colab_type": "code",
        "colab": {
          "base_uri": "https://localhost:8080/",
          "height": 414
        },
        "outputId": "7b601b3b-9c79-43dc-b37d-a0c55b0b3742"
      },
      "source": [
        "sns.barplot(x=\"Pclass\", y=\"Survived\", data=training)\n",
        "plt.ylabel(\"Survival Rate\")\n",
        "plt.title(\"Distribution of Survival Based on Class\")\n",
        "plt.show()\n",
        "\n",
        "total_survived_one = training[training.Pclass == 1][\"Survived\"].sum()\n",
        "total_survived_two = training[training.Pclass == 2][\"Survived\"].sum()\n",
        "total_survived_three = training[training.Pclass == 3][\"Survived\"].sum()\n",
        "total_survived_class = total_survived_one + total_survived_two + total_survived_three\n",
        "\n",
        "print(\"Total people survived is : \" + str(total_survived_class))\n",
        "print(\"Proportion of Class 1 Passengers who survived: \")\n",
        "print(total_survived_one / total_survived_class)\n",
        "print(\"Proportion of Class 2 Passengers who survived: \")\n",
        "print(total_survived_two / total_survived_class)\n",
        "print(\"Proportion of Class 3 Passengers who survived: \")\n",
        "print(total_survived_three / total_survived_class)"
      ],
      "execution_count": 77,
      "outputs": [
        {
          "output_type": "display_data",
          "data": {
            "image/png": "[encoded data removed]",
            "text/plain": [
              "<Figure size 432x288 with 1 Axes>"
            ]
          },
          "metadata": {
            "tags": []
          }
        },
        {
          "output_type": "stream",
          "text": [
            "Total people survived is : 342\n",
            "Proportion of Class 1 Passengers who survived: \n",
            "0.39766081871345027\n",
            "Proportion of Class 2 Passengers who survived: \n",
            "0.2543859649122807\n",
            "Proportion of Class 3 Passengers who survived: \n",
            "0.347953216374269\n"
          ],
          "name": "stdout"
        }
      ]
    },
    {
      "cell_type": "code",
      "metadata": {
        "id": "iE2Rzf_hqTZU",
        "colab_type": "code",
        "colab": {
          "base_uri": "https://localhost:8080/",
          "height": 312
        },
        "outputId": "c45156e7-5d87-4264-f3f6-2883a85d9f49"
      },
      "source": [
        "sns.barplot(x=\"Pclass\", y=\"Survived\", hue=\"Sex\", data=training)\n",
        "plt.ylabel(\"Survival Rate\")\n",
        "plt.title(\"Survival Rates Based on Gender and Class\")"
      ],
      "execution_count": 78,
      "outputs": [
        {
          "output_type": "execute_result",
          "data": {
            "text/plain": [
              "Text(0.5, 1.0, 'Survival Rates Based on Gender and Class')"
            ]
          },
          "metadata": {
            "tags": []
          },
          "execution_count": 78
        },
        {
          "output_type": "display_data",
          "data": {
            "image/png": "[encoded data removed]",
            "text/plain": [
              "<Figure size 432x288 with 1 Axes>"
            ]
          },
          "metadata": {
            "tags": []
          }
        }
      ]
    },
    {
      "cell_type": "code",
      "metadata": {
        "id": "suEqBIdkq2ID",
        "colab_type": "code",
        "colab": {
          "base_uri": "https://localhost:8080/",
          "height": 312
        },
        "outputId": "aaf0e694-660a-4a09-c50f-14d137f60602"
      },
      "source": [
        "sns.barplot(x=\"Sex\", y=\"Survived\", hue=\"Pclass\", data=training)\n",
        "plt.ylabel(\"Survival Rate\")\n",
        "plt.title(\"Survival Rates Based on Gender and Class\")"
      ],
      "execution_count": 79,
      "outputs": [
        {
          "output_type": "execute_result",
          "data": {
            "text/plain": [
              "Text(0.5, 1.0, 'Survival Rates Based on Gender and Class')"
            ]
          },
          "metadata": {
            "tags": []
          },
          "execution_count": 79
        },
        {
          "output_type": "display_data",
          "data": {
            "image/png": "[encoded data removed]",
            "text/plain": [
              "<Figure size 432x288 with 1 Axes>"
            ]
          },
          "metadata": {
            "tags": []
          }
        }
      ]
    },
    {
      "cell_type": "markdown",
      "metadata": {
        "id": "gcSLG4Wc7yea",
        "colab_type": "text"
      },
      "source": [
        "Age"
      ]
    },
    {
      "cell_type": "code",
      "metadata": {
        "id": "pXn-vEL2rZnw",
        "colab_type": "code",
        "colab": {
          "base_uri": "https://localhost:8080/",
          "height": 295
        },
        "outputId": "539caf05-31a4-436e-f3f3-89ffcc08050d"
      },
      "source": [
        "survived_ages = training[training.Survived == 1][\"Age\"]\n",
        "not_survived_ages = training[training.Survived == 0][\"Age\"]\n",
        "plt.subplot(1, 2, 1)\n",
        "sns.distplot(survived_ages, kde=False)\n",
        "plt.axis([0, 100, 0, 100])\n",
        "plt.title(\"Survived\")\n",
        "plt.ylabel(\"Proportion\")\n",
        "plt.subplot(1, 2, 2)\n",
        "sns.distplot(not_survived_ages, kde=False)\n",
        "plt.axis([0, 100, 0, 100])\n",
        "plt.title(\"Didn't Survive\")\n",
        "plt.subplots_adjust(right=1.7)\n",
        "plt.show()"
      ],
      "execution_count": 80,
      "outputs": [
        {
          "output_type": "display_data",
          "data": {
            "image/png": "[encoded data removed]",
            "text/plain": [
              "<Figure size 432x288 with 2 Axes>"
            ]
          },
          "metadata": {
            "tags": []
          }
        }
      ]
    },
    {
      "cell_type": "code",
      "metadata": {
        "id": "P0Z6vS-d8mcW",
        "colab_type": "code",
        "colab": {
          "base_uri": "https://localhost:8080/",
          "height": 296
        },
        "outputId": "0c25f08a-1c7c-4287-c346-d5cbf7327ebb"
      },
      "source": [
        "sns.stripplot(x=\"Survived\", y=\"Age\", data=training, jitter=True)"
      ],
      "execution_count": 81,
      "outputs": [
        {
          "output_type": "execute_result",
          "data": {
            "text/plain": [
              "<matplotlib.axes._subplots.AxesSubplot at 0x7ff7605d7518>"
            ]
          },
          "metadata": {
            "tags": []
          },
          "execution_count": 81
        },
        {
          "output_type": "display_data",
          "data": {
            "image/png": "[encoded data removed]",
            "text/plain": [
              "<Figure size 432x288 with 1 Axes>"
            ]
          },
          "metadata": {
            "tags": []
          }
        }
      ]
    },
    {
      "cell_type": "code",
      "metadata": {
        "id": "iKhn4MgJ91lm",
        "colab_type": "code",
        "colab": {
          "base_uri": "https://localhost:8080/",
          "height": 1000
        },
        "outputId": "192cad6e-d0fb-4a8b-b113-72b42b4eb988"
      },
      "source": [
        "sns.pairplot(training)"
      ],
      "execution_count": 82,
      "outputs": [
        {
          "output_type": "execute_result",
          "data": {
            "text/plain": [
              "<seaborn.axisgrid.PairGrid at 0x7ff7606e9048>"
            ]
          },
          "metadata": {
            "tags": []
          },
          "execution_count": 82
        },
        {
          "output_type": "display_data",
          "data": {
            "image/png": "[encoded data removed]",
            "text/plain": [
              "<Figure size 1260x1260 with 56 Axes>"
            ]
          },
          "metadata": {
            "tags": []
          }
        }
      ]
    },
    {
      "cell_type": "markdown",
      "metadata": {
        "id": "eDeO_fhF-pMR",
        "colab_type": "text"
      },
      "source": [
        "5. Feature Engineering\n",
        "\n",
        "Sex 및 Embarked 열의 값은 범주형 값이므로 모델에서 분류를 수행하려면 이러한 문자열을 숫자 값으로 나타내야 함. One-Hot-Encoding을 통해 수행 할 수도 있음."
      ]
    },
    {
      "cell_type": "code",
      "metadata": {
        "id": "acS4-WCJ-buC",
        "colab_type": "code",
        "colab": {
          "base_uri": "https://localhost:8080/",
          "height": 204
        },
        "outputId": "cfa00e35-72fa-4d1c-f7e6-1993d76008bb"
      },
      "source": [
        "training.sample(5)"
      ],
      "execution_count": 83,
      "outputs": [
        {
          "output_type": "execute_result",
          "data": {
            "text/html": [
              "<div>\n",
              "<style scoped>\n",
              "    .dataframe tbody tr th:only-of-type {\n",
              "        vertical-align: middle;\n",
              "    }\n",
              "\n",
              "    .dataframe tbody tr th {\n",
              "        vertical-align: top;\n",
              "    }\n",
              "\n",
              "    .dataframe thead th {\n",
              "        text-align: right;\n",
              "    }\n",
              "</style>\n",
              "<table border=\"1\" class=\"dataframe\">\n",
              "  <thead>\n",
              "    <tr style=\"text-align: right;\">\n",
              "      <th></th>\n",
              "      <th>PassengerId</th>\n",
              "      <th>Survived</th>\n",
              "      <th>Pclass</th>\n",
              "      <th>Name</th>\n",
              "      <th>Sex</th>\n",
              "      <th>Age</th>\n",
              "      <th>SibSp</th>\n",
              "      <th>Parch</th>\n",
              "      <th>Fare</th>\n",
              "      <th>Embarked</th>\n",
              "    </tr>\n",
              "  </thead>\n",
              "  <tbody>\n",
              "    <tr>\n",
              "      <th>586</th>\n",
              "      <td>587</td>\n",
              "      <td>0</td>\n",
              "      <td>2</td>\n",
              "      <td>Jarvis, Mr. John Denzil</td>\n",
              "      <td>male</td>\n",
              "      <td>47.0</td>\n",
              "      <td>0</td>\n",
              "      <td>0</td>\n",
              "      <td>15.0000</td>\n",
              "      <td>S</td>\n",
              "    </tr>\n",
              "    <tr>\n",
              "      <th>91</th>\n",
              "      <td>92</td>\n",
              "      <td>0</td>\n",
              "      <td>3</td>\n",
              "      <td>Andreasson, Mr. Paul Edvin</td>\n",
              "      <td>male</td>\n",
              "      <td>20.0</td>\n",
              "      <td>0</td>\n",
              "      <td>0</td>\n",
              "      <td>7.8542</td>\n",
              "      <td>S</td>\n",
              "    </tr>\n",
              "    <tr>\n",
              "      <th>489</th>\n",
              "      <td>490</td>\n",
              "      <td>1</td>\n",
              "      <td>3</td>\n",
              "      <td>Coutts, Master. Eden Leslie \"Neville\"</td>\n",
              "      <td>male</td>\n",
              "      <td>9.0</td>\n",
              "      <td>1</td>\n",
              "      <td>1</td>\n",
              "      <td>15.9000</td>\n",
              "      <td>S</td>\n",
              "    </tr>\n",
              "    <tr>\n",
              "      <th>201</th>\n",
              "      <td>202</td>\n",
              "      <td>0</td>\n",
              "      <td>3</td>\n",
              "      <td>Sage, Mr. Frederick</td>\n",
              "      <td>male</td>\n",
              "      <td>28.0</td>\n",
              "      <td>8</td>\n",
              "      <td>2</td>\n",
              "      <td>69.5500</td>\n",
              "      <td>S</td>\n",
              "    </tr>\n",
              "    <tr>\n",
              "      <th>134</th>\n",
              "      <td>135</td>\n",
              "      <td>0</td>\n",
              "      <td>2</td>\n",
              "      <td>Sobey, Mr. Samuel James Hayden</td>\n",
              "      <td>male</td>\n",
              "      <td>25.0</td>\n",
              "      <td>0</td>\n",
              "      <td>0</td>\n",
              "      <td>13.0000</td>\n",
              "      <td>S</td>\n",
              "    </tr>\n",
              "  </tbody>\n",
              "</table>\n",
              "</div>"
            ],
            "text/plain": [
              "     PassengerId  Survived  Pclass  ... Parch     Fare  Embarked\n",
              "586          587         0       2  ...     0  15.0000         S\n",
              "91            92         0       3  ...     0   7.8542         S\n",
              "489          490         1       3  ...     1  15.9000         S\n",
              "201          202         0       3  ...     2  69.5500         S\n",
              "134          135         0       2  ...     0  13.0000         S\n",
              "\n",
              "[5 rows x 10 columns]"
            ]
          },
          "metadata": {
            "tags": []
          },
          "execution_count": 83
        }
      ]
    },
    {
      "cell_type": "code",
      "metadata": {
        "id": "d1WkIfUz_H4p",
        "colab_type": "code",
        "colab": {
          "base_uri": "https://localhost:8080/",
          "height": 204
        },
        "outputId": "5c69ae2c-4b2e-4f14-fbd3-92c9a3c2e268"
      },
      "source": [
        "testing.sample(5)"
      ],
      "execution_count": 84,
      "outputs": [
        {
          "output_type": "execute_result",
          "data": {
            "text/html": [
              "<div>\n",
              "<style scoped>\n",
              "    .dataframe tbody tr th:only-of-type {\n",
              "        vertical-align: middle;\n",
              "    }\n",
              "\n",
              "    .dataframe tbody tr th {\n",
              "        vertical-align: top;\n",
              "    }\n",
              "\n",
              "    .dataframe thead th {\n",
              "        text-align: right;\n",
              "    }\n",
              "</style>\n",
              "<table border=\"1\" class=\"dataframe\">\n",
              "  <thead>\n",
              "    <tr style=\"text-align: right;\">\n",
              "      <th></th>\n",
              "      <th>PassengerId</th>\n",
              "      <th>Pclass</th>\n",
              "      <th>Name</th>\n",
              "      <th>Sex</th>\n",
              "      <th>Age</th>\n",
              "      <th>SibSp</th>\n",
              "      <th>Parch</th>\n",
              "      <th>Fare</th>\n",
              "      <th>Embarked</th>\n",
              "    </tr>\n",
              "  </thead>\n",
              "  <tbody>\n",
              "    <tr>\n",
              "      <th>284</th>\n",
              "      <td>1176</td>\n",
              "      <td>3</td>\n",
              "      <td>Rosblom, Miss. Salli Helena</td>\n",
              "      <td>female</td>\n",
              "      <td>2.0</td>\n",
              "      <td>1</td>\n",
              "      <td>1</td>\n",
              "      <td>20.2125</td>\n",
              "      <td>S</td>\n",
              "    </tr>\n",
              "    <tr>\n",
              "      <th>47</th>\n",
              "      <td>939</td>\n",
              "      <td>3</td>\n",
              "      <td>Shaughnessy, Mr. Patrick</td>\n",
              "      <td>male</td>\n",
              "      <td>27.0</td>\n",
              "      <td>0</td>\n",
              "      <td>0</td>\n",
              "      <td>7.7500</td>\n",
              "      <td>Q</td>\n",
              "    </tr>\n",
              "    <tr>\n",
              "      <th>272</th>\n",
              "      <td>1164</td>\n",
              "      <td>1</td>\n",
              "      <td>Clark, Mrs. Walter Miller (Virginia McDowell)</td>\n",
              "      <td>female</td>\n",
              "      <td>26.0</td>\n",
              "      <td>1</td>\n",
              "      <td>0</td>\n",
              "      <td>136.7792</td>\n",
              "      <td>C</td>\n",
              "    </tr>\n",
              "    <tr>\n",
              "      <th>129</th>\n",
              "      <td>1021</td>\n",
              "      <td>3</td>\n",
              "      <td>Petersen, Mr. Marius</td>\n",
              "      <td>male</td>\n",
              "      <td>24.0</td>\n",
              "      <td>0</td>\n",
              "      <td>0</td>\n",
              "      <td>8.0500</td>\n",
              "      <td>S</td>\n",
              "    </tr>\n",
              "    <tr>\n",
              "      <th>383</th>\n",
              "      <td>1275</td>\n",
              "      <td>3</td>\n",
              "      <td>McNamee, Mrs. Neal (Eileen O'Leary)</td>\n",
              "      <td>female</td>\n",
              "      <td>19.0</td>\n",
              "      <td>1</td>\n",
              "      <td>0</td>\n",
              "      <td>16.1000</td>\n",
              "      <td>S</td>\n",
              "    </tr>\n",
              "  </tbody>\n",
              "</table>\n",
              "</div>"
            ],
            "text/plain": [
              "     PassengerId  Pclass  ...      Fare Embarked\n",
              "284         1176       3  ...   20.2125        S\n",
              "47           939       3  ...    7.7500        Q\n",
              "272         1164       1  ...  136.7792        C\n",
              "129         1021       3  ...    8.0500        S\n",
              "383         1275       3  ...   16.1000        S\n",
              "\n",
              "[5 rows x 9 columns]"
            ]
          },
          "metadata": {
            "tags": []
          },
          "execution_count": 84
        }
      ]
    },
    {
      "cell_type": "code",
      "metadata": {
        "id": "gXuE1xnX_JhE",
        "colab_type": "code",
        "colab": {
          "base_uri": "https://localhost:8080/",
          "height": 34
        },
        "outputId": "68c734d1-4c50-42d9-a763-ac840cfc61d1"
      },
      "source": [
        "set(training[\"Embarked\"])"
      ],
      "execution_count": 85,
      "outputs": [
        {
          "output_type": "execute_result",
          "data": {
            "text/plain": [
              "{'C', 'Q', 'S'}"
            ]
          },
          "metadata": {
            "tags": []
          },
          "execution_count": 85
        }
      ]
    },
    {
      "cell_type": "code",
      "metadata": {
        "id": "9nR6rtHOAxxF",
        "colab_type": "code",
        "colab": {}
      },
      "source": [
        "from sklearn.preprocessing import LabelEncoder\n",
        "\n",
        "le_sex = LabelEncoder()\n",
        "le_sex.fit(training[\"Sex\"])\n",
        "\n",
        "encoded_sex_training = le_sex.transform(training[\"Sex\"])\n",
        "training[\"Sex\"] = encoded_sex_training\n",
        "encoded_sex_testing = le_sex.transform(testing[\"Sex\"])\n",
        "testing[\"Sex\"] = encoded_sex_testing"
      ],
      "execution_count": 0,
      "outputs": []
    },
    {
      "cell_type": "code",
      "metadata": {
        "id": "jhQoP0L5E5__",
        "colab_type": "code",
        "colab": {
          "base_uri": "https://localhost:8080/",
          "height": 204
        },
        "outputId": "966fe745-139e-4cd8-db72-582fdc94a9b1"
      },
      "source": [
        "training.head()"
      ],
      "execution_count": 87,
      "outputs": [
        {
          "output_type": "execute_result",
          "data": {
            "text/html": [
              "<div>\n",
              "<style scoped>\n",
              "    .dataframe tbody tr th:only-of-type {\n",
              "        vertical-align: middle;\n",
              "    }\n",
              "\n",
              "    .dataframe tbody tr th {\n",
              "        vertical-align: top;\n",
              "    }\n",
              "\n",
              "    .dataframe thead th {\n",
              "        text-align: right;\n",
              "    }\n",
              "</style>\n",
              "<table border=\"1\" class=\"dataframe\">\n",
              "  <thead>\n",
              "    <tr style=\"text-align: right;\">\n",
              "      <th></th>\n",
              "      <th>PassengerId</th>\n",
              "      <th>Survived</th>\n",
              "      <th>Pclass</th>\n",
              "      <th>Name</th>\n",
              "      <th>Sex</th>\n",
              "      <th>Age</th>\n",
              "      <th>SibSp</th>\n",
              "      <th>Parch</th>\n",
              "      <th>Fare</th>\n",
              "      <th>Embarked</th>\n",
              "    </tr>\n",
              "  </thead>\n",
              "  <tbody>\n",
              "    <tr>\n",
              "      <th>0</th>\n",
              "      <td>1</td>\n",
              "      <td>0</td>\n",
              "      <td>3</td>\n",
              "      <td>Braund, Mr. Owen Harris</td>\n",
              "      <td>1</td>\n",
              "      <td>22.0</td>\n",
              "      <td>1</td>\n",
              "      <td>0</td>\n",
              "      <td>7.2500</td>\n",
              "      <td>S</td>\n",
              "    </tr>\n",
              "    <tr>\n",
              "      <th>1</th>\n",
              "      <td>2</td>\n",
              "      <td>1</td>\n",
              "      <td>1</td>\n",
              "      <td>Cumings, Mrs. John Bradley (Florence Briggs Th...</td>\n",
              "      <td>0</td>\n",
              "      <td>38.0</td>\n",
              "      <td>1</td>\n",
              "      <td>0</td>\n",
              "      <td>71.2833</td>\n",
              "      <td>C</td>\n",
              "    </tr>\n",
              "    <tr>\n",
              "      <th>2</th>\n",
              "      <td>3</td>\n",
              "      <td>1</td>\n",
              "      <td>3</td>\n",
              "      <td>Heikkinen, Miss. Laina</td>\n",
              "      <td>0</td>\n",
              "      <td>26.0</td>\n",
              "      <td>0</td>\n",
              "      <td>0</td>\n",
              "      <td>7.9250</td>\n",
              "      <td>S</td>\n",
              "    </tr>\n",
              "    <tr>\n",
              "      <th>3</th>\n",
              "      <td>4</td>\n",
              "      <td>1</td>\n",
              "      <td>1</td>\n",
              "      <td>Futrelle, Mrs. Jacques Heath (Lily May Peel)</td>\n",
              "      <td>0</td>\n",
              "      <td>35.0</td>\n",
              "      <td>1</td>\n",
              "      <td>0</td>\n",
              "      <td>53.1000</td>\n",
              "      <td>S</td>\n",
              "    </tr>\n",
              "    <tr>\n",
              "      <th>4</th>\n",
              "      <td>5</td>\n",
              "      <td>0</td>\n",
              "      <td>3</td>\n",
              "      <td>Allen, Mr. William Henry</td>\n",
              "      <td>1</td>\n",
              "      <td>35.0</td>\n",
              "      <td>0</td>\n",
              "      <td>0</td>\n",
              "      <td>8.0500</td>\n",
              "      <td>S</td>\n",
              "    </tr>\n",
              "  </tbody>\n",
              "</table>\n",
              "</div>"
            ],
            "text/plain": [
              "   PassengerId  Survived  Pclass  ... Parch     Fare  Embarked\n",
              "0            1         0       3  ...     0   7.2500         S\n",
              "1            2         1       1  ...     0  71.2833         C\n",
              "2            3         1       3  ...     0   7.9250         S\n",
              "3            4         1       1  ...     0  53.1000         S\n",
              "4            5         0       3  ...     0   8.0500         S\n",
              "\n",
              "[5 rows x 10 columns]"
            ]
          },
          "metadata": {
            "tags": []
          },
          "execution_count": 87
        }
      ]
    },
    {
      "cell_type": "code",
      "metadata": {
        "id": "vxWJpcYxE7L1",
        "colab_type": "code",
        "colab": {}
      },
      "source": [
        "le_embarked = LabelEncoder()\n",
        "le_embarked.fit(training[\"Embarked\"])\n",
        "\n",
        "encoded_embarked_training = le_embarked.transform(training[\"Embarked\"])\n",
        "training[\"Embarked\"] = encoded_embarked_training\n",
        "encoded_embarked_testing = le_embarked.transform(testing[\"Embarked\"])\n",
        "testing[\"Embarked\"] = encoded_embarked_testing"
      ],
      "execution_count": 0,
      "outputs": []
    },
    {
      "cell_type": "code",
      "metadata": {
        "id": "rYv6IYhAGNhs",
        "colab_type": "code",
        "colab": {
          "base_uri": "https://localhost:8080/",
          "height": 204
        },
        "outputId": "800f5ecf-778b-4b3e-be82-3d122d35901d"
      },
      "source": [
        "training.sample(5)"
      ],
      "execution_count": 89,
      "outputs": [
        {
          "output_type": "execute_result",
          "data": {
            "text/html": [
              "<div>\n",
              "<style scoped>\n",
              "    .dataframe tbody tr th:only-of-type {\n",
              "        vertical-align: middle;\n",
              "    }\n",
              "\n",
              "    .dataframe tbody tr th {\n",
              "        vertical-align: top;\n",
              "    }\n",
              "\n",
              "    .dataframe thead th {\n",
              "        text-align: right;\n",
              "    }\n",
              "</style>\n",
              "<table border=\"1\" class=\"dataframe\">\n",
              "  <thead>\n",
              "    <tr style=\"text-align: right;\">\n",
              "      <th></th>\n",
              "      <th>PassengerId</th>\n",
              "      <th>Survived</th>\n",
              "      <th>Pclass</th>\n",
              "      <th>Name</th>\n",
              "      <th>Sex</th>\n",
              "      <th>Age</th>\n",
              "      <th>SibSp</th>\n",
              "      <th>Parch</th>\n",
              "      <th>Fare</th>\n",
              "      <th>Embarked</th>\n",
              "    </tr>\n",
              "  </thead>\n",
              "  <tbody>\n",
              "    <tr>\n",
              "      <th>151</th>\n",
              "      <td>152</td>\n",
              "      <td>1</td>\n",
              "      <td>1</td>\n",
              "      <td>Pears, Mrs. Thomas (Edith Wearne)</td>\n",
              "      <td>0</td>\n",
              "      <td>22.0</td>\n",
              "      <td>1</td>\n",
              "      <td>0</td>\n",
              "      <td>66.6000</td>\n",
              "      <td>2</td>\n",
              "    </tr>\n",
              "    <tr>\n",
              "      <th>716</th>\n",
              "      <td>717</td>\n",
              "      <td>1</td>\n",
              "      <td>1</td>\n",
              "      <td>Endres, Miss. Caroline Louise</td>\n",
              "      <td>0</td>\n",
              "      <td>38.0</td>\n",
              "      <td>0</td>\n",
              "      <td>0</td>\n",
              "      <td>227.5250</td>\n",
              "      <td>0</td>\n",
              "    </tr>\n",
              "    <tr>\n",
              "      <th>602</th>\n",
              "      <td>603</td>\n",
              "      <td>0</td>\n",
              "      <td>1</td>\n",
              "      <td>Harrington, Mr. Charles H</td>\n",
              "      <td>1</td>\n",
              "      <td>28.0</td>\n",
              "      <td>0</td>\n",
              "      <td>0</td>\n",
              "      <td>42.4000</td>\n",
              "      <td>2</td>\n",
              "    </tr>\n",
              "    <tr>\n",
              "      <th>294</th>\n",
              "      <td>295</td>\n",
              "      <td>0</td>\n",
              "      <td>3</td>\n",
              "      <td>Mineff, Mr. Ivan</td>\n",
              "      <td>1</td>\n",
              "      <td>24.0</td>\n",
              "      <td>0</td>\n",
              "      <td>0</td>\n",
              "      <td>7.8958</td>\n",
              "      <td>2</td>\n",
              "    </tr>\n",
              "    <tr>\n",
              "      <th>847</th>\n",
              "      <td>848</td>\n",
              "      <td>0</td>\n",
              "      <td>3</td>\n",
              "      <td>Markoff, Mr. Marin</td>\n",
              "      <td>1</td>\n",
              "      <td>35.0</td>\n",
              "      <td>0</td>\n",
              "      <td>0</td>\n",
              "      <td>7.8958</td>\n",
              "      <td>0</td>\n",
              "    </tr>\n",
              "  </tbody>\n",
              "</table>\n",
              "</div>"
            ],
            "text/plain": [
              "     PassengerId  Survived  Pclass  ... Parch      Fare  Embarked\n",
              "151          152         1       1  ...     0   66.6000         2\n",
              "716          717         1       1  ...     0  227.5250         0\n",
              "602          603         0       1  ...     0   42.4000         2\n",
              "294          295         0       3  ...     0    7.8958         2\n",
              "847          848         0       3  ...     0    7.8958         0\n",
              "\n",
              "[5 rows x 10 columns]"
            ]
          },
          "metadata": {
            "tags": []
          },
          "execution_count": 89
        }
      ]
    },
    {
      "cell_type": "code",
      "metadata": {
        "id": "6KEMhn6J21kT",
        "colab_type": "code",
        "colab": {
          "base_uri": "https://localhost:8080/",
          "height": 204
        },
        "outputId": "572546f9-f2b7-42c1-85e6-c79e493e6783"
      },
      "source": [
        "testing.sample(5)"
      ],
      "execution_count": 90,
      "outputs": [
        {
          "output_type": "execute_result",
          "data": {
            "text/html": [
              "<div>\n",
              "<style scoped>\n",
              "    .dataframe tbody tr th:only-of-type {\n",
              "        vertical-align: middle;\n",
              "    }\n",
              "\n",
              "    .dataframe tbody tr th {\n",
              "        vertical-align: top;\n",
              "    }\n",
              "\n",
              "    .dataframe thead th {\n",
              "        text-align: right;\n",
              "    }\n",
              "</style>\n",
              "<table border=\"1\" class=\"dataframe\">\n",
              "  <thead>\n",
              "    <tr style=\"text-align: right;\">\n",
              "      <th></th>\n",
              "      <th>PassengerId</th>\n",
              "      <th>Pclass</th>\n",
              "      <th>Name</th>\n",
              "      <th>Sex</th>\n",
              "      <th>Age</th>\n",
              "      <th>SibSp</th>\n",
              "      <th>Parch</th>\n",
              "      <th>Fare</th>\n",
              "      <th>Embarked</th>\n",
              "    </tr>\n",
              "  </thead>\n",
              "  <tbody>\n",
              "    <tr>\n",
              "      <th>108</th>\n",
              "      <td>1000</td>\n",
              "      <td>3</td>\n",
              "      <td>Willer, Mr. Aaron (Abi Weller\")\"</td>\n",
              "      <td>1</td>\n",
              "      <td>27.0</td>\n",
              "      <td>0</td>\n",
              "      <td>0</td>\n",
              "      <td>8.7125</td>\n",
              "      <td>2</td>\n",
              "    </tr>\n",
              "    <tr>\n",
              "      <th>325</th>\n",
              "      <td>1217</td>\n",
              "      <td>3</td>\n",
              "      <td>Assam, Mr. Ali</td>\n",
              "      <td>1</td>\n",
              "      <td>23.0</td>\n",
              "      <td>0</td>\n",
              "      <td>0</td>\n",
              "      <td>7.0500</td>\n",
              "      <td>2</td>\n",
              "    </tr>\n",
              "    <tr>\n",
              "      <th>127</th>\n",
              "      <td>1019</td>\n",
              "      <td>3</td>\n",
              "      <td>McCoy, Miss. Alicia</td>\n",
              "      <td>0</td>\n",
              "      <td>27.0</td>\n",
              "      <td>2</td>\n",
              "      <td>0</td>\n",
              "      <td>23.2500</td>\n",
              "      <td>1</td>\n",
              "    </tr>\n",
              "    <tr>\n",
              "      <th>365</th>\n",
              "      <td>1257</td>\n",
              "      <td>3</td>\n",
              "      <td>Sage, Mrs. John (Annie Bullen)</td>\n",
              "      <td>0</td>\n",
              "      <td>27.0</td>\n",
              "      <td>1</td>\n",
              "      <td>9</td>\n",
              "      <td>69.5500</td>\n",
              "      <td>2</td>\n",
              "    </tr>\n",
              "    <tr>\n",
              "      <th>305</th>\n",
              "      <td>1197</td>\n",
              "      <td>1</td>\n",
              "      <td>Crosby, Mrs. Edward Gifford (Catherine Elizabe...</td>\n",
              "      <td>0</td>\n",
              "      <td>64.0</td>\n",
              "      <td>1</td>\n",
              "      <td>1</td>\n",
              "      <td>26.5500</td>\n",
              "      <td>2</td>\n",
              "    </tr>\n",
              "  </tbody>\n",
              "</table>\n",
              "</div>"
            ],
            "text/plain": [
              "     PassengerId  Pclass  ...     Fare  Embarked\n",
              "108         1000       3  ...   8.7125         2\n",
              "325         1217       3  ...   7.0500         2\n",
              "127         1019       3  ...  23.2500         1\n",
              "365         1257       3  ...  69.5500         2\n",
              "305         1197       1  ...  26.5500         2\n",
              "\n",
              "[5 rows x 9 columns]"
            ]
          },
          "metadata": {
            "tags": []
          },
          "execution_count": 90
        }
      ]
    },
    {
      "cell_type": "markdown",
      "metadata": {
        "id": "KD0gU9UG3UNT",
        "colab_type": "text"
      },
      "source": [
        "Creating Synthetic Features"
      ]
    },
    {
      "cell_type": "code",
      "metadata": {
        "id": "Pnw9l6553RhL",
        "colab_type": "code",
        "colab": {}
      },
      "source": [
        "training[\"FamSize\"] = training[\"SibSp\"] + training[\"Parch\"] + 1\n",
        "testing[\"FamSize\"] = testing[\"SibSp\"] + testing[\"SibSp\"] + 1"
      ],
      "execution_count": 0,
      "outputs": []
    },
    {
      "cell_type": "code",
      "metadata": {
        "id": "WnkHIXBV31e1",
        "colab_type": "code",
        "colab": {}
      },
      "source": [
        "training[\"IsAlone\"] = training.FamSize.apply(lambda x: 1 if x == 1 else 0)\n",
        "testing[\"IsAlone\"] = testing.FamSize.apply(lambda x: 1 if x == 1 else 0)"
      ],
      "execution_count": 0,
      "outputs": []
    },
    {
      "cell_type": "code",
      "metadata": {
        "id": "jQpUxTUi4N1z",
        "colab_type": "code",
        "colab": {}
      },
      "source": [
        "for name in training[\"Name\"]:\n",
        "    training[\"Title\"] = training[\"Name\"].str.extract(\"([A-Za-z]+)\\.\", expand=True)\n",
        "\n",
        "for name in testing[\"Name\"]:\n",
        "    testing[\"Title\"] = testing[\"Name\"].str.extract(\"([A-Za-z]+)\\.\", expand=True)"
      ],
      "execution_count": 0,
      "outputs": []
    },
    {
      "cell_type": "code",
      "metadata": {
        "id": "4BMRKK166L7R",
        "colab_type": "code",
        "colab": {
          "base_uri": "https://localhost:8080/",
          "height": 204
        },
        "outputId": "2bebbaa8-f499-4196-c361-c46a528ed72d"
      },
      "source": [
        "training.sample(5)"
      ],
      "execution_count": 94,
      "outputs": [
        {
          "output_type": "execute_result",
          "data": {
            "text/html": [
              "<div>\n",
              "<style scoped>\n",
              "    .dataframe tbody tr th:only-of-type {\n",
              "        vertical-align: middle;\n",
              "    }\n",
              "\n",
              "    .dataframe tbody tr th {\n",
              "        vertical-align: top;\n",
              "    }\n",
              "\n",
              "    .dataframe thead th {\n",
              "        text-align: right;\n",
              "    }\n",
              "</style>\n",
              "<table border=\"1\" class=\"dataframe\">\n",
              "  <thead>\n",
              "    <tr style=\"text-align: right;\">\n",
              "      <th></th>\n",
              "      <th>PassengerId</th>\n",
              "      <th>Survived</th>\n",
              "      <th>Pclass</th>\n",
              "      <th>Name</th>\n",
              "      <th>Sex</th>\n",
              "      <th>Age</th>\n",
              "      <th>SibSp</th>\n",
              "      <th>Parch</th>\n",
              "      <th>Fare</th>\n",
              "      <th>Embarked</th>\n",
              "      <th>FamSize</th>\n",
              "      <th>IsAlone</th>\n",
              "      <th>Title</th>\n",
              "    </tr>\n",
              "  </thead>\n",
              "  <tbody>\n",
              "    <tr>\n",
              "      <th>696</th>\n",
              "      <td>697</td>\n",
              "      <td>0</td>\n",
              "      <td>3</td>\n",
              "      <td>Kelly, Mr. James</td>\n",
              "      <td>1</td>\n",
              "      <td>44.0</td>\n",
              "      <td>0</td>\n",
              "      <td>0</td>\n",
              "      <td>8.0500</td>\n",
              "      <td>2</td>\n",
              "      <td>1</td>\n",
              "      <td>1</td>\n",
              "      <td>Mr</td>\n",
              "    </tr>\n",
              "    <tr>\n",
              "      <th>679</th>\n",
              "      <td>680</td>\n",
              "      <td>1</td>\n",
              "      <td>1</td>\n",
              "      <td>Cardeza, Mr. Thomas Drake Martinez</td>\n",
              "      <td>1</td>\n",
              "      <td>36.0</td>\n",
              "      <td>0</td>\n",
              "      <td>1</td>\n",
              "      <td>512.3292</td>\n",
              "      <td>0</td>\n",
              "      <td>2</td>\n",
              "      <td>0</td>\n",
              "      <td>Mr</td>\n",
              "    </tr>\n",
              "    <tr>\n",
              "      <th>580</th>\n",
              "      <td>581</td>\n",
              "      <td>1</td>\n",
              "      <td>2</td>\n",
              "      <td>Christy, Miss. Julie Rachel</td>\n",
              "      <td>0</td>\n",
              "      <td>25.0</td>\n",
              "      <td>1</td>\n",
              "      <td>1</td>\n",
              "      <td>30.0000</td>\n",
              "      <td>2</td>\n",
              "      <td>3</td>\n",
              "      <td>0</td>\n",
              "      <td>Miss</td>\n",
              "    </tr>\n",
              "    <tr>\n",
              "      <th>444</th>\n",
              "      <td>445</td>\n",
              "      <td>1</td>\n",
              "      <td>3</td>\n",
              "      <td>Johannesen-Bratthammer, Mr. Bernt</td>\n",
              "      <td>1</td>\n",
              "      <td>28.0</td>\n",
              "      <td>0</td>\n",
              "      <td>0</td>\n",
              "      <td>8.1125</td>\n",
              "      <td>2</td>\n",
              "      <td>1</td>\n",
              "      <td>1</td>\n",
              "      <td>Mr</td>\n",
              "    </tr>\n",
              "    <tr>\n",
              "      <th>475</th>\n",
              "      <td>476</td>\n",
              "      <td>0</td>\n",
              "      <td>1</td>\n",
              "      <td>Clifford, Mr. George Quincy</td>\n",
              "      <td>1</td>\n",
              "      <td>28.0</td>\n",
              "      <td>0</td>\n",
              "      <td>0</td>\n",
              "      <td>52.0000</td>\n",
              "      <td>2</td>\n",
              "      <td>1</td>\n",
              "      <td>1</td>\n",
              "      <td>Mr</td>\n",
              "    </tr>\n",
              "  </tbody>\n",
              "</table>\n",
              "</div>"
            ],
            "text/plain": [
              "     PassengerId  Survived  Pclass  ... FamSize  IsAlone  Title\n",
              "696          697         0       3  ...       1        1     Mr\n",
              "679          680         1       1  ...       2        0     Mr\n",
              "580          581         1       2  ...       3        0   Miss\n",
              "444          445         1       3  ...       1        1     Mr\n",
              "475          476         0       1  ...       1        1     Mr\n",
              "\n",
              "[5 rows x 13 columns]"
            ]
          },
          "metadata": {
            "tags": []
          },
          "execution_count": 94
        }
      ]
    },
    {
      "cell_type": "code",
      "metadata": {
        "id": "-gdctpNv6QYY",
        "colab_type": "code",
        "colab": {
          "base_uri": "https://localhost:8080/",
          "height": 34
        },
        "outputId": "d1e03e7e-a1c6-4ec3-fa15-4354da98bd48"
      },
      "source": [
        "titles = set(training[\"Title\"])\n",
        "print(titles)"
      ],
      "execution_count": 95,
      "outputs": [
        {
          "output_type": "stream",
          "text": [
            "{'Rev', 'Major', 'Col', 'Capt', 'Countess', 'Dr', 'Don', 'Mme', 'Ms', 'Mrs', 'Mlle', 'Sir', 'Mr', 'Lady', 'Jonkheer', 'Master', 'Miss'}\n"
          ],
          "name": "stdout"
        }
      ]
    },
    {
      "cell_type": "code",
      "metadata": {
        "id": "qOvRW2w17DOj",
        "colab_type": "code",
        "colab": {
          "base_uri": "https://localhost:8080/",
          "height": 34
        },
        "outputId": "9fec102e-90ee-4f16-8c36-3035e0e0a77b"
      },
      "source": [
        "title_list = list(training[\"Title\"])\n",
        "frequency_titles = []\n",
        "\n",
        "for i in titles:\n",
        "    frequency_titles.append(title_list.count(i))\n",
        "    # print(frequency_titles)\n",
        "\n",
        "print(frequency_titles)"
      ],
      "execution_count": 99,
      "outputs": [
        {
          "output_type": "stream",
          "text": [
            "[6, 2, 2, 1, 1, 7, 1, 1, 1, 125, 2, 1, 517, 1, 1, 40, 182]\n"
          ],
          "name": "stdout"
        }
      ]
    },
    {
      "cell_type": "code",
      "metadata": {
        "id": "728BKcIQ7Yyn",
        "colab_type": "code",
        "colab": {
          "base_uri": "https://localhost:8080/",
          "height": 34
        },
        "outputId": "839d9f2d-4187-410e-a4ab-20ca3c7e556d"
      },
      "source": [
        "title_list.count(\"Mrs\")"
      ],
      "execution_count": 97,
      "outputs": [
        {
          "output_type": "execute_result",
          "data": {
            "text/plain": [
              "125"
            ]
          },
          "metadata": {
            "tags": []
          },
          "execution_count": 97
        }
      ]
    },
    {
      "cell_type": "code",
      "metadata": {
        "id": "M50RCmQ178CY",
        "colab_type": "code",
        "colab": {
          "base_uri": "https://localhost:8080/",
          "height": 323
        },
        "outputId": "387f698b-6e84-4586-f95f-8296199e167a"
      },
      "source": [
        "titles = list(titles)\n",
        "\n",
        "title_dataframe = pd.DataFrame({\n",
        "    \"Titles\": titles,\n",
        "    \"Frequency\": frequency_titles\n",
        "})\n",
        "print(title_dataframe)"
      ],
      "execution_count": 100,
      "outputs": [
        {
          "output_type": "stream",
          "text": [
            "      Titles  Frequency\n",
            "0        Rev          6\n",
            "1      Major          2\n",
            "2        Col          2\n",
            "3       Capt          1\n",
            "4   Countess          1\n",
            "5         Dr          7\n",
            "6        Don          1\n",
            "7        Mme          1\n",
            "8         Ms          1\n",
            "9        Mrs        125\n",
            "10      Mlle          2\n",
            "11       Sir          1\n",
            "12        Mr        517\n",
            "13      Lady          1\n",
            "14  Jonkheer          1\n",
            "15    Master         40\n",
            "16      Miss        182\n"
          ],
          "name": "stdout"
        }
      ]
    },
    {
      "cell_type": "code",
      "metadata": {
        "id": "mhJFwkZz9SUc",
        "colab_type": "code",
        "colab": {}
      },
      "source": [
        "title_replacements = {\"Mlle\": \"Other\",\n",
        "                      \"Major\": \"Other\",\n",
        "                      \"Col\": \"Other\",\n",
        "                      \"Sir\": \"Other\",\n",
        "                      \"Don\": \"Other\",\n",
        "                      \"Mme\": \"Other\",\n",
        "                      \"Jonkheer\": \"Other\",\n",
        "                      \"Lady\": \"Other\",\n",
        "                      \"Capt\": \"Other\",\n",
        "                      \"Countess\": \"Other\",\n",
        "                      \"Ms\": \"Other\",\n",
        "                      \"Dona\": \"Other\"}\n",
        "training.replace({\"Title\": title_replacements}, inplace=True)\n",
        "testing.replace({\"Title\": title_replacements}, inplace=True)\n",
        "\n",
        "le_title = LabelEncoder()\n",
        "le_title.fit(training[\"Title\"])\n",
        "\n",
        "encoded_title_training = le_title.transform(training[\"Title\"])\n",
        "training[\"Title\"] = encoded_title_training\n",
        "encoded_title_testing = le_title.transform(testing[\"Title\"])\n",
        "testing[\"Title\"] = encoded_title_testing"
      ],
      "execution_count": 0,
      "outputs": []
    },
    {
      "cell_type": "code",
      "metadata": {
        "id": "YA5rP3yJ_RwR",
        "colab_type": "code",
        "colab": {
          "base_uri": "https://localhost:8080/",
          "height": 204
        },
        "outputId": "5c4df19d-e060-4576-fa12-9da860c12d1f"
      },
      "source": [
        "training.sample(5)"
      ],
      "execution_count": 102,
      "outputs": [
        {
          "output_type": "execute_result",
          "data": {
            "text/html": [
              "<div>\n",
              "<style scoped>\n",
              "    .dataframe tbody tr th:only-of-type {\n",
              "        vertical-align: middle;\n",
              "    }\n",
              "\n",
              "    .dataframe tbody tr th {\n",
              "        vertical-align: top;\n",
              "    }\n",
              "\n",
              "    .dataframe thead th {\n",
              "        text-align: right;\n",
              "    }\n",
              "</style>\n",
              "<table border=\"1\" class=\"dataframe\">\n",
              "  <thead>\n",
              "    <tr style=\"text-align: right;\">\n",
              "      <th></th>\n",
              "      <th>PassengerId</th>\n",
              "      <th>Survived</th>\n",
              "      <th>Pclass</th>\n",
              "      <th>Name</th>\n",
              "      <th>Sex</th>\n",
              "      <th>Age</th>\n",
              "      <th>SibSp</th>\n",
              "      <th>Parch</th>\n",
              "      <th>Fare</th>\n",
              "      <th>Embarked</th>\n",
              "      <th>FamSize</th>\n",
              "      <th>IsAlone</th>\n",
              "      <th>Title</th>\n",
              "    </tr>\n",
              "  </thead>\n",
              "  <tbody>\n",
              "    <tr>\n",
              "      <th>439</th>\n",
              "      <td>440</td>\n",
              "      <td>0</td>\n",
              "      <td>2</td>\n",
              "      <td>Kvillner, Mr. Johan Henrik Johannesson</td>\n",
              "      <td>1</td>\n",
              "      <td>31.0</td>\n",
              "      <td>0</td>\n",
              "      <td>0</td>\n",
              "      <td>10.500</td>\n",
              "      <td>2</td>\n",
              "      <td>1</td>\n",
              "      <td>1</td>\n",
              "      <td>3</td>\n",
              "    </tr>\n",
              "    <tr>\n",
              "      <th>344</th>\n",
              "      <td>345</td>\n",
              "      <td>0</td>\n",
              "      <td>2</td>\n",
              "      <td>Fox, Mr. Stanley Hubert</td>\n",
              "      <td>1</td>\n",
              "      <td>36.0</td>\n",
              "      <td>0</td>\n",
              "      <td>0</td>\n",
              "      <td>13.000</td>\n",
              "      <td>2</td>\n",
              "      <td>1</td>\n",
              "      <td>1</td>\n",
              "      <td>3</td>\n",
              "    </tr>\n",
              "    <tr>\n",
              "      <th>767</th>\n",
              "      <td>768</td>\n",
              "      <td>0</td>\n",
              "      <td>3</td>\n",
              "      <td>Mangan, Miss. Mary</td>\n",
              "      <td>0</td>\n",
              "      <td>30.5</td>\n",
              "      <td>0</td>\n",
              "      <td>0</td>\n",
              "      <td>7.750</td>\n",
              "      <td>1</td>\n",
              "      <td>1</td>\n",
              "      <td>1</td>\n",
              "      <td>2</td>\n",
              "    </tr>\n",
              "    <tr>\n",
              "      <th>729</th>\n",
              "      <td>730</td>\n",
              "      <td>0</td>\n",
              "      <td>3</td>\n",
              "      <td>Ilmakangas, Miss. Pieta Sofia</td>\n",
              "      <td>0</td>\n",
              "      <td>25.0</td>\n",
              "      <td>1</td>\n",
              "      <td>0</td>\n",
              "      <td>7.925</td>\n",
              "      <td>2</td>\n",
              "      <td>2</td>\n",
              "      <td>0</td>\n",
              "      <td>2</td>\n",
              "    </tr>\n",
              "    <tr>\n",
              "      <th>636</th>\n",
              "      <td>637</td>\n",
              "      <td>0</td>\n",
              "      <td>3</td>\n",
              "      <td>Leinonen, Mr. Antti Gustaf</td>\n",
              "      <td>1</td>\n",
              "      <td>32.0</td>\n",
              "      <td>0</td>\n",
              "      <td>0</td>\n",
              "      <td>7.925</td>\n",
              "      <td>2</td>\n",
              "      <td>1</td>\n",
              "      <td>1</td>\n",
              "      <td>3</td>\n",
              "    </tr>\n",
              "  </tbody>\n",
              "</table>\n",
              "</div>"
            ],
            "text/plain": [
              "     PassengerId  Survived  Pclass  ... FamSize  IsAlone  Title\n",
              "439          440         0       2  ...       1        1      3\n",
              "344          345         0       2  ...       1        1      3\n",
              "767          768         0       3  ...       1        1      2\n",
              "729          730         0       3  ...       2        0      2\n",
              "636          637         0       3  ...       1        1      3\n",
              "\n",
              "[5 rows x 13 columns]"
            ]
          },
          "metadata": {
            "tags": []
          },
          "execution_count": 102
        }
      ]
    },
    {
      "cell_type": "code",
      "metadata": {
        "id": "7hjvqqm-_Zsb",
        "colab_type": "code",
        "colab": {}
      },
      "source": [
        "training.drop(\"Name\", axis=1, inplace=True)\n",
        "testing.drop(\"Name\", axis=1, inplace=True)"
      ],
      "execution_count": 0,
      "outputs": []
    },
    {
      "cell_type": "code",
      "metadata": {
        "id": "rhsiy3qU_krb",
        "colab_type": "code",
        "colab": {
          "base_uri": "https://localhost:8080/",
          "height": 204
        },
        "outputId": "61b431fa-ce42-4e89-ac22-2378225f9054"
      },
      "source": [
        "training.sample(5)"
      ],
      "execution_count": 104,
      "outputs": [
        {
          "output_type": "execute_result",
          "data": {
            "text/html": [
              "<div>\n",
              "<style scoped>\n",
              "    .dataframe tbody tr th:only-of-type {\n",
              "        vertical-align: middle;\n",
              "    }\n",
              "\n",
              "    .dataframe tbody tr th {\n",
              "        vertical-align: top;\n",
              "    }\n",
              "\n",
              "    .dataframe thead th {\n",
              "        text-align: right;\n",
              "    }\n",
              "</style>\n",
              "<table border=\"1\" class=\"dataframe\">\n",
              "  <thead>\n",
              "    <tr style=\"text-align: right;\">\n",
              "      <th></th>\n",
              "      <th>PassengerId</th>\n",
              "      <th>Survived</th>\n",
              "      <th>Pclass</th>\n",
              "      <th>Sex</th>\n",
              "      <th>Age</th>\n",
              "      <th>SibSp</th>\n",
              "      <th>Parch</th>\n",
              "      <th>Fare</th>\n",
              "      <th>Embarked</th>\n",
              "      <th>FamSize</th>\n",
              "      <th>IsAlone</th>\n",
              "      <th>Title</th>\n",
              "    </tr>\n",
              "  </thead>\n",
              "  <tbody>\n",
              "    <tr>\n",
              "      <th>87</th>\n",
              "      <td>88</td>\n",
              "      <td>0</td>\n",
              "      <td>3</td>\n",
              "      <td>1</td>\n",
              "      <td>28.0</td>\n",
              "      <td>0</td>\n",
              "      <td>0</td>\n",
              "      <td>8.0500</td>\n",
              "      <td>2</td>\n",
              "      <td>1</td>\n",
              "      <td>1</td>\n",
              "      <td>3</td>\n",
              "    </tr>\n",
              "    <tr>\n",
              "      <th>839</th>\n",
              "      <td>840</td>\n",
              "      <td>1</td>\n",
              "      <td>1</td>\n",
              "      <td>1</td>\n",
              "      <td>28.0</td>\n",
              "      <td>0</td>\n",
              "      <td>0</td>\n",
              "      <td>29.7000</td>\n",
              "      <td>0</td>\n",
              "      <td>1</td>\n",
              "      <td>1</td>\n",
              "      <td>3</td>\n",
              "    </tr>\n",
              "    <tr>\n",
              "      <th>335</th>\n",
              "      <td>336</td>\n",
              "      <td>0</td>\n",
              "      <td>3</td>\n",
              "      <td>1</td>\n",
              "      <td>28.0</td>\n",
              "      <td>0</td>\n",
              "      <td>0</td>\n",
              "      <td>7.8958</td>\n",
              "      <td>2</td>\n",
              "      <td>1</td>\n",
              "      <td>1</td>\n",
              "      <td>3</td>\n",
              "    </tr>\n",
              "    <tr>\n",
              "      <th>74</th>\n",
              "      <td>75</td>\n",
              "      <td>1</td>\n",
              "      <td>3</td>\n",
              "      <td>1</td>\n",
              "      <td>32.0</td>\n",
              "      <td>0</td>\n",
              "      <td>0</td>\n",
              "      <td>56.4958</td>\n",
              "      <td>2</td>\n",
              "      <td>1</td>\n",
              "      <td>1</td>\n",
              "      <td>3</td>\n",
              "    </tr>\n",
              "    <tr>\n",
              "      <th>533</th>\n",
              "      <td>534</td>\n",
              "      <td>1</td>\n",
              "      <td>3</td>\n",
              "      <td>0</td>\n",
              "      <td>28.0</td>\n",
              "      <td>0</td>\n",
              "      <td>2</td>\n",
              "      <td>22.3583</td>\n",
              "      <td>0</td>\n",
              "      <td>3</td>\n",
              "      <td>0</td>\n",
              "      <td>4</td>\n",
              "    </tr>\n",
              "  </tbody>\n",
              "</table>\n",
              "</div>"
            ],
            "text/plain": [
              "     PassengerId  Survived  Pclass  Sex  ...  Embarked  FamSize  IsAlone  Title\n",
              "87            88         0       3    1  ...         2        1        1      3\n",
              "839          840         1       1    1  ...         0        1        1      3\n",
              "335          336         0       3    1  ...         2        1        1      3\n",
              "74            75         1       3    1  ...         2        1        1      3\n",
              "533          534         1       3    0  ...         0        3        0      4\n",
              "\n",
              "[5 rows x 12 columns]"
            ]
          },
          "metadata": {
            "tags": []
          },
          "execution_count": 104
        }
      ]
    },
    {
      "cell_type": "markdown",
      "metadata": {
        "id": "H4On03HRAJpH",
        "colab_type": "text"
      },
      "source": [
        "6. Feature Rescaling"
      ]
    },
    {
      "cell_type": "code",
      "metadata": {
        "id": "3u8HCCDg_mNM",
        "colab_type": "code",
        "colab": {}
      },
      "source": [
        "from sklearn.preprocessing import StandardScaler\n",
        "scaler = StandardScaler()\n",
        "\n",
        "ages_train = np.array(training[\"Age\"]).reshape(-1, 1)\n",
        "fares_train = np.array(training[\"Fare\"]).reshape(-1, 1)\n",
        "ages_test = np.array(testing[\"Age\"]).reshape(-1, 1)\n",
        "fares_test = np.array(testing[\"Fare\"]).reshape(-1, 1)"
      ],
      "execution_count": 0,
      "outputs": []
    },
    {
      "cell_type": "code",
      "metadata": {
        "id": "2a51voc9BOkC",
        "colab_type": "code",
        "colab": {}
      },
      "source": [
        "training[\"Age\"] = scaler.fit_transform(ages_train)\n",
        "training[\"Fare\"] = scaler.fit_transform(fares_train)\n",
        "testing[\"Age\"] = scaler.fit_transform(ages_test)\n",
        "testing[\"Fare\"] = scaler.fit_transform(fares_test)"
      ],
      "execution_count": 0,
      "outputs": []
    },
    {
      "cell_type": "code",
      "metadata": {
        "id": "QGjz9FSRBPge",
        "colab_type": "code",
        "colab": {
          "base_uri": "https://localhost:8080/",
          "height": 204
        },
        "outputId": "2116fff7-91b7-4a6c-aa33-58a9c52b514b"
      },
      "source": [
        "training.sample(5)"
      ],
      "execution_count": 109,
      "outputs": [
        {
          "output_type": "execute_result",
          "data": {
            "text/html": [
              "<div>\n",
              "<style scoped>\n",
              "    .dataframe tbody tr th:only-of-type {\n",
              "        vertical-align: middle;\n",
              "    }\n",
              "\n",
              "    .dataframe tbody tr th {\n",
              "        vertical-align: top;\n",
              "    }\n",
              "\n",
              "    .dataframe thead th {\n",
              "        text-align: right;\n",
              "    }\n",
              "</style>\n",
              "<table border=\"1\" class=\"dataframe\">\n",
              "  <thead>\n",
              "    <tr style=\"text-align: right;\">\n",
              "      <th></th>\n",
              "      <th>PassengerId</th>\n",
              "      <th>Survived</th>\n",
              "      <th>Pclass</th>\n",
              "      <th>Sex</th>\n",
              "      <th>Age</th>\n",
              "      <th>SibSp</th>\n",
              "      <th>Parch</th>\n",
              "      <th>Fare</th>\n",
              "      <th>Embarked</th>\n",
              "      <th>FamSize</th>\n",
              "      <th>IsAlone</th>\n",
              "      <th>Title</th>\n",
              "    </tr>\n",
              "  </thead>\n",
              "  <tbody>\n",
              "    <tr>\n",
              "      <th>67</th>\n",
              "      <td>68</td>\n",
              "      <td>0</td>\n",
              "      <td>3</td>\n",
              "      <td>1</td>\n",
              "      <td>-0.796286</td>\n",
              "      <td>0</td>\n",
              "      <td>0</td>\n",
              "      <td>-0.484157</td>\n",
              "      <td>2</td>\n",
              "      <td>1</td>\n",
              "      <td>1</td>\n",
              "      <td>3</td>\n",
              "    </tr>\n",
              "    <tr>\n",
              "      <th>171</th>\n",
              "      <td>172</td>\n",
              "      <td>0</td>\n",
              "      <td>3</td>\n",
              "      <td>1</td>\n",
              "      <td>-1.949034</td>\n",
              "      <td>4</td>\n",
              "      <td>1</td>\n",
              "      <td>-0.061999</td>\n",
              "      <td>1</td>\n",
              "      <td>6</td>\n",
              "      <td>0</td>\n",
              "      <td>1</td>\n",
              "    </tr>\n",
              "    <tr>\n",
              "      <th>396</th>\n",
              "      <td>397</td>\n",
              "      <td>0</td>\n",
              "      <td>3</td>\n",
              "      <td>0</td>\n",
              "      <td>0.125912</td>\n",
              "      <td>0</td>\n",
              "      <td>0</td>\n",
              "      <td>-0.490280</td>\n",
              "      <td>2</td>\n",
              "      <td>1</td>\n",
              "      <td>1</td>\n",
              "      <td>2</td>\n",
              "    </tr>\n",
              "    <tr>\n",
              "      <th>259</th>\n",
              "      <td>260</td>\n",
              "      <td>1</td>\n",
              "      <td>2</td>\n",
              "      <td>0</td>\n",
              "      <td>1.586059</td>\n",
              "      <td>0</td>\n",
              "      <td>1</td>\n",
              "      <td>-0.124920</td>\n",
              "      <td>2</td>\n",
              "      <td>2</td>\n",
              "      <td>0</td>\n",
              "      <td>4</td>\n",
              "    </tr>\n",
              "    <tr>\n",
              "      <th>501</th>\n",
              "      <td>502</td>\n",
              "      <td>0</td>\n",
              "      <td>3</td>\n",
              "      <td>0</td>\n",
              "      <td>-0.642586</td>\n",
              "      <td>0</td>\n",
              "      <td>0</td>\n",
              "      <td>-0.492378</td>\n",
              "      <td>1</td>\n",
              "      <td>1</td>\n",
              "      <td>1</td>\n",
              "      <td>2</td>\n",
              "    </tr>\n",
              "  </tbody>\n",
              "</table>\n",
              "</div>"
            ],
            "text/plain": [
              "     PassengerId  Survived  Pclass  Sex  ...  Embarked  FamSize  IsAlone  Title\n",
              "67            68         0       3    1  ...         2        1        1      3\n",
              "171          172         0       3    1  ...         1        6        0      1\n",
              "396          397         0       3    0  ...         2        1        1      2\n",
              "259          260         1       2    0  ...         2        2        0      4\n",
              "501          502         0       3    0  ...         1        1        1      2\n",
              "\n",
              "[5 rows x 12 columns]"
            ]
          },
          "metadata": {
            "tags": []
          },
          "execution_count": 109
        }
      ]
    },
    {
      "cell_type": "code",
      "metadata": {
        "id": "GI3yv7PhByfO",
        "colab_type": "code",
        "colab": {
          "base_uri": "https://localhost:8080/",
          "height": 204
        },
        "outputId": "fc20aab5-5f4b-4dae-bfe1-bb36890a53f9"
      },
      "source": [
        "testing.sample(5)"
      ],
      "execution_count": 110,
      "outputs": [
        {
          "output_type": "execute_result",
          "data": {
            "text/html": [
              "<div>\n",
              "<style scoped>\n",
              "    .dataframe tbody tr th:only-of-type {\n",
              "        vertical-align: middle;\n",
              "    }\n",
              "\n",
              "    .dataframe tbody tr th {\n",
              "        vertical-align: top;\n",
              "    }\n",
              "\n",
              "    .dataframe thead th {\n",
              "        text-align: right;\n",
              "    }\n",
              "</style>\n",
              "<table border=\"1\" class=\"dataframe\">\n",
              "  <thead>\n",
              "    <tr style=\"text-align: right;\">\n",
              "      <th></th>\n",
              "      <th>PassengerId</th>\n",
              "      <th>Pclass</th>\n",
              "      <th>Sex</th>\n",
              "      <th>Age</th>\n",
              "      <th>SibSp</th>\n",
              "      <th>Parch</th>\n",
              "      <th>Fare</th>\n",
              "      <th>Embarked</th>\n",
              "      <th>FamSize</th>\n",
              "      <th>IsAlone</th>\n",
              "      <th>Title</th>\n",
              "    </tr>\n",
              "  </thead>\n",
              "  <tbody>\n",
              "    <tr>\n",
              "      <th>207</th>\n",
              "      <td>1099</td>\n",
              "      <td>2</td>\n",
              "      <td>1</td>\n",
              "      <td>-0.441286</td>\n",
              "      <td>0</td>\n",
              "      <td>0</td>\n",
              "      <td>-0.449535</td>\n",
              "      <td>2</td>\n",
              "      <td>1</td>\n",
              "      <td>1</td>\n",
              "      <td>3</td>\n",
              "    </tr>\n",
              "    <tr>\n",
              "      <th>232</th>\n",
              "      <td>1124</td>\n",
              "      <td>3</td>\n",
              "      <td>1</td>\n",
              "      <td>-0.677719</td>\n",
              "      <td>1</td>\n",
              "      <td>0</td>\n",
              "      <td>-0.521317</td>\n",
              "      <td>2</td>\n",
              "      <td>3</td>\n",
              "      <td>0</td>\n",
              "      <td>3</td>\n",
              "    </tr>\n",
              "    <tr>\n",
              "      <th>330</th>\n",
              "      <td>1222</td>\n",
              "      <td>2</td>\n",
              "      <td>0</td>\n",
              "      <td>1.450181</td>\n",
              "      <td>0</td>\n",
              "      <td>2</td>\n",
              "      <td>0.021036</td>\n",
              "      <td>2</td>\n",
              "      <td>1</td>\n",
              "      <td>1</td>\n",
              "      <td>4</td>\n",
              "    </tr>\n",
              "    <tr>\n",
              "      <th>335</th>\n",
              "      <td>1227</td>\n",
              "      <td>1</td>\n",
              "      <td>1</td>\n",
              "      <td>0.031581</td>\n",
              "      <td>0</td>\n",
              "      <td>0</td>\n",
              "      <td>-0.171674</td>\n",
              "      <td>2</td>\n",
              "      <td>1</td>\n",
              "      <td>1</td>\n",
              "      <td>3</td>\n",
              "    </tr>\n",
              "    <tr>\n",
              "      <th>135</th>\n",
              "      <td>1027</td>\n",
              "      <td>3</td>\n",
              "      <td>1</td>\n",
              "      <td>-0.441286</td>\n",
              "      <td>0</td>\n",
              "      <td>0</td>\n",
              "      <td>-0.496965</td>\n",
              "      <td>2</td>\n",
              "      <td>1</td>\n",
              "      <td>1</td>\n",
              "      <td>3</td>\n",
              "    </tr>\n",
              "  </tbody>\n",
              "</table>\n",
              "</div>"
            ],
            "text/plain": [
              "     PassengerId  Pclass  Sex       Age  ...  Embarked  FamSize  IsAlone  Title\n",
              "207         1099       2    1 -0.441286  ...         2        1        1      3\n",
              "232         1124       3    1 -0.677719  ...         2        3        0      3\n",
              "330         1222       2    0  1.450181  ...         2        1        1      4\n",
              "335         1227       1    1  0.031581  ...         2        1        1      3\n",
              "135         1027       3    1 -0.441286  ...         2        1        1      3\n",
              "\n",
              "[5 rows x 11 columns]"
            ]
          },
          "metadata": {
            "tags": []
          },
          "execution_count": 110
        }
      ]
    },
    {
      "cell_type": "markdown",
      "metadata": {
        "id": "O9XidIHXCEYn",
        "colab_type": "text"
      },
      "source": [
        "7. Model Fitting, Optimizing, and Predicting"
      ]
    },
    {
      "cell_type": "markdown",
      "metadata": {
        "id": "rc5fe-msCvPz",
        "colab_type": "text"
      },
      "source": [
        "sklearn Models to Test"
      ]
    },
    {
      "cell_type": "code",
      "metadata": {
        "id": "dVlGPa5pB_ZZ",
        "colab_type": "code",
        "colab": {}
      },
      "source": [
        "from sklearn.svm import SVC, LinearSVC\n",
        "from sklearn.ensemble import RandomForestClassifier\n",
        "from sklearn.linear_model import LogisticRegression\n",
        "from sklearn.neighbors import KNeighborsClassifier\n",
        "from sklearn.naive_bayes import GaussianNB\n",
        "from sklearn.tree import DecisionTreeClassifier"
      ],
      "execution_count": 0,
      "outputs": []
    },
    {
      "cell_type": "code",
      "metadata": {
        "id": "jrZashbCDItd",
        "colab_type": "code",
        "colab": {}
      },
      "source": [
        "from sklearn.metrics import make_scorer, accuracy_score"
      ],
      "execution_count": 0,
      "outputs": []
    },
    {
      "cell_type": "markdown",
      "metadata": {
        "id": "0_2OG_2xHGDz",
        "colab_type": "text"
      },
      "source": [
        "GridSearchCV 를 사용하여 선택한 모델에 대한 최적의 매개 변수를 찾고 테스트 세트를 예측할 수 있다."
      ]
    },
    {
      "cell_type": "code",
      "metadata": {
        "id": "gLYTi1L1DWEb",
        "colab_type": "code",
        "colab": {}
      },
      "source": [
        "from sklearn.model_selection import GridSearchCV"
      ],
      "execution_count": 0,
      "outputs": []
    },
    {
      "cell_type": "markdown",
      "metadata": {
        "id": "n2xtB-RyIP_e",
        "colab_type": "text"
      },
      "source": [
        "Defining Features in Training/Test Set"
      ]
    },
    {
      "cell_type": "code",
      "metadata": {
        "id": "BjEAsSG-HDn_",
        "colab_type": "code",
        "colab": {}
      },
      "source": [
        "X_train = training.drop(labels=[\"PassengerId\", \"Survived\"], axis=1)\n",
        "y_train = training[\"Survived\"]\n",
        "X_test = testing.drop(\"PassengerId\", axis=1)"
      ],
      "execution_count": 0,
      "outputs": []
    },
    {
      "cell_type": "code",
      "metadata": {
        "id": "KYexEUTFJEv3",
        "colab_type": "code",
        "colab": {
          "base_uri": "https://localhost:8080/",
          "height": 204
        },
        "outputId": "333beb62-5adc-4e8a-88d4-ae9ca4c8c97e"
      },
      "source": [
        "X_train.sample(5)"
      ],
      "execution_count": 116,
      "outputs": [
        {
          "output_type": "execute_result",
          "data": {
            "text/html": [
              "<div>\n",
              "<style scoped>\n",
              "    .dataframe tbody tr th:only-of-type {\n",
              "        vertical-align: middle;\n",
              "    }\n",
              "\n",
              "    .dataframe tbody tr th {\n",
              "        vertical-align: top;\n",
              "    }\n",
              "\n",
              "    .dataframe thead th {\n",
              "        text-align: right;\n",
              "    }\n",
              "</style>\n",
              "<table border=\"1\" class=\"dataframe\">\n",
              "  <thead>\n",
              "    <tr style=\"text-align: right;\">\n",
              "      <th></th>\n",
              "      <th>Pclass</th>\n",
              "      <th>Sex</th>\n",
              "      <th>Age</th>\n",
              "      <th>SibSp</th>\n",
              "      <th>Parch</th>\n",
              "      <th>Fare</th>\n",
              "      <th>Embarked</th>\n",
              "      <th>FamSize</th>\n",
              "      <th>IsAlone</th>\n",
              "      <th>Title</th>\n",
              "    </tr>\n",
              "  </thead>\n",
              "  <tbody>\n",
              "    <tr>\n",
              "      <th>688</th>\n",
              "      <td>3</td>\n",
              "      <td>1</td>\n",
              "      <td>-0.873136</td>\n",
              "      <td>0</td>\n",
              "      <td>0</td>\n",
              "      <td>-0.491456</td>\n",
              "      <td>2</td>\n",
              "      <td>1</td>\n",
              "      <td>1</td>\n",
              "      <td>3</td>\n",
              "    </tr>\n",
              "    <tr>\n",
              "      <th>648</th>\n",
              "      <td>3</td>\n",
              "      <td>1</td>\n",
              "      <td>-0.104637</td>\n",
              "      <td>0</td>\n",
              "      <td>0</td>\n",
              "      <td>-0.496405</td>\n",
              "      <td>2</td>\n",
              "      <td>1</td>\n",
              "      <td>1</td>\n",
              "      <td>3</td>\n",
              "    </tr>\n",
              "    <tr>\n",
              "      <th>476</th>\n",
              "      <td>2</td>\n",
              "      <td>1</td>\n",
              "      <td>0.356462</td>\n",
              "      <td>1</td>\n",
              "      <td>0</td>\n",
              "      <td>-0.225593</td>\n",
              "      <td>2</td>\n",
              "      <td>2</td>\n",
              "      <td>0</td>\n",
              "      <td>3</td>\n",
              "    </tr>\n",
              "    <tr>\n",
              "      <th>414</th>\n",
              "      <td>3</td>\n",
              "      <td>1</td>\n",
              "      <td>1.124960</td>\n",
              "      <td>0</td>\n",
              "      <td>0</td>\n",
              "      <td>-0.488854</td>\n",
              "      <td>2</td>\n",
              "      <td>1</td>\n",
              "      <td>1</td>\n",
              "      <td>3</td>\n",
              "    </tr>\n",
              "    <tr>\n",
              "      <th>59</th>\n",
              "      <td>3</td>\n",
              "      <td>1</td>\n",
              "      <td>-1.411085</td>\n",
              "      <td>5</td>\n",
              "      <td>2</td>\n",
              "      <td>0.295895</td>\n",
              "      <td>2</td>\n",
              "      <td>8</td>\n",
              "      <td>0</td>\n",
              "      <td>1</td>\n",
              "    </tr>\n",
              "  </tbody>\n",
              "</table>\n",
              "</div>"
            ],
            "text/plain": [
              "     Pclass  Sex       Age  SibSp  ...  Embarked  FamSize  IsAlone  Title\n",
              "688       3    1 -0.873136      0  ...         2        1        1      3\n",
              "648       3    1 -0.104637      0  ...         2        1        1      3\n",
              "476       2    1  0.356462      1  ...         2        2        0      3\n",
              "414       3    1  1.124960      0  ...         2        1        1      3\n",
              "59        3    1 -1.411085      5  ...         2        8        0      1\n",
              "\n",
              "[5 rows x 10 columns]"
            ]
          },
          "metadata": {
            "tags": []
          },
          "execution_count": 116
        }
      ]
    },
    {
      "cell_type": "markdown",
      "metadata": {
        "id": "f6s7VwqvJkBB",
        "colab_type": "text"
      },
      "source": [
        "Validation Data Set"
      ]
    },
    {
      "cell_type": "code",
      "metadata": {
        "id": "cdMeDav5Jjiv",
        "colab_type": "code",
        "colab": {}
      },
      "source": [
        "from sklearn.model_selection import train_test_split\n",
        "\n",
        "X_training, X_valid, y_training, y_valid = train_test_split(X_train, y_train, test_size=0.2, random_state=0)"
      ],
      "execution_count": 0,
      "outputs": []
    },
    {
      "cell_type": "markdown",
      "metadata": {
        "id": "u66Nr1nfKO-L",
        "colab_type": "text"
      },
      "source": [
        "SVC Model"
      ]
    },
    {
      "cell_type": "code",
      "metadata": {
        "id": "trxMmGsRJbnn",
        "colab_type": "code",
        "colab": {
          "base_uri": "https://localhost:8080/",
          "height": 54
        },
        "outputId": "61253f07-878e-48cf-b446-7534543e7d8c"
      },
      "source": [
        "svc_clf = SVC()\n",
        "\n",
        "parameters_svc = {\"kernel\": [\"rbf\", \"linear\"], \"probability\": [True, False], \"verbose\": [True, False]}\n",
        "\n",
        "grid_svc = GridSearchCV(svc_clf, parameters_svc, scoring=make_scorer(accuracy_score))\n",
        "grid_svc.fit(X_training, y_training)\n",
        "\n",
        "svc_clf = grid_svc.best_estimator_\n",
        "svc_clf.fit(X_training, y_training)\n",
        "\n",
        "pred_svc = svc_clf.predict(X_valid)\n",
        "acc_svc = accuracy_score(y_valid, pred_svc)"
      ],
      "execution_count": 118,
      "outputs": [
        {
          "output_type": "stream",
          "text": [
            "[LibSVM][LibSVM][LibSVM][LibSVM][LibSVM][LibSVM][LibSVM][LibSVM][LibSVM][LibSVM][LibSVM][LibSVM][LibSVM][LibSVM][LibSVM][LibSVM][LibSVM][LibSVM][LibSVM][LibSVM][LibSVM][LibSVM]"
          ],
          "name": "stdout"
        }
      ]
    },
    {
      "cell_type": "code",
      "metadata": {
        "id": "O9ojUIGbLlf8",
        "colab_type": "code",
        "colab": {
          "base_uri": "https://localhost:8080/",
          "height": 34
        },
        "outputId": "451442be-0014-42d8-8053-a253f9f689e6"
      },
      "source": [
        "print(\"The Score for SVC is: \" + str(acc_svc))"
      ],
      "execution_count": 119,
      "outputs": [
        {
          "output_type": "stream",
          "text": [
            "The Score for SVC is: 0.8212290502793296\n"
          ],
          "name": "stdout"
        }
      ]
    },
    {
      "cell_type": "markdown",
      "metadata": {
        "id": "p0WwQSPWLwND",
        "colab_type": "text"
      },
      "source": [
        "LinearSVC Model"
      ]
    },
    {
      "cell_type": "code",
      "metadata": {
        "id": "BafXAW1zLq6Y",
        "colab_type": "code",
        "colab": {
          "base_uri": "https://localhost:8080/",
          "height": 34
        },
        "outputId": "4d6dbb79-df6b-47f0-c3df-8b8831c6ae36"
      },
      "source": [
        "linsvc_clf = LinearSVC()\n",
        "\n",
        "parameters_linsvc = {\"multi_class\": [\"ovr\", \"crammer_singer\"], \"fit_intercept\": [True, False], \"max_iter\": [100, 500, 1000, 1500]}\n",
        "\n",
        "grid_linsvc = GridSearchCV(linsvc_clf, parameters_linsvc, scoring=make_scorer(accuracy_score))\n",
        "grid_linsvc.fit(X_training, y_training)\n",
        "\n",
        "linsvc_clf = grid_linsvc.best_estimator_\n",
        "\n",
        "linsvc_clf.fit(X_training, y_training)\n",
        "pred_linsvc = linsvc_clf.predict(X_valid)\n",
        "acc_linsvc = accuracy_score(y_valid, pred_linsvc)\n",
        "\n",
        "print(\"The Score for LinearSVC is: \" + str(acc_linsvc))"
      ],
      "execution_count": 120,
      "outputs": [
        {
          "output_type": "stream",
          "text": [
            "The Score for LinearSVC is: 0.7932960893854749\n"
          ],
          "name": "stdout"
        }
      ]
    },
    {
      "cell_type": "markdown",
      "metadata": {
        "id": "hVv7kytcP884",
        "colab_type": "text"
      },
      "source": [
        "RandomForest Model"
      ]
    },
    {
      "cell_type": "code",
      "metadata": {
        "id": "Wu6gweGPM7Jk",
        "colab_type": "code",
        "colab": {
          "base_uri": "https://localhost:8080/",
          "height": 34
        },
        "outputId": "66100cde-fff4-47de-906d-758b36ccb6b6"
      },
      "source": [
        "rf_clf = RandomForestClassifier()\n",
        "\n",
        "parameters_rf = {\n",
        "    \"n_estimators\": [4, 5, 6, 7, 8, 9, 10, 15], \n",
        "    \"criterion\": ['gini', 'entropy'], \n",
        "    \"max_features\": [\"auto\", \"sqrt\", \"log2\"], \n",
        "    \"max_depth\": [2, 3, 5, 10], \n",
        "    \"min_samples_split\": [2, 3, 5, 10]\n",
        "}\n",
        "\n",
        "grid_rf = GridSearchCV(rf_clf, parameters_rf, scoring=make_scorer(accuracy_score))\n",
        "grid_rf.fit(X_training, y_training)\n",
        "\n",
        "rf_clf = grid_rf.best_estimator_\n",
        "\n",
        "rf_clf.fit(X_training, y_training)\n",
        "pred_rf = rf_clf.predict(X_valid)\n",
        "acc_rf = accuracy_score(y_valid, pred_rf)\n",
        "\n",
        "print(\"The Score for Random Forest is: \" + str(acc_rf))"
      ],
      "execution_count": 121,
      "outputs": [
        {
          "output_type": "stream",
          "text": [
            "The Score for Random Forest is: 0.8268156424581006\n"
          ],
          "name": "stdout"
        }
      ]
    },
    {
      "cell_type": "code",
      "metadata": {
        "id": "eqG16FmUQ3v-",
        "colab_type": "code",
        "colab": {
          "base_uri": "https://localhost:8080/",
          "height": 51
        },
        "outputId": "2edc71a8-134c-4cb2-c72d-92f8155a866c"
      },
      "source": [
        "print(grid_rf.best_score_)\n",
        "print(grid_rf.best_params_)"
      ],
      "execution_count": 122,
      "outputs": [
        {
          "output_type": "stream",
          "text": [
            "0.837092484979809\n",
            "{'criterion': 'gini', 'max_depth': 5, 'max_features': 'auto', 'min_samples_split': 2, 'n_estimators': 10}\n"
          ],
          "name": "stdout"
        }
      ]
    },
    {
      "cell_type": "markdown",
      "metadata": {
        "id": "dVBSOjWoR00E",
        "colab_type": "text"
      },
      "source": [
        "LogisticRegression Model"
      ]
    },
    {
      "cell_type": "code",
      "metadata": {
        "id": "W-PJXQoxRlXd",
        "colab_type": "code",
        "colab": {
          "base_uri": "https://localhost:8080/",
          "height": 34
        },
        "outputId": "aaba7a35-e9fe-4a15-fa24-236f1baf1549"
      },
      "source": [
        "logreg_clf = LogisticRegression()\n",
        "\n",
        "parameters_logreg = {\n",
        "    \"penalty\": [\"l2\"], \n",
        "    \"fit_intercept\": [True, False], \n",
        "    \"solver\": [\"newton-cg\", \"lbfgs\", \"liblinear\", \"sag\", \"saga\"], \n",
        "    \"max_iter\": [50, 100, 200], \n",
        "    \"warm_start\": [True, False]\n",
        "}\n",
        "grid_logreg = GridSearchCV(logreg_clf, parameters_logreg, scoring=make_scorer(accuracy_score))\n",
        "grid_logreg.fit(X_training, y_training)\n",
        "\n",
        "logreg_clf = grid_logreg.best_estimator_\n",
        "\n",
        "logreg_clf.fit(X_training, y_training)\n",
        "pred_logreg = logreg_clf.predict(X_valid)\n",
        "acc_logreg = accuracy_score(y_valid, pred_logreg)\n",
        "\n",
        "print(\"The Score for Logistic Regression is: \" + str(acc_logreg))"
      ],
      "execution_count": 123,
      "outputs": [
        {
          "output_type": "stream",
          "text": [
            "The Score for Logistic Regression is: 0.7988826815642458\n"
          ],
          "name": "stdout"
        }
      ]
    },
    {
      "cell_type": "code",
      "metadata": {
        "id": "CD2SWBYFS3Z-",
        "colab_type": "code",
        "colab": {
          "base_uri": "https://localhost:8080/",
          "height": 136
        },
        "outputId": "573e44db-009b-4af7-d207-be451acdbe9f"
      },
      "source": [
        "print(grid_logreg.best_estimator_)\n",
        "print(grid_logreg.best_params_)\n",
        "print(grid_logreg.best_score_)"
      ],
      "execution_count": 124,
      "outputs": [
        {
          "output_type": "stream",
          "text": [
            "LogisticRegression(C=1.0, class_weight=None, dual=False, fit_intercept=True,\n",
            "                   intercept_scaling=1, l1_ratio=None, max_iter=50,\n",
            "                   multi_class='auto', n_jobs=None, penalty='l2',\n",
            "                   random_state=None, solver='sag', tol=0.0001, verbose=0,\n",
            "                   warm_start=False)\n",
            "{'fit_intercept': True, 'max_iter': 50, 'penalty': 'l2', 'solver': 'sag', 'warm_start': False}\n",
            "0.8047769132276175\n"
          ],
          "name": "stdout"
        }
      ]
    },
    {
      "cell_type": "markdown",
      "metadata": {
        "id": "vWHMXZu-WRbO",
        "colab_type": "text"
      },
      "source": [
        "KNeighbors Model"
      ]
    },
    {
      "cell_type": "code",
      "metadata": {
        "id": "_T-H9yMpS95_",
        "colab_type": "code",
        "colab": {
          "base_uri": "https://localhost:8080/",
          "height": 34
        },
        "outputId": "ae185124-90f4-4607-cf23-197e75300297"
      },
      "source": [
        "knn_clf = KNeighborsClassifier()\n",
        "\n",
        "parameters_knn = {\n",
        "    \"n_neighbors\": [3, 5, 10, 15],\n",
        "    \"weights\": [\"uniform\", \"distance\"],\n",
        "    \"algorithm\": [\"auto\", \"ball_tree\", \"kd_tree\"],\n",
        "    \"leaf_size\": [20, 30, 50]\n",
        "}\n",
        "grid_knn = GridSearchCV(knn_clf, parameters_knn, scoring=make_scorer(accuracy_score))\n",
        "grid_knn.fit(X_training, y_training)\n",
        "\n",
        "knn_clf = grid_knn.best_estimator_\n",
        "\n",
        "knn_clf.fit(X_training, y_training)\n",
        "pred_knn = knn_clf.predict(X_valid)\n",
        "acc_knn = accuracy_score(y_valid, pred_knn)\n",
        "print(\"The Score for KNeighbors is: \" + str(acc_knn))"
      ],
      "execution_count": 125,
      "outputs": [
        {
          "output_type": "stream",
          "text": [
            "The Score for KNeighbors is: 0.7653631284916201\n"
          ],
          "name": "stdout"
        }
      ]
    },
    {
      "cell_type": "code",
      "metadata": {
        "id": "8kijYVCpW_1t",
        "colab_type": "code",
        "colab": {
          "base_uri": "https://localhost:8080/",
          "height": 102
        },
        "outputId": "8f1fbd4d-9575-4691-8c65-77c2fcec6dc3"
      },
      "source": [
        "print(grid_knn.best_estimator_)\n",
        "print(grid_knn.best_params_)\n",
        "print(grid_knn.best_score_)"
      ],
      "execution_count": 126,
      "outputs": [
        {
          "output_type": "stream",
          "text": [
            "KNeighborsClassifier(algorithm='auto', leaf_size=20, metric='minkowski',\n",
            "                     metric_params=None, n_jobs=None, n_neighbors=15, p=2,\n",
            "                     weights='uniform')\n",
            "{'algorithm': 'auto', 'leaf_size': 20, 'n_neighbors': 15, 'weights': 'uniform'}\n",
            "0.7879050526937851\n"
          ],
          "name": "stdout"
        }
      ]
    },
    {
      "cell_type": "markdown",
      "metadata": {
        "id": "Q0czeqKjXWM4",
        "colab_type": "text"
      },
      "source": [
        "GaussianNB Model"
      ]
    },
    {
      "cell_type": "code",
      "metadata": {
        "id": "Ebd3uxBdXGBA",
        "colab_type": "code",
        "colab": {
          "base_uri": "https://localhost:8080/",
          "height": 34
        },
        "outputId": "3d672c15-05b2-4667-da12-f16a985fcabe"
      },
      "source": [
        "gnb_clf = GaussianNB()\n",
        "\n",
        "parameters_gnb = {}\n",
        "\n",
        "grid_gnb = GridSearchCV(gnb_clf, parameters_gnb, scoring=make_scorer(accuracy_score))\n",
        "grid_gnb.fit(X_training, y_training)\n",
        "\n",
        "gnb_clf = grid_gnb.best_estimator_\n",
        "gnb_clf.fit(X_training, y_training)\n",
        "pred_gnb = gnb_clf.predict(X_valid)\n",
        "acc_gnb = accuracy_score(y_valid, pred_gnb)\n",
        "\n",
        "print(\"The Score for Gaussian NB is: \" + str(acc_gnb))"
      ],
      "execution_count": 127,
      "outputs": [
        {
          "output_type": "stream",
          "text": [
            "The Score for Gaussian NB is: 0.776536312849162\n"
          ],
          "name": "stdout"
        }
      ]
    },
    {
      "cell_type": "code",
      "metadata": {
        "id": "W_deE7ECX_Gs",
        "colab_type": "code",
        "colab": {
          "base_uri": "https://localhost:8080/",
          "height": 68
        },
        "outputId": "30e766be-f773-4d52-f51a-cf9b64e30f43"
      },
      "source": [
        "print(grid_gnb.best_estimator_)\n",
        "print(grid_gnb.best_params_)\n",
        "print(grid_gnb.best_score_)"
      ],
      "execution_count": 128,
      "outputs": [
        {
          "output_type": "stream",
          "text": [
            "GaussianNB(priors=None, var_smoothing=1e-09)\n",
            "{}\n",
            "0.8104107160445189\n"
          ],
          "name": "stdout"
        }
      ]
    },
    {
      "cell_type": "markdown",
      "metadata": {
        "id": "e5YOxePLbyA3",
        "colab_type": "text"
      },
      "source": [
        "DecisionTree Model"
      ]
    },
    {
      "cell_type": "code",
      "metadata": {
        "id": "cVmAFshDYG2s",
        "colab_type": "code",
        "colab": {
          "base_uri": "https://localhost:8080/",
          "height": 34
        },
        "outputId": "5e704c3e-db0d-4ef6-8429-b53061e934ff"
      },
      "source": [
        "dt_clf = DecisionTreeClassifier()\n",
        "\n",
        "parameters_dt = {\n",
        "    \"criterion\": [\"gini\", \"entropy\"],\n",
        "    \"splitter\": [\"best\", \"random\"],\n",
        "    \"max_features\": [\"auto\", \"sqrt\", \"log2\"]\n",
        "}\n",
        "grid_dt = GridSearchCV(dt_clf, parameters_dt, scoring=make_scorer(accuracy_score))\n",
        "grid_dt.fit(X_training, y_training)\n",
        "\n",
        "dt_clf = grid_dt.best_estimator_\n",
        "\n",
        "dt_clf.fit(X_training, y_training)\n",
        "pred_dt = dt_clf.predict(X_valid)\n",
        "acc_dt = accuracy_score(y_valid, pred_dt)\n",
        "\n",
        "print(\"The Score for Decision Tree is: \" + str(acc_dt))"
      ],
      "execution_count": 129,
      "outputs": [
        {
          "output_type": "stream",
          "text": [
            "The Score for Decision Tree is: 0.7821229050279329\n"
          ],
          "name": "stdout"
        }
      ]
    },
    {
      "cell_type": "markdown",
      "metadata": {
        "id": "OGJdKcivegTs",
        "colab_type": "text"
      },
      "source": [
        "XGBoostModel"
      ]
    },
    {
      "cell_type": "code",
      "metadata": {
        "id": "orGbBvEOdycR",
        "colab_type": "code",
        "colab": {
          "base_uri": "https://localhost:8080/",
          "height": 34
        },
        "outputId": "2861ddea-ae01-4a79-c812-a0f977db20c4"
      },
      "source": [
        "from xgboost import XGBClassifier\n",
        "\n",
        "xg_clf = XGBClassifier()\n",
        "\n",
        "parameters_xg = {\n",
        "    # \"objective\": [\"reg:linear\"],\n",
        "    \"n_estimators\": [5, 10, 15, 20]\n",
        "}\n",
        "\n",
        "grid_xg = GridSearchCV(xg_clf, parameters_xg, scoring=make_scorer(accuracy_score))\n",
        "grid_xg.fit(X_training, y_training)\n",
        "\n",
        "xg_clf = grid_xg.best_estimator_\n",
        "\n",
        "xg_clf.fit(X_training, y_training)\n",
        "pred_xg = xg_clf.predict(X_valid)\n",
        "acc_xg = accuracy_score(y_valid, pred_xg)\n",
        "\n",
        "print(\"The Score for XGBoost is: \" + str(acc_xg))"
      ],
      "execution_count": 132,
      "outputs": [
        {
          "output_type": "stream",
          "text": [
            "The Score for XGBoost is: 0.8100558659217877\n"
          ],
          "name": "stdout"
        }
      ]
    },
    {
      "cell_type": "code",
      "metadata": {
        "id": "olJMcSJHfINJ",
        "colab_type": "code",
        "colab": {
          "base_uri": "https://localhost:8080/",
          "height": 170
        },
        "outputId": "2853c5a7-e07c-4bc6-a69d-331b66828f90"
      },
      "source": [
        "print(grid_xg.best_estimator_)\n",
        "print(grid_xg.best_params_)\n",
        "print(grid_xg.best_score_)"
      ],
      "execution_count": 133,
      "outputs": [
        {
          "output_type": "stream",
          "text": [
            "XGBClassifier(base_score=0.5, booster='gbtree', colsample_bylevel=1,\n",
            "              colsample_bynode=1, colsample_bytree=1, gamma=0,\n",
            "              learning_rate=0.1, max_delta_step=0, max_depth=3,\n",
            "              min_child_weight=1, missing=None, n_estimators=20, n_jobs=1,\n",
            "              nthread=None, objective='binary:logistic', random_state=0,\n",
            "              reg_alpha=0, reg_lambda=1, scale_pos_weight=1, seed=None,\n",
            "              silent=None, subsample=1, verbosity=1)\n",
            "{'n_estimators': 20}\n",
            "0.8244262779474048\n"
          ],
          "name": "stdout"
        }
      ]
    },
    {
      "cell_type": "markdown",
      "metadata": {
        "id": "IjpqLgLZgzg6",
        "colab_type": "text"
      },
      "source": [
        "8. Evaluating Model Performances"
      ]
    },
    {
      "cell_type": "code",
      "metadata": {
        "id": "vJZtqh8AghwK",
        "colab_type": "code",
        "colab": {
          "base_uri": "https://localhost:8080/",
          "height": 297
        },
        "outputId": "894cddc0-7dac-4745-9d40-2851103073f8"
      },
      "source": [
        "model_performance = pd.DataFrame({\n",
        "    \"Model\": [\n",
        "              \"SVC\",\n",
        "              \"Linear SVC\",\n",
        "              \"Random Forest\",\n",
        "              \"Logistic Regression\",\n",
        "              \"K Nearest Neighbors\",\n",
        "              \"Gaussian Naive Bayes\",\n",
        "              \"Decision Tree\",\n",
        "              \"XGBClassifier\"\n",
        "    ],\n",
        "    \"Accuracy\": [\n",
        "                 acc_svc,\n",
        "                 acc_linsvc,\n",
        "                 acc_rf,\n",
        "                 acc_logreg,\n",
        "                 acc_knn,\n",
        "                 acc_gnb,\n",
        "                 acc_dt,\n",
        "                 acc_xg\n",
        "    ]\n",
        "})\n",
        "\n",
        "model_performance.sort_values(by='Accuracy', ascending=False)"
      ],
      "execution_count": 134,
      "outputs": [
        {
          "output_type": "execute_result",
          "data": {
            "text/html": [
              "<div>\n",
              "<style scoped>\n",
              "    .dataframe tbody tr th:only-of-type {\n",
              "        vertical-align: middle;\n",
              "    }\n",
              "\n",
              "    .dataframe tbody tr th {\n",
              "        vertical-align: top;\n",
              "    }\n",
              "\n",
              "    .dataframe thead th {\n",
              "        text-align: right;\n",
              "    }\n",
              "</style>\n",
              "<table border=\"1\" class=\"dataframe\">\n",
              "  <thead>\n",
              "    <tr style=\"text-align: right;\">\n",
              "      <th></th>\n",
              "      <th>Model</th>\n",
              "      <th>Accuracy</th>\n",
              "    </tr>\n",
              "  </thead>\n",
              "  <tbody>\n",
              "    <tr>\n",
              "      <th>2</th>\n",
              "      <td>Random Forest</td>\n",
              "      <td>0.826816</td>\n",
              "    </tr>\n",
              "    <tr>\n",
              "      <th>0</th>\n",
              "      <td>SVC</td>\n",
              "      <td>0.821229</td>\n",
              "    </tr>\n",
              "    <tr>\n",
              "      <th>7</th>\n",
              "      <td>XGBClassifier</td>\n",
              "      <td>0.810056</td>\n",
              "    </tr>\n",
              "    <tr>\n",
              "      <th>3</th>\n",
              "      <td>Logistic Regression</td>\n",
              "      <td>0.798883</td>\n",
              "    </tr>\n",
              "    <tr>\n",
              "      <th>1</th>\n",
              "      <td>Linear SVC</td>\n",
              "      <td>0.793296</td>\n",
              "    </tr>\n",
              "    <tr>\n",
              "      <th>6</th>\n",
              "      <td>Decision Tree</td>\n",
              "      <td>0.782123</td>\n",
              "    </tr>\n",
              "    <tr>\n",
              "      <th>5</th>\n",
              "      <td>Gaussian Naive Bayes</td>\n",
              "      <td>0.776536</td>\n",
              "    </tr>\n",
              "    <tr>\n",
              "      <th>4</th>\n",
              "      <td>K Nearest Neighbors</td>\n",
              "      <td>0.765363</td>\n",
              "    </tr>\n",
              "  </tbody>\n",
              "</table>\n",
              "</div>"
            ],
            "text/plain": [
              "                  Model  Accuracy\n",
              "2         Random Forest  0.826816\n",
              "0                   SVC  0.821229\n",
              "7         XGBClassifier  0.810056\n",
              "3   Logistic Regression  0.798883\n",
              "1            Linear SVC  0.793296\n",
              "6         Decision Tree  0.782123\n",
              "5  Gaussian Naive Bayes  0.776536\n",
              "4   K Nearest Neighbors  0.765363"
            ]
          },
          "metadata": {
            "tags": []
          },
          "execution_count": 134
        }
      ]
    },
    {
      "cell_type": "markdown",
      "metadata": {
        "id": "3OrQuuMpimYx",
        "colab_type": "text"
      },
      "source": [
        "9. Submission"
      ]
    },
    {
      "cell_type": "code",
      "metadata": {
        "id": "vBz1FJ-Ui5bj",
        "colab_type": "code",
        "colab": {
          "base_uri": "https://localhost:8080/",
          "height": 204
        },
        "outputId": "e344cf6b-2237-4ba1-bf5d-b722c5f98a67"
      },
      "source": [
        "X_train.head()"
      ],
      "execution_count": 135,
      "outputs": [
        {
          "output_type": "execute_result",
          "data": {
            "text/html": [
              "<div>\n",
              "<style scoped>\n",
              "    .dataframe tbody tr th:only-of-type {\n",
              "        vertical-align: middle;\n",
              "    }\n",
              "\n",
              "    .dataframe tbody tr th {\n",
              "        vertical-align: top;\n",
              "    }\n",
              "\n",
              "    .dataframe thead th {\n",
              "        text-align: right;\n",
              "    }\n",
              "</style>\n",
              "<table border=\"1\" class=\"dataframe\">\n",
              "  <thead>\n",
              "    <tr style=\"text-align: right;\">\n",
              "      <th></th>\n",
              "      <th>Pclass</th>\n",
              "      <th>Sex</th>\n",
              "      <th>Age</th>\n",
              "      <th>SibSp</th>\n",
              "      <th>Parch</th>\n",
              "      <th>Fare</th>\n",
              "      <th>Embarked</th>\n",
              "      <th>FamSize</th>\n",
              "      <th>IsAlone</th>\n",
              "      <th>Title</th>\n",
              "    </tr>\n",
              "  </thead>\n",
              "  <tbody>\n",
              "    <tr>\n",
              "      <th>0</th>\n",
              "      <td>3</td>\n",
              "      <td>1</td>\n",
              "      <td>-0.565736</td>\n",
              "      <td>1</td>\n",
              "      <td>0</td>\n",
              "      <td>-0.502445</td>\n",
              "      <td>2</td>\n",
              "      <td>2</td>\n",
              "      <td>0</td>\n",
              "      <td>3</td>\n",
              "    </tr>\n",
              "    <tr>\n",
              "      <th>1</th>\n",
              "      <td>1</td>\n",
              "      <td>0</td>\n",
              "      <td>0.663861</td>\n",
              "      <td>1</td>\n",
              "      <td>0</td>\n",
              "      <td>0.786845</td>\n",
              "      <td>0</td>\n",
              "      <td>2</td>\n",
              "      <td>0</td>\n",
              "      <td>4</td>\n",
              "    </tr>\n",
              "    <tr>\n",
              "      <th>2</th>\n",
              "      <td>3</td>\n",
              "      <td>0</td>\n",
              "      <td>-0.258337</td>\n",
              "      <td>0</td>\n",
              "      <td>0</td>\n",
              "      <td>-0.488854</td>\n",
              "      <td>2</td>\n",
              "      <td>1</td>\n",
              "      <td>1</td>\n",
              "      <td>2</td>\n",
              "    </tr>\n",
              "    <tr>\n",
              "      <th>3</th>\n",
              "      <td>1</td>\n",
              "      <td>0</td>\n",
              "      <td>0.433312</td>\n",
              "      <td>1</td>\n",
              "      <td>0</td>\n",
              "      <td>0.420730</td>\n",
              "      <td>2</td>\n",
              "      <td>2</td>\n",
              "      <td>0</td>\n",
              "      <td>4</td>\n",
              "    </tr>\n",
              "    <tr>\n",
              "      <th>4</th>\n",
              "      <td>3</td>\n",
              "      <td>1</td>\n",
              "      <td>0.433312</td>\n",
              "      <td>0</td>\n",
              "      <td>0</td>\n",
              "      <td>-0.486337</td>\n",
              "      <td>2</td>\n",
              "      <td>1</td>\n",
              "      <td>1</td>\n",
              "      <td>3</td>\n",
              "    </tr>\n",
              "  </tbody>\n",
              "</table>\n",
              "</div>"
            ],
            "text/plain": [
              "   Pclass  Sex       Age  SibSp  ...  Embarked  FamSize  IsAlone  Title\n",
              "0       3    1 -0.565736      1  ...         2        2        0      3\n",
              "1       1    0  0.663861      1  ...         0        2        0      4\n",
              "2       3    0 -0.258337      0  ...         2        1        1      2\n",
              "3       1    0  0.433312      1  ...         2        2        0      4\n",
              "4       3    1  0.433312      0  ...         2        1        1      3\n",
              "\n",
              "[5 rows x 10 columns]"
            ]
          },
          "metadata": {
            "tags": []
          },
          "execution_count": 135
        }
      ]
    },
    {
      "cell_type": "code",
      "metadata": {
        "id": "Ln0xl-svi8EI",
        "colab_type": "code",
        "colab": {
          "base_uri": "https://localhost:8080/",
          "height": 119
        },
        "outputId": "9fe9dfb2-a0c5-4f44-c133-dd0f98af43d7"
      },
      "source": [
        "y_train.head()"
      ],
      "execution_count": 136,
      "outputs": [
        {
          "output_type": "execute_result",
          "data": {
            "text/plain": [
              "0    0\n",
              "1    1\n",
              "2    1\n",
              "3    1\n",
              "4    0\n",
              "Name: Survived, dtype: int64"
            ]
          },
          "metadata": {
            "tags": []
          },
          "execution_count": 136
        }
      ]
    },
    {
      "cell_type": "code",
      "metadata": {
        "id": "WaTsnKQ0i_ye",
        "colab_type": "code",
        "colab": {
          "base_uri": "https://localhost:8080/",
          "height": 34
        },
        "outputId": "0a47d312-6f47-4ba4-839c-f2faa5995376"
      },
      "source": [
        "type(y_train)"
      ],
      "execution_count": 137,
      "outputs": [
        {
          "output_type": "execute_result",
          "data": {
            "text/plain": [
              "pandas.core.series.Series"
            ]
          },
          "metadata": {
            "tags": []
          },
          "execution_count": 137
        }
      ]
    },
    {
      "cell_type": "code",
      "metadata": {
        "id": "XV0Z3xHZhdIO",
        "colab_type": "code",
        "colab": {
          "base_uri": "https://localhost:8080/",
          "height": 85
        },
        "outputId": "6cfab513-4475-4343-efea-648d62135649"
      },
      "source": [
        "svc_clf.fit(X_train, y_train)"
      ],
      "execution_count": 138,
      "outputs": [
        {
          "output_type": "stream",
          "text": [
            "[LibSVM]"
          ],
          "name": "stdout"
        },
        {
          "output_type": "execute_result",
          "data": {
            "text/plain": [
              "SVC(C=1.0, break_ties=False, cache_size=200, class_weight=None, coef0=0.0,\n",
              "    decision_function_shape='ovr', degree=3, gamma='scale', kernel='rbf',\n",
              "    max_iter=-1, probability=True, random_state=None, shrinking=True, tol=0.001,\n",
              "    verbose=True)"
            ]
          },
          "metadata": {
            "tags": []
          },
          "execution_count": 138
        }
      ]
    },
    {
      "cell_type": "code",
      "metadata": {
        "id": "IwW_61CcjDT_",
        "colab_type": "code",
        "colab": {}
      },
      "source": [
        "submission_predictions = svc_clf.predict(X_test)"
      ],
      "execution_count": 0,
      "outputs": []
    },
    {
      "cell_type": "code",
      "metadata": {
        "id": "DEVrZMpSjLB1",
        "colab_type": "code",
        "colab": {
          "base_uri": "https://localhost:8080/",
          "height": 34
        },
        "outputId": "0a62015e-07e6-433a-feb8-345fbe4f3d29"
      },
      "source": [
        "submission = pd.DataFrame({\n",
        "    \"PassengerId\": testing[\"PassengerId\"],\n",
        "    \"Survived\": submission_predictions\n",
        "})\n",
        "\n",
        "submission.to_csv(\"titanic.csv\", index=False)\n",
        "print(submission.shape)"
      ],
      "execution_count": 140,
      "outputs": [
        {
          "output_type": "stream",
          "text": [
            "(418, 2)\n"
          ],
          "name": "stdout"
        }
      ]
    },
    {
      "cell_type": "code",
      "metadata": {
        "id": "3a3AfdxYjiUR",
        "colab_type": "code",
        "colab": {}
      },
      "source": [
        ""
      ],
      "execution_count": 0,
      "outputs": []
    }
  ]
}