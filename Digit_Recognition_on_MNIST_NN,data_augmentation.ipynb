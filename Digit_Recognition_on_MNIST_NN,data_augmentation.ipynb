{
  "nbformat": 4,
  "nbformat_minor": 0,
  "metadata": {
    "colab": {
      "name": "Digit Recognition on MNIST-NN,data augmentation.ipynb",
      "provenance": [],
      "collapsed_sections": [],
      "authorship_tag": "ABX9TyMKoAX/BszuH3FPRJof51Oa",
      "include_colab_link": true
    },
    "kernelspec": {
      "name": "python3",
      "display_name": "Python 3"
    }
  },
  "cells": [
    {
      "cell_type": "markdown",
      "metadata": {
        "id": "view-in-github",
        "colab_type": "text"
      },
      "source": [
        "<a href=\"https://colab.research.google.com/github/head1ton/kaggle_dev/blob/master/Digit_Recognition_on_MNIST_NN%2Cdata_augmentation.ipynb\" target=\"_parent\"><img src=\"https://colab.research.google.com/assets/colab-badge.svg\" alt=\"Open In Colab\"/></a>"
      ]
    },
    {
      "cell_type": "code",
      "metadata": {
        "id": "y1uUwlyaaD6J",
        "colab_type": "code",
        "colab": {
          "base_uri": "https://localhost:8080/",
          "height": 391
        },
        "outputId": "1cfd4611-fdcb-4947-d1d6-80c24b61aeda"
      },
      "source": [
        "import numpy as np\n",
        "import pandas as pd\n",
        "import seaborn as sns\n",
        "import matplotlib.pyplot as plt\n",
        "import tensorflow as tf\n",
        "from tensorflow import keras\n",
        "from tensorflow.keras.callbacks import EarlyStopping\n",
        "from sklearn import model_selection\n",
        "from skimage.transform import rotate, rescale, resize, downscale_local_mean, warp, SimilarityTransform, AffineTransform\n",
        "from skimage.morphology import thin, skeletonize\n",
        "from skimage.util import invert\n",
        "\n",
        "import seaborn as sns\n",
        "sns.set(context='notebook', style='white', palette='deep')\n",
        "\n",
        "import math\n",
        "\n",
        "import os\n",
        "for dirname, _, filenames in os.walk('./'):\n",
        "    for filename in filenames:\n",
        "        print(os.path.join(dirname, filename))"
      ],
      "execution_count": 7,
      "outputs": [
        {
          "output_type": "stream",
          "text": [
            "./train.csv\n",
            "./test.csv\n",
            "./sample_submission.csv\n",
            "./.config/active_config\n",
            "./.config/.last_survey_prompt.yaml\n",
            "./.config/gce\n",
            "./.config/config_sentinel\n",
            "./.config/.last_update_check.json\n",
            "./.config/.metricsUUID\n",
            "./.config/logs/2020.01.13/16.37.53.933238.log\n",
            "./.config/logs/2020.01.13/16.37.37.002045.log\n",
            "./.config/logs/2020.01.13/16.37.08.645258.log\n",
            "./.config/logs/2020.01.13/16.37.40.784290.log\n",
            "./.config/logs/2020.01.13/16.37.53.587497.log\n",
            "./.config/logs/2020.01.13/16.37.24.945113.log\n",
            "./.config/configurations/config_default\n",
            "./sample_data/README.md\n",
            "./sample_data/anscombe.json\n",
            "./sample_data/mnist_test.csv\n",
            "./sample_data/california_housing_train.csv\n",
            "./sample_data/california_housing_test.csv\n",
            "./sample_data/mnist_train_small.csv\n"
          ],
          "name": "stdout"
        }
      ]
    },
    {
      "cell_type": "code",
      "metadata": {
        "id": "BbM0H6uacFg-",
        "colab_type": "code",
        "colab": {}
      },
      "source": [
        "# utility functions\n",
        "def extract_images_and_labels(data, is_test=False):\n",
        "    n = data.shape[0]\n",
        "    print(\"number of images: %s\" %n)\n",
        "    data_array = data.to_numpy(dtype=np.int32)\n",
        "    if is_test:\n",
        "        X = data_array.reshape(-1, 28, 28)\n",
        "        print(\"Dimensions of images: {0}\".format(X.shape))\n",
        "        return X, n\n",
        "    else:\n",
        "        X = data_array[:, 1::].reshape(-1, 28, 28)\n",
        "        y = data_array[:, 0].reshape([data_array.shape[0], 1])\n",
        "        print(\"Dimensions of labels: %s and images: %s\" %(y.shape, X.shape))\n",
        "        return X, y, n"
      ],
      "execution_count": 0,
      "outputs": []
    },
    {
      "cell_type": "code",
      "metadata": {
        "id": "ZUu16nxKgyGK",
        "colab_type": "code",
        "colab": {}
      },
      "source": [
        "training_data = pd.read_csv('./train.csv')\n",
        "testing_data = pd.read_csv('./test.csv')"
      ],
      "execution_count": 0,
      "outputs": []
    },
    {
      "cell_type": "code",
      "metadata": {
        "id": "Adjvqeh3r-i8",
        "colab_type": "code",
        "colab": {
          "base_uri": "https://localhost:8080/",
          "height": 287
        },
        "outputId": "9bc0d1ba-c683-44a6-fbc6-746fd637dd1e"
      },
      "source": [
        "print(\"number of training images : %d\" %training_data.shape[0])\n",
        "print(\"number of pixels per images : %d\" %(training_data.shape[1]-1))\n",
        "training_data.head()"
      ],
      "execution_count": 4,
      "outputs": [
        {
          "output_type": "stream",
          "text": [
            "number of training images : 42000\n",
            "number of pixels per images : 784\n"
          ],
          "name": "stdout"
        },
        {
          "output_type": "execute_result",
          "data": {
            "text/html": [
              "<div>\n",
              "<style scoped>\n",
              "    .dataframe tbody tr th:only-of-type {\n",
              "        vertical-align: middle;\n",
              "    }\n",
              "\n",
              "    .dataframe tbody tr th {\n",
              "        vertical-align: top;\n",
              "    }\n",
              "\n",
              "    .dataframe thead th {\n",
              "        text-align: right;\n",
              "    }\n",
              "</style>\n",
              "<table border=\"1\" class=\"dataframe\">\n",
              "  <thead>\n",
              "    <tr style=\"text-align: right;\">\n",
              "      <th></th>\n",
              "      <th>label</th>\n",
              "      <th>pixel0</th>\n",
              "      <th>pixel1</th>\n",
              "      <th>pixel2</th>\n",
              "      <th>pixel3</th>\n",
              "      <th>pixel4</th>\n",
              "      <th>pixel5</th>\n",
              "      <th>pixel6</th>\n",
              "      <th>pixel7</th>\n",
              "      <th>pixel8</th>\n",
              "      <th>pixel9</th>\n",
              "      <th>pixel10</th>\n",
              "      <th>pixel11</th>\n",
              "      <th>pixel12</th>\n",
              "      <th>pixel13</th>\n",
              "      <th>pixel14</th>\n",
              "      <th>pixel15</th>\n",
              "      <th>pixel16</th>\n",
              "      <th>pixel17</th>\n",
              "      <th>pixel18</th>\n",
              "      <th>pixel19</th>\n",
              "      <th>pixel20</th>\n",
              "      <th>pixel21</th>\n",
              "      <th>pixel22</th>\n",
              "      <th>pixel23</th>\n",
              "      <th>pixel24</th>\n",
              "      <th>pixel25</th>\n",
              "      <th>pixel26</th>\n",
              "      <th>pixel27</th>\n",
              "      <th>pixel28</th>\n",
              "      <th>pixel29</th>\n",
              "      <th>pixel30</th>\n",
              "      <th>pixel31</th>\n",
              "      <th>pixel32</th>\n",
              "      <th>pixel33</th>\n",
              "      <th>pixel34</th>\n",
              "      <th>pixel35</th>\n",
              "      <th>pixel36</th>\n",
              "      <th>pixel37</th>\n",
              "      <th>pixel38</th>\n",
              "      <th>...</th>\n",
              "      <th>pixel744</th>\n",
              "      <th>pixel745</th>\n",
              "      <th>pixel746</th>\n",
              "      <th>pixel747</th>\n",
              "      <th>pixel748</th>\n",
              "      <th>pixel749</th>\n",
              "      <th>pixel750</th>\n",
              "      <th>pixel751</th>\n",
              "      <th>pixel752</th>\n",
              "      <th>pixel753</th>\n",
              "      <th>pixel754</th>\n",
              "      <th>pixel755</th>\n",
              "      <th>pixel756</th>\n",
              "      <th>pixel757</th>\n",
              "      <th>pixel758</th>\n",
              "      <th>pixel759</th>\n",
              "      <th>pixel760</th>\n",
              "      <th>pixel761</th>\n",
              "      <th>pixel762</th>\n",
              "      <th>pixel763</th>\n",
              "      <th>pixel764</th>\n",
              "      <th>pixel765</th>\n",
              "      <th>pixel766</th>\n",
              "      <th>pixel767</th>\n",
              "      <th>pixel768</th>\n",
              "      <th>pixel769</th>\n",
              "      <th>pixel770</th>\n",
              "      <th>pixel771</th>\n",
              "      <th>pixel772</th>\n",
              "      <th>pixel773</th>\n",
              "      <th>pixel774</th>\n",
              "      <th>pixel775</th>\n",
              "      <th>pixel776</th>\n",
              "      <th>pixel777</th>\n",
              "      <th>pixel778</th>\n",
              "      <th>pixel779</th>\n",
              "      <th>pixel780</th>\n",
              "      <th>pixel781</th>\n",
              "      <th>pixel782</th>\n",
              "      <th>pixel783</th>\n",
              "    </tr>\n",
              "  </thead>\n",
              "  <tbody>\n",
              "    <tr>\n",
              "      <th>0</th>\n",
              "      <td>1</td>\n",
              "      <td>0</td>\n",
              "      <td>0</td>\n",
              "      <td>0</td>\n",
              "      <td>0</td>\n",
              "      <td>0</td>\n",
              "      <td>0</td>\n",
              "      <td>0</td>\n",
              "      <td>0</td>\n",
              "      <td>0</td>\n",
              "      <td>0</td>\n",
              "      <td>0</td>\n",
              "      <td>0</td>\n",
              "      <td>0</td>\n",
              "      <td>0</td>\n",
              "      <td>0</td>\n",
              "      <td>0</td>\n",
              "      <td>0</td>\n",
              "      <td>0</td>\n",
              "      <td>0</td>\n",
              "      <td>0</td>\n",
              "      <td>0</td>\n",
              "      <td>0</td>\n",
              "      <td>0</td>\n",
              "      <td>0</td>\n",
              "      <td>0</td>\n",
              "      <td>0</td>\n",
              "      <td>0</td>\n",
              "      <td>0</td>\n",
              "      <td>0</td>\n",
              "      <td>0</td>\n",
              "      <td>0</td>\n",
              "      <td>0</td>\n",
              "      <td>0</td>\n",
              "      <td>0</td>\n",
              "      <td>0</td>\n",
              "      <td>0</td>\n",
              "      <td>0</td>\n",
              "      <td>0</td>\n",
              "      <td>0</td>\n",
              "      <td>...</td>\n",
              "      <td>0</td>\n",
              "      <td>0</td>\n",
              "      <td>0</td>\n",
              "      <td>0</td>\n",
              "      <td>0</td>\n",
              "      <td>0</td>\n",
              "      <td>0</td>\n",
              "      <td>0</td>\n",
              "      <td>0</td>\n",
              "      <td>0</td>\n",
              "      <td>0</td>\n",
              "      <td>0</td>\n",
              "      <td>0</td>\n",
              "      <td>0</td>\n",
              "      <td>0</td>\n",
              "      <td>0</td>\n",
              "      <td>0</td>\n",
              "      <td>0</td>\n",
              "      <td>0</td>\n",
              "      <td>0</td>\n",
              "      <td>0</td>\n",
              "      <td>0</td>\n",
              "      <td>0</td>\n",
              "      <td>0</td>\n",
              "      <td>0</td>\n",
              "      <td>0</td>\n",
              "      <td>0</td>\n",
              "      <td>0</td>\n",
              "      <td>0</td>\n",
              "      <td>0</td>\n",
              "      <td>0</td>\n",
              "      <td>0</td>\n",
              "      <td>0</td>\n",
              "      <td>0</td>\n",
              "      <td>0</td>\n",
              "      <td>0</td>\n",
              "      <td>0</td>\n",
              "      <td>0</td>\n",
              "      <td>0</td>\n",
              "      <td>0</td>\n",
              "    </tr>\n",
              "    <tr>\n",
              "      <th>1</th>\n",
              "      <td>0</td>\n",
              "      <td>0</td>\n",
              "      <td>0</td>\n",
              "      <td>0</td>\n",
              "      <td>0</td>\n",
              "      <td>0</td>\n",
              "      <td>0</td>\n",
              "      <td>0</td>\n",
              "      <td>0</td>\n",
              "      <td>0</td>\n",
              "      <td>0</td>\n",
              "      <td>0</td>\n",
              "      <td>0</td>\n",
              "      <td>0</td>\n",
              "      <td>0</td>\n",
              "      <td>0</td>\n",
              "      <td>0</td>\n",
              "      <td>0</td>\n",
              "      <td>0</td>\n",
              "      <td>0</td>\n",
              "      <td>0</td>\n",
              "      <td>0</td>\n",
              "      <td>0</td>\n",
              "      <td>0</td>\n",
              "      <td>0</td>\n",
              "      <td>0</td>\n",
              "      <td>0</td>\n",
              "      <td>0</td>\n",
              "      <td>0</td>\n",
              "      <td>0</td>\n",
              "      <td>0</td>\n",
              "      <td>0</td>\n",
              "      <td>0</td>\n",
              "      <td>0</td>\n",
              "      <td>0</td>\n",
              "      <td>0</td>\n",
              "      <td>0</td>\n",
              "      <td>0</td>\n",
              "      <td>0</td>\n",
              "      <td>0</td>\n",
              "      <td>...</td>\n",
              "      <td>0</td>\n",
              "      <td>0</td>\n",
              "      <td>0</td>\n",
              "      <td>0</td>\n",
              "      <td>0</td>\n",
              "      <td>0</td>\n",
              "      <td>0</td>\n",
              "      <td>0</td>\n",
              "      <td>0</td>\n",
              "      <td>0</td>\n",
              "      <td>0</td>\n",
              "      <td>0</td>\n",
              "      <td>0</td>\n",
              "      <td>0</td>\n",
              "      <td>0</td>\n",
              "      <td>0</td>\n",
              "      <td>0</td>\n",
              "      <td>0</td>\n",
              "      <td>0</td>\n",
              "      <td>0</td>\n",
              "      <td>0</td>\n",
              "      <td>0</td>\n",
              "      <td>0</td>\n",
              "      <td>0</td>\n",
              "      <td>0</td>\n",
              "      <td>0</td>\n",
              "      <td>0</td>\n",
              "      <td>0</td>\n",
              "      <td>0</td>\n",
              "      <td>0</td>\n",
              "      <td>0</td>\n",
              "      <td>0</td>\n",
              "      <td>0</td>\n",
              "      <td>0</td>\n",
              "      <td>0</td>\n",
              "      <td>0</td>\n",
              "      <td>0</td>\n",
              "      <td>0</td>\n",
              "      <td>0</td>\n",
              "      <td>0</td>\n",
              "    </tr>\n",
              "    <tr>\n",
              "      <th>2</th>\n",
              "      <td>1</td>\n",
              "      <td>0</td>\n",
              "      <td>0</td>\n",
              "      <td>0</td>\n",
              "      <td>0</td>\n",
              "      <td>0</td>\n",
              "      <td>0</td>\n",
              "      <td>0</td>\n",
              "      <td>0</td>\n",
              "      <td>0</td>\n",
              "      <td>0</td>\n",
              "      <td>0</td>\n",
              "      <td>0</td>\n",
              "      <td>0</td>\n",
              "      <td>0</td>\n",
              "      <td>0</td>\n",
              "      <td>0</td>\n",
              "      <td>0</td>\n",
              "      <td>0</td>\n",
              "      <td>0</td>\n",
              "      <td>0</td>\n",
              "      <td>0</td>\n",
              "      <td>0</td>\n",
              "      <td>0</td>\n",
              "      <td>0</td>\n",
              "      <td>0</td>\n",
              "      <td>0</td>\n",
              "      <td>0</td>\n",
              "      <td>0</td>\n",
              "      <td>0</td>\n",
              "      <td>0</td>\n",
              "      <td>0</td>\n",
              "      <td>0</td>\n",
              "      <td>0</td>\n",
              "      <td>0</td>\n",
              "      <td>0</td>\n",
              "      <td>0</td>\n",
              "      <td>0</td>\n",
              "      <td>0</td>\n",
              "      <td>0</td>\n",
              "      <td>...</td>\n",
              "      <td>0</td>\n",
              "      <td>0</td>\n",
              "      <td>0</td>\n",
              "      <td>0</td>\n",
              "      <td>0</td>\n",
              "      <td>0</td>\n",
              "      <td>0</td>\n",
              "      <td>0</td>\n",
              "      <td>0</td>\n",
              "      <td>0</td>\n",
              "      <td>0</td>\n",
              "      <td>0</td>\n",
              "      <td>0</td>\n",
              "      <td>0</td>\n",
              "      <td>0</td>\n",
              "      <td>0</td>\n",
              "      <td>0</td>\n",
              "      <td>0</td>\n",
              "      <td>0</td>\n",
              "      <td>0</td>\n",
              "      <td>0</td>\n",
              "      <td>0</td>\n",
              "      <td>0</td>\n",
              "      <td>0</td>\n",
              "      <td>0</td>\n",
              "      <td>0</td>\n",
              "      <td>0</td>\n",
              "      <td>0</td>\n",
              "      <td>0</td>\n",
              "      <td>0</td>\n",
              "      <td>0</td>\n",
              "      <td>0</td>\n",
              "      <td>0</td>\n",
              "      <td>0</td>\n",
              "      <td>0</td>\n",
              "      <td>0</td>\n",
              "      <td>0</td>\n",
              "      <td>0</td>\n",
              "      <td>0</td>\n",
              "      <td>0</td>\n",
              "    </tr>\n",
              "    <tr>\n",
              "      <th>3</th>\n",
              "      <td>4</td>\n",
              "      <td>0</td>\n",
              "      <td>0</td>\n",
              "      <td>0</td>\n",
              "      <td>0</td>\n",
              "      <td>0</td>\n",
              "      <td>0</td>\n",
              "      <td>0</td>\n",
              "      <td>0</td>\n",
              "      <td>0</td>\n",
              "      <td>0</td>\n",
              "      <td>0</td>\n",
              "      <td>0</td>\n",
              "      <td>0</td>\n",
              "      <td>0</td>\n",
              "      <td>0</td>\n",
              "      <td>0</td>\n",
              "      <td>0</td>\n",
              "      <td>0</td>\n",
              "      <td>0</td>\n",
              "      <td>0</td>\n",
              "      <td>0</td>\n",
              "      <td>0</td>\n",
              "      <td>0</td>\n",
              "      <td>0</td>\n",
              "      <td>0</td>\n",
              "      <td>0</td>\n",
              "      <td>0</td>\n",
              "      <td>0</td>\n",
              "      <td>0</td>\n",
              "      <td>0</td>\n",
              "      <td>0</td>\n",
              "      <td>0</td>\n",
              "      <td>0</td>\n",
              "      <td>0</td>\n",
              "      <td>0</td>\n",
              "      <td>0</td>\n",
              "      <td>0</td>\n",
              "      <td>0</td>\n",
              "      <td>0</td>\n",
              "      <td>...</td>\n",
              "      <td>0</td>\n",
              "      <td>0</td>\n",
              "      <td>0</td>\n",
              "      <td>0</td>\n",
              "      <td>0</td>\n",
              "      <td>0</td>\n",
              "      <td>0</td>\n",
              "      <td>0</td>\n",
              "      <td>0</td>\n",
              "      <td>0</td>\n",
              "      <td>0</td>\n",
              "      <td>0</td>\n",
              "      <td>0</td>\n",
              "      <td>0</td>\n",
              "      <td>0</td>\n",
              "      <td>0</td>\n",
              "      <td>0</td>\n",
              "      <td>0</td>\n",
              "      <td>0</td>\n",
              "      <td>0</td>\n",
              "      <td>0</td>\n",
              "      <td>0</td>\n",
              "      <td>0</td>\n",
              "      <td>0</td>\n",
              "      <td>0</td>\n",
              "      <td>0</td>\n",
              "      <td>0</td>\n",
              "      <td>0</td>\n",
              "      <td>0</td>\n",
              "      <td>0</td>\n",
              "      <td>0</td>\n",
              "      <td>0</td>\n",
              "      <td>0</td>\n",
              "      <td>0</td>\n",
              "      <td>0</td>\n",
              "      <td>0</td>\n",
              "      <td>0</td>\n",
              "      <td>0</td>\n",
              "      <td>0</td>\n",
              "      <td>0</td>\n",
              "    </tr>\n",
              "    <tr>\n",
              "      <th>4</th>\n",
              "      <td>0</td>\n",
              "      <td>0</td>\n",
              "      <td>0</td>\n",
              "      <td>0</td>\n",
              "      <td>0</td>\n",
              "      <td>0</td>\n",
              "      <td>0</td>\n",
              "      <td>0</td>\n",
              "      <td>0</td>\n",
              "      <td>0</td>\n",
              "      <td>0</td>\n",
              "      <td>0</td>\n",
              "      <td>0</td>\n",
              "      <td>0</td>\n",
              "      <td>0</td>\n",
              "      <td>0</td>\n",
              "      <td>0</td>\n",
              "      <td>0</td>\n",
              "      <td>0</td>\n",
              "      <td>0</td>\n",
              "      <td>0</td>\n",
              "      <td>0</td>\n",
              "      <td>0</td>\n",
              "      <td>0</td>\n",
              "      <td>0</td>\n",
              "      <td>0</td>\n",
              "      <td>0</td>\n",
              "      <td>0</td>\n",
              "      <td>0</td>\n",
              "      <td>0</td>\n",
              "      <td>0</td>\n",
              "      <td>0</td>\n",
              "      <td>0</td>\n",
              "      <td>0</td>\n",
              "      <td>0</td>\n",
              "      <td>0</td>\n",
              "      <td>0</td>\n",
              "      <td>0</td>\n",
              "      <td>0</td>\n",
              "      <td>0</td>\n",
              "      <td>...</td>\n",
              "      <td>0</td>\n",
              "      <td>0</td>\n",
              "      <td>0</td>\n",
              "      <td>0</td>\n",
              "      <td>0</td>\n",
              "      <td>0</td>\n",
              "      <td>0</td>\n",
              "      <td>0</td>\n",
              "      <td>0</td>\n",
              "      <td>0</td>\n",
              "      <td>0</td>\n",
              "      <td>0</td>\n",
              "      <td>0</td>\n",
              "      <td>0</td>\n",
              "      <td>0</td>\n",
              "      <td>0</td>\n",
              "      <td>0</td>\n",
              "      <td>0</td>\n",
              "      <td>0</td>\n",
              "      <td>0</td>\n",
              "      <td>0</td>\n",
              "      <td>0</td>\n",
              "      <td>0</td>\n",
              "      <td>0</td>\n",
              "      <td>0</td>\n",
              "      <td>0</td>\n",
              "      <td>0</td>\n",
              "      <td>0</td>\n",
              "      <td>0</td>\n",
              "      <td>0</td>\n",
              "      <td>0</td>\n",
              "      <td>0</td>\n",
              "      <td>0</td>\n",
              "      <td>0</td>\n",
              "      <td>0</td>\n",
              "      <td>0</td>\n",
              "      <td>0</td>\n",
              "      <td>0</td>\n",
              "      <td>0</td>\n",
              "      <td>0</td>\n",
              "    </tr>\n",
              "  </tbody>\n",
              "</table>\n",
              "<p>5 rows × 785 columns</p>\n",
              "</div>"
            ],
            "text/plain": [
              "   label  pixel0  pixel1  pixel2  ...  pixel780  pixel781  pixel782  pixel783\n",
              "0      1       0       0       0  ...         0         0         0         0\n",
              "1      0       0       0       0  ...         0         0         0         0\n",
              "2      1       0       0       0  ...         0         0         0         0\n",
              "3      4       0       0       0  ...         0         0         0         0\n",
              "4      0       0       0       0  ...         0         0         0         0\n",
              "\n",
              "[5 rows x 785 columns]"
            ]
          },
          "metadata": {
            "tags": []
          },
          "execution_count": 4
        }
      ]
    },
    {
      "cell_type": "code",
      "metadata": {
        "id": "wmhYP7zRsxrM",
        "colab_type": "code",
        "colab": {
          "base_uri": "https://localhost:8080/",
          "height": 51
        },
        "outputId": "de2d0ebe-2569-4625-a4ca-e0d4f154f26d"
      },
      "source": [
        "X, y, n = extract_images_and_labels(training_data)"
      ],
      "execution_count": 5,
      "outputs": [
        {
          "output_type": "stream",
          "text": [
            "number of images: 42000\n",
            "Dimensions of labels: (42000, 1) and images: (42000, 28, 28)\n"
          ],
          "name": "stdout"
        }
      ]
    },
    {
      "cell_type": "code",
      "metadata": {
        "id": "opqi80S5tJaI",
        "colab_type": "code",
        "colab": {
          "base_uri": "https://localhost:8080/",
          "height": 592
        },
        "outputId": "6f9acbe0-d536-4643-9fe8-9348753849fc"
      },
      "source": [
        "plt.figure(figsize=(10, 10))\n",
        "for i in range(25):\n",
        "    plt.subplot(5, 5, i+1)\n",
        "    plt.xticks([])\n",
        "    plt.yticks([])\n",
        "    plt.grid(False)\n",
        "    plt.imshow(X[i], cmap=plt.cm.binary)\n",
        "    plt.xlabel(y[i][0])\n",
        "plt.show()"
      ],
      "execution_count": 8,
      "outputs": [
        {
          "output_type": "display_data",
          "data": {
            "image/png": "[encoded data removed]",
            "text/plain": [
              "<Figure size 720x720 with 25 Axes>"
            ]
          },
          "metadata": {
            "tags": []
          }
        }
      ]
    },
    {
      "cell_type": "code",
      "metadata": {
        "id": "_fQUisNht9bo",
        "colab_type": "code",
        "colab": {
          "base_uri": "https://localhost:8080/",
          "height": 34
        },
        "outputId": "115b4220-d12e-4c7a-c801-c5a90da962d8"
      },
      "source": [
        "X.shape"
      ],
      "execution_count": 10,
      "outputs": [
        {
          "output_type": "execute_result",
          "data": {
            "text/plain": [
              "(42000, 28, 28)"
            ]
          },
          "metadata": {
            "tags": []
          },
          "execution_count": 10
        }
      ]
    },
    {
      "cell_type": "code",
      "metadata": {
        "id": "MIBNCAn8y3fK",
        "colab_type": "code",
        "colab": {
          "base_uri": "https://localhost:8080/",
          "height": 34
        },
        "outputId": "a8bf7adf-1a76-4d7f-b25e-016a7b9e5158"
      },
      "source": [
        "y.shape"
      ],
      "execution_count": 11,
      "outputs": [
        {
          "output_type": "execute_result",
          "data": {
            "text/plain": [
              "(42000, 1)"
            ]
          },
          "metadata": {
            "tags": []
          },
          "execution_count": 11
        }
      ]
    },
    {
      "cell_type": "code",
      "metadata": {
        "id": "GXxLp7tgy77V",
        "colab_type": "code",
        "colab": {
          "base_uri": "https://localhost:8080/",
          "height": 136
        },
        "outputId": "2aa64321-3337-4e57-a563-276dc24f906a"
      },
      "source": [
        "y"
      ],
      "execution_count": 12,
      "outputs": [
        {
          "output_type": "execute_result",
          "data": {
            "text/plain": [
              "array([[1],\n",
              "       [0],\n",
              "       [1],\n",
              "       ...,\n",
              "       [7],\n",
              "       [6],\n",
              "       [9]], dtype=int32)"
            ]
          },
          "metadata": {
            "tags": []
          },
          "execution_count": 12
        }
      ]
    },
    {
      "cell_type": "code",
      "metadata": {
        "id": "mSY-5SAcy8t0",
        "colab_type": "code",
        "colab": {
          "base_uri": "https://localhost:8080/",
          "height": 592
        },
        "outputId": "a34410a0-9950-45fa-eabf-25af1bab7345"
      },
      "source": [
        "X_normalized = X / 255.0\n",
        "plt.figure(figsize=(10, 10))\n",
        "for i in range(25):\n",
        "    plt.subplot(5, 5, i+1)\n",
        "    plt.xticks([])\n",
        "    plt.yticks([])\n",
        "    plt.grid(False)\n",
        "    plt.imshow(X_normalized[i], cmap=plt.cm.binary)\n",
        "    plt.xlabel(y[i][0])\n",
        "plt.show()"
      ],
      "execution_count": 14,
      "outputs": [
        {
          "output_type": "display_data",
          "data": {
            "image/png": "[encoded data removed]",
            "text/plain": [
              "<Figure size 720x720 with 25 Axes>"
            ]
          },
          "metadata": {
            "tags": []
          }
        }
      ]
    },
    {
      "cell_type": "code",
      "metadata": {
        "id": "uJxS81GpzVyM",
        "colab_type": "code",
        "colab": {
          "base_uri": "https://localhost:8080/",
          "height": 88
        },
        "outputId": "26c04472-deb1-4179-d48e-864a1ab16ab9"
      },
      "source": [
        "# Neural Network\n",
        "model = keras.Sequential([\n",
        "                          keras.layers.Flatten(input_shape=(28,28)),\n",
        "                          keras.layers.Dense(128*4, activation='relu'),\n",
        "                          keras.layers.Dropout(0.5),\n",
        "                          keras.layers.Dense(128*2, activation='relu'),\n",
        "                          keras.layers.Dense(10, activation='softmax')\n",
        "])"
      ],
      "execution_count": 15,
      "outputs": [
        {
          "output_type": "stream",
          "text": [
            "WARNING:tensorflow:From /usr/local/lib/python3.6/dist-packages/tensorflow_core/python/ops/resource_variable_ops.py:1630: calling BaseResourceVariable.__init__ (from tensorflow.python.ops.resource_variable_ops) with constraint is deprecated and will be removed in a future version.\n",
            "Instructions for updating:\n",
            "If using Keras pass *_constraint arguments to layers.\n"
          ],
          "name": "stdout"
        }
      ]
    },
    {
      "cell_type": "code",
      "metadata": {
        "id": "YkhqoAwX0I_Z",
        "colab_type": "code",
        "colab": {}
      },
      "source": [
        "optimizer = 'adam'\n",
        "loss = 'sparse_categorical_crossentropy'\n",
        "metrics = ['accuracy']\n",
        "model.compile(optimizer=optimizer, loss=loss, metrics=metrics)"
      ],
      "execution_count": 0,
      "outputs": []
    },
    {
      "cell_type": "code",
      "metadata": {
        "id": "mjZB42qK0XBx",
        "colab_type": "code",
        "colab": {}
      },
      "source": [
        "# Prepare validation and training data sets\n",
        "X_norm_train, X_norm_validation, y_train, y_validation = model_selection.train_test_split(\n",
        "    X_normalized, \n",
        "    y, \n",
        "    test_size=0.33, \n",
        "    random_state=42)"
      ],
      "execution_count": 0,
      "outputs": []
    },
    {
      "cell_type": "code",
      "metadata": {
        "id": "JDuN1mzJ1ozm",
        "colab_type": "code",
        "colab": {
          "base_uri": "https://localhost:8080/",
          "height": 1000
        },
        "outputId": "19a7fd5c-65cd-4c2d-d9f4-d6911061b28b"
      },
      "source": [
        "# Train the neurl network\n",
        "epochs = 100\n",
        "validation_split = 0.33\n",
        "earlystop_callback = EarlyStopping(\n",
        "    monitor='val_accuracy',\n",
        "    min_delta=0.00001,\n",
        "    patience=3\n",
        ")\n",
        "model.fit(X_norm_train, \n",
        "          y_train, \n",
        "          epochs=epochs, \n",
        "          validation_split=validation_split,\n",
        "          callbacks=[earlystop_callback])"
      ],
      "execution_count": 19,
      "outputs": [
        {
          "output_type": "stream",
          "text": [
            "Train on 18853 samples, validate on 9287 samples\n",
            "Epoch 1/100\n",
            "18784/18853 [============================>.] - ETA: 0s - loss: 0.4009 - acc: 0.8769WARNING:tensorflow:Early stopping conditioned on metric `val_accuracy` which is not available. Available metrics are: loss,acc,val_loss,val_acc\n",
            "18853/18853 [==============================] - 4s 223us/sample - loss: 0.4006 - acc: 0.8770 - val_loss: 0.1786 - val_acc: 0.9475\n",
            "Epoch 2/100\n",
            "18784/18853 [============================>.] - ETA: 0s - loss: 0.2038 - acc: 0.9363WARNING:tensorflow:Early stopping conditioned on metric `val_accuracy` which is not available. Available metrics are: loss,acc,val_loss,val_acc\n",
            "18853/18853 [==============================] - 4s 218us/sample - loss: 0.2041 - acc: 0.9362 - val_loss: 0.1590 - val_acc: 0.9522\n",
            "Epoch 3/100\n",
            "18656/18853 [============================>.] - ETA: 0s - loss: 0.1553 - acc: 0.9505WARNING:tensorflow:Early stopping conditioned on metric `val_accuracy` which is not available. Available metrics are: loss,acc,val_loss,val_acc\n",
            "18853/18853 [==============================] - 4s 220us/sample - loss: 0.1557 - acc: 0.9502 - val_loss: 0.1351 - val_acc: 0.9621\n",
            "Epoch 4/100\n",
            "18592/18853 [============================>.] - ETA: 0s - loss: 0.1233 - acc: 0.9595WARNING:tensorflow:Early stopping conditioned on metric `val_accuracy` which is not available. Available metrics are: loss,acc,val_loss,val_acc\n",
            "18853/18853 [==============================] - 4s 206us/sample - loss: 0.1237 - acc: 0.9593 - val_loss: 0.1285 - val_acc: 0.9613\n",
            "Epoch 5/100\n",
            "18560/18853 [============================>.] - ETA: 0s - loss: 0.1088 - acc: 0.9653WARNING:tensorflow:Early stopping conditioned on metric `val_accuracy` which is not available. Available metrics are: loss,acc,val_loss,val_acc\n",
            "18853/18853 [==============================] - 4s 201us/sample - loss: 0.1093 - acc: 0.9651 - val_loss: 0.1126 - val_acc: 0.9667\n",
            "Epoch 6/100\n",
            "18752/18853 [============================>.] - ETA: 0s - loss: 0.1017 - acc: 0.9663WARNING:tensorflow:Early stopping conditioned on metric `val_accuracy` which is not available. Available metrics are: loss,acc,val_loss,val_acc\n",
            "18853/18853 [==============================] - 4s 208us/sample - loss: 0.1015 - acc: 0.9664 - val_loss: 0.1146 - val_acc: 0.9697\n",
            "Epoch 7/100\n",
            "18720/18853 [============================>.] - ETA: 0s - loss: 0.0878 - acc: 0.9720WARNING:tensorflow:Early stopping conditioned on metric `val_accuracy` which is not available. Available metrics are: loss,acc,val_loss,val_acc\n",
            "18853/18853 [==============================] - 4s 206us/sample - loss: 0.0875 - acc: 0.9720 - val_loss: 0.1159 - val_acc: 0.9675\n",
            "Epoch 8/100\n",
            "18752/18853 [============================>.] - ETA: 0s - loss: 0.0818 - acc: 0.9727WARNING:tensorflow:Early stopping conditioned on metric `val_accuracy` which is not available. Available metrics are: loss,acc,val_loss,val_acc\n",
            "18853/18853 [==============================] - 4s 204us/sample - loss: 0.0816 - acc: 0.9727 - val_loss: 0.1118 - val_acc: 0.9703\n",
            "Epoch 9/100\n",
            "18816/18853 [============================>.] - ETA: 0s - loss: 0.0782 - acc: 0.9745WARNING:tensorflow:Early stopping conditioned on metric `val_accuracy` which is not available. Available metrics are: loss,acc,val_loss,val_acc\n",
            "18853/18853 [==============================] - 4s 205us/sample - loss: 0.0782 - acc: 0.9745 - val_loss: 0.1051 - val_acc: 0.9722\n",
            "Epoch 10/100\n",
            "18656/18853 [============================>.] - ETA: 0s - loss: 0.0792 - acc: 0.9751WARNING:tensorflow:Early stopping conditioned on metric `val_accuracy` which is not available. Available metrics are: loss,acc,val_loss,val_acc\n",
            "18853/18853 [==============================] - 4s 207us/sample - loss: 0.0789 - acc: 0.9752 - val_loss: 0.1105 - val_acc: 0.9707\n",
            "Epoch 11/100\n",
            "18784/18853 [============================>.] - ETA: 0s - loss: 0.0608 - acc: 0.9792WARNING:tensorflow:Early stopping conditioned on metric `val_accuracy` which is not available. Available metrics are: loss,acc,val_loss,val_acc\n",
            "18853/18853 [==============================] - 4s 207us/sample - loss: 0.0606 - acc: 0.9793 - val_loss: 0.1095 - val_acc: 0.9726\n",
            "Epoch 12/100\n",
            "18816/18853 [============================>.] - ETA: 0s - loss: 0.0598 - acc: 0.9803WARNING:tensorflow:Early stopping conditioned on metric `val_accuracy` which is not available. Available metrics are: loss,acc,val_loss,val_acc\n",
            "18853/18853 [==============================] - 4s 209us/sample - loss: 0.0597 - acc: 0.9804 - val_loss: 0.1163 - val_acc: 0.9717\n",
            "Epoch 13/100\n",
            "18784/18853 [============================>.] - ETA: 0s - loss: 0.0634 - acc: 0.9773WARNING:tensorflow:Early stopping conditioned on metric `val_accuracy` which is not available. Available metrics are: loss,acc,val_loss,val_acc\n",
            "18853/18853 [==============================] - 4s 206us/sample - loss: 0.0632 - acc: 0.9774 - val_loss: 0.1275 - val_acc: 0.9690\n",
            "Epoch 14/100\n",
            "18592/18853 [============================>.] - ETA: 0s - loss: 0.0537 - acc: 0.9814WARNING:tensorflow:Early stopping conditioned on metric `val_accuracy` which is not available. Available metrics are: loss,acc,val_loss,val_acc\n",
            "18853/18853 [==============================] - 4s 203us/sample - loss: 0.0541 - acc: 0.9813 - val_loss: 0.1147 - val_acc: 0.9735\n",
            "Epoch 15/100\n",
            "18688/18853 [============================>.] - ETA: 0s - loss: 0.0505 - acc: 0.9838WARNING:tensorflow:Early stopping conditioned on metric `val_accuracy` which is not available. Available metrics are: loss,acc,val_loss,val_acc\n",
            "18853/18853 [==============================] - 4s 201us/sample - loss: 0.0508 - acc: 0.9836 - val_loss: 0.1103 - val_acc: 0.9744\n",
            "Epoch 16/100\n",
            "18656/18853 [============================>.] - ETA: 0s - loss: 0.0501 - acc: 0.9828WARNING:tensorflow:Early stopping conditioned on metric `val_accuracy` which is not available. Available metrics are: loss,acc,val_loss,val_acc\n",
            "18853/18853 [==============================] - 4s 204us/sample - loss: 0.0496 - acc: 0.9830 - val_loss: 0.1223 - val_acc: 0.9736\n",
            "Epoch 17/100\n",
            "18688/18853 [============================>.] - ETA: 0s - loss: 0.0484 - acc: 0.9845WARNING:tensorflow:Early stopping conditioned on metric `val_accuracy` which is not available. Available metrics are: loss,acc,val_loss,val_acc\n",
            "18853/18853 [==============================] - 4s 204us/sample - loss: 0.0482 - acc: 0.9845 - val_loss: 0.1098 - val_acc: 0.9742\n",
            "Epoch 18/100\n",
            "18624/18853 [============================>.] - ETA: 0s - loss: 0.0434 - acc: 0.9853WARNING:tensorflow:Early stopping conditioned on metric `val_accuracy` which is not available. Available metrics are: loss,acc,val_loss,val_acc\n",
            "18853/18853 [==============================] - 4s 201us/sample - loss: 0.0433 - acc: 0.9854 - val_loss: 0.1373 - val_acc: 0.9716\n",
            "Epoch 19/100\n",
            "18688/18853 [============================>.] - ETA: 0s - loss: 0.0510 - acc: 0.9836WARNING:tensorflow:Early stopping conditioned on metric `val_accuracy` which is not available. Available metrics are: loss,acc,val_loss,val_acc\n",
            "18853/18853 [==============================] - 4s 203us/sample - loss: 0.0515 - acc: 0.9836 - val_loss: 0.1304 - val_acc: 0.9720\n",
            "Epoch 20/100\n",
            "18624/18853 [============================>.] - ETA: 0s - loss: 0.0399 - acc: 0.9870WARNING:tensorflow:Early stopping conditioned on metric `val_accuracy` which is not available. Available metrics are: loss,acc,val_loss,val_acc\n",
            "18853/18853 [==============================] - 4s 202us/sample - loss: 0.0407 - acc: 0.9867 - val_loss: 0.1175 - val_acc: 0.9743\n",
            "Epoch 21/100\n",
            "18784/18853 [============================>.] - ETA: 0s - loss: 0.0418 - acc: 0.9870WARNING:tensorflow:Early stopping conditioned on metric `val_accuracy` which is not available. Available metrics are: loss,acc,val_loss,val_acc\n",
            "18853/18853 [==============================] - 4s 203us/sample - loss: 0.0417 - acc: 0.9871 - val_loss: 0.1206 - val_acc: 0.9753\n",
            "Epoch 22/100\n",
            "18720/18853 [============================>.] - ETA: 0s - loss: 0.0451 - acc: 0.9860WARNING:tensorflow:Early stopping conditioned on metric `val_accuracy` which is not available. Available metrics are: loss,acc,val_loss,val_acc\n",
            "18853/18853 [==============================] - 4s 204us/sample - loss: 0.0449 - acc: 0.9860 - val_loss: 0.1131 - val_acc: 0.9745\n",
            "Epoch 23/100\n",
            "18720/18853 [============================>.] - ETA: 0s - loss: 0.0486 - acc: 0.9846WARNING:tensorflow:Early stopping conditioned on metric `val_accuracy` which is not available. Available metrics are: loss,acc,val_loss,val_acc\n",
            "18853/18853 [==============================] - 4s 202us/sample - loss: 0.0488 - acc: 0.9845 - val_loss: 0.1189 - val_acc: 0.9737\n",
            "Epoch 24/100\n",
            "18592/18853 [============================>.] - ETA: 0s - loss: 0.0390 - acc: 0.9878WARNING:tensorflow:Early stopping conditioned on metric `val_accuracy` which is not available. Available metrics are: loss,acc,val_loss,val_acc\n",
            "18853/18853 [==============================] - 4s 208us/sample - loss: 0.0389 - acc: 0.9878 - val_loss: 0.1216 - val_acc: 0.9749\n",
            "Epoch 25/100\n",
            "18688/18853 [============================>.] - ETA: 0s - loss: 0.0373 - acc: 0.9883WARNING:tensorflow:Early stopping conditioned on metric `val_accuracy` which is not available. Available metrics are: loss,acc,val_loss,val_acc\n",
            "18853/18853 [==============================] - 4s 206us/sample - loss: 0.0373 - acc: 0.9883 - val_loss: 0.1253 - val_acc: 0.9759\n",
            "Epoch 26/100\n",
            "18592/18853 [============================>.] - ETA: 0s - loss: 0.0347 - acc: 0.9882WARNING:tensorflow:Early stopping conditioned on metric `val_accuracy` which is not available. Available metrics are: loss,acc,val_loss,val_acc\n",
            "18853/18853 [==============================] - 4s 207us/sample - loss: 0.0346 - acc: 0.9883 - val_loss: 0.1359 - val_acc: 0.9721\n",
            "Epoch 27/100\n",
            "18624/18853 [============================>.] - ETA: 0s - loss: 0.0329 - acc: 0.9890WARNING:tensorflow:Early stopping conditioned on metric `val_accuracy` which is not available. Available metrics are: loss,acc,val_loss,val_acc\n",
            "18853/18853 [==============================] - 4s 205us/sample - loss: 0.0328 - acc: 0.9891 - val_loss: 0.1416 - val_acc: 0.9719\n",
            "Epoch 28/100\n",
            "18816/18853 [============================>.] - ETA: 0s - loss: 0.0426 - acc: 0.9864WARNING:tensorflow:Early stopping conditioned on metric `val_accuracy` which is not available. Available metrics are: loss,acc,val_loss,val_acc\n",
            "18853/18853 [==============================] - 4s 200us/sample - loss: 0.0426 - acc: 0.9864 - val_loss: 0.1220 - val_acc: 0.9754\n",
            "Epoch 29/100\n",
            "18784/18853 [============================>.] - ETA: 0s - loss: 0.0373 - acc: 0.9880WARNING:tensorflow:Early stopping conditioned on metric `val_accuracy` which is not available. Available metrics are: loss,acc,val_loss,val_acc\n",
            "18853/18853 [==============================] - 4s 201us/sample - loss: 0.0372 - acc: 0.9880 - val_loss: 0.1327 - val_acc: 0.9739\n",
            "Epoch 30/100\n",
            "18688/18853 [============================>.] - ETA: 0s - loss: 0.0329 - acc: 0.9892WARNING:tensorflow:Early stopping conditioned on metric `val_accuracy` which is not available. Available metrics are: loss,acc,val_loss,val_acc\n",
            "18853/18853 [==============================] - 4s 199us/sample - loss: 0.0329 - acc: 0.9892 - val_loss: 0.1295 - val_acc: 0.9751\n",
            "Epoch 31/100\n",
            "18720/18853 [============================>.] - ETA: 0s - loss: 0.0280 - acc: 0.9913WARNING:tensorflow:Early stopping conditioned on metric `val_accuracy` which is not available. Available metrics are: loss,acc,val_loss,val_acc\n",
            "18853/18853 [==============================] - 4s 198us/sample - loss: 0.0279 - acc: 0.9913 - val_loss: 0.1419 - val_acc: 0.9748\n",
            "Epoch 32/100\n",
            "18656/18853 [============================>.] - ETA: 0s - loss: 0.0331 - acc: 0.9903WARNING:tensorflow:Early stopping conditioned on metric `val_accuracy` which is not available. Available metrics are: loss,acc,val_loss,val_acc\n",
            "18853/18853 [==============================] - 4s 199us/sample - loss: 0.0333 - acc: 0.9903 - val_loss: 0.1321 - val_acc: 0.9763\n",
            "Epoch 33/100\n",
            "18688/18853 [============================>.] - ETA: 0s - loss: 0.0331 - acc: 0.9897WARNING:tensorflow:Early stopping conditioned on metric `val_accuracy` which is not available. Available metrics are: loss,acc,val_loss,val_acc\n",
            "18853/18853 [==============================] - 4s 201us/sample - loss: 0.0330 - acc: 0.9897 - val_loss: 0.1471 - val_acc: 0.9746\n",
            "Epoch 34/100\n",
            "18720/18853 [============================>.] - ETA: 0s - loss: 0.0319 - acc: 0.9909WARNING:tensorflow:Early stopping conditioned on metric `val_accuracy` which is not available. Available metrics are: loss,acc,val_loss,val_acc\n",
            "18853/18853 [==============================] - 4s 198us/sample - loss: 0.0318 - acc: 0.9909 - val_loss: 0.1320 - val_acc: 0.9752\n",
            "Epoch 35/100\n",
            "18560/18853 [============================>.] - ETA: 0s - loss: 0.0378 - acc: 0.9894WARNING:tensorflow:Early stopping conditioned on metric `val_accuracy` which is not available. Available metrics are: loss,acc,val_loss,val_acc\n",
            "18853/18853 [==============================] - 4s 200us/sample - loss: 0.0375 - acc: 0.9896 - val_loss: 0.1429 - val_acc: 0.9740\n",
            "Epoch 36/100\n",
            "18816/18853 [============================>.] - ETA: 0s - loss: 0.0306 - acc: 0.9905WARNING:tensorflow:Early stopping conditioned on metric `val_accuracy` which is not available. Available metrics are: loss,acc,val_loss,val_acc\n",
            "18853/18853 [==============================] - 4s 204us/sample - loss: 0.0305 - acc: 0.9905 - val_loss: 0.1436 - val_acc: 0.9760\n",
            "Epoch 37/100\n",
            "18688/18853 [============================>.] - ETA: 0s - loss: 0.0318 - acc: 0.9906WARNING:tensorflow:Early stopping conditioned on metric `val_accuracy` which is not available. Available metrics are: loss,acc,val_loss,val_acc\n",
            "18853/18853 [==============================] - 4s 212us/sample - loss: 0.0319 - acc: 0.9905 - val_loss: 0.1504 - val_acc: 0.9707\n",
            "Epoch 38/100\n",
            "18656/18853 [============================>.] - ETA: 0s - loss: 0.0378 - acc: 0.9887WARNING:tensorflow:Early stopping conditioned on metric `val_accuracy` which is not available. Available metrics are: loss,acc,val_loss,val_acc\n",
            "18853/18853 [==============================] - 4s 199us/sample - loss: 0.0374 - acc: 0.9888 - val_loss: 0.1405 - val_acc: 0.9745\n",
            "Epoch 39/100\n",
            "18816/18853 [============================>.] - ETA: 0s - loss: 0.0322 - acc: 0.9907WARNING:tensorflow:Early stopping conditioned on metric `val_accuracy` which is not available. Available metrics are: loss,acc,val_loss,val_acc\n",
            "18853/18853 [==============================] - 4s 200us/sample - loss: 0.0323 - acc: 0.9907 - val_loss: 0.1402 - val_acc: 0.9747\n",
            "Epoch 40/100\n",
            "18592/18853 [============================>.] - ETA: 0s - loss: 0.0286 - acc: 0.9911WARNING:tensorflow:Early stopping conditioned on metric `val_accuracy` which is not available. Available metrics are: loss,acc,val_loss,val_acc\n",
            "18853/18853 [==============================] - 4s 200us/sample - loss: 0.0292 - acc: 0.9909 - val_loss: 0.1378 - val_acc: 0.9762\n",
            "Epoch 41/100\n",
            "18784/18853 [============================>.] - ETA: 0s - loss: 0.0322 - acc: 0.9906WARNING:tensorflow:Early stopping conditioned on metric `val_accuracy` which is not available. Available metrics are: loss,acc,val_loss,val_acc\n",
            "18853/18853 [==============================] - 4s 201us/sample - loss: 0.0322 - acc: 0.9905 - val_loss: 0.1280 - val_acc: 0.9771\n",
            "Epoch 42/100\n",
            "18592/18853 [============================>.] - ETA: 0s - loss: 0.0315 - acc: 0.9902WARNING:tensorflow:Early stopping conditioned on metric `val_accuracy` which is not available. Available metrics are: loss,acc,val_loss,val_acc\n",
            "18853/18853 [==============================] - 4s 203us/sample - loss: 0.0313 - acc: 0.9903 - val_loss: 0.1473 - val_acc: 0.9745\n",
            "Epoch 43/100\n",
            "18784/18853 [============================>.] - ETA: 0s - loss: 0.0306 - acc: 0.9905WARNING:tensorflow:Early stopping conditioned on metric `val_accuracy` which is not available. Available metrics are: loss,acc,val_loss,val_acc\n",
            "18853/18853 [==============================] - 4s 211us/sample - loss: 0.0305 - acc: 0.9905 - val_loss: 0.1506 - val_acc: 0.9751\n",
            "Epoch 44/100\n",
            "18624/18853 [============================>.] - ETA: 0s - loss: 0.0289 - acc: 0.9914WARNING:tensorflow:Early stopping conditioned on metric `val_accuracy` which is not available. Available metrics are: loss,acc,val_loss,val_acc\n",
            "18853/18853 [==============================] - 4s 208us/sample - loss: 0.0299 - acc: 0.9913 - val_loss: 0.1364 - val_acc: 0.9779\n",
            "Epoch 45/100\n",
            "18720/18853 [============================>.] - ETA: 0s - loss: 0.0290 - acc: 0.9909WARNING:tensorflow:Early stopping conditioned on metric `val_accuracy` which is not available. Available metrics are: loss,acc,val_loss,val_acc\n",
            "18853/18853 [==============================] - 4s 209us/sample - loss: 0.0289 - acc: 0.9910 - val_loss: 0.1253 - val_acc: 0.9775\n",
            "Epoch 46/100\n",
            "18720/18853 [============================>.] - ETA: 0s - loss: 0.0320 - acc: 0.9905WARNING:tensorflow:Early stopping conditioned on metric `val_accuracy` which is not available. Available metrics are: loss,acc,val_loss,val_acc\n",
            "18853/18853 [==============================] - 4s 208us/sample - loss: 0.0328 - acc: 0.9905 - val_loss: 0.1443 - val_acc: 0.9752\n",
            "Epoch 47/100\n",
            "18848/18853 [============================>.] - ETA: 0s - loss: 0.0266 - acc: 0.9916WARNING:tensorflow:Early stopping conditioned on metric `val_accuracy` which is not available. Available metrics are: loss,acc,val_loss,val_acc\n",
            "18853/18853 [==============================] - 4s 207us/sample - loss: 0.0266 - acc: 0.9916 - val_loss: 0.1346 - val_acc: 0.9747\n",
            "Epoch 48/100\n",
            "18720/18853 [============================>.] - ETA: 0s - loss: 0.0271 - acc: 0.9913WARNING:tensorflow:Early stopping conditioned on metric `val_accuracy` which is not available. Available metrics are: loss,acc,val_loss,val_acc\n",
            "18853/18853 [==============================] - 4s 202us/sample - loss: 0.0271 - acc: 0.9914 - val_loss: 0.1346 - val_acc: 0.9773\n",
            "Epoch 49/100\n",
            "18656/18853 [============================>.] - ETA: 0s - loss: 0.0281 - acc: 0.9913WARNING:tensorflow:Early stopping conditioned on metric `val_accuracy` which is not available. Available metrics are: loss,acc,val_loss,val_acc\n",
            "18853/18853 [==============================] - 4s 207us/sample - loss: 0.0285 - acc: 0.9912 - val_loss: 0.1459 - val_acc: 0.9763\n",
            "Epoch 50/100\n",
            "18784/18853 [============================>.] - ETA: 0s - loss: 0.0293 - acc: 0.9909WARNING:tensorflow:Early stopping conditioned on metric `val_accuracy` which is not available. Available metrics are: loss,acc,val_loss,val_acc\n",
            "18853/18853 [==============================] - 4s 209us/sample - loss: 0.0295 - acc: 0.9908 - val_loss: 0.1528 - val_acc: 0.9750\n",
            "Epoch 51/100\n",
            "18624/18853 [============================>.] - ETA: 0s - loss: 0.0245 - acc: 0.9920WARNING:tensorflow:Early stopping conditioned on metric `val_accuracy` which is not available. Available metrics are: loss,acc,val_loss,val_acc\n",
            "18853/18853 [==============================] - 4s 209us/sample - loss: 0.0246 - acc: 0.9920 - val_loss: 0.1782 - val_acc: 0.9743\n",
            "Epoch 52/100\n",
            "18624/18853 [============================>.] - ETA: 0s - loss: 0.0239 - acc: 0.9926WARNING:tensorflow:Early stopping conditioned on metric `val_accuracy` which is not available. Available metrics are: loss,acc,val_loss,val_acc\n",
            "18853/18853 [==============================] - 4s 209us/sample - loss: 0.0239 - acc: 0.9926 - val_loss: 0.1552 - val_acc: 0.9767\n",
            "Epoch 53/100\n",
            "18720/18853 [============================>.] - ETA: 0s - loss: 0.0261 - acc: 0.9919WARNING:tensorflow:Early stopping conditioned on metric `val_accuracy` which is not available. Available metrics are: loss,acc,val_loss,val_acc\n",
            "18853/18853 [==============================] - 4s 201us/sample - loss: 0.0262 - acc: 0.9919 - val_loss: 0.1692 - val_acc: 0.9765\n",
            "Epoch 54/100\n",
            "18592/18853 [============================>.] - ETA: 0s - loss: 0.0284 - acc: 0.9917WARNING:tensorflow:Early stopping conditioned on metric `val_accuracy` which is not available. Available metrics are: loss,acc,val_loss,val_acc\n",
            "18853/18853 [==============================] - 4s 200us/sample - loss: 0.0284 - acc: 0.9915 - val_loss: 0.1627 - val_acc: 0.9763\n",
            "Epoch 55/100\n",
            "18624/18853 [============================>.] - ETA: 0s - loss: 0.0204 - acc: 0.9932WARNING:tensorflow:Early stopping conditioned on metric `val_accuracy` which is not available. Available metrics are: loss,acc,val_loss,val_acc\n",
            "18853/18853 [==============================] - 4s 203us/sample - loss: 0.0204 - acc: 0.9932 - val_loss: 0.1722 - val_acc: 0.9756\n",
            "Epoch 56/100\n",
            "18656/18853 [============================>.] - ETA: 0s - loss: 0.0259 - acc: 0.9921WARNING:tensorflow:Early stopping conditioned on metric `val_accuracy` which is not available. Available metrics are: loss,acc,val_loss,val_acc\n",
            "18853/18853 [==============================] - 4s 199us/sample - loss: 0.0258 - acc: 0.9921 - val_loss: 0.1696 - val_acc: 0.9775\n",
            "Epoch 57/100\n",
            "18720/18853 [============================>.] - ETA: 0s - loss: 0.0288 - acc: 0.9918WARNING:tensorflow:Early stopping conditioned on metric `val_accuracy` which is not available. Available metrics are: loss,acc,val_loss,val_acc\n",
            "18853/18853 [==============================] - 4s 197us/sample - loss: 0.0291 - acc: 0.9918 - val_loss: 0.1706 - val_acc: 0.9751\n",
            "Epoch 58/100\n",
            "18720/18853 [============================>.] - ETA: 0s - loss: 0.0265 - acc: 0.9923WARNING:tensorflow:Early stopping conditioned on metric `val_accuracy` which is not available. Available metrics are: loss,acc,val_loss,val_acc\n",
            "18853/18853 [==============================] - 4s 201us/sample - loss: 0.0263 - acc: 0.9923 - val_loss: 0.1588 - val_acc: 0.9748\n",
            "Epoch 59/100\n",
            "18848/18853 [============================>.] - ETA: 0s - loss: 0.0252 - acc: 0.9922WARNING:tensorflow:Early stopping conditioned on metric `val_accuracy` which is not available. Available metrics are: loss,acc,val_loss,val_acc\n",
            "18853/18853 [==============================] - 4s 200us/sample - loss: 0.0252 - acc: 0.9922 - val_loss: 0.1829 - val_acc: 0.9747\n",
            "Epoch 60/100\n",
            "18720/18853 [============================>.] - ETA: 0s - loss: 0.0196 - acc: 0.9940WARNING:tensorflow:Early stopping conditioned on metric `val_accuracy` which is not available. Available metrics are: loss,acc,val_loss,val_acc\n",
            "18853/18853 [==============================] - 4s 202us/sample - loss: 0.0195 - acc: 0.9941 - val_loss: 0.1646 - val_acc: 0.9776\n",
            "Epoch 61/100\n",
            "18624/18853 [============================>.] - ETA: 0s - loss: 0.0235 - acc: 0.9933WARNING:tensorflow:Early stopping conditioned on metric `val_accuracy` which is not available. Available metrics are: loss,acc,val_loss,val_acc\n",
            "18853/18853 [==============================] - 4s 201us/sample - loss: 0.0235 - acc: 0.9933 - val_loss: 0.1594 - val_acc: 0.9777\n",
            "Epoch 62/100\n",
            "18784/18853 [============================>.] - ETA: 0s - loss: 0.0280 - acc: 0.9920WARNING:tensorflow:Early stopping conditioned on metric `val_accuracy` which is not available. Available metrics are: loss,acc,val_loss,val_acc\n",
            "18853/18853 [==============================] - 4s 198us/sample - loss: 0.0279 - acc: 0.9920 - val_loss: 0.1629 - val_acc: 0.9778\n",
            "Epoch 63/100\n",
            "18592/18853 [============================>.] - ETA: 0s - loss: 0.0258 - acc: 0.9928WARNING:tensorflow:Early stopping conditioned on metric `val_accuracy` which is not available. Available metrics are: loss,acc,val_loss,val_acc\n",
            "18853/18853 [==============================] - 4s 202us/sample - loss: 0.0258 - acc: 0.9928 - val_loss: 0.1703 - val_acc: 0.9746\n",
            "Epoch 64/100\n",
            "18720/18853 [============================>.] - ETA: 0s - loss: 0.0305 - acc: 0.9916WARNING:tensorflow:Early stopping conditioned on metric `val_accuracy` which is not available. Available metrics are: loss,acc,val_loss,val_acc\n",
            "18853/18853 [==============================] - 4s 197us/sample - loss: 0.0303 - acc: 0.9916 - val_loss: 0.1718 - val_acc: 0.9763\n",
            "Epoch 65/100\n",
            "18720/18853 [============================>.] - ETA: 0s - loss: 0.0241 - acc: 0.9936WARNING:tensorflow:Early stopping conditioned on metric `val_accuracy` which is not available. Available metrics are: loss,acc,val_loss,val_acc\n",
            "18853/18853 [==============================] - 4s 198us/sample - loss: 0.0240 - acc: 0.9936 - val_loss: 0.1555 - val_acc: 0.9757\n",
            "Epoch 66/100\n",
            "18560/18853 [============================>.] - ETA: 0s - loss: 0.0258 - acc: 0.9926WARNING:tensorflow:Early stopping conditioned on metric `val_accuracy` which is not available. Available metrics are: loss,acc,val_loss,val_acc\n",
            "18853/18853 [==============================] - 4s 201us/sample - loss: 0.0261 - acc: 0.9925 - val_loss: 0.1775 - val_acc: 0.9760\n",
            "Epoch 67/100\n",
            "18784/18853 [============================>.] - ETA: 0s - loss: 0.0231 - acc: 0.9936WARNING:tensorflow:Early stopping conditioned on metric `val_accuracy` which is not available. Available metrics are: loss,acc,val_loss,val_acc\n",
            "18853/18853 [==============================] - 4s 201us/sample - loss: 0.0230 - acc: 0.9936 - val_loss: 0.1723 - val_acc: 0.9753\n",
            "Epoch 68/100\n",
            "18816/18853 [============================>.] - ETA: 0s - loss: 0.0217 - acc: 0.9939WARNING:tensorflow:Early stopping conditioned on metric `val_accuracy` which is not available. Available metrics are: loss,acc,val_loss,val_acc\n",
            "18853/18853 [==============================] - 4s 205us/sample - loss: 0.0216 - acc: 0.9940 - val_loss: 0.2035 - val_acc: 0.9734\n",
            "Epoch 69/100\n",
            "18592/18853 [============================>.] - ETA: 0s - loss: 0.0294 - acc: 0.9927WARNING:tensorflow:Early stopping conditioned on metric `val_accuracy` which is not available. Available metrics are: loss,acc,val_loss,val_acc\n",
            "18853/18853 [==============================] - 4s 203us/sample - loss: 0.0294 - acc: 0.9927 - val_loss: 0.1589 - val_acc: 0.9768\n",
            "Epoch 70/100\n",
            "18720/18853 [============================>.] - ETA: 0s - loss: 0.0217 - acc: 0.9937WARNING:tensorflow:Early stopping conditioned on metric `val_accuracy` which is not available. Available metrics are: loss,acc,val_loss,val_acc\n",
            "18853/18853 [==============================] - 4s 197us/sample - loss: 0.0219 - acc: 0.9937 - val_loss: 0.1814 - val_acc: 0.9781\n",
            "Epoch 71/100\n",
            "18848/18853 [============================>.] - ETA: 0s - loss: 0.0169 - acc: 0.9949WARNING:tensorflow:Early stopping conditioned on metric `val_accuracy` which is not available. Available metrics are: loss,acc,val_loss,val_acc\n",
            "18853/18853 [==============================] - 4s 204us/sample - loss: 0.0169 - acc: 0.9949 - val_loss: 0.2003 - val_acc: 0.9756\n",
            "Epoch 72/100\n",
            "18592/18853 [============================>.] - ETA: 0s - loss: 0.0218 - acc: 0.9938WARNING:tensorflow:Early stopping conditioned on metric `val_accuracy` which is not available. Available metrics are: loss,acc,val_loss,val_acc\n",
            "18853/18853 [==============================] - 4s 199us/sample - loss: 0.0216 - acc: 0.9938 - val_loss: 0.1890 - val_acc: 0.9759\n",
            "Epoch 73/100\n",
            "18592/18853 [============================>.] - ETA: 0s - loss: 0.0252 - acc: 0.9935WARNING:tensorflow:Early stopping conditioned on metric `val_accuracy` which is not available. Available metrics are: loss,acc,val_loss,val_acc\n",
            "18853/18853 [==============================] - 4s 200us/sample - loss: 0.0251 - acc: 0.9936 - val_loss: 0.1813 - val_acc: 0.9754\n",
            "Epoch 74/100\n",
            "18816/18853 [============================>.] - ETA: 0s - loss: 0.0249 - acc: 0.9928WARNING:tensorflow:Early stopping conditioned on metric `val_accuracy` which is not available. Available metrics are: loss,acc,val_loss,val_acc\n",
            "18853/18853 [==============================] - 4s 201us/sample - loss: 0.0249 - acc: 0.9928 - val_loss: 0.1780 - val_acc: 0.9766\n",
            "Epoch 75/100\n",
            "18848/18853 [============================>.] - ETA: 0s - loss: 0.0277 - acc: 0.9928WARNING:tensorflow:Early stopping conditioned on metric `val_accuracy` which is not available. Available metrics are: loss,acc,val_loss,val_acc\n",
            "18853/18853 [==============================] - 4s 199us/sample - loss: 0.0277 - acc: 0.9928 - val_loss: 0.2084 - val_acc: 0.9733\n",
            "Epoch 76/100\n",
            "18656/18853 [============================>.] - ETA: 0s - loss: 0.0208 - acc: 0.9945WARNING:tensorflow:Early stopping conditioned on metric `val_accuracy` which is not available. Available metrics are: loss,acc,val_loss,val_acc\n",
            "18853/18853 [==============================] - 4s 203us/sample - loss: 0.0206 - acc: 0.9945 - val_loss: 0.1798 - val_acc: 0.9779\n",
            "Epoch 77/100\n",
            "18784/18853 [============================>.] - ETA: 0s - loss: 0.0213 - acc: 0.9939WARNING:tensorflow:Early stopping conditioned on metric `val_accuracy` which is not available. Available metrics are: loss,acc,val_loss,val_acc\n",
            "18853/18853 [==============================] - 4s 204us/sample - loss: 0.0214 - acc: 0.9938 - val_loss: 0.1815 - val_acc: 0.9770\n",
            "Epoch 78/100\n",
            "18592/18853 [============================>.] - ETA: 0s - loss: 0.0244 - acc: 0.9941WARNING:tensorflow:Early stopping conditioned on metric `val_accuracy` which is not available. Available metrics are: loss,acc,val_loss,val_acc\n",
            "18853/18853 [==============================] - 4s 200us/sample - loss: 0.0248 - acc: 0.9941 - val_loss: 0.1746 - val_acc: 0.9772\n",
            "Epoch 79/100\n",
            "18560/18853 [============================>.] - ETA: 0s - loss: 0.0233 - acc: 0.9936WARNING:tensorflow:Early stopping conditioned on metric `val_accuracy` which is not available. Available metrics are: loss,acc,val_loss,val_acc\n",
            "18853/18853 [==============================] - 4s 201us/sample - loss: 0.0230 - acc: 0.9937 - val_loss: 0.1890 - val_acc: 0.9756\n",
            "Epoch 80/100\n",
            "18816/18853 [============================>.] - ETA: 0s - loss: 0.0294 - acc: 0.9930WARNING:tensorflow:Early stopping conditioned on metric `val_accuracy` which is not available. Available metrics are: loss,acc,val_loss,val_acc\n",
            "18853/18853 [==============================] - 4s 200us/sample - loss: 0.0294 - acc: 0.9931 - val_loss: 0.1785 - val_acc: 0.9743\n",
            "Epoch 81/100\n",
            "18752/18853 [============================>.] - ETA: 0s - loss: 0.0201 - acc: 0.9944WARNING:tensorflow:Early stopping conditioned on metric `val_accuracy` which is not available. Available metrics are: loss,acc,val_loss,val_acc\n",
            "18853/18853 [==============================] - 4s 198us/sample - loss: 0.0203 - acc: 0.9944 - val_loss: 0.1880 - val_acc: 0.9757\n",
            "Epoch 82/100\n",
            "18592/18853 [============================>.] - ETA: 0s - loss: 0.0243 - acc: 0.9933WARNING:tensorflow:Early stopping conditioned on metric `val_accuracy` which is not available. Available metrics are: loss,acc,val_loss,val_acc\n",
            "18853/18853 [==============================] - 4s 204us/sample - loss: 0.0241 - acc: 0.9934 - val_loss: 0.1776 - val_acc: 0.9770\n",
            "Epoch 83/100\n",
            "18752/18853 [============================>.] - ETA: 0s - loss: 0.0201 - acc: 0.9943WARNING:tensorflow:Early stopping conditioned on metric `val_accuracy` which is not available. Available metrics are: loss,acc,val_loss,val_acc\n",
            "18853/18853 [==============================] - 4s 212us/sample - loss: 0.0201 - acc: 0.9943 - val_loss: 0.1840 - val_acc: 0.9770\n",
            "Epoch 84/100\n",
            "18784/18853 [============================>.] - ETA: 0s - loss: 0.0210 - acc: 0.9942WARNING:tensorflow:Early stopping conditioned on metric `val_accuracy` which is not available. Available metrics are: loss,acc,val_loss,val_acc\n",
            "18853/18853 [==============================] - 4s 216us/sample - loss: 0.0210 - acc: 0.9942 - val_loss: 0.1873 - val_acc: 0.9754\n",
            "Epoch 85/100\n",
            "18624/18853 [============================>.] - ETA: 0s - loss: 0.0212 - acc: 0.9943WARNING:tensorflow:Early stopping conditioned on metric `val_accuracy` which is not available. Available metrics are: loss,acc,val_loss,val_acc\n",
            "18853/18853 [==============================] - 4s 206us/sample - loss: 0.0212 - acc: 0.9943 - val_loss: 0.1610 - val_acc: 0.9776\n",
            "Epoch 86/100\n",
            "18688/18853 [============================>.] - ETA: 0s - loss: 0.0219 - acc: 0.9937WARNING:tensorflow:Early stopping conditioned on metric `val_accuracy` which is not available. Available metrics are: loss,acc,val_loss,val_acc\n",
            "18853/18853 [==============================] - 4s 198us/sample - loss: 0.0217 - acc: 0.9938 - val_loss: 0.1720 - val_acc: 0.9781\n",
            "Epoch 87/100\n",
            "18816/18853 [============================>.] - ETA: 0s - loss: 0.0148 - acc: 0.9954WARNING:tensorflow:Early stopping conditioned on metric `val_accuracy` which is not available. Available metrics are: loss,acc,val_loss,val_acc\n",
            "18853/18853 [==============================] - 4s 199us/sample - loss: 0.0148 - acc: 0.9954 - val_loss: 0.1842 - val_acc: 0.9765\n",
            "Epoch 88/100\n",
            "18720/18853 [============================>.] - ETA: 0s - loss: 0.0248 - acc: 0.9930WARNING:tensorflow:Early stopping conditioned on metric `val_accuracy` which is not available. Available metrics are: loss,acc,val_loss,val_acc\n",
            "18853/18853 [==============================] - 4s 201us/sample - loss: 0.0247 - acc: 0.9931 - val_loss: 0.1831 - val_acc: 0.9776\n",
            "Epoch 89/100\n",
            "18656/18853 [============================>.] - ETA: 0s - loss: 0.0216 - acc: 0.9944WARNING:tensorflow:Early stopping conditioned on metric `val_accuracy` which is not available. Available metrics are: loss,acc,val_loss,val_acc\n",
            "18853/18853 [==============================] - 4s 201us/sample - loss: 0.0215 - acc: 0.9944 - val_loss: 0.1976 - val_acc: 0.9768\n",
            "Epoch 90/100\n",
            "18784/18853 [============================>.] - ETA: 0s - loss: 0.0241 - acc: 0.9937WARNING:tensorflow:Early stopping conditioned on metric `val_accuracy` which is not available. Available metrics are: loss,acc,val_loss,val_acc\n",
            "18853/18853 [==============================] - 4s 200us/sample - loss: 0.0240 - acc: 0.9937 - val_loss: 0.1968 - val_acc: 0.9753\n",
            "Epoch 91/100\n",
            "18656/18853 [============================>.] - ETA: 0s - loss: 0.0293 - acc: 0.9930WARNING:tensorflow:Early stopping conditioned on metric `val_accuracy` which is not available. Available metrics are: loss,acc,val_loss,val_acc\n",
            "18853/18853 [==============================] - 4s 202us/sample - loss: 0.0292 - acc: 0.9930 - val_loss: 0.1860 - val_acc: 0.9768\n",
            "Epoch 92/100\n",
            "18816/18853 [============================>.] - ETA: 0s - loss: 0.0251 - acc: 0.9935WARNING:tensorflow:Early stopping conditioned on metric `val_accuracy` which is not available. Available metrics are: loss,acc,val_loss,val_acc\n",
            "18853/18853 [==============================] - 4s 200us/sample - loss: 0.0252 - acc: 0.9934 - val_loss: 0.1774 - val_acc: 0.9773\n",
            "Epoch 93/100\n",
            "18752/18853 [============================>.] - ETA: 0s - loss: 0.0160 - acc: 0.9956WARNING:tensorflow:Early stopping conditioned on metric `val_accuracy` which is not available. Available metrics are: loss,acc,val_loss,val_acc\n",
            "18853/18853 [==============================] - 4s 200us/sample - loss: 0.0163 - acc: 0.9955 - val_loss: 0.1969 - val_acc: 0.9774\n",
            "Epoch 94/100\n",
            "18816/18853 [============================>.] - ETA: 0s - loss: 0.0211 - acc: 0.9949WARNING:tensorflow:Early stopping conditioned on metric `val_accuracy` which is not available. Available metrics are: loss,acc,val_loss,val_acc\n",
            "18853/18853 [==============================] - 4s 201us/sample - loss: 0.0214 - acc: 0.9949 - val_loss: 0.1938 - val_acc: 0.9752\n",
            "Epoch 95/100\n",
            "18816/18853 [============================>.] - ETA: 0s - loss: 0.0252 - acc: 0.9939WARNING:tensorflow:Early stopping conditioned on metric `val_accuracy` which is not available. Available metrics are: loss,acc,val_loss,val_acc\n",
            "18853/18853 [==============================] - 4s 200us/sample - loss: 0.0252 - acc: 0.9940 - val_loss: 0.1888 - val_acc: 0.9757\n",
            "Epoch 96/100\n",
            "18816/18853 [============================>.] - ETA: 0s - loss: 0.0231 - acc: 0.9942WARNING:tensorflow:Early stopping conditioned on metric `val_accuracy` which is not available. Available metrics are: loss,acc,val_loss,val_acc\n",
            "18853/18853 [==============================] - 4s 200us/sample - loss: 0.0231 - acc: 0.9942 - val_loss: 0.1916 - val_acc: 0.9748\n",
            "Epoch 97/100\n",
            "18688/18853 [============================>.] - ETA: 0s - loss: 0.0221 - acc: 0.9942WARNING:tensorflow:Early stopping conditioned on metric `val_accuracy` which is not available. Available metrics are: loss,acc,val_loss,val_acc\n",
            "18853/18853 [==============================] - 4s 198us/sample - loss: 0.0219 - acc: 0.9943 - val_loss: 0.1881 - val_acc: 0.9771\n",
            "Epoch 98/100\n",
            "18784/18853 [============================>.] - ETA: 0s - loss: 0.0210 - acc: 0.9945WARNING:tensorflow:Early stopping conditioned on metric `val_accuracy` which is not available. Available metrics are: loss,acc,val_loss,val_acc\n",
            "18853/18853 [==============================] - 4s 200us/sample - loss: 0.0213 - acc: 0.9945 - val_loss: 0.1957 - val_acc: 0.9774\n",
            "Epoch 99/100\n",
            "18560/18853 [============================>.] - ETA: 0s - loss: 0.0217 - acc: 0.9946WARNING:tensorflow:Early stopping conditioned on metric `val_accuracy` which is not available. Available metrics are: loss,acc,val_loss,val_acc\n",
            "18853/18853 [==============================] - 4s 200us/sample - loss: 0.0214 - acc: 0.9947 - val_loss: 0.1858 - val_acc: 0.9782\n",
            "Epoch 100/100\n",
            "18688/18853 [============================>.] - ETA: 0s - loss: 0.0193 - acc: 0.9950WARNING:tensorflow:Early stopping conditioned on metric `val_accuracy` which is not available. Available metrics are: loss,acc,val_loss,val_acc\n",
            "18853/18853 [==============================] - 4s 201us/sample - loss: 0.0197 - acc: 0.9949 - val_loss: 0.1782 - val_acc: 0.9767\n"
          ],
          "name": "stdout"
        },
        {
          "output_type": "execute_result",
          "data": {
            "text/plain": [
              "<tensorflow.python.keras.callbacks.History at 0x7f4f7a040cf8>"
            ]
          },
          "metadata": {
            "tags": []
          },
          "execution_count": 19
        }
      ]
    },
    {
      "cell_type": "code",
      "metadata": {
        "id": "xH0hjiVU3puv",
        "colab_type": "code",
        "colab": {
          "base_uri": "https://localhost:8080/",
          "height": 51
        },
        "outputId": "5dc7402f-dde0-43c7-ef76-ac096e28c7fb"
      },
      "source": [
        "# Evaluate performance\n",
        "validation_loss, validation_accuracy = model.evaluate(X_norm_validation, y_validation, verbose=2)\n",
        "print(\"Accuracy : %.4f, Loss : %.4f\" %(validation_accuracy, validation_loss))"
      ],
      "execution_count": 20,
      "outputs": [
        {
          "output_type": "stream",
          "text": [
            "13860/13860 - 1s - loss: 0.1702 - acc: 0.9783\n",
            "Accuracy : 0.9783, Loss : 0.1702\n"
          ],
          "name": "stdout"
        }
      ]
    },
    {
      "cell_type": "code",
      "metadata": {
        "id": "wxU7v3FD48CW",
        "colab_type": "code",
        "colab": {}
      },
      "source": [
        "# Enrich the training data\n",
        "num_repeats = 3\n",
        "df = training_data.copy()\n",
        "df_repeated = pd.concat([df] * num_repeats, ignore_index=True)\n",
        "data_copy = df_repeated.copy().to_numpy(dtype=np.int32)\n",
        "\n",
        "def warp_image(image):\n",
        "    image = (image / 255.0).reshape(28, 28)\n",
        "    # image = warp(image, inverse_map=AffineTransform(shear=np.random.normal(0, 0, 2), translation=np.random.normal(-2, 2, (1, 2))))\n",
        "    image = thin(image, max_iter=np.random.randint(0, 3))\n",
        "    image = rotate(image, angle=np.random.normal(-10, 10))\n",
        "    return image.flatten()\n",
        "\n",
        "X_generated = np.apply_along_axis(lambda x: warp_image(x), 1, data_copy[:, 1::]).reshape(-1, 28, 28)\n",
        "y_generated = data_copy[:, 0].reshape([data_copy.shape[0], 1])\n",
        "\n",
        "X_augmented = np.concatenate((X_normalized, X_generated), axis=0)\n",
        "y_augmented = np.concatenate((y, y_generated), axis=0)"
      ],
      "execution_count": 0,
      "outputs": []
    },
    {
      "cell_type": "code",
      "metadata": {
        "id": "hzy4FaiE473m",
        "colab_type": "code",
        "colab": {
          "base_uri": "https://localhost:8080/",
          "height": 1000
        },
        "outputId": "0e9c150d-6ef1-4b5e-f0f4-4d7a98e36f27"
      },
      "source": [
        "num_rows = 5\n",
        "num_images_shown = num_repeats * num_rows\n",
        "figure = plt.figure(figsize=(15, 20))\n",
        "\n",
        "for i in range(num_images_shown):\n",
        "    start_index = 1 + i * (num_repeats + 1)\n",
        "    for j in range(num_repeats + 1):\n",
        "        plt_index = start_index + j\n",
        "        plt.subplot(num_images_shown, num_repeats + 1, plt_index)\n",
        "        plt.xticks([])\n",
        "        plt.yticks([])\n",
        "        plt.grid(False)\n",
        "        image_index = (j*n) + i\n",
        "        print('{0} {1} image index {2} plt index {3}'.format(i, j, image_index, plt_index))\n",
        "        image_label = y_augmented[image_index][0]\n",
        "        plt.imshow(X_augmented[image_index], cmap=plt.cm.binary)\n",
        "        if j == 0:\n",
        "            plt.xlabel('Original {0} ({1}, {2})'.format(image_label, i, j))\n",
        "        else:\n",
        "            plt.xlabel('Transformed {0} ({1}, {2})'.format(image_label, i, j))\n",
        "\n",
        "figure.suptitle('Each row shows the original digit and the {0} generated variations'.format(num_repeats), y=1.05, fontsize=16)\n",
        "plt.tight_layout()\n",
        "plt.show()"
      ],
      "execution_count": 23,
      "outputs": [
        {
          "output_type": "stream",
          "text": [
            "0 0 image index 0 plt index 1\n",
            "0 1 image index 42000 plt index 2\n",
            "0 2 image index 84000 plt index 3\n",
            "0 3 image index 126000 plt index 4\n",
            "1 0 image index 1 plt index 5\n",
            "1 1 image index 42001 plt index 6\n",
            "1 2 image index 84001 plt index 7\n",
            "1 3 image index 126001 plt index 8\n",
            "2 0 image index 2 plt index 9\n",
            "2 1 image index 42002 plt index 10\n",
            "2 2 image index 84002 plt index 11\n",
            "2 3 image index 126002 plt index 12\n",
            "3 0 image index 3 plt index 13\n",
            "3 1 image index 42003 plt index 14\n",
            "3 2 image index 84003 plt index 15\n",
            "3 3 image index 126003 plt index 16\n",
            "4 0 image index 4 plt index 17\n",
            "4 1 image index 42004 plt index 18\n",
            "4 2 image index 84004 plt index 19\n",
            "4 3 image index 126004 plt index 20\n",
            "5 0 image index 5 plt index 21\n",
            "5 1 image index 42005 plt index 22\n",
            "5 2 image index 84005 plt index 23\n",
            "5 3 image index 126005 plt index 24\n",
            "6 0 image index 6 plt index 25\n",
            "6 1 image index 42006 plt index 26\n",
            "6 2 image index 84006 plt index 27\n",
            "6 3 image index 126006 plt index 28\n",
            "7 0 image index 7 plt index 29\n",
            "7 1 image index 42007 plt index 30\n",
            "7 2 image index 84007 plt index 31\n",
            "7 3 image index 126007 plt index 32\n",
            "8 0 image index 8 plt index 33\n",
            "8 1 image index 42008 plt index 34\n",
            "8 2 image index 84008 plt index 35\n",
            "8 3 image index 126008 plt index 36\n",
            "9 0 image index 9 plt index 37\n",
            "9 1 image index 42009 plt index 38\n",
            "9 2 image index 84009 plt index 39\n",
            "9 3 image index 126009 plt index 40\n",
            "10 0 image index 10 plt index 41\n",
            "10 1 image index 42010 plt index 42\n",
            "10 2 image index 84010 plt index 43\n",
            "10 3 image index 126010 plt index 44\n",
            "11 0 image index 11 plt index 45\n",
            "11 1 image index 42011 plt index 46\n",
            "11 2 image index 84011 plt index 47\n",
            "11 3 image index 126011 plt index 48\n",
            "12 0 image index 12 plt index 49\n",
            "12 1 image index 42012 plt index 50\n",
            "12 2 image index 84012 plt index 51\n",
            "12 3 image index 126012 plt index 52\n",
            "13 0 image index 13 plt index 53\n",
            "13 1 image index 42013 plt index 54\n",
            "13 2 image index 84013 plt index 55\n",
            "13 3 image index 126013 plt index 56\n",
            "14 0 image index 14 plt index 57\n",
            "14 1 image index 42014 plt index 58\n",
            "14 2 image index 84014 plt index 59\n",
            "14 3 image index 126014 plt index 60\n"
          ],
          "name": "stdout"
        },
        {
          "output_type": "display_data",
          "data": {
            "image/png": "[encoded data removed]",
            "text/plain": [
              "<Figure size 1080x1440 with 60 Axes>"
            ]
          },
          "metadata": {
            "tags": []
          }
        }
      ]
    },
    {
      "cell_type": "code",
      "metadata": {
        "id": "nT7voojq47wE",
        "colab_type": "code",
        "colab": {
          "base_uri": "https://localhost:8080/",
          "height": 1000
        },
        "outputId": "4bd45636-28cd-4ba2-f147-40b318bd84a4"
      },
      "source": [
        "# Retrain the neural network\n",
        "X_augmented_train, X_augmented_validation, y_augmented_train, y_augmented_validation = model_selection.train_test_split(X_augmented, y_augmented, test_size=0.33, random_state=42)\n",
        "epochs = 100\n",
        "validation_split = 0.33\n",
        "model.fit(X_augmented_train, y_augmented_train, epochs=epochs, validation_split=validation_split, callbacks=[earlystop_callback])"
      ],
      "execution_count": 24,
      "outputs": [
        {
          "output_type": "stream",
          "text": [
            "Train on 75415 samples, validate on 37145 samples\n",
            "Epoch 1/100\n",
            "75360/75415 [============================>.] - ETA: 0s - loss: 0.2846 - acc: 0.9239WARNING:tensorflow:Early stopping conditioned on metric `val_accuracy` which is not available. Available metrics are: loss,acc,val_loss,val_acc\n",
            "75415/75415 [==============================] - 16s 209us/sample - loss: 0.2845 - acc: 0.9239 - val_loss: 0.1483 - val_acc: 0.9589\n",
            "Epoch 2/100\n",
            "75200/75415 [============================>.] - ETA: 0s - loss: 0.1861 - acc: 0.9454WARNING:tensorflow:Early stopping conditioned on metric `val_accuracy` which is not available. Available metrics are: loss,acc,val_loss,val_acc\n",
            "75415/75415 [==============================] - 16s 209us/sample - loss: 0.1858 - acc: 0.9454 - val_loss: 0.1209 - val_acc: 0.9649\n",
            "Epoch 3/100\n",
            "75392/75415 [============================>.] - ETA: 0s - loss: 0.1545 - acc: 0.9539WARNING:tensorflow:Early stopping conditioned on metric `val_accuracy` which is not available. Available metrics are: loss,acc,val_loss,val_acc\n",
            "75415/75415 [==============================] - 16s 211us/sample - loss: 0.1545 - acc: 0.9539 - val_loss: 0.1097 - val_acc: 0.9682\n",
            "Epoch 4/100\n",
            "75200/75415 [============================>.] - ETA: 0s - loss: 0.1353 - acc: 0.9592WARNING:tensorflow:Early stopping conditioned on metric `val_accuracy` which is not available. Available metrics are: loss,acc,val_loss,val_acc\n",
            "75415/75415 [==============================] - 15s 205us/sample - loss: 0.1352 - acc: 0.9592 - val_loss: 0.1073 - val_acc: 0.9695\n",
            "Epoch 5/100\n",
            "75168/75415 [============================>.] - ETA: 0s - loss: 0.1197 - acc: 0.9636WARNING:tensorflow:Early stopping conditioned on metric `val_accuracy` which is not available. Available metrics are: loss,acc,val_loss,val_acc\n",
            "75415/75415 [==============================] - 15s 205us/sample - loss: 0.1196 - acc: 0.9636 - val_loss: 0.1031 - val_acc: 0.9694\n",
            "Epoch 6/100\n",
            "75200/75415 [============================>.] - ETA: 0s - loss: 0.1121 - acc: 0.9652WARNING:tensorflow:Early stopping conditioned on metric `val_accuracy` which is not available. Available metrics are: loss,acc,val_loss,val_acc\n",
            "75415/75415 [==============================] - 15s 204us/sample - loss: 0.1122 - acc: 0.9651 - val_loss: 0.0980 - val_acc: 0.9723\n",
            "Epoch 7/100\n",
            "75104/75415 [============================>.] - ETA: 0s - loss: 0.1017 - acc: 0.9687WARNING:tensorflow:Early stopping conditioned on metric `val_accuracy` which is not available. Available metrics are: loss,acc,val_loss,val_acc\n",
            "75415/75415 [==============================] - 15s 203us/sample - loss: 0.1019 - acc: 0.9687 - val_loss: 0.0972 - val_acc: 0.9713\n",
            "Epoch 8/100\n",
            "75360/75415 [============================>.] - ETA: 0s - loss: 0.0927 - acc: 0.9711WARNING:tensorflow:Early stopping conditioned on metric `val_accuracy` which is not available. Available metrics are: loss,acc,val_loss,val_acc\n",
            "75415/75415 [==============================] - 15s 205us/sample - loss: 0.0926 - acc: 0.9711 - val_loss: 0.0940 - val_acc: 0.9728\n",
            "Epoch 9/100\n",
            "75360/75415 [============================>.] - ETA: 0s - loss: 0.0938 - acc: 0.9708WARNING:tensorflow:Early stopping conditioned on metric `val_accuracy` which is not available. Available metrics are: loss,acc,val_loss,val_acc\n",
            "75415/75415 [==============================] - 16s 206us/sample - loss: 0.0938 - acc: 0.9708 - val_loss: 0.0905 - val_acc: 0.9734\n",
            "Epoch 10/100\n",
            "75360/75415 [============================>.] - ETA: 0s - loss: 0.0867 - acc: 0.9727WARNING:tensorflow:Early stopping conditioned on metric `val_accuracy` which is not available. Available metrics are: loss,acc,val_loss,val_acc\n",
            "75415/75415 [==============================] - 16s 207us/sample - loss: 0.0868 - acc: 0.9726 - val_loss: 0.0936 - val_acc: 0.9745\n",
            "Epoch 11/100\n",
            "75360/75415 [============================>.] - ETA: 0s - loss: 0.0813 - acc: 0.9747WARNING:tensorflow:Early stopping conditioned on metric `val_accuracy` which is not available. Available metrics are: loss,acc,val_loss,val_acc\n",
            "75415/75415 [==============================] - 16s 215us/sample - loss: 0.0813 - acc: 0.9747 - val_loss: 0.0977 - val_acc: 0.9747\n",
            "Epoch 12/100\n",
            "75328/75415 [============================>.] - ETA: 0s - loss: 0.0774 - acc: 0.9757WARNING:tensorflow:Early stopping conditioned on metric `val_accuracy` which is not available. Available metrics are: loss,acc,val_loss,val_acc\n",
            "75415/75415 [==============================] - 16s 210us/sample - loss: 0.0773 - acc: 0.9757 - val_loss: 0.0939 - val_acc: 0.9747\n",
            "Epoch 13/100\n",
            "75232/75415 [============================>.] - ETA: 0s - loss: 0.0771 - acc: 0.9758WARNING:tensorflow:Early stopping conditioned on metric `val_accuracy` which is not available. Available metrics are: loss,acc,val_loss,val_acc\n",
            "75415/75415 [==============================] - 16s 210us/sample - loss: 0.0770 - acc: 0.9758 - val_loss: 0.0939 - val_acc: 0.9745\n",
            "Epoch 14/100\n",
            "75168/75415 [============================>.] - ETA: 0s - loss: 0.0702 - acc: 0.9780WARNING:tensorflow:Early stopping conditioned on metric `val_accuracy` which is not available. Available metrics are: loss,acc,val_loss,val_acc\n",
            "75415/75415 [==============================] - 16s 213us/sample - loss: 0.0703 - acc: 0.9780 - val_loss: 0.0960 - val_acc: 0.9745\n",
            "Epoch 15/100\n",
            "75328/75415 [============================>.] - ETA: 0s - loss: 0.0702 - acc: 0.9790WARNING:tensorflow:Early stopping conditioned on metric `val_accuracy` which is not available. Available metrics are: loss,acc,val_loss,val_acc\n",
            "75415/75415 [==============================] - 16s 217us/sample - loss: 0.0702 - acc: 0.9790 - val_loss: 0.0975 - val_acc: 0.9740\n",
            "Epoch 16/100\n",
            "75392/75415 [============================>.] - ETA: 0s - loss: 0.0686 - acc: 0.9786WARNING:tensorflow:Early stopping conditioned on metric `val_accuracy` which is not available. Available metrics are: loss,acc,val_loss,val_acc\n",
            "75415/75415 [==============================] - 16s 217us/sample - loss: 0.0686 - acc: 0.9786 - val_loss: 0.0956 - val_acc: 0.9744\n",
            "Epoch 17/100\n",
            "75136/75415 [============================>.] - ETA: 0s - loss: 0.0642 - acc: 0.9793WARNING:tensorflow:Early stopping conditioned on metric `val_accuracy` which is not available. Available metrics are: loss,acc,val_loss,val_acc\n",
            "75415/75415 [==============================] - 17s 222us/sample - loss: 0.0642 - acc: 0.9793 - val_loss: 0.1002 - val_acc: 0.9757\n",
            "Epoch 18/100\n",
            "75168/75415 [============================>.] - ETA: 0s - loss: 0.0646 - acc: 0.9804WARNING:tensorflow:Early stopping conditioned on metric `val_accuracy` which is not available. Available metrics are: loss,acc,val_loss,val_acc\n",
            "75415/75415 [==============================] - 16s 215us/sample - loss: 0.0648 - acc: 0.9804 - val_loss: 0.0994 - val_acc: 0.9749\n",
            "Epoch 19/100\n",
            "75296/75415 [============================>.] - ETA: 0s - loss: 0.0624 - acc: 0.9811WARNING:tensorflow:Early stopping conditioned on metric `val_accuracy` which is not available. Available metrics are: loss,acc,val_loss,val_acc\n",
            "75415/75415 [==============================] - 16s 218us/sample - loss: 0.0624 - acc: 0.9811 - val_loss: 0.0996 - val_acc: 0.9753\n",
            "Epoch 20/100\n",
            "75328/75415 [============================>.] - ETA: 0s - loss: 0.0623 - acc: 0.9818WARNING:tensorflow:Early stopping conditioned on metric `val_accuracy` which is not available. Available metrics are: loss,acc,val_loss,val_acc\n",
            "75415/75415 [==============================] - 16s 216us/sample - loss: 0.0623 - acc: 0.9818 - val_loss: 0.0940 - val_acc: 0.9762\n",
            "Epoch 21/100\n",
            "75200/75415 [============================>.] - ETA: 0s - loss: 0.0593 - acc: 0.9812WARNING:tensorflow:Early stopping conditioned on metric `val_accuracy` which is not available. Available metrics are: loss,acc,val_loss,val_acc\n",
            "75415/75415 [==============================] - 16s 206us/sample - loss: 0.0595 - acc: 0.9813 - val_loss: 0.1013 - val_acc: 0.9749\n",
            "Epoch 22/100\n",
            "75392/75415 [============================>.] - ETA: 0s - loss: 0.0571 - acc: 0.9829WARNING:tensorflow:Early stopping conditioned on metric `val_accuracy` which is not available. Available metrics are: loss,acc,val_loss,val_acc\n",
            "75415/75415 [==============================] - 16s 212us/sample - loss: 0.0570 - acc: 0.9829 - val_loss: 0.1043 - val_acc: 0.9747\n",
            "Epoch 23/100\n",
            "75104/75415 [============================>.] - ETA: 0s - loss: 0.0605 - acc: 0.9822WARNING:tensorflow:Early stopping conditioned on metric `val_accuracy` which is not available. Available metrics are: loss,acc,val_loss,val_acc\n",
            "75415/75415 [==============================] - 16s 210us/sample - loss: 0.0604 - acc: 0.9822 - val_loss: 0.1060 - val_acc: 0.9747\n",
            "Epoch 24/100\n",
            "75328/75415 [============================>.] - ETA: 0s - loss: 0.0569 - acc: 0.9825WARNING:tensorflow:Early stopping conditioned on metric `val_accuracy` which is not available. Available metrics are: loss,acc,val_loss,val_acc\n",
            "75415/75415 [==============================] - 16s 207us/sample - loss: 0.0569 - acc: 0.9825 - val_loss: 0.0977 - val_acc: 0.9757\n",
            "Epoch 25/100\n",
            "75168/75415 [============================>.] - ETA: 0s - loss: 0.0561 - acc: 0.9836WARNING:tensorflow:Early stopping conditioned on metric `val_accuracy` which is not available. Available metrics are: loss,acc,val_loss,val_acc\n",
            "75415/75415 [==============================] - 16s 207us/sample - loss: 0.0563 - acc: 0.9836 - val_loss: 0.1022 - val_acc: 0.9751\n",
            "Epoch 26/100\n",
            "75136/75415 [============================>.] - ETA: 0s - loss: 0.0545 - acc: 0.9842WARNING:tensorflow:Early stopping conditioned on metric `val_accuracy` which is not available. Available metrics are: loss,acc,val_loss,val_acc\n",
            "75415/75415 [==============================] - 15s 203us/sample - loss: 0.0545 - acc: 0.9842 - val_loss: 0.0991 - val_acc: 0.9756\n",
            "Epoch 27/100\n",
            "75328/75415 [============================>.] - ETA: 0s - loss: 0.0563 - acc: 0.9829WARNING:tensorflow:Early stopping conditioned on metric `val_accuracy` which is not available. Available metrics are: loss,acc,val_loss,val_acc\n",
            "75415/75415 [==============================] - 15s 203us/sample - loss: 0.0562 - acc: 0.9829 - val_loss: 0.1057 - val_acc: 0.9758\n",
            "Epoch 28/100\n",
            "75232/75415 [============================>.] - ETA: 0s - loss: 0.0519 - acc: 0.9846WARNING:tensorflow:Early stopping conditioned on metric `val_accuracy` which is not available. Available metrics are: loss,acc,val_loss,val_acc\n",
            "75415/75415 [==============================] - 15s 200us/sample - loss: 0.0520 - acc: 0.9846 - val_loss: 0.1039 - val_acc: 0.9756\n",
            "Epoch 29/100\n",
            "75232/75415 [============================>.] - ETA: 0s - loss: 0.0556 - acc: 0.9835WARNING:tensorflow:Early stopping conditioned on metric `val_accuracy` which is not available. Available metrics are: loss,acc,val_loss,val_acc\n",
            "75415/75415 [==============================] - 15s 203us/sample - loss: 0.0555 - acc: 0.9835 - val_loss: 0.1024 - val_acc: 0.9757\n",
            "Epoch 30/100\n",
            "75104/75415 [============================>.] - ETA: 0s - loss: 0.0526 - acc: 0.9844WARNING:tensorflow:Early stopping conditioned on metric `val_accuracy` which is not available. Available metrics are: loss,acc,val_loss,val_acc\n",
            "75415/75415 [==============================] - 16s 206us/sample - loss: 0.0525 - acc: 0.9844 - val_loss: 0.1056 - val_acc: 0.9760\n",
            "Epoch 31/100\n",
            "75360/75415 [============================>.] - ETA: 0s - loss: 0.0519 - acc: 0.9846WARNING:tensorflow:Early stopping conditioned on metric `val_accuracy` which is not available. Available metrics are: loss,acc,val_loss,val_acc\n",
            "75415/75415 [==============================] - 16s 208us/sample - loss: 0.0520 - acc: 0.9846 - val_loss: 0.1091 - val_acc: 0.9754\n",
            "Epoch 32/100\n",
            "75360/75415 [============================>.] - ETA: 0s - loss: 0.0471 - acc: 0.9857WARNING:tensorflow:Early stopping conditioned on metric `val_accuracy` which is not available. Available metrics are: loss,acc,val_loss,val_acc\n",
            "75415/75415 [==============================] - 15s 204us/sample - loss: 0.0471 - acc: 0.9857 - val_loss: 0.1131 - val_acc: 0.9758\n",
            "Epoch 33/100\n",
            "75136/75415 [============================>.] - ETA: 0s - loss: 0.0508 - acc: 0.9853WARNING:tensorflow:Early stopping conditioned on metric `val_accuracy` which is not available. Available metrics are: loss,acc,val_loss,val_acc\n",
            "75415/75415 [==============================] - 15s 204us/sample - loss: 0.0510 - acc: 0.9853 - val_loss: 0.1160 - val_acc: 0.9755\n",
            "Epoch 34/100\n",
            "75328/75415 [============================>.] - ETA: 0s - loss: 0.0501 - acc: 0.9849WARNING:tensorflow:Early stopping conditioned on metric `val_accuracy` which is not available. Available metrics are: loss,acc,val_loss,val_acc\n",
            "75415/75415 [==============================] - 15s 203us/sample - loss: 0.0502 - acc: 0.9849 - val_loss: 0.1123 - val_acc: 0.9768\n",
            "Epoch 35/100\n",
            "75168/75415 [============================>.] - ETA: 0s - loss: 0.0500 - acc: 0.9856WARNING:tensorflow:Early stopping conditioned on metric `val_accuracy` which is not available. Available metrics are: loss,acc,val_loss,val_acc\n",
            "75415/75415 [==============================] - 15s 203us/sample - loss: 0.0501 - acc: 0.9856 - val_loss: 0.1086 - val_acc: 0.9766\n",
            "Epoch 36/100\n",
            "75200/75415 [============================>.] - ETA: 0s - loss: 0.0457 - acc: 0.9863WARNING:tensorflow:Early stopping conditioned on metric `val_accuracy` which is not available. Available metrics are: loss,acc,val_loss,val_acc\n",
            "75415/75415 [==============================] - 15s 204us/sample - loss: 0.0457 - acc: 0.9863 - val_loss: 0.1166 - val_acc: 0.9766\n",
            "Epoch 37/100\n",
            "75136/75415 [============================>.] - ETA: 0s - loss: 0.0469 - acc: 0.9863WARNING:tensorflow:Early stopping conditioned on metric `val_accuracy` which is not available. Available metrics are: loss,acc,val_loss,val_acc\n",
            "75415/75415 [==============================] - 15s 203us/sample - loss: 0.0471 - acc: 0.9863 - val_loss: 0.1148 - val_acc: 0.9759\n",
            "Epoch 38/100\n",
            "75136/75415 [============================>.] - ETA: 0s - loss: 0.0487 - acc: 0.9859WARNING:tensorflow:Early stopping conditioned on metric `val_accuracy` which is not available. Available metrics are: loss,acc,val_loss,val_acc\n",
            "75415/75415 [==============================] - 15s 201us/sample - loss: 0.0489 - acc: 0.9858 - val_loss: 0.1116 - val_acc: 0.9751\n",
            "Epoch 39/100\n",
            "75136/75415 [============================>.] - ETA: 0s - loss: 0.0484 - acc: 0.9868WARNING:tensorflow:Early stopping conditioned on metric `val_accuracy` which is not available. Available metrics are: loss,acc,val_loss,val_acc\n",
            "75415/75415 [==============================] - 15s 203us/sample - loss: 0.0484 - acc: 0.9869 - val_loss: 0.1150 - val_acc: 0.9761\n",
            "Epoch 40/100\n",
            "75232/75415 [============================>.] - ETA: 0s - loss: 0.0485 - acc: 0.9859WARNING:tensorflow:Early stopping conditioned on metric `val_accuracy` which is not available. Available metrics are: loss,acc,val_loss,val_acc\n",
            "75415/75415 [==============================] - 15s 200us/sample - loss: 0.0484 - acc: 0.9859 - val_loss: 0.1187 - val_acc: 0.9760\n",
            "Epoch 41/100\n",
            "75136/75415 [============================>.] - ETA: 0s - loss: 0.0451 - acc: 0.9872WARNING:tensorflow:Early stopping conditioned on metric `val_accuracy` which is not available. Available metrics are: loss,acc,val_loss,val_acc\n",
            "75415/75415 [==============================] - 15s 204us/sample - loss: 0.0452 - acc: 0.9872 - val_loss: 0.1173 - val_acc: 0.9768\n",
            "Epoch 42/100\n",
            "75264/75415 [============================>.] - ETA: 0s - loss: 0.0446 - acc: 0.9877WARNING:tensorflow:Early stopping conditioned on metric `val_accuracy` which is not available. Available metrics are: loss,acc,val_loss,val_acc\n",
            "75415/75415 [==============================] - 15s 201us/sample - loss: 0.0446 - acc: 0.9877 - val_loss: 0.1135 - val_acc: 0.9770\n",
            "Epoch 43/100\n",
            "75360/75415 [============================>.] - ETA: 0s - loss: 0.0465 - acc: 0.9868WARNING:tensorflow:Early stopping conditioned on metric `val_accuracy` which is not available. Available metrics are: loss,acc,val_loss,val_acc\n",
            "75415/75415 [==============================] - 15s 203us/sample - loss: 0.0465 - acc: 0.9868 - val_loss: 0.1129 - val_acc: 0.9765\n",
            "Epoch 44/100\n",
            "75104/75415 [============================>.] - ETA: 0s - loss: 0.0471 - acc: 0.9865WARNING:tensorflow:Early stopping conditioned on metric `val_accuracy` which is not available. Available metrics are: loss,acc,val_loss,val_acc\n",
            "75415/75415 [==============================] - 15s 203us/sample - loss: 0.0472 - acc: 0.9865 - val_loss: 0.1164 - val_acc: 0.9763\n",
            "Epoch 45/100\n",
            "75296/75415 [============================>.] - ETA: 0s - loss: 0.0455 - acc: 0.9874WARNING:tensorflow:Early stopping conditioned on metric `val_accuracy` which is not available. Available metrics are: loss,acc,val_loss,val_acc\n",
            "75415/75415 [==============================] - 15s 202us/sample - loss: 0.0454 - acc: 0.9874 - val_loss: 0.1144 - val_acc: 0.9765\n",
            "Epoch 46/100\n",
            "75296/75415 [============================>.] - ETA: 0s - loss: 0.0460 - acc: 0.9871WARNING:tensorflow:Early stopping conditioned on metric `val_accuracy` which is not available. Available metrics are: loss,acc,val_loss,val_acc\n",
            "75415/75415 [==============================] - 15s 199us/sample - loss: 0.0461 - acc: 0.9871 - val_loss: 0.1172 - val_acc: 0.9767\n",
            "Epoch 47/100\n",
            "75392/75415 [============================>.] - ETA: 0s - loss: 0.0450 - acc: 0.9869WARNING:tensorflow:Early stopping conditioned on metric `val_accuracy` which is not available. Available metrics are: loss,acc,val_loss,val_acc\n",
            "75415/75415 [==============================] - 15s 199us/sample - loss: 0.0450 - acc: 0.9869 - val_loss: 0.1185 - val_acc: 0.9775\n",
            "Epoch 48/100\n",
            "75104/75415 [============================>.] - ETA: 0s - loss: 0.0451 - acc: 0.9878WARNING:tensorflow:Early stopping conditioned on metric `val_accuracy` which is not available. Available metrics are: loss,acc,val_loss,val_acc\n",
            "75415/75415 [==============================] - 15s 201us/sample - loss: 0.0451 - acc: 0.9878 - val_loss: 0.1175 - val_acc: 0.9764\n",
            "Epoch 49/100\n",
            "75136/75415 [============================>.] - ETA: 0s - loss: 0.0434 - acc: 0.9878WARNING:tensorflow:Early stopping conditioned on metric `val_accuracy` which is not available. Available metrics are: loss,acc,val_loss,val_acc\n",
            "75415/75415 [==============================] - 15s 199us/sample - loss: 0.0434 - acc: 0.9878 - val_loss: 0.1234 - val_acc: 0.9750\n",
            "Epoch 50/100\n",
            "75136/75415 [============================>.] - ETA: 0s - loss: 0.0425 - acc: 0.9873WARNING:tensorflow:Early stopping conditioned on metric `val_accuracy` which is not available. Available metrics are: loss,acc,val_loss,val_acc\n",
            "75415/75415 [==============================] - 15s 201us/sample - loss: 0.0426 - acc: 0.9873 - val_loss: 0.1202 - val_acc: 0.9769\n",
            "Epoch 51/100\n",
            "75232/75415 [============================>.] - ETA: 0s - loss: 0.0421 - acc: 0.9885WARNING:tensorflow:Early stopping conditioned on metric `val_accuracy` which is not available. Available metrics are: loss,acc,val_loss,val_acc\n",
            "75415/75415 [==============================] - 16s 209us/sample - loss: 0.0421 - acc: 0.9885 - val_loss: 0.1153 - val_acc: 0.9765\n",
            "Epoch 52/100\n",
            "75232/75415 [============================>.] - ETA: 0s - loss: 0.0440 - acc: 0.9879WARNING:tensorflow:Early stopping conditioned on metric `val_accuracy` which is not available. Available metrics are: loss,acc,val_loss,val_acc\n",
            "75415/75415 [==============================] - 15s 200us/sample - loss: 0.0440 - acc: 0.9879 - val_loss: 0.1102 - val_acc: 0.9774\n",
            "Epoch 53/100\n",
            "75296/75415 [============================>.] - ETA: 0s - loss: 0.0433 - acc: 0.9878WARNING:tensorflow:Early stopping conditioned on metric `val_accuracy` which is not available. Available metrics are: loss,acc,val_loss,val_acc\n",
            "75415/75415 [==============================] - 15s 199us/sample - loss: 0.0433 - acc: 0.9878 - val_loss: 0.1286 - val_acc: 0.9768\n",
            "Epoch 54/100\n",
            "75136/75415 [============================>.] - ETA: 0s - loss: 0.0399 - acc: 0.9887WARNING:tensorflow:Early stopping conditioned on metric `val_accuracy` which is not available. Available metrics are: loss,acc,val_loss,val_acc\n",
            "75415/75415 [==============================] - 15s 201us/sample - loss: 0.0404 - acc: 0.9886 - val_loss: 0.1177 - val_acc: 0.9776\n",
            "Epoch 55/100\n",
            "75232/75415 [============================>.] - ETA: 0s - loss: 0.0396 - acc: 0.9890WARNING:tensorflow:Early stopping conditioned on metric `val_accuracy` which is not available. Available metrics are: loss,acc,val_loss,val_acc\n",
            "75415/75415 [==============================] - 15s 201us/sample - loss: 0.0397 - acc: 0.9890 - val_loss: 0.1240 - val_acc: 0.9771\n",
            "Epoch 56/100\n",
            "75328/75415 [============================>.] - ETA: 0s - loss: 0.0419 - acc: 0.9886WARNING:tensorflow:Early stopping conditioned on metric `val_accuracy` which is not available. Available metrics are: loss,acc,val_loss,val_acc\n",
            "75415/75415 [==============================] - 15s 202us/sample - loss: 0.0419 - acc: 0.9886 - val_loss: 0.1193 - val_acc: 0.9775\n",
            "Epoch 57/100\n",
            "75168/75415 [============================>.] - ETA: 0s - loss: 0.0442 - acc: 0.9884WARNING:tensorflow:Early stopping conditioned on metric `val_accuracy` which is not available. Available metrics are: loss,acc,val_loss,val_acc\n",
            "75415/75415 [==============================] - 15s 202us/sample - loss: 0.0443 - acc: 0.9883 - val_loss: 0.1216 - val_acc: 0.9768\n",
            "Epoch 58/100\n",
            "75104/75415 [============================>.] - ETA: 0s - loss: 0.0384 - acc: 0.9890WARNING:tensorflow:Early stopping conditioned on metric `val_accuracy` which is not available. Available metrics are: loss,acc,val_loss,val_acc\n",
            "75415/75415 [==============================] - 15s 203us/sample - loss: 0.0386 - acc: 0.9890 - val_loss: 0.1238 - val_acc: 0.9759\n",
            "Epoch 59/100\n",
            "75392/75415 [============================>.] - ETA: 0s - loss: 0.0384 - acc: 0.9894WARNING:tensorflow:Early stopping conditioned on metric `val_accuracy` which is not available. Available metrics are: loss,acc,val_loss,val_acc\n",
            "75415/75415 [==============================] - 15s 205us/sample - loss: 0.0384 - acc: 0.9894 - val_loss: 0.1291 - val_acc: 0.9761\n",
            "Epoch 60/100\n",
            "75360/75415 [============================>.] - ETA: 0s - loss: 0.0401 - acc: 0.9892WARNING:tensorflow:Early stopping conditioned on metric `val_accuracy` which is not available. Available metrics are: loss,acc,val_loss,val_acc\n",
            "75415/75415 [==============================] - 16s 207us/sample - loss: 0.0402 - acc: 0.9892 - val_loss: 0.1283 - val_acc: 0.9764\n",
            "Epoch 61/100\n",
            "75104/75415 [============================>.] - ETA: 0s - loss: 0.0395 - acc: 0.9894WARNING:tensorflow:Early stopping conditioned on metric `val_accuracy` which is not available. Available metrics are: loss,acc,val_loss,val_acc\n",
            "75415/75415 [==============================] - 16s 215us/sample - loss: 0.0397 - acc: 0.9893 - val_loss: 0.1332 - val_acc: 0.9760\n",
            "Epoch 62/100\n",
            "75392/75415 [============================>.] - ETA: 0s - loss: 0.0407 - acc: 0.9894WARNING:tensorflow:Early stopping conditioned on metric `val_accuracy` which is not available. Available metrics are: loss,acc,val_loss,val_acc\n",
            "75415/75415 [==============================] - 16s 210us/sample - loss: 0.0407 - acc: 0.9894 - val_loss: 0.1285 - val_acc: 0.9766\n",
            "Epoch 63/100\n",
            "75328/75415 [============================>.] - ETA: 0s - loss: 0.0420 - acc: 0.9891WARNING:tensorflow:Early stopping conditioned on metric `val_accuracy` which is not available. Available metrics are: loss,acc,val_loss,val_acc\n",
            "75415/75415 [==============================] - 16s 213us/sample - loss: 0.0420 - acc: 0.9891 - val_loss: 0.1323 - val_acc: 0.9769\n",
            "Epoch 64/100\n",
            "75296/75415 [============================>.] - ETA: 0s - loss: 0.0434 - acc: 0.9882WARNING:tensorflow:Early stopping conditioned on metric `val_accuracy` which is not available. Available metrics are: loss,acc,val_loss,val_acc\n",
            "75415/75415 [==============================] - 16s 209us/sample - loss: 0.0433 - acc: 0.9882 - val_loss: 0.1319 - val_acc: 0.9758\n",
            "Epoch 65/100\n",
            "75168/75415 [============================>.] - ETA: 0s - loss: 0.0445 - acc: 0.9883WARNING:tensorflow:Early stopping conditioned on metric `val_accuracy` which is not available. Available metrics are: loss,acc,val_loss,val_acc\n",
            "75415/75415 [==============================] - 16s 208us/sample - loss: 0.0445 - acc: 0.9883 - val_loss: 0.1287 - val_acc: 0.9774\n",
            "Epoch 66/100\n",
            "75296/75415 [============================>.] - ETA: 0s - loss: 0.0409 - acc: 0.9889WARNING:tensorflow:Early stopping conditioned on metric `val_accuracy` which is not available. Available metrics are: loss,acc,val_loss,val_acc\n",
            "75415/75415 [==============================] - 16s 208us/sample - loss: 0.0409 - acc: 0.9889 - val_loss: 0.1236 - val_acc: 0.9769\n",
            "Epoch 67/100\n",
            "75328/75415 [============================>.] - ETA: 0s - loss: 0.0385 - acc: 0.9891WARNING:tensorflow:Early stopping conditioned on metric `val_accuracy` which is not available. Available metrics are: loss,acc,val_loss,val_acc\n",
            "75415/75415 [==============================] - 16s 207us/sample - loss: 0.0385 - acc: 0.9891 - val_loss: 0.1308 - val_acc: 0.9767\n",
            "Epoch 68/100\n",
            "75360/75415 [============================>.] - ETA: 0s - loss: 0.0375 - acc: 0.9897WARNING:tensorflow:Early stopping conditioned on metric `val_accuracy` which is not available. Available metrics are: loss,acc,val_loss,val_acc\n",
            "75415/75415 [==============================] - 16s 209us/sample - loss: 0.0376 - acc: 0.9897 - val_loss: 0.1332 - val_acc: 0.9764\n",
            "Epoch 69/100\n",
            "75360/75415 [============================>.] - ETA: 0s - loss: 0.0377 - acc: 0.9894WARNING:tensorflow:Early stopping conditioned on metric `val_accuracy` which is not available. Available metrics are: loss,acc,val_loss,val_acc\n",
            "75415/75415 [==============================] - 16s 208us/sample - loss: 0.0378 - acc: 0.9894 - val_loss: 0.1357 - val_acc: 0.9762\n",
            "Epoch 70/100\n",
            "75232/75415 [============================>.] - ETA: 0s - loss: 0.0405 - acc: 0.9893WARNING:tensorflow:Early stopping conditioned on metric `val_accuracy` which is not available. Available metrics are: loss,acc,val_loss,val_acc\n",
            "75415/75415 [==============================] - 16s 208us/sample - loss: 0.0404 - acc: 0.9894 - val_loss: 0.1297 - val_acc: 0.9770\n",
            "Epoch 71/100\n",
            "75232/75415 [============================>.] - ETA: 0s - loss: 0.0386 - acc: 0.9901WARNING:tensorflow:Early stopping conditioned on metric `val_accuracy` which is not available. Available metrics are: loss,acc,val_loss,val_acc\n",
            "75415/75415 [==============================] - 16s 219us/sample - loss: 0.0385 - acc: 0.9901 - val_loss: 0.1316 - val_acc: 0.9767\n",
            "Epoch 72/100\n",
            "75200/75415 [============================>.] - ETA: 0s - loss: 0.0402 - acc: 0.9897WARNING:tensorflow:Early stopping conditioned on metric `val_accuracy` which is not available. Available metrics are: loss,acc,val_loss,val_acc\n",
            "75415/75415 [==============================] - 16s 218us/sample - loss: 0.0404 - acc: 0.9897 - val_loss: 0.1396 - val_acc: 0.9764\n",
            "Epoch 73/100\n",
            "75168/75415 [============================>.] - ETA: 0s - loss: 0.0398 - acc: 0.9897WARNING:tensorflow:Early stopping conditioned on metric `val_accuracy` which is not available. Available metrics are: loss,acc,val_loss,val_acc\n",
            "75415/75415 [==============================] - 16s 215us/sample - loss: 0.0399 - acc: 0.9897 - val_loss: 0.1376 - val_acc: 0.9764\n",
            "Epoch 74/100\n",
            "75232/75415 [============================>.] - ETA: 0s - loss: 0.0407 - acc: 0.9895WARNING:tensorflow:Early stopping conditioned on metric `val_accuracy` which is not available. Available metrics are: loss,acc,val_loss,val_acc\n",
            "75415/75415 [==============================] - 16s 213us/sample - loss: 0.0409 - acc: 0.9895 - val_loss: 0.1401 - val_acc: 0.9760\n",
            "Epoch 75/100\n",
            "75296/75415 [============================>.] - ETA: 0s - loss: 0.0357 - acc: 0.9909WARNING:tensorflow:Early stopping conditioned on metric `val_accuracy` which is not available. Available metrics are: loss,acc,val_loss,val_acc\n",
            "75415/75415 [==============================] - 15s 204us/sample - loss: 0.0357 - acc: 0.9909 - val_loss: 0.1393 - val_acc: 0.9763\n",
            "Epoch 76/100\n",
            "75168/75415 [============================>.] - ETA: 0s - loss: 0.0434 - acc: 0.9889WARNING:tensorflow:Early stopping conditioned on metric `val_accuracy` which is not available. Available metrics are: loss,acc,val_loss,val_acc\n",
            "75415/75415 [==============================] - 16s 207us/sample - loss: 0.0433 - acc: 0.9889 - val_loss: 0.1345 - val_acc: 0.9768\n",
            "Epoch 77/100\n",
            "75104/75415 [============================>.] - ETA: 0s - loss: 0.0399 - acc: 0.9894WARNING:tensorflow:Early stopping conditioned on metric `val_accuracy` which is not available. Available metrics are: loss,acc,val_loss,val_acc\n",
            "75415/75415 [==============================] - 15s 204us/sample - loss: 0.0397 - acc: 0.9894 - val_loss: 0.1397 - val_acc: 0.9771\n",
            "Epoch 78/100\n",
            "75232/75415 [============================>.] - ETA: 0s - loss: 0.0377 - acc: 0.9900WARNING:tensorflow:Early stopping conditioned on metric `val_accuracy` which is not available. Available metrics are: loss,acc,val_loss,val_acc\n",
            "75415/75415 [==============================] - 15s 204us/sample - loss: 0.0377 - acc: 0.9900 - val_loss: 0.1370 - val_acc: 0.9767\n",
            "Epoch 79/100\n",
            "75264/75415 [============================>.] - ETA: 0s - loss: 0.0349 - acc: 0.9902WARNING:tensorflow:Early stopping conditioned on metric `val_accuracy` which is not available. Available metrics are: loss,acc,val_loss,val_acc\n",
            "75415/75415 [==============================] - 15s 205us/sample - loss: 0.0348 - acc: 0.9902 - val_loss: 0.1448 - val_acc: 0.9757\n",
            "Epoch 80/100\n",
            "75200/75415 [============================>.] - ETA: 0s - loss: 0.0358 - acc: 0.9906WARNING:tensorflow:Early stopping conditioned on metric `val_accuracy` which is not available. Available metrics are: loss,acc,val_loss,val_acc\n",
            "75415/75415 [==============================] - 15s 204us/sample - loss: 0.0358 - acc: 0.9906 - val_loss: 0.1487 - val_acc: 0.9765\n",
            "Epoch 81/100\n",
            "75264/75415 [============================>.] - ETA: 0s - loss: 0.0370 - acc: 0.9904WARNING:tensorflow:Early stopping conditioned on metric `val_accuracy` which is not available. Available metrics are: loss,acc,val_loss,val_acc\n",
            "75415/75415 [==============================] - 16s 210us/sample - loss: 0.0369 - acc: 0.9904 - val_loss: 0.1494 - val_acc: 0.9758\n",
            "Epoch 82/100\n",
            "75392/75415 [============================>.] - ETA: 0s - loss: 0.0342 - acc: 0.9911WARNING:tensorflow:Early stopping conditioned on metric `val_accuracy` which is not available. Available metrics are: loss,acc,val_loss,val_acc\n",
            "75415/75415 [==============================] - 16s 210us/sample - loss: 0.0342 - acc: 0.9911 - val_loss: 0.1488 - val_acc: 0.9763\n",
            "Epoch 83/100\n",
            "75168/75415 [============================>.] - ETA: 0s - loss: 0.0382 - acc: 0.9903WARNING:tensorflow:Early stopping conditioned on metric `val_accuracy` which is not available. Available metrics are: loss,acc,val_loss,val_acc\n",
            "75415/75415 [==============================] - 16s 210us/sample - loss: 0.0381 - acc: 0.9903 - val_loss: 0.1458 - val_acc: 0.9760\n",
            "Epoch 84/100\n",
            "75392/75415 [============================>.] - ETA: 0s - loss: 0.0369 - acc: 0.9908WARNING:tensorflow:Early stopping conditioned on metric `val_accuracy` which is not available. Available metrics are: loss,acc,val_loss,val_acc\n",
            "75415/75415 [==============================] - 15s 204us/sample - loss: 0.0369 - acc: 0.9909 - val_loss: 0.1443 - val_acc: 0.9763\n",
            "Epoch 85/100\n",
            "75200/75415 [============================>.] - ETA: 0s - loss: 0.0374 - acc: 0.9907WARNING:tensorflow:Early stopping conditioned on metric `val_accuracy` which is not available. Available metrics are: loss,acc,val_loss,val_acc\n",
            "75415/75415 [==============================] - 15s 204us/sample - loss: 0.0375 - acc: 0.9907 - val_loss: 0.1394 - val_acc: 0.9770\n",
            "Epoch 86/100\n",
            "75392/75415 [============================>.] - ETA: 0s - loss: 0.0360 - acc: 0.9907WARNING:tensorflow:Early stopping conditioned on metric `val_accuracy` which is not available. Available metrics are: loss,acc,val_loss,val_acc\n",
            "75415/75415 [==============================] - 16s 206us/sample - loss: 0.0360 - acc: 0.9907 - val_loss: 0.1430 - val_acc: 0.9764\n",
            "Epoch 87/100\n",
            "75200/75415 [============================>.] - ETA: 0s - loss: 0.0347 - acc: 0.9908WARNING:tensorflow:Early stopping conditioned on metric `val_accuracy` which is not available. Available metrics are: loss,acc,val_loss,val_acc\n",
            "75415/75415 [==============================] - 15s 205us/sample - loss: 0.0347 - acc: 0.9908 - val_loss: 0.1502 - val_acc: 0.9768\n",
            "Epoch 88/100\n",
            "75136/75415 [============================>.] - ETA: 0s - loss: 0.0369 - acc: 0.9908WARNING:tensorflow:Early stopping conditioned on metric `val_accuracy` which is not available. Available metrics are: loss,acc,val_loss,val_acc\n",
            "75415/75415 [==============================] - 15s 200us/sample - loss: 0.0368 - acc: 0.9908 - val_loss: 0.1451 - val_acc: 0.9765\n",
            "Epoch 89/100\n",
            "75200/75415 [============================>.] - ETA: 0s - loss: 0.0366 - acc: 0.9909WARNING:tensorflow:Early stopping conditioned on metric `val_accuracy` which is not available. Available metrics are: loss,acc,val_loss,val_acc\n",
            "75415/75415 [==============================] - 15s 201us/sample - loss: 0.0366 - acc: 0.9909 - val_loss: 0.1499 - val_acc: 0.9768\n",
            "Epoch 90/100\n",
            "75296/75415 [============================>.] - ETA: 0s - loss: 0.0412 - acc: 0.9899WARNING:tensorflow:Early stopping conditioned on metric `val_accuracy` which is not available. Available metrics are: loss,acc,val_loss,val_acc\n",
            "75415/75415 [==============================] - 15s 205us/sample - loss: 0.0411 - acc: 0.9899 - val_loss: 0.1406 - val_acc: 0.9771\n",
            "Epoch 91/100\n",
            "75296/75415 [============================>.] - ETA: 0s - loss: 0.0322 - acc: 0.9914WARNING:tensorflow:Early stopping conditioned on metric `val_accuracy` which is not available. Available metrics are: loss,acc,val_loss,val_acc\n",
            "75415/75415 [==============================] - 17s 219us/sample - loss: 0.0323 - acc: 0.9913 - val_loss: 0.1447 - val_acc: 0.9765\n",
            "Epoch 92/100\n",
            "75296/75415 [============================>.] - ETA: 0s - loss: 0.0340 - acc: 0.9912WARNING:tensorflow:Early stopping conditioned on metric `val_accuracy` which is not available. Available metrics are: loss,acc,val_loss,val_acc\n",
            "75415/75415 [==============================] - 16s 206us/sample - loss: 0.0339 - acc: 0.9912 - val_loss: 0.1514 - val_acc: 0.9768\n",
            "Epoch 93/100\n",
            "75232/75415 [============================>.] - ETA: 0s - loss: 0.0372 - acc: 0.9906WARNING:tensorflow:Early stopping conditioned on metric `val_accuracy` which is not available. Available metrics are: loss,acc,val_loss,val_acc\n",
            "75415/75415 [==============================] - 15s 205us/sample - loss: 0.0371 - acc: 0.9907 - val_loss: 0.1511 - val_acc: 0.9765\n",
            "Epoch 94/100\n",
            "75168/75415 [============================>.] - ETA: 0s - loss: 0.0367 - acc: 0.9908WARNING:tensorflow:Early stopping conditioned on metric `val_accuracy` which is not available. Available metrics are: loss,acc,val_loss,val_acc\n",
            "75415/75415 [==============================] - 15s 204us/sample - loss: 0.0368 - acc: 0.9908 - val_loss: 0.1454 - val_acc: 0.9763\n",
            "Epoch 95/100\n",
            "75392/75415 [============================>.] - ETA: 0s - loss: 0.0360 - acc: 0.9909WARNING:tensorflow:Early stopping conditioned on metric `val_accuracy` which is not available. Available metrics are: loss,acc,val_loss,val_acc\n",
            "75415/75415 [==============================] - 16s 207us/sample - loss: 0.0360 - acc: 0.9909 - val_loss: 0.1437 - val_acc: 0.9760\n",
            "Epoch 96/100\n",
            "75136/75415 [============================>.] - ETA: 0s - loss: 0.0369 - acc: 0.9907WARNING:tensorflow:Early stopping conditioned on metric `val_accuracy` which is not available. Available metrics are: loss,acc,val_loss,val_acc\n",
            "75415/75415 [==============================] - 16s 210us/sample - loss: 0.0370 - acc: 0.9907 - val_loss: 0.1472 - val_acc: 0.9761\n",
            "Epoch 97/100\n",
            "75136/75415 [============================>.] - ETA: 0s - loss: 0.0337 - acc: 0.9910WARNING:tensorflow:Early stopping conditioned on metric `val_accuracy` which is not available. Available metrics are: loss,acc,val_loss,val_acc\n",
            "75415/75415 [==============================] - 16s 208us/sample - loss: 0.0339 - acc: 0.9910 - val_loss: 0.1570 - val_acc: 0.9760\n",
            "Epoch 98/100\n",
            "75296/75415 [============================>.] - ETA: 0s - loss: 0.0366 - acc: 0.9903WARNING:tensorflow:Early stopping conditioned on metric `val_accuracy` which is not available. Available metrics are: loss,acc,val_loss,val_acc\n",
            "75415/75415 [==============================] - 15s 204us/sample - loss: 0.0365 - acc: 0.9903 - val_loss: 0.1538 - val_acc: 0.9764\n",
            "Epoch 99/100\n",
            "75136/75415 [============================>.] - ETA: 0s - loss: 0.0348 - acc: 0.9914WARNING:tensorflow:Early stopping conditioned on metric `val_accuracy` which is not available. Available metrics are: loss,acc,val_loss,val_acc\n",
            "75415/75415 [==============================] - 15s 203us/sample - loss: 0.0350 - acc: 0.9914 - val_loss: 0.1562 - val_acc: 0.9770\n",
            "Epoch 100/100\n",
            "75360/75415 [============================>.] - ETA: 0s - loss: 0.0355 - acc: 0.9912WARNING:tensorflow:Early stopping conditioned on metric `val_accuracy` which is not available. Available metrics are: loss,acc,val_loss,val_acc\n",
            "75415/75415 [==============================] - 15s 205us/sample - loss: 0.0355 - acc: 0.9912 - val_loss: 0.1508 - val_acc: 0.9766\n"
          ],
          "name": "stdout"
        },
        {
          "output_type": "execute_result",
          "data": {
            "text/plain": [
              "<tensorflow.python.keras.callbacks.History at 0x7f4f736ff400>"
            ]
          },
          "metadata": {
            "tags": []
          },
          "execution_count": 24
        }
      ]
    },
    {
      "cell_type": "code",
      "metadata": {
        "id": "SjMGcrq847uH",
        "colab_type": "code",
        "colab": {
          "base_uri": "https://localhost:8080/",
          "height": 51
        },
        "outputId": "cc02969b-f727-4eb0-acf3-ca2badcfacd5"
      },
      "source": [
        "# Reevaluate performance\n",
        "validation_loss, validation_accuracy = model.evaluate(X_augmented_validation, y_augmented_validation, verbose=2)\n",
        "print(\"Accuracy: %.4f, Loss: %.4f\"%(validation_accuracy, validation_loss))"
      ],
      "execution_count": 25,
      "outputs": [
        {
          "output_type": "stream",
          "text": [
            "55440/55440 - 3s - loss: 0.1617 - acc: 0.9745\n",
            "Accuracy: 0.9745, Loss: 0.1617\n"
          ],
          "name": "stdout"
        }
      ]
    },
    {
      "cell_type": "code",
      "metadata": {
        "id": "SRTFlXig47sc",
        "colab_type": "code",
        "colab": {
          "base_uri": "https://localhost:8080/",
          "height": 238
        },
        "outputId": "e35921a4-3f2c-4773-a0cb-eedd8d859a51"
      },
      "source": [
        "X_test, n_test = extract_images_and_labels(testing_data, is_test=True)\n",
        "X_test_normalized = X_test / 255.0\n",
        "result = model.predict(X_test_normalized)\n",
        "predictions = np.apply_along_axis(lambda row: np.argmax(row), 1, result)\n",
        "predictions.reshape([n_test, 1])\n",
        "testing_data['Label'] = predictions\n",
        "testing_data['ImageId'] = list(range(1, n_test + 1))\n",
        "submission = testing_data[['ImageId', 'Label']]\n",
        "submission.to_csv('submission.csv', index=False)\n",
        "submission.tail()"
      ],
      "execution_count": 27,
      "outputs": [
        {
          "output_type": "stream",
          "text": [
            "number of images: 28000\n",
            "Dimensions of images: (28000, 28, 28)\n"
          ],
          "name": "stdout"
        },
        {
          "output_type": "execute_result",
          "data": {
            "text/html": [
              "<div>\n",
              "<style scoped>\n",
              "    .dataframe tbody tr th:only-of-type {\n",
              "        vertical-align: middle;\n",
              "    }\n",
              "\n",
              "    .dataframe tbody tr th {\n",
              "        vertical-align: top;\n",
              "    }\n",
              "\n",
              "    .dataframe thead th {\n",
              "        text-align: right;\n",
              "    }\n",
              "</style>\n",
              "<table border=\"1\" class=\"dataframe\">\n",
              "  <thead>\n",
              "    <tr style=\"text-align: right;\">\n",
              "      <th></th>\n",
              "      <th>ImageId</th>\n",
              "      <th>Label</th>\n",
              "    </tr>\n",
              "  </thead>\n",
              "  <tbody>\n",
              "    <tr>\n",
              "      <th>27995</th>\n",
              "      <td>27996</td>\n",
              "      <td>9</td>\n",
              "    </tr>\n",
              "    <tr>\n",
              "      <th>27996</th>\n",
              "      <td>27997</td>\n",
              "      <td>7</td>\n",
              "    </tr>\n",
              "    <tr>\n",
              "      <th>27997</th>\n",
              "      <td>27998</td>\n",
              "      <td>3</td>\n",
              "    </tr>\n",
              "    <tr>\n",
              "      <th>27998</th>\n",
              "      <td>27999</td>\n",
              "      <td>9</td>\n",
              "    </tr>\n",
              "    <tr>\n",
              "      <th>27999</th>\n",
              "      <td>28000</td>\n",
              "      <td>2</td>\n",
              "    </tr>\n",
              "  </tbody>\n",
              "</table>\n",
              "</div>"
            ],
            "text/plain": [
              "       ImageId  Label\n",
              "27995    27996      9\n",
              "27996    27997      7\n",
              "27997    27998      3\n",
              "27998    27999      9\n",
              "27999    28000      2"
            ]
          },
          "metadata": {
            "tags": []
          },
          "execution_count": 27
        }
      ]
    },
    {
      "cell_type": "code",
      "metadata": {
        "id": "WQFadbI647oX",
        "colab_type": "code",
        "colab": {}
      },
      "source": [
        "# apply_along_axis\n",
        "\n",
        "import numpy as np\n",
        "\n",
        "n1 = np.array([[0, 0, 1, 2, 3],\n",
        "                [5, 6, 7, 0, 0]])"
      ],
      "execution_count": 0,
      "outputs": []
    },
    {
      "cell_type": "code",
      "metadata": {
        "id": "SYjnVL2247jF",
        "colab_type": "code",
        "colab": {
          "base_uri": "https://localhost:8080/",
          "height": 51
        },
        "outputId": "ec7631b6-31e6-46e7-cc5f-54059e09a9e3"
      },
      "source": [
        "n1"
      ],
      "execution_count": 47,
      "outputs": [
        {
          "output_type": "execute_result",
          "data": {
            "text/plain": [
              "array([[0, 0, 1, 2, 3],\n",
              "       [5, 6, 7, 0, 0]])"
            ]
          },
          "metadata": {
            "tags": []
          },
          "execution_count": 47
        }
      ]
    },
    {
      "cell_type": "code",
      "metadata": {
        "id": "b8hKOib347Of",
        "colab_type": "code",
        "colab": {
          "base_uri": "https://localhost:8080/",
          "height": 34
        },
        "outputId": "cc6c5aea-a81d-40f8-8b79-1658af1770ed"
      },
      "source": [
        "n1.shape"
      ],
      "execution_count": 48,
      "outputs": [
        {
          "output_type": "execute_result",
          "data": {
            "text/plain": [
              "(2, 5)"
            ]
          },
          "metadata": {
            "tags": []
          },
          "execution_count": 48
        }
      ]
    },
    {
      "cell_type": "code",
      "metadata": {
        "id": "s0Gpap1sRK3w",
        "colab_type": "code",
        "colab": {
          "base_uri": "https://localhost:8080/",
          "height": 34
        },
        "outputId": "da0a0331-b4f5-405f-fc8b-a4d1b6fd154b"
      },
      "source": [
        "np.min(n1)"
      ],
      "execution_count": 49,
      "outputs": [
        {
          "output_type": "execute_result",
          "data": {
            "text/plain": [
              "0"
            ]
          },
          "metadata": {
            "tags": []
          },
          "execution_count": 49
        }
      ]
    },
    {
      "cell_type": "code",
      "metadata": {
        "id": "oee22fruRO8w",
        "colab_type": "code",
        "colab": {
          "base_uri": "https://localhost:8080/",
          "height": 34
        },
        "outputId": "75adc474-2930-47a5-ca25-124db229ed2a"
      },
      "source": [
        "np.max(n1)"
      ],
      "execution_count": 50,
      "outputs": [
        {
          "output_type": "execute_result",
          "data": {
            "text/plain": [
              "7"
            ]
          },
          "metadata": {
            "tags": []
          },
          "execution_count": 50
        }
      ]
    },
    {
      "cell_type": "code",
      "metadata": {
        "id": "J1VfkaPARP7K",
        "colab_type": "code",
        "colab": {
          "base_uri": "https://localhost:8080/",
          "height": 34
        },
        "outputId": "aac619ae-bad7-41e7-d2b7-a3e0ac515be5"
      },
      "source": [
        "np.min(n1[n1>0])"
      ],
      "execution_count": 51,
      "outputs": [
        {
          "output_type": "execute_result",
          "data": {
            "text/plain": [
              "1"
            ]
          },
          "metadata": {
            "tags": []
          },
          "execution_count": 51
        }
      ]
    },
    {
      "cell_type": "code",
      "metadata": {
        "id": "E_Ghh9ezRUnO",
        "colab_type": "code",
        "colab": {
          "base_uri": "https://localhost:8080/",
          "height": 34
        },
        "outputId": "b5247b59-5e58-4a99-8c93-90b059e5b4c5"
      },
      "source": [
        "np.min(n1, axis=1)"
      ],
      "execution_count": 52,
      "outputs": [
        {
          "output_type": "execute_result",
          "data": {
            "text/plain": [
              "array([0, 0])"
            ]
          },
          "metadata": {
            "tags": []
          },
          "execution_count": 52
        }
      ]
    },
    {
      "cell_type": "code",
      "metadata": {
        "id": "UvMDVBD4Rbvt",
        "colab_type": "code",
        "colab": {
          "base_uri": "https://localhost:8080/",
          "height": 34
        },
        "outputId": "30d771b1-6d34-4976-dd23-9bf0e60ff4fa"
      },
      "source": [
        "np.max(n1, axis=1)"
      ],
      "execution_count": 53,
      "outputs": [
        {
          "output_type": "execute_result",
          "data": {
            "text/plain": [
              "array([3, 7])"
            ]
          },
          "metadata": {
            "tags": []
          },
          "execution_count": 53
        }
      ]
    },
    {
      "cell_type": "code",
      "metadata": {
        "id": "xZSeQBNgReoH",
        "colab_type": "code",
        "colab": {
          "base_uri": "https://localhost:8080/",
          "height": 34
        },
        "outputId": "ffe489dc-3b48-4787-fa54-34574f9bec63"
      },
      "source": [
        "np.min(n1, axis=0)"
      ],
      "execution_count": 54,
      "outputs": [
        {
          "output_type": "execute_result",
          "data": {
            "text/plain": [
              "array([0, 0, 1, 0, 0])"
            ]
          },
          "metadata": {
            "tags": []
          },
          "execution_count": 54
        }
      ]
    },
    {
      "cell_type": "code",
      "metadata": {
        "id": "6Eu0Dr_eRn3E",
        "colab_type": "code",
        "colab": {
          "base_uri": "https://localhost:8080/",
          "height": 34
        },
        "outputId": "239cabc1-644b-4aca-d42c-859b132b3534"
      },
      "source": [
        "np.apply_along_axis(lambda a: np.min(a), 1, n1)"
      ],
      "execution_count": 55,
      "outputs": [
        {
          "output_type": "execute_result",
          "data": {
            "text/plain": [
              "array([0, 0])"
            ]
          },
          "metadata": {
            "tags": []
          },
          "execution_count": 55
        }
      ]
    },
    {
      "cell_type": "code",
      "metadata": {
        "id": "ERTiskCHSJHl",
        "colab_type": "code",
        "colab": {
          "base_uri": "https://localhost:8080/",
          "height": 34
        },
        "outputId": "0b6ff584-bbc3-4209-eaf0-38acfe6126a7"
      },
      "source": [
        "np.apply_along_axis(lambda a: np.min(a), 0, n1)"
      ],
      "execution_count": 56,
      "outputs": [
        {
          "output_type": "execute_result",
          "data": {
            "text/plain": [
              "array([0, 0, 1, 0, 0])"
            ]
          },
          "metadata": {
            "tags": []
          },
          "execution_count": 56
        }
      ]
    },
    {
      "cell_type": "code",
      "metadata": {
        "id": "qcQmLN5wSPjn",
        "colab_type": "code",
        "colab": {}
      },
      "source": [
        ""
      ],
      "execution_count": 0,
      "outputs": []
    }
  ]
}