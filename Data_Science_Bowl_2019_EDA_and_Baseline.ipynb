{
  "nbformat": 4,
  "nbformat_minor": 0,
  "metadata": {
    "colab": {
      "name": "Data Science Bowl 2019 EDA and Baseline.ipynb",
      "provenance": [],
      "collapsed_sections": [],
      "authorship_tag": "ABX9TyMjOLZowYjuL9RVHZMwhfnq",
      "include_colab_link": true
    },
    "kernelspec": {
      "name": "python3",
      "display_name": "Python 3"
    },
    "widgets": {
      "application/vnd.jupyter.widget-state+json": {
        "005f8beedd614e6ab31b06e445345a80": {
          "model_module": "@jupyter-widgets/controls",
          "model_name": "HBoxModel",
          "state": {
            "_view_name": "HBoxView",
            "_dom_classes": [],
            "_model_name": "HBoxModel",
            "_view_module": "@jupyter-widgets/controls",
            "_model_module_version": "1.5.0",
            "_view_count": null,
            "_view_module_version": "1.5.0",
            "box_style": "",
            "layout": "IPY_MODEL_25de0062639e4e4dbda6815b33f8569d",
            "_model_module": "@jupyter-widgets/controls",
            "children": [
              "IPY_MODEL_f02096350f1240bfb24022692713075f",
              "IPY_MODEL_979a821a80614574aa0c5442fcd67431"
            ]
          }
        },
        "25de0062639e4e4dbda6815b33f8569d": {
          "model_module": "@jupyter-widgets/base",
          "model_name": "LayoutModel",
          "state": {
            "_view_name": "LayoutView",
            "grid_template_rows": null,
            "right": null,
            "justify_content": null,
            "_view_module": "@jupyter-widgets/base",
            "overflow": null,
            "_model_module_version": "1.2.0",
            "_view_count": null,
            "flex_flow": null,
            "width": null,
            "min_width": null,
            "border": null,
            "align_items": null,
            "bottom": null,
            "_model_module": "@jupyter-widgets/base",
            "top": null,
            "grid_column": null,
            "overflow_y": null,
            "overflow_x": null,
            "grid_auto_flow": null,
            "grid_area": null,
            "grid_template_columns": null,
            "flex": null,
            "_model_name": "LayoutModel",
            "justify_items": null,
            "grid_row": null,
            "max_height": null,
            "align_content": null,
            "visibility": null,
            "align_self": null,
            "height": null,
            "min_height": null,
            "padding": null,
            "grid_auto_rows": null,
            "grid_gap": null,
            "max_width": null,
            "order": null,
            "_view_module_version": "1.2.0",
            "grid_template_areas": null,
            "object_position": null,
            "object_fit": null,
            "grid_auto_columns": null,
            "margin": null,
            "display": null,
            "left": null
          }
        },
        "f02096350f1240bfb24022692713075f": {
          "model_module": "@jupyter-widgets/controls",
          "model_name": "IntProgressModel",
          "state": {
            "_view_name": "ProgressView",
            "style": "IPY_MODEL_1e30347de2164efeba99245fe3217b77",
            "_dom_classes": [],
            "description": "Installation_id",
            "_model_name": "IntProgressModel",
            "bar_style": "success",
            "max": 999,
            "_view_module": "@jupyter-widgets/controls",
            "_model_module_version": "1.5.0",
            "value": 999,
            "_view_count": null,
            "_view_module_version": "1.5.0",
            "orientation": "horizontal",
            "min": 0,
            "description_tooltip": null,
            "_model_module": "@jupyter-widgets/controls",
            "layout": "IPY_MODEL_817ab6ff3cd84197936208c9b037d442"
          }
        },
        "979a821a80614574aa0c5442fcd67431": {
          "model_module": "@jupyter-widgets/controls",
          "model_name": "HTMLModel",
          "state": {
            "_view_name": "HTMLView",
            "style": "IPY_MODEL_a498a3128b3748aba51adeec92b7637f",
            "_dom_classes": [],
            "description": "",
            "_model_name": "HTMLModel",
            "placeholder": "​",
            "_view_module": "@jupyter-widgets/controls",
            "_model_module_version": "1.5.0",
            "value": "100% 999/999 [00:27&lt;00:00, 36.19it/s]",
            "_view_count": null,
            "_view_module_version": "1.5.0",
            "description_tooltip": null,
            "_model_module": "@jupyter-widgets/controls",
            "layout": "IPY_MODEL_e72b4e737f2b4e898f675c1153db58b8"
          }
        },
        "1e30347de2164efeba99245fe3217b77": {
          "model_module": "@jupyter-widgets/controls",
          "model_name": "ProgressStyleModel",
          "state": {
            "_view_name": "StyleView",
            "_model_name": "ProgressStyleModel",
            "description_width": "initial",
            "_view_module": "@jupyter-widgets/base",
            "_model_module_version": "1.5.0",
            "_view_count": null,
            "_view_module_version": "1.2.0",
            "bar_color": null,
            "_model_module": "@jupyter-widgets/controls"
          }
        },
        "817ab6ff3cd84197936208c9b037d442": {
          "model_module": "@jupyter-widgets/base",
          "model_name": "LayoutModel",
          "state": {
            "_view_name": "LayoutView",
            "grid_template_rows": null,
            "right": null,
            "justify_content": null,
            "_view_module": "@jupyter-widgets/base",
            "overflow": null,
            "_model_module_version": "1.2.0",
            "_view_count": null,
            "flex_flow": null,
            "width": null,
            "min_width": null,
            "border": null,
            "align_items": null,
            "bottom": null,
            "_model_module": "@jupyter-widgets/base",
            "top": null,
            "grid_column": null,
            "overflow_y": null,
            "overflow_x": null,
            "grid_auto_flow": null,
            "grid_area": null,
            "grid_template_columns": null,
            "flex": null,
            "_model_name": "LayoutModel",
            "justify_items": null,
            "grid_row": null,
            "max_height": null,
            "align_content": null,
            "visibility": null,
            "align_self": null,
            "height": null,
            "min_height": null,
            "padding": null,
            "grid_auto_rows": null,
            "grid_gap": null,
            "max_width": null,
            "order": null,
            "_view_module_version": "1.2.0",
            "grid_template_areas": null,
            "object_position": null,
            "object_fit": null,
            "grid_auto_columns": null,
            "margin": null,
            "display": null,
            "left": null
          }
        },
        "a498a3128b3748aba51adeec92b7637f": {
          "model_module": "@jupyter-widgets/controls",
          "model_name": "DescriptionStyleModel",
          "state": {
            "_view_name": "StyleView",
            "_model_name": "DescriptionStyleModel",
            "description_width": "",
            "_view_module": "@jupyter-widgets/base",
            "_model_module_version": "1.5.0",
            "_view_count": null,
            "_view_module_version": "1.2.0",
            "_model_module": "@jupyter-widgets/controls"
          }
        },
        "e72b4e737f2b4e898f675c1153db58b8": {
          "model_module": "@jupyter-widgets/base",
          "model_name": "LayoutModel",
          "state": {
            "_view_name": "LayoutView",
            "grid_template_rows": null,
            "right": null,
            "justify_content": null,
            "_view_module": "@jupyter-widgets/base",
            "overflow": null,
            "_model_module_version": "1.2.0",
            "_view_count": null,
            "flex_flow": null,
            "width": null,
            "min_width": null,
            "border": null,
            "align_items": null,
            "bottom": null,
            "_model_module": "@jupyter-widgets/base",
            "top": null,
            "grid_column": null,
            "overflow_y": null,
            "overflow_x": null,
            "grid_auto_flow": null,
            "grid_area": null,
            "grid_template_columns": null,
            "flex": null,
            "_model_name": "LayoutModel",
            "justify_items": null,
            "grid_row": null,
            "max_height": null,
            "align_content": null,
            "visibility": null,
            "align_self": null,
            "height": null,
            "min_height": null,
            "padding": null,
            "grid_auto_rows": null,
            "grid_gap": null,
            "max_width": null,
            "order": null,
            "_view_module_version": "1.2.0",
            "grid_template_areas": null,
            "object_position": null,
            "object_fit": null,
            "grid_auto_columns": null,
            "margin": null,
            "display": null,
            "left": null
          }
        },
        "a3572fd9538e4ebdae5673be4d1f94cd": {
          "model_module": "@jupyter-widgets/controls",
          "model_name": "HBoxModel",
          "state": {
            "_view_name": "HBoxView",
            "_dom_classes": [],
            "_model_name": "HBoxModel",
            "_view_module": "@jupyter-widgets/controls",
            "_model_module_version": "1.5.0",
            "_view_count": null,
            "_view_module_version": "1.5.0",
            "box_style": "",
            "layout": "IPY_MODEL_7324454fc0e548768f0691dcd3251cb1",
            "_model_module": "@jupyter-widgets/controls",
            "children": [
              "IPY_MODEL_af445cf705f2420db487c501643074cb",
              "IPY_MODEL_ca46f66661204e9e899b30193ad37f6d"
            ]
          }
        },
        "7324454fc0e548768f0691dcd3251cb1": {
          "model_module": "@jupyter-widgets/base",
          "model_name": "LayoutModel",
          "state": {
            "_view_name": "LayoutView",
            "grid_template_rows": null,
            "right": null,
            "justify_content": null,
            "_view_module": "@jupyter-widgets/base",
            "overflow": null,
            "_model_module_version": "1.2.0",
            "_view_count": null,
            "flex_flow": null,
            "width": null,
            "min_width": null,
            "border": null,
            "align_items": null,
            "bottom": null,
            "_model_module": "@jupyter-widgets/base",
            "top": null,
            "grid_column": null,
            "overflow_y": null,
            "overflow_x": null,
            "grid_auto_flow": null,
            "grid_area": null,
            "grid_template_columns": null,
            "flex": null,
            "_model_name": "LayoutModel",
            "justify_items": null,
            "grid_row": null,
            "max_height": null,
            "align_content": null,
            "visibility": null,
            "align_self": null,
            "height": null,
            "min_height": null,
            "padding": null,
            "grid_auto_rows": null,
            "grid_gap": null,
            "max_width": null,
            "order": null,
            "_view_module_version": "1.2.0",
            "grid_template_areas": null,
            "object_position": null,
            "object_fit": null,
            "grid_auto_columns": null,
            "margin": null,
            "display": null,
            "left": null
          }
        },
        "af445cf705f2420db487c501643074cb": {
          "model_module": "@jupyter-widgets/controls",
          "model_name": "IntProgressModel",
          "state": {
            "_view_name": "ProgressView",
            "style": "IPY_MODEL_ab3dfb60cc754e29b65406ee37af5d58",
            "_dom_classes": [],
            "description": "Installation_id",
            "_model_name": "IntProgressModel",
            "bar_style": "danger",
            "max": 957,
            "_view_module": "@jupyter-widgets/controls",
            "_model_module_version": "1.5.0",
            "value": 10,
            "_view_count": null,
            "_view_module_version": "1.5.0",
            "orientation": "horizontal",
            "min": 0,
            "description_tooltip": null,
            "_model_module": "@jupyter-widgets/controls",
            "layout": "IPY_MODEL_4ed55e6f6b944f30ac7be9f6288fed5c"
          }
        },
        "ca46f66661204e9e899b30193ad37f6d": {
          "model_module": "@jupyter-widgets/controls",
          "model_name": "HTMLModel",
          "state": {
            "_view_name": "HTMLView",
            "style": "IPY_MODEL_5f28f2906d2542f5808b73c365247696",
            "_dom_classes": [],
            "description": "",
            "_model_name": "HTMLModel",
            "placeholder": "​",
            "_view_module": "@jupyter-widgets/controls",
            "_model_module_version": "1.5.0",
            "value": "  1% 10/957 [00:00&lt;01:33, 10.08it/s]",
            "_view_count": null,
            "_view_module_version": "1.5.0",
            "description_tooltip": null,
            "_model_module": "@jupyter-widgets/controls",
            "layout": "IPY_MODEL_31103e7b15144bd8a6df0aff3a3bad41"
          }
        },
        "ab3dfb60cc754e29b65406ee37af5d58": {
          "model_module": "@jupyter-widgets/controls",
          "model_name": "ProgressStyleModel",
          "state": {
            "_view_name": "StyleView",
            "_model_name": "ProgressStyleModel",
            "description_width": "initial",
            "_view_module": "@jupyter-widgets/base",
            "_model_module_version": "1.5.0",
            "_view_count": null,
            "_view_module_version": "1.2.0",
            "bar_color": null,
            "_model_module": "@jupyter-widgets/controls"
          }
        },
        "4ed55e6f6b944f30ac7be9f6288fed5c": {
          "model_module": "@jupyter-widgets/base",
          "model_name": "LayoutModel",
          "state": {
            "_view_name": "LayoutView",
            "grid_template_rows": null,
            "right": null,
            "justify_content": null,
            "_view_module": "@jupyter-widgets/base",
            "overflow": null,
            "_model_module_version": "1.2.0",
            "_view_count": null,
            "flex_flow": null,
            "width": null,
            "min_width": null,
            "border": null,
            "align_items": null,
            "bottom": null,
            "_model_module": "@jupyter-widgets/base",
            "top": null,
            "grid_column": null,
            "overflow_y": null,
            "overflow_x": null,
            "grid_auto_flow": null,
            "grid_area": null,
            "grid_template_columns": null,
            "flex": null,
            "_model_name": "LayoutModel",
            "justify_items": null,
            "grid_row": null,
            "max_height": null,
            "align_content": null,
            "visibility": null,
            "align_self": null,
            "height": null,
            "min_height": null,
            "padding": null,
            "grid_auto_rows": null,
            "grid_gap": null,
            "max_width": null,
            "order": null,
            "_view_module_version": "1.2.0",
            "grid_template_areas": null,
            "object_position": null,
            "object_fit": null,
            "grid_auto_columns": null,
            "margin": null,
            "display": null,
            "left": null
          }
        },
        "5f28f2906d2542f5808b73c365247696": {
          "model_module": "@jupyter-widgets/controls",
          "model_name": "DescriptionStyleModel",
          "state": {
            "_view_name": "StyleView",
            "_model_name": "DescriptionStyleModel",
            "description_width": "",
            "_view_module": "@jupyter-widgets/base",
            "_model_module_version": "1.5.0",
            "_view_count": null,
            "_view_module_version": "1.2.0",
            "_model_module": "@jupyter-widgets/controls"
          }
        },
        "31103e7b15144bd8a6df0aff3a3bad41": {
          "model_module": "@jupyter-widgets/base",
          "model_name": "LayoutModel",
          "state": {
            "_view_name": "LayoutView",
            "grid_template_rows": null,
            "right": null,
            "justify_content": null,
            "_view_module": "@jupyter-widgets/base",
            "overflow": null,
            "_model_module_version": "1.2.0",
            "_view_count": null,
            "flex_flow": null,
            "width": null,
            "min_width": null,
            "border": null,
            "align_items": null,
            "bottom": null,
            "_model_module": "@jupyter-widgets/base",
            "top": null,
            "grid_column": null,
            "overflow_y": null,
            "overflow_x": null,
            "grid_auto_flow": null,
            "grid_area": null,
            "grid_template_columns": null,
            "flex": null,
            "_model_name": "LayoutModel",
            "justify_items": null,
            "grid_row": null,
            "max_height": null,
            "align_content": null,
            "visibility": null,
            "align_self": null,
            "height": null,
            "min_height": null,
            "padding": null,
            "grid_auto_rows": null,
            "grid_gap": null,
            "max_width": null,
            "order": null,
            "_view_module_version": "1.2.0",
            "grid_template_areas": null,
            "object_position": null,
            "object_fit": null,
            "grid_auto_columns": null,
            "margin": null,
            "display": null,
            "left": null
          }
        }
      }
    }
  },
  "cells": [
    {
      "cell_type": "markdown",
      "metadata": {
        "id": "view-in-github",
        "colab_type": "text"
      },
      "source": [
        "<a href=\"https://colab.research.google.com/github/head1ton/kaggle_dev/blob/master/Data_Science_Bowl_2019_EDA_and_Baseline.ipynb\" target=\"_parent\"><img src=\"https://colab.research.google.com/assets/colab-badge.svg\" alt=\"Open In Colab\"/></a>"
      ]
    },
    {
      "cell_type": "markdown",
      "metadata": {
        "id": "jJrVzUisUhxA",
        "colab_type": "text"
      },
      "source": [
        "* event_id : 이벤트 유형에 대해 무작위로 생성된 고유 식별자. 사양표의 event_id열에 매핑\n",
        "* game_session : 단일 게임 또는 비디오 재생 세션 내에서 무작위로 생성된 고유 식별자 그룹화 이벤트\n",
        "* timestamp : 클라이언트 생성 날짜 시간\n",
        "* event_data : 이벤트 매개 변수를 포함하는 반 구조화 된 JSON 형식 문자열. 기본 필드는 event_count, event_code, game_time\n",
        "* installation_id : 설치된 단일 응용 프로그램 인스턴스 내에서 무작위로 생성 된 고유 식별자 그룹화 게임 세션\n",
        "* event_count : 게임 세션 내 이벤트 증분 카운터 (1 오프셋) event_data 에서 추출 \n",
        "* event_code : 이벤트 클래스의 식별자. 게임마다 고유하지만 게임간에 복제될 수 있음. 예를 들어 이벤트 코드 '2000'은 항상 모든 게임에 대한 '게임 시작' 이벤트를 식별. event_data에서 추출.\n",
        "* game_time : 게임 세션이 시작된 이후의 시간 (밀리 초) event_data에서 추출\n",
        "* title : 게임 또는 비디오의 제목\n",
        "* type : 게임 또는 비디오의 미디어 유형. 가능한 값은 'Game', 'Assessment', 'Activity', 'Clip'\n",
        "* world : 게임 또는 비디오가 속한 응용 프로그램 섹션. 미디어의 교육 커리큘럼 목표를 식별하는 데 도움이 됨. 가능한 값은 'NONE' (앱 시작 화면에서), TREETOPCITY (길이/높이), 'MAGMAPEAK (용량 / 변위), CRYSTALCAVES (무게)"
      ]
    },
    {
      "cell_type": "markdown",
      "metadata": {
        "id": "hmeuIPl8X5aJ",
        "colab_type": "text"
      },
      "source": [
        "* event_id - 이벤트 유형의 글로벌 고유 식별자.\n",
        "* info - 이벤트 설명\n",
        "* args - JSON 형식의 이벤트 인수 문자열. \n",
        "    * name - 인자 이름\n",
        "    * type - 인수의 유형 (string, int, number, object, array)\n",
        "    * info - 논증에 대한 설명"
      ]
    },
    {
      "cell_type": "code",
      "metadata": {
        "id": "IPkQVN6733IA",
        "colab_type": "code",
        "colab": {
          "base_uri": "https://localhost:8080/",
          "height": 292
        },
        "outputId": "8209c9e1-2673-4725-ce9e-fb35c9775bfe"
      },
      "source": [
        "!pip install catboost"
      ],
      "execution_count": 59,
      "outputs": [
        {
          "output_type": "stream",
          "text": [
            "Requirement already satisfied: catboost in /usr/local/lib/python3.6/dist-packages (0.20.2)\n",
            "Requirement already satisfied: numpy>=1.16.0 in /usr/local/lib/python3.6/dist-packages (from catboost) (1.17.5)\n",
            "Requirement already satisfied: plotly in /usr/local/lib/python3.6/dist-packages (from catboost) (4.4.1)\n",
            "Requirement already satisfied: six in /usr/local/lib/python3.6/dist-packages (from catboost) (1.12.0)\n",
            "Requirement already satisfied: graphviz in /usr/local/lib/python3.6/dist-packages (from catboost) (0.10.1)\n",
            "Requirement already satisfied: scipy in /usr/local/lib/python3.6/dist-packages (from catboost) (1.4.1)\n",
            "Requirement already satisfied: matplotlib in /usr/local/lib/python3.6/dist-packages (from catboost) (3.1.2)\n",
            "Requirement already satisfied: pandas>=0.24.0 in /usr/local/lib/python3.6/dist-packages (from catboost) (0.25.3)\n",
            "Requirement already satisfied: retrying>=1.3.3 in /usr/local/lib/python3.6/dist-packages (from plotly->catboost) (1.3.3)\n",
            "Requirement already satisfied: python-dateutil>=2.1 in /usr/local/lib/python3.6/dist-packages (from matplotlib->catboost) (2.6.1)\n",
            "Requirement already satisfied: kiwisolver>=1.0.1 in /usr/local/lib/python3.6/dist-packages (from matplotlib->catboost) (1.1.0)\n",
            "Requirement already satisfied: cycler>=0.10 in /usr/local/lib/python3.6/dist-packages (from matplotlib->catboost) (0.10.0)\n",
            "Requirement already satisfied: pyparsing!=2.0.4,!=2.1.2,!=2.1.6,>=2.0.1 in /usr/local/lib/python3.6/dist-packages (from matplotlib->catboost) (2.4.6)\n",
            "Requirement already satisfied: pytz>=2017.2 in /usr/local/lib/python3.6/dist-packages (from pandas>=0.24.0->catboost) (2018.9)\n",
            "Requirement already satisfied: setuptools in /usr/local/lib/python3.6/dist-packages (from kiwisolver>=1.0.1->matplotlib->catboost) (42.0.2)\n"
          ],
          "name": "stdout"
        }
      ]
    },
    {
      "cell_type": "code",
      "metadata": {
        "id": "l_bJ4kVLlDRV",
        "colab_type": "code",
        "colab": {}
      },
      "source": [
        "import pandas as pd\n",
        "pd.set_option('display.max_columns', None)\n",
        "import numpy as np\n",
        "import seaborn as sns\n",
        "sns.set(style='white', context='notebook', palette='deep')\n",
        "\n",
        "import matplotlib.style as style\n",
        "style.use('fivethirtyeight')\n",
        "import matplotlib.pylab as plt\n",
        "import calendar\n",
        "import warnings\n",
        "warnings.filterwarnings('ignore')\n",
        "\n",
        "import datetime\n",
        "from time import time\n",
        "from tqdm import tqdm_notebook as tqdm\n",
        "from collections import Counter\n",
        "from scipy import stats\n",
        "\n",
        "from sklearn.model_selection import GroupKFold, train_test_split\n",
        "from typing import Any\n",
        "from numba import jit\n",
        "import lightgbm as lgb\n",
        "import xgboost as xgb\n",
        "from catboost import CatBoostRegressor, CatBoostClassifier\n",
        "from sklearn import metrics\n",
        "from itertools import product\n",
        "import copy\n",
        "import time\n",
        "\n",
        "import random\n",
        "seed = 1234\n",
        "random.seed(seed)\n",
        "np.random.seed(seed)"
      ],
      "execution_count": 0,
      "outputs": []
    },
    {
      "cell_type": "code",
      "metadata": {
        "id": "10QSyCs85Cv1",
        "colab_type": "code",
        "colab": {}
      },
      "source": [
        "# train 데이터가 너무 커서 test 데이터로 테스트\n",
        "imsi = pd.read_csv('./test.csv')"
      ],
      "execution_count": 0,
      "outputs": []
    },
    {
      "cell_type": "code",
      "metadata": {
        "id": "WBEgyMcGRkbV",
        "colab_type": "code",
        "colab": {}
      },
      "source": [
        "train, test = train_test_split(imsi, test_size=0.1, random_state=0)"
      ],
      "execution_count": 0,
      "outputs": []
    },
    {
      "cell_type": "code",
      "metadata": {
        "id": "4fFLQghtRy9U",
        "colab_type": "code",
        "colab": {
          "base_uri": "https://localhost:8080/",
          "height": 34
        },
        "outputId": "09689d81-717c-4dfa-df2f-020b5c4a128a"
      },
      "source": [
        "train.shape"
      ],
      "execution_count": 63,
      "outputs": [
        {
          "output_type": "execute_result",
          "data": {
            "text/plain": [
              "(1040772, 11)"
            ]
          },
          "metadata": {
            "tags": []
          },
          "execution_count": 63
        }
      ]
    },
    {
      "cell_type": "code",
      "metadata": {
        "id": "4SJoHNP1UUD7",
        "colab_type": "code",
        "colab": {
          "base_uri": "https://localhost:8080/",
          "height": 326
        },
        "outputId": "f3252837-f564-4537-c08e-d94cf868be6a"
      },
      "source": [
        "train.head()"
      ],
      "execution_count": 64,
      "outputs": [
        {
          "output_type": "execute_result",
          "data": {
            "text/html": [
              "<div>\n",
              "<style scoped>\n",
              "    .dataframe tbody tr th:only-of-type {\n",
              "        vertical-align: middle;\n",
              "    }\n",
              "\n",
              "    .dataframe tbody tr th {\n",
              "        vertical-align: top;\n",
              "    }\n",
              "\n",
              "    .dataframe thead th {\n",
              "        text-align: right;\n",
              "    }\n",
              "</style>\n",
              "<table border=\"1\" class=\"dataframe\">\n",
              "  <thead>\n",
              "    <tr style=\"text-align: right;\">\n",
              "      <th></th>\n",
              "      <th>event_id</th>\n",
              "      <th>game_session</th>\n",
              "      <th>timestamp</th>\n",
              "      <th>event_data</th>\n",
              "      <th>installation_id</th>\n",
              "      <th>event_count</th>\n",
              "      <th>event_code</th>\n",
              "      <th>game_time</th>\n",
              "      <th>title</th>\n",
              "      <th>type</th>\n",
              "      <th>world</th>\n",
              "    </tr>\n",
              "  </thead>\n",
              "  <tbody>\n",
              "    <tr>\n",
              "      <th>503814</th>\n",
              "      <td>e7561dd2</td>\n",
              "      <td>9c292c3de9c6c5ac</td>\n",
              "      <td>2019-09-25T15:31:32.855Z</td>\n",
              "      <td>{\"scale_weights\":2,\"target_weight\":1,\"correct\"...</td>\n",
              "      <td>77d5414c</td>\n",
              "      <td>75</td>\n",
              "      <td>4025</td>\n",
              "      <td>70205</td>\n",
              "      <td>Pan Balance</td>\n",
              "      <td>Game</td>\n",
              "      <td>CRYSTALCAVES</td>\n",
              "    </tr>\n",
              "    <tr>\n",
              "      <th>8423</th>\n",
              "      <td>9d29771f</td>\n",
              "      <td>9aefef9dd7269673</td>\n",
              "      <td>2019-09-23T19:20:12.844Z</td>\n",
              "      <td>{\"description\":\"Alright! This one is the littl...</td>\n",
              "      <td>027e7ce5</td>\n",
              "      <td>39</td>\n",
              "      <td>3021</td>\n",
              "      <td>40082</td>\n",
              "      <td>Mushroom Sorter (Assessment)</td>\n",
              "      <td>Assessment</td>\n",
              "      <td>TREETOPCITY</td>\n",
              "    </tr>\n",
              "    <tr>\n",
              "      <th>596592</th>\n",
              "      <td>bd612267</td>\n",
              "      <td>f281b60cd4433ef4</td>\n",
              "      <td>2019-09-05T18:32:05.075Z</td>\n",
              "      <td>{\"coordinates\":{\"x\":15,\"y\":84,\"stage_width\":10...</td>\n",
              "      <td>85a36690</td>\n",
              "      <td>22</td>\n",
              "      <td>4070</td>\n",
              "      <td>10621</td>\n",
              "      <td>Chest Sorter (Assessment)</td>\n",
              "      <td>Assessment</td>\n",
              "      <td>CRYSTALCAVES</td>\n",
              "    </tr>\n",
              "    <tr>\n",
              "      <th>601668</th>\n",
              "      <td>67439901</td>\n",
              "      <td>61ecd0cf660bf844</td>\n",
              "      <td>2019-10-08T22:44:24.255Z</td>\n",
              "      <td>{\"description\":\"And it's full! I'll put this o...</td>\n",
              "      <td>869ec6d3</td>\n",
              "      <td>133</td>\n",
              "      <td>3010</td>\n",
              "      <td>259772</td>\n",
              "      <td>Bottle Filler (Activity)</td>\n",
              "      <td>Activity</td>\n",
              "      <td>MAGMAPEAK</td>\n",
              "    </tr>\n",
              "    <tr>\n",
              "      <th>1080980</th>\n",
              "      <td>895865f3</td>\n",
              "      <td>887138ec79d3eeaf</td>\n",
              "      <td>2019-08-04T02:21:10.747Z</td>\n",
              "      <td>{\"duration\":47196,\"misses\":0,\"toy_earned\":\"bal...</td>\n",
              "      <td>ede81700</td>\n",
              "      <td>209</td>\n",
              "      <td>2030</td>\n",
              "      <td>421495</td>\n",
              "      <td>Bubble Bath</td>\n",
              "      <td>Game</td>\n",
              "      <td>MAGMAPEAK</td>\n",
              "    </tr>\n",
              "  </tbody>\n",
              "</table>\n",
              "</div>"
            ],
            "text/plain": [
              "         event_id      game_session                 timestamp  \\\n",
              "503814   e7561dd2  9c292c3de9c6c5ac  2019-09-25T15:31:32.855Z   \n",
              "8423     9d29771f  9aefef9dd7269673  2019-09-23T19:20:12.844Z   \n",
              "596592   bd612267  f281b60cd4433ef4  2019-09-05T18:32:05.075Z   \n",
              "601668   67439901  61ecd0cf660bf844  2019-10-08T22:44:24.255Z   \n",
              "1080980  895865f3  887138ec79d3eeaf  2019-08-04T02:21:10.747Z   \n",
              "\n",
              "                                                event_data installation_id  \\\n",
              "503814   {\"scale_weights\":2,\"target_weight\":1,\"correct\"...        77d5414c   \n",
              "8423     {\"description\":\"Alright! This one is the littl...        027e7ce5   \n",
              "596592   {\"coordinates\":{\"x\":15,\"y\":84,\"stage_width\":10...        85a36690   \n",
              "601668   {\"description\":\"And it's full! I'll put this o...        869ec6d3   \n",
              "1080980  {\"duration\":47196,\"misses\":0,\"toy_earned\":\"bal...        ede81700   \n",
              "\n",
              "         event_count  event_code  game_time                         title  \\\n",
              "503814            75        4025      70205                   Pan Balance   \n",
              "8423              39        3021      40082  Mushroom Sorter (Assessment)   \n",
              "596592            22        4070      10621     Chest Sorter (Assessment)   \n",
              "601668           133        3010     259772      Bottle Filler (Activity)   \n",
              "1080980          209        2030     421495                   Bubble Bath   \n",
              "\n",
              "               type         world  \n",
              "503814         Game  CRYSTALCAVES  \n",
              "8423     Assessment   TREETOPCITY  \n",
              "596592   Assessment  CRYSTALCAVES  \n",
              "601668     Activity     MAGMAPEAK  \n",
              "1080980        Game     MAGMAPEAK  "
            ]
          },
          "metadata": {
            "tags": []
          },
          "execution_count": 64
        }
      ]
    },
    {
      "cell_type": "code",
      "metadata": {
        "id": "gXz2TgzjUV9H",
        "colab_type": "code",
        "colab": {
          "base_uri": "https://localhost:8080/",
          "height": 34
        },
        "outputId": "05694926-ea14-4558-ab93-4dda8926e0fd"
      },
      "source": [
        "test.shape"
      ],
      "execution_count": 65,
      "outputs": [
        {
          "output_type": "execute_result",
          "data": {
            "text/plain": [
              "(115642, 11)"
            ]
          },
          "metadata": {
            "tags": []
          },
          "execution_count": 65
        }
      ]
    },
    {
      "cell_type": "code",
      "metadata": {
        "id": "z_StCRFq6MpW",
        "colab_type": "code",
        "colab": {
          "base_uri": "https://localhost:8080/",
          "height": 343
        },
        "outputId": "cf7a302c-8290-4364-ad78-83aafbf2af53"
      },
      "source": [
        "test.head()"
      ],
      "execution_count": 66,
      "outputs": [
        {
          "output_type": "execute_result",
          "data": {
            "text/html": [
              "<div>\n",
              "<style scoped>\n",
              "    .dataframe tbody tr th:only-of-type {\n",
              "        vertical-align: middle;\n",
              "    }\n",
              "\n",
              "    .dataframe tbody tr th {\n",
              "        vertical-align: top;\n",
              "    }\n",
              "\n",
              "    .dataframe thead th {\n",
              "        text-align: right;\n",
              "    }\n",
              "</style>\n",
              "<table border=\"1\" class=\"dataframe\">\n",
              "  <thead>\n",
              "    <tr style=\"text-align: right;\">\n",
              "      <th></th>\n",
              "      <th>event_id</th>\n",
              "      <th>game_session</th>\n",
              "      <th>timestamp</th>\n",
              "      <th>event_data</th>\n",
              "      <th>installation_id</th>\n",
              "      <th>event_count</th>\n",
              "      <th>event_code</th>\n",
              "      <th>game_time</th>\n",
              "      <th>title</th>\n",
              "      <th>type</th>\n",
              "      <th>world</th>\n",
              "    </tr>\n",
              "  </thead>\n",
              "  <tbody>\n",
              "    <tr>\n",
              "      <th>727672</th>\n",
              "      <td>2a444e03</td>\n",
              "      <td>fc1c67b9157ce436</td>\n",
              "      <td>2019-09-10T16:42:12.392Z</td>\n",
              "      <td>{\"location\":\"TABLE\",\"scale_weights\":2,\"table_w...</td>\n",
              "      <td>9afdf962</td>\n",
              "      <td>59</td>\n",
              "      <td>4030</td>\n",
              "      <td>58658</td>\n",
              "      <td>Pan Balance</td>\n",
              "      <td>Game</td>\n",
              "      <td>CRYSTALCAVES</td>\n",
              "    </tr>\n",
              "    <tr>\n",
              "      <th>505671</th>\n",
              "      <td>e9c52111</td>\n",
              "      <td>9100ccb4742c8acb</td>\n",
              "      <td>2019-10-02T15:18:14.407Z</td>\n",
              "      <td>{\"jar\":[{\"color\":\"pink\",\"amount\":2}],\"duration...</td>\n",
              "      <td>77d5414c</td>\n",
              "      <td>308</td>\n",
              "      <td>2030</td>\n",
              "      <td>552742</td>\n",
              "      <td>Bottle Filler (Activity)</td>\n",
              "      <td>Activity</td>\n",
              "      <td>MAGMAPEAK</td>\n",
              "    </tr>\n",
              "    <tr>\n",
              "      <th>134227</th>\n",
              "      <td>37ee8496</td>\n",
              "      <td>26892073fedf70a6</td>\n",
              "      <td>2019-08-28T23:08:58.036Z</td>\n",
              "      <td>{\"bucket\":1,\"buckets\":[0,0,0],\"coordinates\":{\"...</td>\n",
              "      <td>1dd31d7c</td>\n",
              "      <td>16</td>\n",
              "      <td>4030</td>\n",
              "      <td>11276</td>\n",
              "      <td>Cauldron Filler (Assessment)</td>\n",
              "      <td>Assessment</td>\n",
              "      <td>MAGMAPEAK</td>\n",
              "    </tr>\n",
              "    <tr>\n",
              "      <th>842453</th>\n",
              "      <td>5f0eb72c</td>\n",
              "      <td>ea37f27b0f9a14f7</td>\n",
              "      <td>2019-10-04T18:48:13.280Z</td>\n",
              "      <td>{\"height\":3,\"destination\":\"middle\",\"stumps\":[2...</td>\n",
              "      <td>b6b80f42</td>\n",
              "      <td>53</td>\n",
              "      <td>4020</td>\n",
              "      <td>40914</td>\n",
              "      <td>Mushroom Sorter (Assessment)</td>\n",
              "      <td>Assessment</td>\n",
              "      <td>TREETOPCITY</td>\n",
              "    </tr>\n",
              "    <tr>\n",
              "      <th>33273</th>\n",
              "      <td>cf82af56</td>\n",
              "      <td>1341b8aeed65add7</td>\n",
              "      <td>2019-09-01T22:22:57.457Z</td>\n",
              "      <td>{\"coordinates\":{\"x\":664,\"y\":325,\"stage_width\":...</td>\n",
              "      <td>090fe325</td>\n",
              "      <td>317</td>\n",
              "      <td>4070</td>\n",
              "      <td>1337700</td>\n",
              "      <td>Scrub-A-Dub</td>\n",
              "      <td>Game</td>\n",
              "      <td>MAGMAPEAK</td>\n",
              "    </tr>\n",
              "  </tbody>\n",
              "</table>\n",
              "</div>"
            ],
            "text/plain": [
              "        event_id      game_session                 timestamp  \\\n",
              "727672  2a444e03  fc1c67b9157ce436  2019-09-10T16:42:12.392Z   \n",
              "505671  e9c52111  9100ccb4742c8acb  2019-10-02T15:18:14.407Z   \n",
              "134227  37ee8496  26892073fedf70a6  2019-08-28T23:08:58.036Z   \n",
              "842453  5f0eb72c  ea37f27b0f9a14f7  2019-10-04T18:48:13.280Z   \n",
              "33273   cf82af56  1341b8aeed65add7  2019-09-01T22:22:57.457Z   \n",
              "\n",
              "                                               event_data installation_id  \\\n",
              "727672  {\"location\":\"TABLE\",\"scale_weights\":2,\"table_w...        9afdf962   \n",
              "505671  {\"jar\":[{\"color\":\"pink\",\"amount\":2}],\"duration...        77d5414c   \n",
              "134227  {\"bucket\":1,\"buckets\":[0,0,0],\"coordinates\":{\"...        1dd31d7c   \n",
              "842453  {\"height\":3,\"destination\":\"middle\",\"stumps\":[2...        b6b80f42   \n",
              "33273   {\"coordinates\":{\"x\":664,\"y\":325,\"stage_width\":...        090fe325   \n",
              "\n",
              "        event_count  event_code  game_time                         title  \\\n",
              "727672           59        4030      58658                   Pan Balance   \n",
              "505671          308        2030     552742      Bottle Filler (Activity)   \n",
              "134227           16        4030      11276  Cauldron Filler (Assessment)   \n",
              "842453           53        4020      40914  Mushroom Sorter (Assessment)   \n",
              "33273           317        4070    1337700                   Scrub-A-Dub   \n",
              "\n",
              "              type         world  \n",
              "727672        Game  CRYSTALCAVES  \n",
              "505671    Activity     MAGMAPEAK  \n",
              "134227  Assessment     MAGMAPEAK  \n",
              "842453  Assessment   TREETOPCITY  \n",
              "33273         Game     MAGMAPEAK  "
            ]
          },
          "metadata": {
            "tags": []
          },
          "execution_count": 66
        }
      ]
    },
    {
      "cell_type": "code",
      "metadata": {
        "id": "1RWLaYeM6NnY",
        "colab_type": "code",
        "colab": {}
      },
      "source": [
        "train_labels = pd.read_csv('./train_labels.csv')\n",
        "specs = pd.read_csv('./specs.csv')\n",
        "sample_submission = pd.read_csv('./sample_submission.csv')"
      ],
      "execution_count": 0,
      "outputs": []
    },
    {
      "cell_type": "code",
      "metadata": {
        "id": "lDFSCcq76eK3",
        "colab_type": "code",
        "colab": {
          "base_uri": "https://localhost:8080/",
          "height": 34
        },
        "outputId": "2206c94d-4dca-4bdb-eff1-0c41f9fc18e4"
      },
      "source": [
        "# 교육에 사용할 수 없는 교육 데이터를 유지할 필요가 없으므로 평가를 수행하지 않은 installation_id 를 제거하자.\n",
        "keep_id = train[train.type == \"Assessment\"][['installation_id']].drop_duplicates()\n",
        "keep_id.shape"
      ],
      "execution_count": 68,
      "outputs": [
        {
          "output_type": "execute_result",
          "data": {
            "text/plain": [
              "(954, 1)"
            ]
          },
          "metadata": {
            "tags": []
          },
          "execution_count": 68
        }
      ]
    },
    {
      "cell_type": "code",
      "metadata": {
        "id": "H5BtXFLu7UUq",
        "colab_type": "code",
        "colab": {
          "base_uri": "https://localhost:8080/",
          "height": 34
        },
        "outputId": "8e70221a-9a41-4fdc-f5f9-a03d91e45f6e"
      },
      "source": [
        "train.shape"
      ],
      "execution_count": 69,
      "outputs": [
        {
          "output_type": "execute_result",
          "data": {
            "text/plain": [
              "(1040772, 11)"
            ]
          },
          "metadata": {
            "tags": []
          },
          "execution_count": 69
        }
      ]
    },
    {
      "cell_type": "code",
      "metadata": {
        "id": "sRAbAw-G7YMq",
        "colab_type": "code",
        "colab": {}
      },
      "source": [
        "# 실제 테스트 데이터에서는 중복이 삭제되어 행수가 달라진다.\n",
        "train = pd.merge(train, keep_id, on=\"installation_id\", how=\"inner\")"
      ],
      "execution_count": 0,
      "outputs": []
    },
    {
      "cell_type": "code",
      "metadata": {
        "id": "9gMyrIPI7fzm",
        "colab_type": "code",
        "colab": {
          "base_uri": "https://localhost:8080/",
          "height": 34
        },
        "outputId": "24b09802-1514-4d95-a311-ac6063896fa2"
      },
      "source": [
        "train.shape"
      ],
      "execution_count": 71,
      "outputs": [
        {
          "output_type": "execute_result",
          "data": {
            "text/plain": [
              "(1024078, 11)"
            ]
          },
          "metadata": {
            "tags": []
          },
          "execution_count": 71
        }
      ]
    },
    {
      "cell_type": "code",
      "metadata": {
        "id": "3Lr6z8Eq7ha7",
        "colab_type": "code",
        "colab": {
          "base_uri": "https://localhost:8080/",
          "height": 204
        },
        "outputId": "2ac24755-e9b5-4498-8c44-8246625b8413"
      },
      "source": [
        "keep_id.sample(5)"
      ],
      "execution_count": 72,
      "outputs": [
        {
          "output_type": "execute_result",
          "data": {
            "text/html": [
              "<div>\n",
              "<style scoped>\n",
              "    .dataframe tbody tr th:only-of-type {\n",
              "        vertical-align: middle;\n",
              "    }\n",
              "\n",
              "    .dataframe tbody tr th {\n",
              "        vertical-align: top;\n",
              "    }\n",
              "\n",
              "    .dataframe thead th {\n",
              "        text-align: right;\n",
              "    }\n",
              "</style>\n",
              "<table border=\"1\" class=\"dataframe\">\n",
              "  <thead>\n",
              "    <tr style=\"text-align: right;\">\n",
              "      <th></th>\n",
              "      <th>installation_id</th>\n",
              "    </tr>\n",
              "  </thead>\n",
              "  <tbody>\n",
              "    <tr>\n",
              "      <th>791415</th>\n",
              "      <td>a9190917</td>\n",
              "    </tr>\n",
              "    <tr>\n",
              "      <th>118875</th>\n",
              "      <td>1962067f</td>\n",
              "    </tr>\n",
              "    <tr>\n",
              "      <th>487626</th>\n",
              "      <td>75857694</td>\n",
              "    </tr>\n",
              "    <tr>\n",
              "      <th>971998</th>\n",
              "      <td>d4201b5c</td>\n",
              "    </tr>\n",
              "    <tr>\n",
              "      <th>1017484</th>\n",
              "      <td>e0d8c625</td>\n",
              "    </tr>\n",
              "  </tbody>\n",
              "</table>\n",
              "</div>"
            ],
            "text/plain": [
              "        installation_id\n",
              "791415         a9190917\n",
              "118875         1962067f\n",
              "487626         75857694\n",
              "971998         d4201b5c\n",
              "1017484        e0d8c625"
            ]
          },
          "metadata": {
            "tags": []
          },
          "execution_count": 72
        }
      ]
    },
    {
      "cell_type": "code",
      "metadata": {
        "id": "U8W4VjPP8bVT",
        "colab_type": "code",
        "colab": {
          "base_uri": "https://localhost:8080/",
          "height": 102
        },
        "outputId": "6cca2170-c94d-49fc-ca4c-e5638b19b0e7"
      },
      "source": [
        "train.type.value_counts()"
      ],
      "execution_count": 73,
      "outputs": [
        {
          "output_type": "execute_result",
          "data": {
            "text/plain": [
              "Game          505507\n",
              "Activity      412818\n",
              "Assessment     92277\n",
              "Clip           13476\n",
              "Name: type, dtype: int64"
            ]
          },
          "metadata": {
            "tags": []
          },
          "execution_count": 73
        }
      ]
    },
    {
      "cell_type": "code",
      "metadata": {
        "id": "ybaZafWx8e3C",
        "colab_type": "code",
        "colab": {
          "base_uri": "https://localhost:8080/",
          "height": 102
        },
        "outputId": "1c739124-086e-4fac-d323-61cdbd055790"
      },
      "source": [
        "train.world.value_counts()"
      ],
      "execution_count": 74,
      "outputs": [
        {
          "output_type": "execute_result",
          "data": {
            "text/plain": [
              "MAGMAPEAK       450307\n",
              "TREETOPCITY     296546\n",
              "CRYSTALCAVES    275981\n",
              "NONE              1244\n",
              "Name: world, dtype: int64"
            ]
          },
          "metadata": {
            "tags": []
          },
          "execution_count": 74
        }
      ]
    },
    {
      "cell_type": "code",
      "metadata": {
        "id": "CSgTRgOE7xu5",
        "colab_type": "code",
        "colab": {
          "base_uri": "https://localhost:8080/",
          "height": 751
        },
        "outputId": "5c45bf7e-29e2-4577-be0e-c09df52e1ad8"
      },
      "source": [
        "plt.rcParams.update({'font.size': 16})\n",
        "\n",
        "fig = plt.figure(figsize=(12, 10))\n",
        "ax1 = fig.add_subplot(211)\n",
        "ax1 = sns.countplot(y=\"type\", data=train, color=\"blue\", order=train.type.value_counts().index)\n",
        "plt.title(\"number of events by type\")\n",
        "\n",
        "ax2 = fig.add_subplot(212)\n",
        "ax2 = sns.countplot(y=\"world\", data=train, color=\"blue\", order=train.world.value_counts().index)\n",
        "plt.title(\"number of events by world\")\n",
        "\n",
        "plt.tight_layout(pad=0)\n",
        "plt.show()"
      ],
      "execution_count": 75,
      "outputs": [
        {
          "output_type": "display_data",
          "data": {
            "image/png": "[encoded data removed]",
            "text/plain": [
              "<Figure size 864x720 with 2 Axes>"
            ]
          },
          "metadata": {
            "tags": []
          }
        }
      ]
    },
    {
      "cell_type": "code",
      "metadata": {
        "id": "mOmY5aZg9z1-",
        "colab_type": "code",
        "colab": {
          "base_uri": "https://localhost:8080/",
          "height": 782
        },
        "outputId": "37631be5-22f6-4c58-8829-9556a59321d6"
      },
      "source": [
        "train.title.value_counts()"
      ],
      "execution_count": 76,
      "outputs": [
        {
          "output_type": "execute_result",
          "data": {
            "text/plain": [
              "Bottle Filler (Activity)         99222\n",
              "Scrub-A-Dub                      84543\n",
              "Chow Time                        81841\n",
              "Sandcastle Builder (Activity)    72405\n",
              "Fireworks (Activity)             54189\n",
              "Bug Measurer (Activity)          53623\n",
              "Bubble Bath                      48040\n",
              "Dino Drink                       47922\n",
              "Dino Dive                        43350\n",
              "Crystals Rule                    42052\n",
              "All Star Sorting                 40620\n",
              "Chicken Balancer (Activity)      39974\n",
              "Flower Waterer (Activity)        38976\n",
              "Happy Camel                      35149\n",
              "Pan Balance                      34726\n",
              "Watering Hole (Activity)         31088\n",
              "Air Show                         24320\n",
              "Egg Dropper (Activity)           23341\n",
              "Leaf Leader                      22944\n",
              "Cauldron Filler (Assessment)     21182\n",
              "Mushroom Sorter (Assessment)     19692\n",
              "Bird Measurer (Assessment)       18048\n",
              "Cart Balancer (Assessment)       17258\n",
              "Chest Sorter (Assessment)        16097\n",
              "Crystal Caves - Level 2           1286\n",
              "Magma Peak - Level 2              1269\n",
              "Welcome to Lost Lagoon!           1244\n",
              "Tree Top City - Level 2           1147\n",
              "Crystal Caves - Level 3            988\n",
              "Crystal Caves - Level 1            803\n",
              "Magma Peak - Level 1               795\n",
              "Tree Top City - Level 1            793\n",
              "Tree Top City - Level 3            752\n",
              "Ordering Spheres                   675\n",
              "Slop Problem                       491\n",
              "Balancing Act                      465\n",
              "Lifting Heavy Things               463\n",
              "Pirate's Tale                      412\n",
              "Honey Cake                         392\n",
              "Costume Box                        382\n",
              "12 Monkeys                         374\n",
              "Rulers                             283\n",
              "Heavy, Heavier, Heaviest           254\n",
              "Treasure Map                       208\n",
              "Name: title, dtype: int64"
            ]
          },
          "metadata": {
            "tags": []
          },
          "execution_count": 76
        }
      ]
    },
    {
      "cell_type": "code",
      "metadata": {
        "id": "VwTV6rfM9QqM",
        "colab_type": "code",
        "colab": {
          "base_uri": "https://localhost:8080/",
          "height": 648
        },
        "outputId": "59587397-d300-4f50-88ef-656839a17e70"
      },
      "source": [
        "plt.rcParams.update({'font.size': 12})\n",
        "\n",
        "fig = plt.figure(figsize=(12, 10))\n",
        "se = train.title.value_counts().sort_values(ascending=True)\n",
        "se.plot.barh()\n",
        "plt.title('Event counts by title')\n",
        "plt.xticks(rotation=0)\n",
        "plt.show()"
      ],
      "execution_count": 77,
      "outputs": [
        {
          "output_type": "display_data",
          "data": {
            "image/png": "[encoded data removed]",
            "text/plain": [
              "<Figure size 864x720 with 1 Axes>"
            ]
          },
          "metadata": {
            "tags": []
          }
        }
      ]
    },
    {
      "cell_type": "code",
      "metadata": {
        "id": "mAUYC1Pu_SuE",
        "colab_type": "code",
        "colab": {
          "base_uri": "https://localhost:8080/",
          "height": 360
        },
        "outputId": "b23ca6bc-e7bf-4543-aaa9-95afe7426a3d"
      },
      "source": [
        "train.sample(5)"
      ],
      "execution_count": 78,
      "outputs": [
        {
          "output_type": "execute_result",
          "data": {
            "text/html": [
              "<div>\n",
              "<style scoped>\n",
              "    .dataframe tbody tr th:only-of-type {\n",
              "        vertical-align: middle;\n",
              "    }\n",
              "\n",
              "    .dataframe tbody tr th {\n",
              "        vertical-align: top;\n",
              "    }\n",
              "\n",
              "    .dataframe thead th {\n",
              "        text-align: right;\n",
              "    }\n",
              "</style>\n",
              "<table border=\"1\" class=\"dataframe\">\n",
              "  <thead>\n",
              "    <tr style=\"text-align: right;\">\n",
              "      <th></th>\n",
              "      <th>event_id</th>\n",
              "      <th>game_session</th>\n",
              "      <th>timestamp</th>\n",
              "      <th>event_data</th>\n",
              "      <th>installation_id</th>\n",
              "      <th>event_count</th>\n",
              "      <th>event_code</th>\n",
              "      <th>game_time</th>\n",
              "      <th>title</th>\n",
              "      <th>type</th>\n",
              "      <th>world</th>\n",
              "    </tr>\n",
              "  </thead>\n",
              "  <tbody>\n",
              "    <tr>\n",
              "      <th>23351</th>\n",
              "      <td>d185d3ea</td>\n",
              "      <td>941e66b4cc44e19c</td>\n",
              "      <td>2019-09-13T18:04:39.266Z</td>\n",
              "      <td>{\"weight\":3,\"resources\":[1],\"coordinates\":{\"x\"...</td>\n",
              "      <td>92e5a83a</td>\n",
              "      <td>77</td>\n",
              "      <td>4035</td>\n",
              "      <td>103076</td>\n",
              "      <td>Chow Time</td>\n",
              "      <td>Game</td>\n",
              "      <td>CRYSTALCAVES</td>\n",
              "    </tr>\n",
              "    <tr>\n",
              "      <th>128259</th>\n",
              "      <td>c189aaf2</td>\n",
              "      <td>91a82597988701be</td>\n",
              "      <td>2019-09-11T15:35:07.996Z</td>\n",
              "      <td>{\"movie_id\":\"Intro\",\"duration\":14933333,\"descr...</td>\n",
              "      <td>ad0f90e1</td>\n",
              "      <td>7</td>\n",
              "      <td>2083</td>\n",
              "      <td>23637</td>\n",
              "      <td>Happy Camel</td>\n",
              "      <td>Game</td>\n",
              "      <td>CRYSTALCAVES</td>\n",
              "    </tr>\n",
              "    <tr>\n",
              "      <th>807145</th>\n",
              "      <td>565a3990</td>\n",
              "      <td>7c0197925746aaf3</td>\n",
              "      <td>2019-10-05T13:22:15.677Z</td>\n",
              "      <td>{\"coordinates\":{\"x\":763,\"y\":466,\"stage_width\":...</td>\n",
              "      <td>c92e8b4c</td>\n",
              "      <td>110</td>\n",
              "      <td>4070</td>\n",
              "      <td>60646</td>\n",
              "      <td>Bug Measurer (Activity)</td>\n",
              "      <td>Activity</td>\n",
              "      <td>TREETOPCITY</td>\n",
              "    </tr>\n",
              "    <tr>\n",
              "      <th>404029</th>\n",
              "      <td>0a08139c</td>\n",
              "      <td>905e1b6e5f628b0f</td>\n",
              "      <td>2019-08-09T10:21:24.453Z</td>\n",
              "      <td>{\"description\":\"One!\",\"identifier\":\"sid_1\",\"me...</td>\n",
              "      <td>eb7b5d02</td>\n",
              "      <td>16</td>\n",
              "      <td>3010</td>\n",
              "      <td>26137</td>\n",
              "      <td>Bug Measurer (Activity)</td>\n",
              "      <td>Activity</td>\n",
              "      <td>TREETOPCITY</td>\n",
              "    </tr>\n",
              "    <tr>\n",
              "      <th>946285</th>\n",
              "      <td>b2dba42b</td>\n",
              "      <td>1541b85412beef4b</td>\n",
              "      <td>2019-08-27T13:52:19.540Z</td>\n",
              "      <td>{\"description\":\"Drag your mold to the sand to ...</td>\n",
              "      <td>f452eef7</td>\n",
              "      <td>17</td>\n",
              "      <td>3010</td>\n",
              "      <td>15140</td>\n",
              "      <td>Sandcastle Builder (Activity)</td>\n",
              "      <td>Activity</td>\n",
              "      <td>MAGMAPEAK</td>\n",
              "    </tr>\n",
              "  </tbody>\n",
              "</table>\n",
              "</div>"
            ],
            "text/plain": [
              "        event_id      game_session                 timestamp  \\\n",
              "23351   d185d3ea  941e66b4cc44e19c  2019-09-13T18:04:39.266Z   \n",
              "128259  c189aaf2  91a82597988701be  2019-09-11T15:35:07.996Z   \n",
              "807145  565a3990  7c0197925746aaf3  2019-10-05T13:22:15.677Z   \n",
              "404029  0a08139c  905e1b6e5f628b0f  2019-08-09T10:21:24.453Z   \n",
              "946285  b2dba42b  1541b85412beef4b  2019-08-27T13:52:19.540Z   \n",
              "\n",
              "                                               event_data installation_id  \\\n",
              "23351   {\"weight\":3,\"resources\":[1],\"coordinates\":{\"x\"...        92e5a83a   \n",
              "128259  {\"movie_id\":\"Intro\",\"duration\":14933333,\"descr...        ad0f90e1   \n",
              "807145  {\"coordinates\":{\"x\":763,\"y\":466,\"stage_width\":...        c92e8b4c   \n",
              "404029  {\"description\":\"One!\",\"identifier\":\"sid_1\",\"me...        eb7b5d02   \n",
              "946285  {\"description\":\"Drag your mold to the sand to ...        f452eef7   \n",
              "\n",
              "        event_count  event_code  game_time                          title  \\\n",
              "23351            77        4035     103076                      Chow Time   \n",
              "128259            7        2083      23637                    Happy Camel   \n",
              "807145          110        4070      60646        Bug Measurer (Activity)   \n",
              "404029           16        3010      26137        Bug Measurer (Activity)   \n",
              "946285           17        3010      15140  Sandcastle Builder (Activity)   \n",
              "\n",
              "            type         world  \n",
              "23351       Game  CRYSTALCAVES  \n",
              "128259      Game  CRYSTALCAVES  \n",
              "807145  Activity   TREETOPCITY  \n",
              "404029  Activity   TREETOPCITY  \n",
              "946285  Activity     MAGMAPEAK  "
            ]
          },
          "metadata": {
            "tags": []
          },
          "execution_count": 78
        }
      ]
    },
    {
      "cell_type": "code",
      "metadata": {
        "id": "Tdw3KTBE-C0u",
        "colab_type": "code",
        "colab": {}
      },
      "source": [
        "# 타임스탬프를 기반으로 몇 가지 새로운 열을 추가하고 시각화해보자\n",
        "def get_time(df):\n",
        "    df['timestamp'] = pd.to_datetime(df['timestamp'])\n",
        "    df['date'] = df['timestamp'].dt.date\n",
        "    df['month'] = df['timestamp'].dt.month\n",
        "    df['hour'] = df['timestamp'].dt.hour\n",
        "    df['dayofweek'] = df['timestamp'].dt.dayofweek\n",
        "    return df\n",
        "\n",
        "train = get_time(train)"
      ],
      "execution_count": 0,
      "outputs": []
    },
    {
      "cell_type": "code",
      "metadata": {
        "id": "a5v8Ta2eA6bS",
        "colab_type": "code",
        "colab": {
          "base_uri": "https://localhost:8080/",
          "height": 360
        },
        "outputId": "a51df6a2-ce7c-414c-e422-746396a8feaf"
      },
      "source": [
        "train.sample(5)"
      ],
      "execution_count": 80,
      "outputs": [
        {
          "output_type": "execute_result",
          "data": {
            "text/html": [
              "<div>\n",
              "<style scoped>\n",
              "    .dataframe tbody tr th:only-of-type {\n",
              "        vertical-align: middle;\n",
              "    }\n",
              "\n",
              "    .dataframe tbody tr th {\n",
              "        vertical-align: top;\n",
              "    }\n",
              "\n",
              "    .dataframe thead th {\n",
              "        text-align: right;\n",
              "    }\n",
              "</style>\n",
              "<table border=\"1\" class=\"dataframe\">\n",
              "  <thead>\n",
              "    <tr style=\"text-align: right;\">\n",
              "      <th></th>\n",
              "      <th>event_id</th>\n",
              "      <th>game_session</th>\n",
              "      <th>timestamp</th>\n",
              "      <th>event_data</th>\n",
              "      <th>installation_id</th>\n",
              "      <th>event_count</th>\n",
              "      <th>event_code</th>\n",
              "      <th>game_time</th>\n",
              "      <th>title</th>\n",
              "      <th>type</th>\n",
              "      <th>world</th>\n",
              "      <th>date</th>\n",
              "      <th>month</th>\n",
              "      <th>hour</th>\n",
              "      <th>dayofweek</th>\n",
              "    </tr>\n",
              "  </thead>\n",
              "  <tbody>\n",
              "    <tr>\n",
              "      <th>457928</th>\n",
              "      <td>84b0e0c8</td>\n",
              "      <td>32ed3bfbcc6f8960</td>\n",
              "      <td>2019-07-27 16:54:02.642000+00:00</td>\n",
              "      <td>{\"description\":\"Wow! Pig sure is heavy. Those ...</td>\n",
              "      <td>bf6e55c3</td>\n",
              "      <td>31</td>\n",
              "      <td>3110</td>\n",
              "      <td>29471</td>\n",
              "      <td>Chicken Balancer (Activity)</td>\n",
              "      <td>Activity</td>\n",
              "      <td>CRYSTALCAVES</td>\n",
              "      <td>2019-07-27</td>\n",
              "      <td>7</td>\n",
              "      <td>16</td>\n",
              "      <td>5</td>\n",
              "    </tr>\n",
              "    <tr>\n",
              "      <th>746766</th>\n",
              "      <td>02a42007</td>\n",
              "      <td>24f0596109859812</td>\n",
              "      <td>2019-10-13 20:02:46.128000+00:00</td>\n",
              "      <td>{\"rocket\":3,\"coordinates\":{\"x\":330,\"y\":653,\"st...</td>\n",
              "      <td>fdfed7eb</td>\n",
              "      <td>55</td>\n",
              "      <td>4030</td>\n",
              "      <td>39517</td>\n",
              "      <td>Fireworks (Activity)</td>\n",
              "      <td>Activity</td>\n",
              "      <td>TREETOPCITY</td>\n",
              "      <td>2019-10-13</td>\n",
              "      <td>10</td>\n",
              "      <td>20</td>\n",
              "      <td>6</td>\n",
              "    </tr>\n",
              "    <tr>\n",
              "      <th>147599</th>\n",
              "      <td>4a4c3d21</td>\n",
              "      <td>a1764905dfa53ffe</td>\n",
              "      <td>2019-08-26 21:32:09.852000+00:00</td>\n",
              "      <td>{\"height\":4,\"bird_height\":8,\"correct\":false,\"c...</td>\n",
              "      <td>c285f89d</td>\n",
              "      <td>8</td>\n",
              "      <td>4025</td>\n",
              "      <td>8206</td>\n",
              "      <td>Bird Measurer (Assessment)</td>\n",
              "      <td>Assessment</td>\n",
              "      <td>TREETOPCITY</td>\n",
              "      <td>2019-08-26</td>\n",
              "      <td>8</td>\n",
              "      <td>21</td>\n",
              "      <td>0</td>\n",
              "    </tr>\n",
              "    <tr>\n",
              "      <th>106206</th>\n",
              "      <td>3d8c61b0</td>\n",
              "      <td>ef04dbfc1adbe56b</td>\n",
              "      <td>2019-09-15 18:05:10.025000+00:00</td>\n",
              "      <td>{\"source\":\"scale\",\"has_toy\":false,\"bowl_id\":3,...</td>\n",
              "      <td>30fdddc8</td>\n",
              "      <td>33</td>\n",
              "      <td>4030</td>\n",
              "      <td>55837</td>\n",
              "      <td>Happy Camel</td>\n",
              "      <td>Game</td>\n",
              "      <td>CRYSTALCAVES</td>\n",
              "      <td>2019-09-15</td>\n",
              "      <td>9</td>\n",
              "      <td>18</td>\n",
              "      <td>6</td>\n",
              "    </tr>\n",
              "    <tr>\n",
              "      <th>883389</th>\n",
              "      <td>bb3e370b</td>\n",
              "      <td>b4d8ac0779bb89ce</td>\n",
              "      <td>2019-08-26 14:00:22.638000+00:00</td>\n",
              "      <td>{\"bottle\":{\"amount\":2,\"color\":\"blue\"},\"bottles...</td>\n",
              "      <td>776e321e</td>\n",
              "      <td>47</td>\n",
              "      <td>4030</td>\n",
              "      <td>71699</td>\n",
              "      <td>Bottle Filler (Activity)</td>\n",
              "      <td>Activity</td>\n",
              "      <td>MAGMAPEAK</td>\n",
              "      <td>2019-08-26</td>\n",
              "      <td>8</td>\n",
              "      <td>14</td>\n",
              "      <td>0</td>\n",
              "    </tr>\n",
              "  </tbody>\n",
              "</table>\n",
              "</div>"
            ],
            "text/plain": [
              "        event_id      game_session                        timestamp  \\\n",
              "457928  84b0e0c8  32ed3bfbcc6f8960 2019-07-27 16:54:02.642000+00:00   \n",
              "746766  02a42007  24f0596109859812 2019-10-13 20:02:46.128000+00:00   \n",
              "147599  4a4c3d21  a1764905dfa53ffe 2019-08-26 21:32:09.852000+00:00   \n",
              "106206  3d8c61b0  ef04dbfc1adbe56b 2019-09-15 18:05:10.025000+00:00   \n",
              "883389  bb3e370b  b4d8ac0779bb89ce 2019-08-26 14:00:22.638000+00:00   \n",
              "\n",
              "                                               event_data installation_id  \\\n",
              "457928  {\"description\":\"Wow! Pig sure is heavy. Those ...        bf6e55c3   \n",
              "746766  {\"rocket\":3,\"coordinates\":{\"x\":330,\"y\":653,\"st...        fdfed7eb   \n",
              "147599  {\"height\":4,\"bird_height\":8,\"correct\":false,\"c...        c285f89d   \n",
              "106206  {\"source\":\"scale\",\"has_toy\":false,\"bowl_id\":3,...        30fdddc8   \n",
              "883389  {\"bottle\":{\"amount\":2,\"color\":\"blue\"},\"bottles...        776e321e   \n",
              "\n",
              "        event_count  event_code  game_time                        title  \\\n",
              "457928           31        3110      29471  Chicken Balancer (Activity)   \n",
              "746766           55        4030      39517         Fireworks (Activity)   \n",
              "147599            8        4025       8206   Bird Measurer (Assessment)   \n",
              "106206           33        4030      55837                  Happy Camel   \n",
              "883389           47        4030      71699     Bottle Filler (Activity)   \n",
              "\n",
              "              type         world        date  month  hour  dayofweek  \n",
              "457928    Activity  CRYSTALCAVES  2019-07-27      7    16          5  \n",
              "746766    Activity   TREETOPCITY  2019-10-13     10    20          6  \n",
              "147599  Assessment   TREETOPCITY  2019-08-26      8    21          0  \n",
              "106206        Game  CRYSTALCAVES  2019-09-15      9    18          6  \n",
              "883389    Activity     MAGMAPEAK  2019-08-26      8    14          0  "
            ]
          },
          "metadata": {
            "tags": []
          },
          "execution_count": 80
        }
      ]
    },
    {
      "cell_type": "code",
      "metadata": {
        "id": "4z50EeaSBFep",
        "colab_type": "code",
        "colab": {
          "base_uri": "https://localhost:8080/",
          "height": 719
        },
        "outputId": "2345383d-fa0e-445d-b319-3f46a9cf128c"
      },
      "source": [
        "fig = plt.figure(figsize=(12, 10))\n",
        "se = train.groupby('date')['date'].count()\n",
        "se.plot()\n",
        "plt.title('Event counts by date')\n",
        "plt.xticks(rotation=90)\n",
        "plt.show()"
      ],
      "execution_count": 81,
      "outputs": [
        {
          "output_type": "display_data",
          "data": {
            "image/png": "[encoded data removed]",
            "text/plain": [
              "<Figure size 864x720 with 1 Axes>"
            ]
          },
          "metadata": {
            "tags": []
          }
        }
      ]
    },
    {
      "cell_type": "code",
      "metadata": {
        "id": "HQ9Zk2j-CDkL",
        "colab_type": "code",
        "colab": {
          "base_uri": "https://localhost:8080/",
          "height": 648
        },
        "outputId": "f6f54c59-8bcb-403b-ff65-38ae96d2acda"
      },
      "source": [
        "fig = plt.figure(figsize=(12, 10))\n",
        "se = train.groupby('dayofweek')['dayofweek'].count()\n",
        "se.index = list(calendar.day_abbr)\n",
        "se.plot.bar()\n",
        "plt.title('Event counts by day of week')\n",
        "plt.xticks(rotation=0)\n",
        "plt.show()"
      ],
      "execution_count": 82,
      "outputs": [
        {
          "output_type": "display_data",
          "data": {
            "image/png": "[encoded data removed]",
            "text/plain": [
              "<Figure size 864x720 with 1 Axes>"
            ]
          },
          "metadata": {
            "tags": []
          }
        }
      ]
    },
    {
      "cell_type": "code",
      "metadata": {
        "id": "1xaTvf3tDxog",
        "colab_type": "code",
        "colab": {
          "base_uri": "https://localhost:8080/",
          "height": 153
        },
        "outputId": "8a2e8a59-b253-4084-804f-daa79368e6f3"
      },
      "source": [
        "train.dayofweek.value_counts()"
      ],
      "execution_count": 83,
      "outputs": [
        {
          "output_type": "execute_result",
          "data": {
            "text/plain": [
              "4    151154\n",
              "2    150700\n",
              "6    147003\n",
              "0    146542\n",
              "3    146454\n",
              "5    142780\n",
              "1    139445\n",
              "Name: dayofweek, dtype: int64"
            ]
          },
          "metadata": {
            "tags": []
          },
          "execution_count": 83
        }
      ]
    },
    {
      "cell_type": "code",
      "metadata": {
        "id": "k4VnxmRHD_hc",
        "colab_type": "code",
        "colab": {
          "base_uri": "https://localhost:8080/",
          "height": 666
        },
        "outputId": "b9e92a35-90f5-4819-efe2-6f0ecb60a5a4"
      },
      "source": [
        "# 시간별 분포를 확인.\n",
        "fig = plt.figure(figsize=(12, 10))\n",
        "se = train.groupby('hour')['hour'].count()\n",
        "se.plot.bar()\n",
        "plt.title('Event counts by hour of day')\n",
        "plt.xticks(rotation=0)\n",
        "plt.show()"
      ],
      "execution_count": 84,
      "outputs": [
        {
          "output_type": "display_data",
          "data": {
            "image/png": "[encoded data removed]",
            "text/plain": [
              "<Figure size 864x720 with 1 Axes>"
            ]
          },
          "metadata": {
            "tags": []
          }
        }
      ]
    },
    {
      "cell_type": "code",
      "metadata": {
        "id": "KKm51ygIFpES",
        "colab_type": "code",
        "colab": {
          "base_uri": "https://localhost:8080/",
          "height": 343
        },
        "outputId": "c24549f8-b5dd-448a-aab7-010af7cc02d4"
      },
      "source": [
        "# 시간별 분포를 보면 이상한 점이 보인다. 애들이 밤늦게까지 하고.. 아침엔 분포 수가 내려간다. 이건 므지?\n",
        "# 왜 인지 나중에 확인해보고..\n",
        "test.sample(5)"
      ],
      "execution_count": 85,
      "outputs": [
        {
          "output_type": "execute_result",
          "data": {
            "text/html": [
              "<div>\n",
              "<style scoped>\n",
              "    .dataframe tbody tr th:only-of-type {\n",
              "        vertical-align: middle;\n",
              "    }\n",
              "\n",
              "    .dataframe tbody tr th {\n",
              "        vertical-align: top;\n",
              "    }\n",
              "\n",
              "    .dataframe thead th {\n",
              "        text-align: right;\n",
              "    }\n",
              "</style>\n",
              "<table border=\"1\" class=\"dataframe\">\n",
              "  <thead>\n",
              "    <tr style=\"text-align: right;\">\n",
              "      <th></th>\n",
              "      <th>event_id</th>\n",
              "      <th>game_session</th>\n",
              "      <th>timestamp</th>\n",
              "      <th>event_data</th>\n",
              "      <th>installation_id</th>\n",
              "      <th>event_count</th>\n",
              "      <th>event_code</th>\n",
              "      <th>game_time</th>\n",
              "      <th>title</th>\n",
              "      <th>type</th>\n",
              "      <th>world</th>\n",
              "    </tr>\n",
              "  </thead>\n",
              "  <tbody>\n",
              "    <tr>\n",
              "      <th>700417</th>\n",
              "      <td>46cd75b4</td>\n",
              "      <td>4f96ccee339dd015</td>\n",
              "      <td>2019-08-15T11:58:31.525Z</td>\n",
              "      <td>{\"side\":\"left\",\"layout\":{\"left\":{\"chickens\":1,...</td>\n",
              "      <td>95b591c1</td>\n",
              "      <td>21</td>\n",
              "      <td>4022</td>\n",
              "      <td>29553</td>\n",
              "      <td>Chicken Balancer (Activity)</td>\n",
              "      <td>Activity</td>\n",
              "      <td>CRYSTALCAVES</td>\n",
              "    </tr>\n",
              "    <tr>\n",
              "      <th>1099595</th>\n",
              "      <td>1c178d24</td>\n",
              "      <td>ed785edc7d159dbc</td>\n",
              "      <td>2019-08-27T13:45:38.365Z</td>\n",
              "      <td>{\"duration\":7585,\"misses\":0,\"round\":3,\"event_c...</td>\n",
              "      <td>f452eef7</td>\n",
              "      <td>66</td>\n",
              "      <td>2030</td>\n",
              "      <td>74593</td>\n",
              "      <td>Pan Balance</td>\n",
              "      <td>Game</td>\n",
              "      <td>CRYSTALCAVES</td>\n",
              "    </tr>\n",
              "    <tr>\n",
              "      <th>1136012</th>\n",
              "      <td>4ef8cdd3</td>\n",
              "      <td>3e1f515d4d9e7ddc</td>\n",
              "      <td>2019-08-25T21:50:23.522Z</td>\n",
              "      <td>{\"weight\":1,\"correct\":true,\"scale_weight\":4,\"s...</td>\n",
              "      <td>fc0367c0</td>\n",
              "      <td>50</td>\n",
              "      <td>4020</td>\n",
              "      <td>91799</td>\n",
              "      <td>Chow Time</td>\n",
              "      <td>Game</td>\n",
              "      <td>CRYSTALCAVES</td>\n",
              "    </tr>\n",
              "    <tr>\n",
              "      <th>584745</th>\n",
              "      <td>46cd75b4</td>\n",
              "      <td>7f095eb84fee89a7</td>\n",
              "      <td>2019-10-03T12:52:12.086Z</td>\n",
              "      <td>{\"side\":\"left\",\"layout\":{\"left\":{\"chickens\":4,...</td>\n",
              "      <td>8446fe1a</td>\n",
              "      <td>68</td>\n",
              "      <td>4022</td>\n",
              "      <td>71952</td>\n",
              "      <td>Chicken Balancer (Activity)</td>\n",
              "      <td>Activity</td>\n",
              "      <td>CRYSTALCAVES</td>\n",
              "    </tr>\n",
              "    <tr>\n",
              "      <th>647411</th>\n",
              "      <td>2dc29e21</td>\n",
              "      <td>e495fbad69a8bca9</td>\n",
              "      <td>2019-09-16T22:09:55.765Z</td>\n",
              "      <td>{\"dinosaur\":\"sonny\",\"house\":{\"size\":5,\"positio...</td>\n",
              "      <td>8cd5bc7c</td>\n",
              "      <td>45</td>\n",
              "      <td>4020</td>\n",
              "      <td>54578</td>\n",
              "      <td>All Star Sorting</td>\n",
              "      <td>Game</td>\n",
              "      <td>TREETOPCITY</td>\n",
              "    </tr>\n",
              "  </tbody>\n",
              "</table>\n",
              "</div>"
            ],
            "text/plain": [
              "         event_id      game_session                 timestamp  \\\n",
              "700417   46cd75b4  4f96ccee339dd015  2019-08-15T11:58:31.525Z   \n",
              "1099595  1c178d24  ed785edc7d159dbc  2019-08-27T13:45:38.365Z   \n",
              "1136012  4ef8cdd3  3e1f515d4d9e7ddc  2019-08-25T21:50:23.522Z   \n",
              "584745   46cd75b4  7f095eb84fee89a7  2019-10-03T12:52:12.086Z   \n",
              "647411   2dc29e21  e495fbad69a8bca9  2019-09-16T22:09:55.765Z   \n",
              "\n",
              "                                                event_data installation_id  \\\n",
              "700417   {\"side\":\"left\",\"layout\":{\"left\":{\"chickens\":1,...        95b591c1   \n",
              "1099595  {\"duration\":7585,\"misses\":0,\"round\":3,\"event_c...        f452eef7   \n",
              "1136012  {\"weight\":1,\"correct\":true,\"scale_weight\":4,\"s...        fc0367c0   \n",
              "584745   {\"side\":\"left\",\"layout\":{\"left\":{\"chickens\":4,...        8446fe1a   \n",
              "647411   {\"dinosaur\":\"sonny\",\"house\":{\"size\":5,\"positio...        8cd5bc7c   \n",
              "\n",
              "         event_count  event_code  game_time                        title  \\\n",
              "700417            21        4022      29553  Chicken Balancer (Activity)   \n",
              "1099595           66        2030      74593                  Pan Balance   \n",
              "1136012           50        4020      91799                    Chow Time   \n",
              "584745            68        4022      71952  Chicken Balancer (Activity)   \n",
              "647411            45        4020      54578             All Star Sorting   \n",
              "\n",
              "             type         world  \n",
              "700417   Activity  CRYSTALCAVES  \n",
              "1099595      Game  CRYSTALCAVES  \n",
              "1136012      Game  CRYSTALCAVES  \n",
              "584745   Activity  CRYSTALCAVES  \n",
              "647411       Game   TREETOPCITY  "
            ]
          },
          "metadata": {
            "tags": []
          },
          "execution_count": 85
        }
      ]
    },
    {
      "cell_type": "code",
      "metadata": {
        "id": "WWpPxNm3K8gt",
        "colab_type": "code",
        "colab": {
          "base_uri": "https://localhost:8080/",
          "height": 34
        },
        "outputId": "bd3de1bb-504f-487a-8025-f3693e59e6d3"
      },
      "source": [
        "test.shape"
      ],
      "execution_count": 86,
      "outputs": [
        {
          "output_type": "execute_result",
          "data": {
            "text/plain": [
              "(115642, 11)"
            ]
          },
          "metadata": {
            "tags": []
          },
          "execution_count": 86
        }
      ]
    },
    {
      "cell_type": "code",
      "metadata": {
        "id": "ECju8tYzK-wC",
        "colab_type": "code",
        "colab": {
          "base_uri": "https://localhost:8080/",
          "height": 34
        },
        "outputId": "60012046-33db-4f71-ffd7-bd11601f951b"
      },
      "source": [
        "test.installation_id.nunique() # nunique 는 몇 개인지 나타내준다"
      ],
      "execution_count": 87,
      "outputs": [
        {
          "output_type": "execute_result",
          "data": {
            "text/plain": [
              "957"
            ]
          },
          "metadata": {
            "tags": []
          },
          "execution_count": 87
        }
      ]
    },
    {
      "cell_type": "code",
      "metadata": {
        "id": "8EPY1qhjLCAu",
        "colab_type": "code",
        "colab": {
          "base_uri": "https://localhost:8080/",
          "height": 34
        },
        "outputId": "107ee8a9-1eaa-4b3e-f56d-b2025de37418"
      },
      "source": [
        "sample_submission.shape[0]"
      ],
      "execution_count": 88,
      "outputs": [
        {
          "output_type": "execute_result",
          "data": {
            "text/plain": [
              "1000"
            ]
          },
          "metadata": {
            "tags": []
          },
          "execution_count": 88
        }
      ]
    },
    {
      "cell_type": "code",
      "metadata": {
        "id": "R9UDTP8hLFNd",
        "colab_type": "code",
        "colab": {}
      },
      "source": [
        "# 훈련데이터와 테스트데이터에서 겹치는 부분이 있는지 확인. 실제 train 데이터를 쓰면 없을기다.\n",
        "# set(list(train.installation_id.unique())).intersection(set(list(test.installation_id.unique())))"
      ],
      "execution_count": 0,
      "outputs": []
    },
    {
      "cell_type": "code",
      "metadata": {
        "id": "3H_5nELNL1rT",
        "colab_type": "code",
        "colab": {
          "base_uri": "https://localhost:8080/",
          "height": 51
        },
        "outputId": "2a6a7bbb-1e45-4288-8fc6-c37304f5c231"
      },
      "source": [
        "test['timestamp'] = pd.to_datetime(test['timestamp'])\n",
        "print(f'The date range in train is: {train.timestamp.dt.date.min()} to {train.timestamp.dt.date.max()}')\n",
        "print(f'The date range in test is: {test.timestamp.dt.date.min()} to {test.timestamp.dt.date.max()}')"
      ],
      "execution_count": 90,
      "outputs": [
        {
          "output_type": "stream",
          "text": [
            "The date range in train is: 2019-07-24 to 2019-10-14\n",
            "The date range in test is: 2019-07-24 to 2019-10-14\n"
          ],
          "name": "stdout"
        }
      ]
    },
    {
      "cell_type": "code",
      "metadata": {
        "id": "zCxILVwkOZ82",
        "colab_type": "code",
        "colab": {
          "base_uri": "https://localhost:8080/",
          "height": 204
        },
        "outputId": "6c3fd792-304c-4494-bfd0-9c2c78d08ee7"
      },
      "source": [
        "train_labels.sample(5)"
      ],
      "execution_count": 91,
      "outputs": [
        {
          "output_type": "execute_result",
          "data": {
            "text/html": [
              "<div>\n",
              "<style scoped>\n",
              "    .dataframe tbody tr th:only-of-type {\n",
              "        vertical-align: middle;\n",
              "    }\n",
              "\n",
              "    .dataframe tbody tr th {\n",
              "        vertical-align: top;\n",
              "    }\n",
              "\n",
              "    .dataframe thead th {\n",
              "        text-align: right;\n",
              "    }\n",
              "</style>\n",
              "<table border=\"1\" class=\"dataframe\">\n",
              "  <thead>\n",
              "    <tr style=\"text-align: right;\">\n",
              "      <th></th>\n",
              "      <th>game_session</th>\n",
              "      <th>installation_id</th>\n",
              "      <th>title</th>\n",
              "      <th>num_correct</th>\n",
              "      <th>num_incorrect</th>\n",
              "      <th>accuracy</th>\n",
              "      <th>accuracy_group</th>\n",
              "    </tr>\n",
              "  </thead>\n",
              "  <tbody>\n",
              "    <tr>\n",
              "      <th>14432</th>\n",
              "      <td>c32dfe9792d549c3</td>\n",
              "      <td>cde4f09d</td>\n",
              "      <td>Chest Sorter (Assessment)</td>\n",
              "      <td>0</td>\n",
              "      <td>1</td>\n",
              "      <td>0.0</td>\n",
              "      <td>0</td>\n",
              "    </tr>\n",
              "    <tr>\n",
              "      <th>11646</th>\n",
              "      <td>f9d643fb1ce94eeb</td>\n",
              "      <td>a1d55511</td>\n",
              "      <td>Mushroom Sorter (Assessment)</td>\n",
              "      <td>1</td>\n",
              "      <td>0</td>\n",
              "      <td>1.0</td>\n",
              "      <td>3</td>\n",
              "    </tr>\n",
              "    <tr>\n",
              "      <th>792</th>\n",
              "      <td>e2f04b9531d6a5b3</td>\n",
              "      <td>08987c08</td>\n",
              "      <td>Cart Balancer (Assessment)</td>\n",
              "      <td>0</td>\n",
              "      <td>2</td>\n",
              "      <td>0.0</td>\n",
              "      <td>0</td>\n",
              "    </tr>\n",
              "    <tr>\n",
              "      <th>2941</th>\n",
              "      <td>d7c299028d21a535</td>\n",
              "      <td>26ef4a4a</td>\n",
              "      <td>Cart Balancer (Assessment)</td>\n",
              "      <td>1</td>\n",
              "      <td>0</td>\n",
              "      <td>1.0</td>\n",
              "      <td>3</td>\n",
              "    </tr>\n",
              "    <tr>\n",
              "      <th>11127</th>\n",
              "      <td>a170529dd0d139b9</td>\n",
              "      <td>9bc0aa21</td>\n",
              "      <td>Cart Balancer (Assessment)</td>\n",
              "      <td>1</td>\n",
              "      <td>0</td>\n",
              "      <td>1.0</td>\n",
              "      <td>3</td>\n",
              "    </tr>\n",
              "  </tbody>\n",
              "</table>\n",
              "</div>"
            ],
            "text/plain": [
              "           game_session installation_id                         title  \\\n",
              "14432  c32dfe9792d549c3        cde4f09d     Chest Sorter (Assessment)   \n",
              "11646  f9d643fb1ce94eeb        a1d55511  Mushroom Sorter (Assessment)   \n",
              "792    e2f04b9531d6a5b3        08987c08    Cart Balancer (Assessment)   \n",
              "2941   d7c299028d21a535        26ef4a4a    Cart Balancer (Assessment)   \n",
              "11127  a170529dd0d139b9        9bc0aa21    Cart Balancer (Assessment)   \n",
              "\n",
              "       num_correct  num_incorrect  accuracy  accuracy_group  \n",
              "14432            0              1       0.0               0  \n",
              "11646            1              0       1.0               3  \n",
              "792              0              2       0.0               0  \n",
              "2941             1              0       1.0               3  \n",
              "11127            1              0       1.0               3  "
            ]
          },
          "metadata": {
            "tags": []
          },
          "execution_count": 91
        }
      ]
    },
    {
      "cell_type": "code",
      "metadata": {
        "id": "nlX3AqDrMkhx",
        "colab_type": "code",
        "colab": {
          "base_uri": "https://localhost:8080/",
          "height": 454
        },
        "outputId": "22a54680-8195-4db1-c0b9-a5ebe8311f00"
      },
      "source": [
        "plt.rcParams.update({'font.size':22})\n",
        "\n",
        "plt.figure(figsize=(12, 6))\n",
        "sns.countplot(y=\"title\", data=train_labels, color='blue', order=train_labels.title.value_counts().index)\n",
        "plt.title('Counts of titles')\n",
        "plt.show()"
      ],
      "execution_count": 92,
      "outputs": [
        {
          "output_type": "display_data",
          "data": {
            "image/png": "[encoded data removed]",
            "text/plain": [
              "<Figure size 864x432 with 1 Axes>"
            ]
          },
          "metadata": {
            "tags": []
          }
        }
      ]
    },
    {
      "cell_type": "code",
      "metadata": {
        "id": "vUPaIdMYOxvA",
        "colab_type": "code",
        "colab": {
          "base_uri": "https://localhost:8080/",
          "height": 675
        },
        "outputId": "d114a939-7f6e-4c68-ba46-8dc78879c177"
      },
      "source": [
        "# accuracy_group \n",
        "# 3 : 첫 번째 시도에서 평가 해결\n",
        "# 2 : 두 번째 시도에서 평가 해결\n",
        "# 1 : 3회 이상의 시도 후 평가 해결\n",
        "# 0: 미 평가\n",
        "\n",
        "plt.rcParams.update({'font.size': 16})\n",
        "\n",
        "se = train_labels.groupby(['title', 'accuracy_group'])['accuracy_group'].count().unstack('title')\n",
        "se.plot.bar(stacked=True, rot=0, figsize=(12, 10))\n",
        "plt.title(\"Counts of accuracy group\")\n",
        "plt.show()"
      ],
      "execution_count": 93,
      "outputs": [
        {
          "output_type": "display_data",
          "data": {
            "image/png": "[encoded data removed]",
            "text/plain": [
              "<Figure size 864x720 with 1 Axes>"
            ]
          },
          "metadata": {
            "tags": []
          }
        }
      ]
    },
    {
      "cell_type": "code",
      "metadata": {
        "id": "CYReHDw6eUiE",
        "colab_type": "code",
        "colab": {
          "base_uri": "https://localhost:8080/",
          "height": 204
        },
        "outputId": "2b3928f0-4240-4f10-a4f0-fbf8fb986cae"
      },
      "source": [
        "# 위에 보면 가슴분류기가 평가가 많이 되지 않은 것으로 보인다.\n",
        "\n",
        "train_labels[train_labels.installation_id == \"0006a69f\"]"
      ],
      "execution_count": 94,
      "outputs": [
        {
          "output_type": "execute_result",
          "data": {
            "text/html": [
              "<div>\n",
              "<style scoped>\n",
              "    .dataframe tbody tr th:only-of-type {\n",
              "        vertical-align: middle;\n",
              "    }\n",
              "\n",
              "    .dataframe tbody tr th {\n",
              "        vertical-align: top;\n",
              "    }\n",
              "\n",
              "    .dataframe thead th {\n",
              "        text-align: right;\n",
              "    }\n",
              "</style>\n",
              "<table border=\"1\" class=\"dataframe\">\n",
              "  <thead>\n",
              "    <tr style=\"text-align: right;\">\n",
              "      <th></th>\n",
              "      <th>game_session</th>\n",
              "      <th>installation_id</th>\n",
              "      <th>title</th>\n",
              "      <th>num_correct</th>\n",
              "      <th>num_incorrect</th>\n",
              "      <th>accuracy</th>\n",
              "      <th>accuracy_group</th>\n",
              "    </tr>\n",
              "  </thead>\n",
              "  <tbody>\n",
              "    <tr>\n",
              "      <th>0</th>\n",
              "      <td>6bdf9623adc94d89</td>\n",
              "      <td>0006a69f</td>\n",
              "      <td>Mushroom Sorter (Assessment)</td>\n",
              "      <td>1</td>\n",
              "      <td>0</td>\n",
              "      <td>1.0</td>\n",
              "      <td>3</td>\n",
              "    </tr>\n",
              "    <tr>\n",
              "      <th>1</th>\n",
              "      <td>77b8ee947eb84b4e</td>\n",
              "      <td>0006a69f</td>\n",
              "      <td>Bird Measurer (Assessment)</td>\n",
              "      <td>0</td>\n",
              "      <td>11</td>\n",
              "      <td>0.0</td>\n",
              "      <td>0</td>\n",
              "    </tr>\n",
              "    <tr>\n",
              "      <th>2</th>\n",
              "      <td>901acc108f55a5a1</td>\n",
              "      <td>0006a69f</td>\n",
              "      <td>Mushroom Sorter (Assessment)</td>\n",
              "      <td>1</td>\n",
              "      <td>0</td>\n",
              "      <td>1.0</td>\n",
              "      <td>3</td>\n",
              "    </tr>\n",
              "    <tr>\n",
              "      <th>3</th>\n",
              "      <td>9501794defd84e4d</td>\n",
              "      <td>0006a69f</td>\n",
              "      <td>Mushroom Sorter (Assessment)</td>\n",
              "      <td>1</td>\n",
              "      <td>1</td>\n",
              "      <td>0.5</td>\n",
              "      <td>2</td>\n",
              "    </tr>\n",
              "    <tr>\n",
              "      <th>4</th>\n",
              "      <td>a9ef3ecb3d1acc6a</td>\n",
              "      <td>0006a69f</td>\n",
              "      <td>Bird Measurer (Assessment)</td>\n",
              "      <td>1</td>\n",
              "      <td>0</td>\n",
              "      <td>1.0</td>\n",
              "      <td>3</td>\n",
              "    </tr>\n",
              "  </tbody>\n",
              "</table>\n",
              "</div>"
            ],
            "text/plain": [
              "       game_session installation_id                         title  \\\n",
              "0  6bdf9623adc94d89        0006a69f  Mushroom Sorter (Assessment)   \n",
              "1  77b8ee947eb84b4e        0006a69f    Bird Measurer (Assessment)   \n",
              "2  901acc108f55a5a1        0006a69f  Mushroom Sorter (Assessment)   \n",
              "3  9501794defd84e4d        0006a69f  Mushroom Sorter (Assessment)   \n",
              "4  a9ef3ecb3d1acc6a        0006a69f    Bird Measurer (Assessment)   \n",
              "\n",
              "   num_correct  num_incorrect  accuracy  accuracy_group  \n",
              "0            1              0       1.0               3  \n",
              "1            0             11       0.0               0  \n",
              "2            1              0       1.0               3  \n",
              "3            1              1       0.5               2  \n",
              "4            1              0       1.0               3  "
            ]
          },
          "metadata": {
            "tags": []
          },
          "execution_count": 94
        }
      ]
    },
    {
      "cell_type": "code",
      "metadata": {
        "id": "tOpaL5wBemoF",
        "colab_type": "code",
        "colab": {
          "base_uri": "https://localhost:8080/",
          "height": 49
        },
        "outputId": "a5a8d5b8-6139-495e-8491-ef94934e360e"
      },
      "source": [
        "train[(train.event_code == 4100) & (train.installation_id == \"0006a69f\") & (train.title == \"Bird Measurer (Assessment)\")]"
      ],
      "execution_count": 95,
      "outputs": [
        {
          "output_type": "execute_result",
          "data": {
            "text/html": [
              "<div>\n",
              "<style scoped>\n",
              "    .dataframe tbody tr th:only-of-type {\n",
              "        vertical-align: middle;\n",
              "    }\n",
              "\n",
              "    .dataframe tbody tr th {\n",
              "        vertical-align: top;\n",
              "    }\n",
              "\n",
              "    .dataframe thead th {\n",
              "        text-align: right;\n",
              "    }\n",
              "</style>\n",
              "<table border=\"1\" class=\"dataframe\">\n",
              "  <thead>\n",
              "    <tr style=\"text-align: right;\">\n",
              "      <th></th>\n",
              "      <th>event_id</th>\n",
              "      <th>game_session</th>\n",
              "      <th>timestamp</th>\n",
              "      <th>event_data</th>\n",
              "      <th>installation_id</th>\n",
              "      <th>event_count</th>\n",
              "      <th>event_code</th>\n",
              "      <th>game_time</th>\n",
              "      <th>title</th>\n",
              "      <th>type</th>\n",
              "      <th>world</th>\n",
              "      <th>date</th>\n",
              "      <th>month</th>\n",
              "      <th>hour</th>\n",
              "      <th>dayofweek</th>\n",
              "    </tr>\n",
              "  </thead>\n",
              "  <tbody>\n",
              "  </tbody>\n",
              "</table>\n",
              "</div>"
            ],
            "text/plain": [
              "Empty DataFrame\n",
              "Columns: [event_id, game_session, timestamp, event_data, installation_id, event_count, event_code, game_time, title, type, world, date, month, hour, dayofweek]\n",
              "Index: []"
            ]
          },
          "metadata": {
            "tags": []
          },
          "execution_count": 95
        }
      ]
    },
    {
      "cell_type": "code",
      "metadata": {
        "id": "eRInqBgefO2p",
        "colab_type": "code",
        "colab": {
          "base_uri": "https://localhost:8080/",
          "height": 49
        },
        "outputId": "b53b208b-ab80-49d6-dede-7c9b15013f43"
      },
      "source": [
        "train[\n",
        "      (train.installation_id == \"0006a69f\") & \n",
        "      (\n",
        "          ((train.type == \"Assessment\") \n",
        "          & (train.title == 'Bird Measurer (Assessment)') \n",
        "          & (train.event_code == 4110)) \n",
        "          | ((train.type == \"Assessment\") \n",
        "          & (train.title != 'Bird Measurer (Assessment)') \n",
        "          & (train.event_code == 4100))\n",
        "        )\n",
        "      ]"
      ],
      "execution_count": 97,
      "outputs": [
        {
          "output_type": "execute_result",
          "data": {
            "text/html": [
              "<div>\n",
              "<style scoped>\n",
              "    .dataframe tbody tr th:only-of-type {\n",
              "        vertical-align: middle;\n",
              "    }\n",
              "\n",
              "    .dataframe tbody tr th {\n",
              "        vertical-align: top;\n",
              "    }\n",
              "\n",
              "    .dataframe thead th {\n",
              "        text-align: right;\n",
              "    }\n",
              "</style>\n",
              "<table border=\"1\" class=\"dataframe\">\n",
              "  <thead>\n",
              "    <tr style=\"text-align: right;\">\n",
              "      <th></th>\n",
              "      <th>event_id</th>\n",
              "      <th>game_session</th>\n",
              "      <th>timestamp</th>\n",
              "      <th>event_data</th>\n",
              "      <th>installation_id</th>\n",
              "      <th>event_count</th>\n",
              "      <th>event_code</th>\n",
              "      <th>game_time</th>\n",
              "      <th>title</th>\n",
              "      <th>type</th>\n",
              "      <th>world</th>\n",
              "      <th>date</th>\n",
              "      <th>month</th>\n",
              "      <th>hour</th>\n",
              "      <th>dayofweek</th>\n",
              "    </tr>\n",
              "  </thead>\n",
              "  <tbody>\n",
              "  </tbody>\n",
              "</table>\n",
              "</div>"
            ],
            "text/plain": [
              "Empty DataFrame\n",
              "Columns: [event_id, game_session, timestamp, event_data, installation_id, event_count, event_code, game_time, title, type, world, date, month, hour, dayofweek]\n",
              "Index: []"
            ]
          },
          "metadata": {
            "tags": []
          },
          "execution_count": 97
        }
      ]
    },
    {
      "cell_type": "code",
      "metadata": {
        "id": "WjELFfu8gMDK",
        "colab_type": "code",
        "colab": {
          "base_uri": "https://localhost:8080/",
          "height": 34
        },
        "outputId": "bbb0879b-8499-4735-9aad-d2c138101fcd"
      },
      "source": [
        "train[~train.installation_id.isin(train_labels.installation_id.unique())].installation_id.nunique()"
      ],
      "execution_count": 98,
      "outputs": [
        {
          "output_type": "execute_result",
          "data": {
            "text/plain": [
              "954"
            ]
          },
          "metadata": {
            "tags": []
          },
          "execution_count": 98
        }
      ]
    },
    {
      "cell_type": "code",
      "metadata": {
        "id": "S5KTq6Cxiry3",
        "colab_type": "code",
        "colab": {
          "base_uri": "https://localhost:8080/",
          "height": 51
        },
        "outputId": "37c2d18b-f8e3-4525-c6ee-c9a794c568a1"
      },
      "source": [
        "train_labels.installation_id.unique()"
      ],
      "execution_count": 100,
      "outputs": [
        {
          "output_type": "execute_result",
          "data": {
            "text/plain": [
              "array(['0006a69f', '0006c192', '00129856', ..., 'ffc90c32', 'ffd2871d',\n",
              "       'ffeb0b1b'], dtype=object)"
            ]
          },
          "metadata": {
            "tags": []
          },
          "execution_count": 100
        }
      ]
    },
    {
      "cell_type": "code",
      "metadata": {
        "id": "R4UWs7UWirkC",
        "colab_type": "code",
        "colab": {
          "base_uri": "https://localhost:8080/",
          "height": 34
        },
        "outputId": "8e63e6b2-5fba-4a50-a919-88aed12b8290"
      },
      "source": [
        "train.installation_id.isin(train_labels.installation_id.unique())"
      ],
      "execution_count": 101,
      "outputs": [
        {
          "output_type": "execute_result",
          "data": {
            "text/plain": [
              "Series([], Name: installation_id, dtype: bool)"
            ]
          },
          "metadata": {
            "tags": []
          },
          "execution_count": 101
        }
      ]
    },
    {
      "cell_type": "code",
      "metadata": {
        "id": "-itmn7qUhTsQ",
        "colab_type": "code",
        "colab": {
          "base_uri": "https://localhost:8080/",
          "height": 34
        },
        "outputId": "de87a32f-a16f-4734-a6ab-1a96784e1929"
      },
      "source": [
        "train = train[train.installation_id.isin(train_labels.installation_id.unique())]\n",
        "train.shape"
      ],
      "execution_count": 99,
      "outputs": [
        {
          "output_type": "execute_result",
          "data": {
            "text/plain": [
              "(0, 15)"
            ]
          },
          "metadata": {
            "tags": []
          },
          "execution_count": 99
        }
      ]
    },
    {
      "cell_type": "code",
      "metadata": {
        "id": "RqcfOS7KhlZM",
        "colab_type": "code",
        "colab": {
          "base_uri": "https://localhost:8080/",
          "height": 51
        },
        "outputId": "e1b82326-1d3b-4109-fbf0-7ad6e8c08144"
      },
      "source": [
        "# Feature Engineering\n",
        "\n",
        "print(f'Number of rows in train_labels: {train_labels.shape[0]}')\n",
        "print(f'Number of unique game_sessions in train_labels: {train_labels.game_session.nunique()}')"
      ],
      "execution_count": 102,
      "outputs": [
        {
          "output_type": "stream",
          "text": [
            "Number of rows in train_labels: 17690\n",
            "Number of unique game_sessions in train_labels: 17690\n"
          ],
          "name": "stdout"
        }
      ]
    },
    {
      "cell_type": "code",
      "metadata": {
        "id": "Xwkea6oijLTJ",
        "colab_type": "code",
        "colab": {}
      },
      "source": [
        "train = train.drop(['date', 'month', 'hour', 'dayofweek'], axis=1)"
      ],
      "execution_count": 0,
      "outputs": []
    },
    {
      "cell_type": "code",
      "metadata": {
        "id": "qHA-_z7zjpDl",
        "colab_type": "code",
        "colab": {
          "base_uri": "https://localhost:8080/",
          "height": 343
        },
        "outputId": "80c2c1b9-3c3d-4738-874a-623a32fb307f"
      },
      "source": [
        "train.sample(5)"
      ],
      "execution_count": 106,
      "outputs": [
        {
          "output_type": "execute_result",
          "data": {
            "text/html": [
              "<div>\n",
              "<style scoped>\n",
              "    .dataframe tbody tr th:only-of-type {\n",
              "        vertical-align: middle;\n",
              "    }\n",
              "\n",
              "    .dataframe tbody tr th {\n",
              "        vertical-align: top;\n",
              "    }\n",
              "\n",
              "    .dataframe thead th {\n",
              "        text-align: right;\n",
              "    }\n",
              "</style>\n",
              "<table border=\"1\" class=\"dataframe\">\n",
              "  <thead>\n",
              "    <tr style=\"text-align: right;\">\n",
              "      <th></th>\n",
              "      <th>event_id</th>\n",
              "      <th>game_session</th>\n",
              "      <th>timestamp</th>\n",
              "      <th>event_data</th>\n",
              "      <th>installation_id</th>\n",
              "      <th>event_count</th>\n",
              "      <th>event_code</th>\n",
              "      <th>game_time</th>\n",
              "      <th>title</th>\n",
              "      <th>type</th>\n",
              "      <th>world</th>\n",
              "    </tr>\n",
              "  </thead>\n",
              "  <tbody>\n",
              "    <tr>\n",
              "      <th>229693</th>\n",
              "      <td>f50fc6c1</td>\n",
              "      <td>d490992578e3e501</td>\n",
              "      <td>2019-09-14T00:27:12.948Z</td>\n",
              "      <td>{\"cloud\":\"right\",\"cloud_size\":2,\"event_count\":...</td>\n",
              "      <td>3267eb2c</td>\n",
              "      <td>73</td>\n",
              "      <td>4021</td>\n",
              "      <td>176524</td>\n",
              "      <td>Watering Hole (Activity)</td>\n",
              "      <td>Activity</td>\n",
              "      <td>MAGMAPEAK</td>\n",
              "    </tr>\n",
              "    <tr>\n",
              "      <th>644687</th>\n",
              "      <td>923afab1</td>\n",
              "      <td>76288d78ed67f259</td>\n",
              "      <td>2019-09-15T22:05:04.638Z</td>\n",
              "      <td>{\"description\":\"Put the right sized bucket und...</td>\n",
              "      <td>8cd5bc7c</td>\n",
              "      <td>2</td>\n",
              "      <td>3010</td>\n",
              "      <td>378</td>\n",
              "      <td>Cauldron Filler (Assessment)</td>\n",
              "      <td>Assessment</td>\n",
              "      <td>MAGMAPEAK</td>\n",
              "    </tr>\n",
              "    <tr>\n",
              "      <th>1123030</th>\n",
              "      <td>8b757ab8</td>\n",
              "      <td>abebf40e8260fd88</td>\n",
              "      <td>2019-08-25T12:38:06.621Z</td>\n",
              "      <td>{\"description\":\"You need more.\",\"identifier\":\"...</td>\n",
              "      <td>f86a6ed4</td>\n",
              "      <td>201</td>\n",
              "      <td>3120</td>\n",
              "      <td>174440</td>\n",
              "      <td>Crystals Rule</td>\n",
              "      <td>Game</td>\n",
              "      <td>TREETOPCITY</td>\n",
              "    </tr>\n",
              "    <tr>\n",
              "      <th>712013</th>\n",
              "      <td>27253bdc</td>\n",
              "      <td>84f8e68b9cd969cd</td>\n",
              "      <td>2019-08-06T14:46:22.463Z</td>\n",
              "      <td>{\"event_code\": 2000, \"event_count\": 1}</td>\n",
              "      <td>97f14e50</td>\n",
              "      <td>1</td>\n",
              "      <td>2000</td>\n",
              "      <td>0</td>\n",
              "      <td>Tree Top City - Level 1</td>\n",
              "      <td>Clip</td>\n",
              "      <td>TREETOPCITY</td>\n",
              "    </tr>\n",
              "    <tr>\n",
              "      <th>53960</th>\n",
              "      <td>69fdac0a</td>\n",
              "      <td>8a9ea9be7a5e5844</td>\n",
              "      <td>2019-08-31T17:13:32.157Z</td>\n",
              "      <td>{\"description\":\"Now we have three bowls. Epide...</td>\n",
              "      <td>0b607c82</td>\n",
              "      <td>34</td>\n",
              "      <td>3110</td>\n",
              "      <td>107758</td>\n",
              "      <td>Happy Camel</td>\n",
              "      <td>Game</td>\n",
              "      <td>CRYSTALCAVES</td>\n",
              "    </tr>\n",
              "  </tbody>\n",
              "</table>\n",
              "</div>"
            ],
            "text/plain": [
              "         event_id      game_session                 timestamp  \\\n",
              "229693   f50fc6c1  d490992578e3e501  2019-09-14T00:27:12.948Z   \n",
              "644687   923afab1  76288d78ed67f259  2019-09-15T22:05:04.638Z   \n",
              "1123030  8b757ab8  abebf40e8260fd88  2019-08-25T12:38:06.621Z   \n",
              "712013   27253bdc  84f8e68b9cd969cd  2019-08-06T14:46:22.463Z   \n",
              "53960    69fdac0a  8a9ea9be7a5e5844  2019-08-31T17:13:32.157Z   \n",
              "\n",
              "                                                event_data installation_id  \\\n",
              "229693   {\"cloud\":\"right\",\"cloud_size\":2,\"event_count\":...        3267eb2c   \n",
              "644687   {\"description\":\"Put the right sized bucket und...        8cd5bc7c   \n",
              "1123030  {\"description\":\"You need more.\",\"identifier\":\"...        f86a6ed4   \n",
              "712013              {\"event_code\": 2000, \"event_count\": 1}        97f14e50   \n",
              "53960    {\"description\":\"Now we have three bowls. Epide...        0b607c82   \n",
              "\n",
              "         event_count  event_code  game_time                         title  \\\n",
              "229693            73        4021     176524      Watering Hole (Activity)   \n",
              "644687             2        3010        378  Cauldron Filler (Assessment)   \n",
              "1123030          201        3120     174440                 Crystals Rule   \n",
              "712013             1        2000          0       Tree Top City - Level 1   \n",
              "53960             34        3110     107758                   Happy Camel   \n",
              "\n",
              "               type         world  \n",
              "229693     Activity     MAGMAPEAK  \n",
              "644687   Assessment     MAGMAPEAK  \n",
              "1123030        Game   TREETOPCITY  \n",
              "712013         Clip   TREETOPCITY  \n",
              "53960          Game  CRYSTALCAVES  "
            ]
          },
          "metadata": {
            "tags": []
          },
          "execution_count": 106
        }
      ]
    },
    {
      "cell_type": "code",
      "metadata": {
        "id": "PIijP3Nes00K",
        "colab_type": "code",
        "colab": {
          "base_uri": "https://localhost:8080/",
          "height": 102
        },
        "outputId": "02041507-0d2c-47e4-e68a-8d2fbfc78514"
      },
      "source": [
        "test111 = list(map(lambda x, y: str(x) + '_' + str(y), train['title'][:5], train['event_code'][:5]))\n",
        "test111"
      ],
      "execution_count": 107,
      "outputs": [
        {
          "output_type": "execute_result",
          "data": {
            "text/plain": [
              "['Pan Balance_4025',\n",
              " 'Mushroom Sorter (Assessment)_3021',\n",
              " 'Chest Sorter (Assessment)_4070',\n",
              " 'Bottle Filler (Activity)_3010',\n",
              " 'Bubble Bath_2030']"
            ]
          },
          "metadata": {
            "tags": []
          },
          "execution_count": 107
        }
      ]
    },
    {
      "cell_type": "code",
      "metadata": {
        "id": "5dASQlfDuGSK",
        "colab_type": "code",
        "colab": {
          "base_uri": "https://localhost:8080/",
          "height": 765
        },
        "outputId": "1ec8ad45-cb43-4668-e2fa-358542c44f24"
      },
      "source": [
        "list_of_user_activities111 = list(set(train['title'].unique()).union(set(test['title'].unique())))\n",
        "list_of_user_activities111"
      ],
      "execution_count": 108,
      "outputs": [
        {
          "output_type": "execute_result",
          "data": {
            "text/plain": [
              "['Chicken Balancer (Activity)',\n",
              " 'Crystal Caves - Level 2',\n",
              " 'Bug Measurer (Activity)',\n",
              " 'Crystal Caves - Level 3',\n",
              " 'Magma Peak - Level 2',\n",
              " 'Cauldron Filler (Assessment)',\n",
              " 'Flower Waterer (Activity)',\n",
              " 'Rulers',\n",
              " 'Slop Problem',\n",
              " 'Sandcastle Builder (Activity)',\n",
              " 'Crystal Caves - Level 1',\n",
              " 'Leaf Leader',\n",
              " 'Happy Camel',\n",
              " 'Tree Top City - Level 3',\n",
              " 'Treasure Map',\n",
              " 'Costume Box',\n",
              " 'Tree Top City - Level 1',\n",
              " 'Scrub-A-Dub',\n",
              " 'Ordering Spheres',\n",
              " 'Watering Hole (Activity)',\n",
              " 'Lifting Heavy Things',\n",
              " 'Bubble Bath',\n",
              " 'Mushroom Sorter (Assessment)',\n",
              " 'Balancing Act',\n",
              " 'Bottle Filler (Activity)',\n",
              " 'Chow Time',\n",
              " 'Egg Dropper (Activity)',\n",
              " 'Heavy, Heavier, Heaviest',\n",
              " 'Air Show',\n",
              " 'Magma Peak - Level 1',\n",
              " 'Pan Balance',\n",
              " 'Dino Drink',\n",
              " '12 Monkeys',\n",
              " 'Honey Cake',\n",
              " 'Cart Balancer (Assessment)',\n",
              " 'Fireworks (Activity)',\n",
              " 'All Star Sorting',\n",
              " 'Crystals Rule',\n",
              " 'Dino Dive',\n",
              " \"Pirate's Tale\",\n",
              " 'Welcome to Lost Lagoon!',\n",
              " 'Chest Sorter (Assessment)',\n",
              " 'Tree Top City - Level 2',\n",
              " 'Bird Measurer (Assessment)']"
            ]
          },
          "metadata": {
            "tags": []
          },
          "execution_count": 108
        }
      ]
    },
    {
      "cell_type": "code",
      "metadata": {
        "id": "02txwJ-vtB2E",
        "colab_type": "code",
        "colab": {
          "base_uri": "https://localhost:8080/",
          "height": 765
        },
        "outputId": "e20041db-ffe0-4bd0-a90c-18f35ca6e658"
      },
      "source": [
        "activities_map111 = dict(zip(list_of_user_activities111, np.arange(len(list_of_user_activities111))))\n",
        "activities_map111"
      ],
      "execution_count": 109,
      "outputs": [
        {
          "output_type": "execute_result",
          "data": {
            "text/plain": [
              "{'12 Monkeys': 32,\n",
              " 'Air Show': 28,\n",
              " 'All Star Sorting': 36,\n",
              " 'Balancing Act': 23,\n",
              " 'Bird Measurer (Assessment)': 43,\n",
              " 'Bottle Filler (Activity)': 24,\n",
              " 'Bubble Bath': 21,\n",
              " 'Bug Measurer (Activity)': 2,\n",
              " 'Cart Balancer (Assessment)': 34,\n",
              " 'Cauldron Filler (Assessment)': 5,\n",
              " 'Chest Sorter (Assessment)': 41,\n",
              " 'Chicken Balancer (Activity)': 0,\n",
              " 'Chow Time': 25,\n",
              " 'Costume Box': 15,\n",
              " 'Crystal Caves - Level 1': 10,\n",
              " 'Crystal Caves - Level 2': 1,\n",
              " 'Crystal Caves - Level 3': 3,\n",
              " 'Crystals Rule': 37,\n",
              " 'Dino Dive': 38,\n",
              " 'Dino Drink': 31,\n",
              " 'Egg Dropper (Activity)': 26,\n",
              " 'Fireworks (Activity)': 35,\n",
              " 'Flower Waterer (Activity)': 6,\n",
              " 'Happy Camel': 12,\n",
              " 'Heavy, Heavier, Heaviest': 27,\n",
              " 'Honey Cake': 33,\n",
              " 'Leaf Leader': 11,\n",
              " 'Lifting Heavy Things': 20,\n",
              " 'Magma Peak - Level 1': 29,\n",
              " 'Magma Peak - Level 2': 4,\n",
              " 'Mushroom Sorter (Assessment)': 22,\n",
              " 'Ordering Spheres': 18,\n",
              " 'Pan Balance': 30,\n",
              " \"Pirate's Tale\": 39,\n",
              " 'Rulers': 7,\n",
              " 'Sandcastle Builder (Activity)': 9,\n",
              " 'Scrub-A-Dub': 17,\n",
              " 'Slop Problem': 8,\n",
              " 'Treasure Map': 14,\n",
              " 'Tree Top City - Level 1': 16,\n",
              " 'Tree Top City - Level 2': 42,\n",
              " 'Tree Top City - Level 3': 13,\n",
              " 'Watering Hole (Activity)': 19,\n",
              " 'Welcome to Lost Lagoon!': 40}"
            ]
          },
          "metadata": {
            "tags": []
          },
          "execution_count": 109
        }
      ]
    },
    {
      "cell_type": "code",
      "metadata": {
        "id": "02X5pkIVviQ1",
        "colab_type": "code",
        "colab": {
          "base_uri": "https://localhost:8080/",
          "height": 343
        },
        "outputId": "f839e854-c98c-45ef-a887-d1fa8464cbae"
      },
      "source": [
        "train['title111'] = train['title'].map(activities_map111)\n",
        "train.sample(5)"
      ],
      "execution_count": 113,
      "outputs": [
        {
          "output_type": "execute_result",
          "data": {
            "text/html": [
              "<div>\n",
              "<style scoped>\n",
              "    .dataframe tbody tr th:only-of-type {\n",
              "        vertical-align: middle;\n",
              "    }\n",
              "\n",
              "    .dataframe tbody tr th {\n",
              "        vertical-align: top;\n",
              "    }\n",
              "\n",
              "    .dataframe thead th {\n",
              "        text-align: right;\n",
              "    }\n",
              "</style>\n",
              "<table border=\"1\" class=\"dataframe\">\n",
              "  <thead>\n",
              "    <tr style=\"text-align: right;\">\n",
              "      <th></th>\n",
              "      <th>event_id</th>\n",
              "      <th>game_session</th>\n",
              "      <th>timestamp</th>\n",
              "      <th>event_data</th>\n",
              "      <th>installation_id</th>\n",
              "      <th>event_count</th>\n",
              "      <th>event_code</th>\n",
              "      <th>game_time</th>\n",
              "      <th>title</th>\n",
              "      <th>type</th>\n",
              "      <th>world</th>\n",
              "      <th>title111</th>\n",
              "    </tr>\n",
              "  </thead>\n",
              "  <tbody>\n",
              "    <tr>\n",
              "      <th>488824</th>\n",
              "      <td>df4940d3</td>\n",
              "      <td>e7a6a11aad79c461</td>\n",
              "      <td>2019-07-28T18:52:30.976Z</td>\n",
              "      <td>{\"description\":\"Wow! That looks so cool!\",\"ide...</td>\n",
              "      <td>763b2ac3</td>\n",
              "      <td>60</td>\n",
              "      <td>3110</td>\n",
              "      <td>103497</td>\n",
              "      <td>Bottle Filler (Activity)</td>\n",
              "      <td>Activity</td>\n",
              "      <td>MAGMAPEAK</td>\n",
              "      <td>24</td>\n",
              "    </tr>\n",
              "    <tr>\n",
              "      <th>476981</th>\n",
              "      <td>88d4a5be</td>\n",
              "      <td>afe73a3dbadecfe2</td>\n",
              "      <td>2019-08-18T00:08:51.993Z</td>\n",
              "      <td>{\"description\":\"Drag the mushrooms to the tree...</td>\n",
              "      <td>71e82b16</td>\n",
              "      <td>32</td>\n",
              "      <td>3120</td>\n",
              "      <td>29052</td>\n",
              "      <td>Mushroom Sorter (Assessment)</td>\n",
              "      <td>Assessment</td>\n",
              "      <td>TREETOPCITY</td>\n",
              "      <td>22</td>\n",
              "    </tr>\n",
              "    <tr>\n",
              "      <th>181978</th>\n",
              "      <td>8d7e386c</td>\n",
              "      <td>9d295acccaed28da</td>\n",
              "      <td>2019-09-29T17:06:46.418Z</td>\n",
              "      <td>{\"description\":\"Which one of these bowls has E...</td>\n",
              "      <td>2a47e474</td>\n",
              "      <td>32</td>\n",
              "      <td>3010</td>\n",
              "      <td>58554</td>\n",
              "      <td>Happy Camel</td>\n",
              "      <td>Game</td>\n",
              "      <td>CRYSTALCAVES</td>\n",
              "      <td>12</td>\n",
              "    </tr>\n",
              "    <tr>\n",
              "      <th>1002502</th>\n",
              "      <td>0a08139c</td>\n",
              "      <td>dc0ada12fec5f7aa</td>\n",
              "      <td>2019-08-26T13:35:57.953Z</td>\n",
              "      <td>{\"description\":\"Three!\",\"identifier\":\"sid_3\",\"...</td>\n",
              "      <td>dd9a2277</td>\n",
              "      <td>145</td>\n",
              "      <td>3010</td>\n",
              "      <td>130872</td>\n",
              "      <td>Bug Measurer (Activity)</td>\n",
              "      <td>Activity</td>\n",
              "      <td>TREETOPCITY</td>\n",
              "      <td>2</td>\n",
              "    </tr>\n",
              "    <tr>\n",
              "      <th>886962</th>\n",
              "      <td>7372e1a5</td>\n",
              "      <td>0afa5f2bad2c3d65</td>\n",
              "      <td>2019-08-08T20:54:46.145Z</td>\n",
              "      <td>{\"coordinates\":{\"x\":297,\"y\":688,\"stage_width\":...</td>\n",
              "      <td>c285f89d</td>\n",
              "      <td>70</td>\n",
              "      <td>4070</td>\n",
              "      <td>65046</td>\n",
              "      <td>Chow Time</td>\n",
              "      <td>Game</td>\n",
              "      <td>CRYSTALCAVES</td>\n",
              "      <td>25</td>\n",
              "    </tr>\n",
              "  </tbody>\n",
              "</table>\n",
              "</div>"
            ],
            "text/plain": [
              "         event_id      game_session                 timestamp  \\\n",
              "488824   df4940d3  e7a6a11aad79c461  2019-07-28T18:52:30.976Z   \n",
              "476981   88d4a5be  afe73a3dbadecfe2  2019-08-18T00:08:51.993Z   \n",
              "181978   8d7e386c  9d295acccaed28da  2019-09-29T17:06:46.418Z   \n",
              "1002502  0a08139c  dc0ada12fec5f7aa  2019-08-26T13:35:57.953Z   \n",
              "886962   7372e1a5  0afa5f2bad2c3d65  2019-08-08T20:54:46.145Z   \n",
              "\n",
              "                                                event_data installation_id  \\\n",
              "488824   {\"description\":\"Wow! That looks so cool!\",\"ide...        763b2ac3   \n",
              "476981   {\"description\":\"Drag the mushrooms to the tree...        71e82b16   \n",
              "181978   {\"description\":\"Which one of these bowls has E...        2a47e474   \n",
              "1002502  {\"description\":\"Three!\",\"identifier\":\"sid_3\",\"...        dd9a2277   \n",
              "886962   {\"coordinates\":{\"x\":297,\"y\":688,\"stage_width\":...        c285f89d   \n",
              "\n",
              "         event_count  event_code  game_time                         title  \\\n",
              "488824            60        3110     103497      Bottle Filler (Activity)   \n",
              "476981            32        3120      29052  Mushroom Sorter (Assessment)   \n",
              "181978            32        3010      58554                   Happy Camel   \n",
              "1002502          145        3010     130872       Bug Measurer (Activity)   \n",
              "886962            70        4070      65046                     Chow Time   \n",
              "\n",
              "               type         world  title111  \n",
              "488824     Activity     MAGMAPEAK        24  \n",
              "476981   Assessment   TREETOPCITY        22  \n",
              "181978         Game  CRYSTALCAVES        12  \n",
              "1002502    Activity   TREETOPCITY         2  \n",
              "886962         Game  CRYSTALCAVES        25  "
            ]
          },
          "metadata": {
            "tags": []
          },
          "execution_count": 113
        }
      ]
    },
    {
      "cell_type": "code",
      "metadata": {
        "id": "E154M8GOz_Dj",
        "colab_type": "code",
        "colab": {}
      },
      "source": [
        "train.drop('title111', axis=1, inplace=True)"
      ],
      "execution_count": 0,
      "outputs": []
    },
    {
      "cell_type": "code",
      "metadata": {
        "id": "KK4NYVHIuayQ",
        "colab_type": "code",
        "colab": {}
      },
      "source": [
        "def encode_title(train, test, train_labels):\n",
        "    train['title_event_code'] = list(map(lambda x, y: str(x) + '_' + str(y), train['title'], train['event_code']))\n",
        "    test['title_event_code'] = list(map(lambda x, y: str(x) + '_' + str(y), test['title'], test['event_code']))\n",
        "    all_title_event_code = list(set(train['title_event_code'].unique()).union(test['title_event_code'].unique()))\n",
        "    \n",
        "    list_of_user_activities = list(set(train['title'].unique()).union(set(test['title'].unique())))\n",
        "    list_of_event_code = list(set(train['event_code'].unique()).union(set(test['event_code'].unique())))\n",
        "    list_of_event_id = list(set(train['event_id'].unique()).union(set(test['event_id'].unique())))\n",
        "    list_of_worlds = list(set(train['world'].unique()).union(set(test['world'].unique())))\n",
        "\n",
        "    activities_map = dict(zip(list_of_user_activities, np.arange(len(list_of_user_activities))))\n",
        "    activities_labels = dict(zip(np.arange(len(list_of_user_activities)), list_of_user_activities))\n",
        "    activities_world = dict(zip(list_of_worlds, np.arange(len(list_of_worlds))))\n",
        "\n",
        "    assess_titles = list(set(train[train['type'] == \"Assessment\"]['title'].value_counts().index).union(\n",
        "        set(test[test['type'] == \"Assessment\"]['title'].value_counts().index)))\n",
        "    \n",
        "    train['title'] = train['title'].map(activities_map)\n",
        "    test['title'] = test['title'].map(activities_map)\n",
        "    train['world'] = train['world'].map(activities_world)\n",
        "    test['world'] = test['world'].map(activities_world)\n",
        "    train_labels['title'] = train_labels['title'].map(activities_map)\n",
        "    win_code = dict(zip(activities_map.values(), (4100*np.ones(len(activities_map))).astype('int')))\n",
        "    win_code[activities_map['Bird Measurer (Assessment)']] = 4110\n",
        "\n",
        "    train['timestamp'] = pd.to_datetime(train['timestamp'])\n",
        "    test['timestamp'] = pd.to_datetime(test['timestamp'])\n",
        "\n",
        "    return train, test, train_labels, win_code, list_of_user_activities, list_of_event_code, activities_labels, assess_titles, list_of_event_id, all_title_event_code\n",
        "\n",
        "\n",
        "train, test, train_labels, win_code, list_of_user_activities, list_of_event_code, activities_labels, assess_titles, list_of_event_id, all_title_event_code = encode_title(train, test, train_labels)\n",
        "\n",
        "categoricals = ['session_title']"
      ],
      "execution_count": 0,
      "outputs": []
    },
    {
      "cell_type": "code",
      "metadata": {
        "id": "y4c9WOjRz5rz",
        "colab_type": "code",
        "colab": {
          "base_uri": "https://localhost:8080/",
          "height": 309
        },
        "outputId": "644e05a3-a1d3-4a9d-899a-ad03805f8e7a"
      },
      "source": [
        "train.sample(5)"
      ],
      "execution_count": 120,
      "outputs": [
        {
          "output_type": "execute_result",
          "data": {
            "text/html": [
              "<div>\n",
              "<style scoped>\n",
              "    .dataframe tbody tr th:only-of-type {\n",
              "        vertical-align: middle;\n",
              "    }\n",
              "\n",
              "    .dataframe tbody tr th {\n",
              "        vertical-align: top;\n",
              "    }\n",
              "\n",
              "    .dataframe thead th {\n",
              "        text-align: right;\n",
              "    }\n",
              "</style>\n",
              "<table border=\"1\" class=\"dataframe\">\n",
              "  <thead>\n",
              "    <tr style=\"text-align: right;\">\n",
              "      <th></th>\n",
              "      <th>event_id</th>\n",
              "      <th>game_session</th>\n",
              "      <th>timestamp</th>\n",
              "      <th>event_data</th>\n",
              "      <th>installation_id</th>\n",
              "      <th>event_count</th>\n",
              "      <th>event_code</th>\n",
              "      <th>game_time</th>\n",
              "      <th>title</th>\n",
              "      <th>type</th>\n",
              "      <th>world</th>\n",
              "      <th>title_event_code</th>\n",
              "    </tr>\n",
              "  </thead>\n",
              "  <tbody>\n",
              "    <tr>\n",
              "      <th>371306</th>\n",
              "      <td>71fe8f75</td>\n",
              "      <td>42be4c75fca0e7e4</td>\n",
              "      <td>2019-10-12 02:24:30.591000+00:00</td>\n",
              "      <td>{\"description\":\"Two!\",\"identifier\":\"sid_2\",\"me...</td>\n",
              "      <td>56a739ec</td>\n",
              "      <td>52</td>\n",
              "      <td>3110</td>\n",
              "      <td>57967</td>\n",
              "      <td>2</td>\n",
              "      <td>Activity</td>\n",
              "      <td>2</td>\n",
              "      <td>Bug Measurer (Activity)_3110</td>\n",
              "    </tr>\n",
              "    <tr>\n",
              "      <th>507044</th>\n",
              "      <td>71fe8f75</td>\n",
              "      <td>1032b30ee005aad7</td>\n",
              "      <td>2019-10-02 18:09:18.746000+00:00</td>\n",
              "      <td>{\"description\":\"One!\",\"identifier\":\"sid_1\",\"me...</td>\n",
              "      <td>77d5414c</td>\n",
              "      <td>90</td>\n",
              "      <td>3110</td>\n",
              "      <td>61205</td>\n",
              "      <td>2</td>\n",
              "      <td>Activity</td>\n",
              "      <td>2</td>\n",
              "      <td>Bug Measurer (Activity)_3110</td>\n",
              "    </tr>\n",
              "    <tr>\n",
              "      <th>1052382</th>\n",
              "      <td>b80e5e84</td>\n",
              "      <td>de4eac8d941c0e0d</td>\n",
              "      <td>2019-09-19 22:05:35.690000+00:00</td>\n",
              "      <td>{\"description\":\"Incoming!\",\"identifier\":\"Buddy...</td>\n",
              "      <td>e6ea5608</td>\n",
              "      <td>64</td>\n",
              "      <td>3110</td>\n",
              "      <td>102577</td>\n",
              "      <td>26</td>\n",
              "      <td>Activity</td>\n",
              "      <td>3</td>\n",
              "      <td>Egg Dropper (Activity)_3110</td>\n",
              "    </tr>\n",
              "    <tr>\n",
              "      <th>937730</th>\n",
              "      <td>f3cd5473</td>\n",
              "      <td>549a87f243c3e68f</td>\n",
              "      <td>2019-09-16 14:14:29.711000+00:00</td>\n",
              "      <td>{\"coordinates\":{\"x\":354,\"y\":334,\"stage_width\":...</td>\n",
              "      <td>cf22f7b2</td>\n",
              "      <td>502</td>\n",
              "      <td>4070</td>\n",
              "      <td>821292</td>\n",
              "      <td>30</td>\n",
              "      <td>Game</td>\n",
              "      <td>3</td>\n",
              "      <td>Pan Balance_4070</td>\n",
              "    </tr>\n",
              "    <tr>\n",
              "      <th>797779</th>\n",
              "      <td>5d042115</td>\n",
              "      <td>f3c042a9dfda7503</td>\n",
              "      <td>2019-10-04 19:49:14.006000+00:00</td>\n",
              "      <td>{\"flowers\":[0,0,0,1,3],\"flower\":0,\"coordinates...</td>\n",
              "      <td>ac564de9</td>\n",
              "      <td>106</td>\n",
              "      <td>4030</td>\n",
              "      <td>198922</td>\n",
              "      <td>6</td>\n",
              "      <td>Activity</td>\n",
              "      <td>2</td>\n",
              "      <td>Flower Waterer (Activity)_4030</td>\n",
              "    </tr>\n",
              "  </tbody>\n",
              "</table>\n",
              "</div>"
            ],
            "text/plain": [
              "         event_id      game_session                        timestamp  \\\n",
              "371306   71fe8f75  42be4c75fca0e7e4 2019-10-12 02:24:30.591000+00:00   \n",
              "507044   71fe8f75  1032b30ee005aad7 2019-10-02 18:09:18.746000+00:00   \n",
              "1052382  b80e5e84  de4eac8d941c0e0d 2019-09-19 22:05:35.690000+00:00   \n",
              "937730   f3cd5473  549a87f243c3e68f 2019-09-16 14:14:29.711000+00:00   \n",
              "797779   5d042115  f3c042a9dfda7503 2019-10-04 19:49:14.006000+00:00   \n",
              "\n",
              "                                                event_data installation_id  \\\n",
              "371306   {\"description\":\"Two!\",\"identifier\":\"sid_2\",\"me...        56a739ec   \n",
              "507044   {\"description\":\"One!\",\"identifier\":\"sid_1\",\"me...        77d5414c   \n",
              "1052382  {\"description\":\"Incoming!\",\"identifier\":\"Buddy...        e6ea5608   \n",
              "937730   {\"coordinates\":{\"x\":354,\"y\":334,\"stage_width\":...        cf22f7b2   \n",
              "797779   {\"flowers\":[0,0,0,1,3],\"flower\":0,\"coordinates...        ac564de9   \n",
              "\n",
              "         event_count  event_code  game_time  title      type  world  \\\n",
              "371306            52        3110      57967      2  Activity      2   \n",
              "507044            90        3110      61205      2  Activity      2   \n",
              "1052382           64        3110     102577     26  Activity      3   \n",
              "937730           502        4070     821292     30      Game      3   \n",
              "797779           106        4030     198922      6  Activity      2   \n",
              "\n",
              "                       title_event_code  \n",
              "371306     Bug Measurer (Activity)_3110  \n",
              "507044     Bug Measurer (Activity)_3110  \n",
              "1052382     Egg Dropper (Activity)_3110  \n",
              "937730                 Pan Balance_4070  \n",
              "797779   Flower Waterer (Activity)_4030  "
            ]
          },
          "metadata": {
            "tags": []
          },
          "execution_count": 120
        }
      ]
    },
    {
      "cell_type": "code",
      "metadata": {
        "id": "dEHz7VF92XGc",
        "colab_type": "code",
        "colab": {
          "base_uri": "https://localhost:8080/",
          "height": 765
        },
        "outputId": "2a130c24-4e6a-4836-8c88-b6a498d2a00e"
      },
      "source": [
        "activities_labels"
      ],
      "execution_count": 121,
      "outputs": [
        {
          "output_type": "execute_result",
          "data": {
            "text/plain": [
              "{0: 'Chicken Balancer (Activity)',\n",
              " 1: 'Crystal Caves - Level 2',\n",
              " 2: 'Bug Measurer (Activity)',\n",
              " 3: 'Crystal Caves - Level 3',\n",
              " 4: 'Magma Peak - Level 2',\n",
              " 5: 'Cauldron Filler (Assessment)',\n",
              " 6: 'Flower Waterer (Activity)',\n",
              " 7: 'Rulers',\n",
              " 8: 'Slop Problem',\n",
              " 9: 'Sandcastle Builder (Activity)',\n",
              " 10: 'Crystal Caves - Level 1',\n",
              " 11: 'Leaf Leader',\n",
              " 12: 'Happy Camel',\n",
              " 13: 'Tree Top City - Level 3',\n",
              " 14: 'Treasure Map',\n",
              " 15: 'Costume Box',\n",
              " 16: 'Tree Top City - Level 1',\n",
              " 17: 'Scrub-A-Dub',\n",
              " 18: 'Ordering Spheres',\n",
              " 19: 'Watering Hole (Activity)',\n",
              " 20: 'Lifting Heavy Things',\n",
              " 21: 'Bubble Bath',\n",
              " 22: 'Mushroom Sorter (Assessment)',\n",
              " 23: 'Balancing Act',\n",
              " 24: 'Bottle Filler (Activity)',\n",
              " 25: 'Chow Time',\n",
              " 26: 'Egg Dropper (Activity)',\n",
              " 27: 'Heavy, Heavier, Heaviest',\n",
              " 28: 'Air Show',\n",
              " 29: 'Magma Peak - Level 1',\n",
              " 30: 'Pan Balance',\n",
              " 31: 'Dino Drink',\n",
              " 32: '12 Monkeys',\n",
              " 33: 'Honey Cake',\n",
              " 34: 'Cart Balancer (Assessment)',\n",
              " 35: 'Fireworks (Activity)',\n",
              " 36: 'All Star Sorting',\n",
              " 37: 'Crystals Rule',\n",
              " 38: 'Dino Dive',\n",
              " 39: \"Pirate's Tale\",\n",
              " 40: 'Welcome to Lost Lagoon!',\n",
              " 41: 'Chest Sorter (Assessment)',\n",
              " 42: 'Tree Top City - Level 2',\n",
              " 43: 'Bird Measurer (Assessment)'}"
            ]
          },
          "metadata": {
            "tags": []
          },
          "execution_count": 121
        }
      ]
    },
    {
      "cell_type": "code",
      "metadata": {
        "id": "yLtGXf0V2zLa",
        "colab_type": "code",
        "colab": {
          "base_uri": "https://localhost:8080/",
          "height": 765
        },
        "outputId": "36c04f49-1aea-422b-de3d-7cf1216cfba4"
      },
      "source": [
        "win_code"
      ],
      "execution_count": 122,
      "outputs": [
        {
          "output_type": "execute_result",
          "data": {
            "text/plain": [
              "{0: 4100,\n",
              " 1: 4100,\n",
              " 2: 4100,\n",
              " 3: 4100,\n",
              " 4: 4100,\n",
              " 5: 4100,\n",
              " 6: 4100,\n",
              " 7: 4100,\n",
              " 8: 4100,\n",
              " 9: 4100,\n",
              " 10: 4100,\n",
              " 11: 4100,\n",
              " 12: 4100,\n",
              " 13: 4100,\n",
              " 14: 4100,\n",
              " 15: 4100,\n",
              " 16: 4100,\n",
              " 17: 4100,\n",
              " 18: 4100,\n",
              " 19: 4100,\n",
              " 20: 4100,\n",
              " 21: 4100,\n",
              " 22: 4100,\n",
              " 23: 4100,\n",
              " 24: 4100,\n",
              " 25: 4100,\n",
              " 26: 4100,\n",
              " 27: 4100,\n",
              " 28: 4100,\n",
              " 29: 4100,\n",
              " 30: 4100,\n",
              " 31: 4100,\n",
              " 32: 4100,\n",
              " 33: 4100,\n",
              " 34: 4100,\n",
              " 35: 4100,\n",
              " 36: 4100,\n",
              " 37: 4100,\n",
              " 38: 4100,\n",
              " 39: 4100,\n",
              " 40: 4100,\n",
              " 41: 4100,\n",
              " 42: 4100,\n",
              " 43: 4110}"
            ]
          },
          "metadata": {
            "tags": []
          },
          "execution_count": 122
        }
      ]
    },
    {
      "cell_type": "code",
      "metadata": {
        "id": "jtVT9sF-vaxc",
        "colab_type": "code",
        "colab": {}
      },
      "source": [
        "def get_data(user_sample, test_set=False):\n",
        "    last_activity = 0\n",
        "    user_activities_count = {'Clip':0, 'Activity':0, 'Assessment':0, 'Game':0}\n",
        "    time_spent_each_act = {actv: 0 for actv in list_of_user_activities}\n",
        "    event_code_count = {eve: 0 for eve in list_of_event_code}\n",
        "    last_session_time_sec = 0\n",
        "\n",
        "    accuracy_groups = {0:0, 1:0, 2:0, 3:0}\n",
        "    all_assessments = []\n",
        "    accumulated_accuracy_group = 0\n",
        "    accumulated_accuracy = 0\n",
        "    accumulated_correct_attempts = 0\n",
        "    accumulated_uncorrect_attempts = 0\n",
        "    accumulated_actions = 0\n",
        "    counter = 0\n",
        "    time_first_activity = float(user_sample['timestamp'].values[0])\n",
        "    durations = []\n",
        "\n",
        "    for i, session in user_sample.groupby('game_session', sort=False):\n",
        "        # i = game_session_id\n",
        "        session_type = session['type'].iloc[0]\n",
        "        session_title = session['title'].iloc[0]\n",
        "        session_title_text = activities_labels[session_title]\n",
        "\n",
        "        if session_type != 'Assessment':\n",
        "            time_spent = int(session['game_time'].iloc[-1] / 1000)\n",
        "            time_spent_each_act[activities_labels[session_title]] += time_spent\n",
        "        \n",
        "        if (session_type == 'Assessment') & (test_set or len(session) > 1):\n",
        "            all_attempts = session.query(f'event_code == {win_code[session_title]}')\n",
        "            true_attempts = all_attempts['event_data'].str.contains('true').sum()\n",
        "            false_attempts = all_attempts['event_data'].str.contains('false').sum()\n",
        "\n",
        "            features = user_activities_count.copy()\n",
        "            features.update(time_spent_each_act.copy())\n",
        "            features.update(event_code_count.copy())\n",
        "\n",
        "            features['installation_id'] = session['installation_id'].iloc[-1]\n",
        "            features['session_title'] = session['title'].iloc[0]\n",
        "            features['accumulated_correct_attempts'] = accumulated_correct_attempts\n",
        "            features['accumulated_uncorrect_attempts'] = accumulated_uncorrect_attempts\n",
        "\n",
        "            accumulated_correct_attempts += true_attempts\n",
        "            accumulated_uncorrect_attempts += false_attempts\n",
        "\n",
        "            if durations == []:\n",
        "                features['duration_mean'] = 0\n",
        "            else:\n",
        "                features['duration_mean'] = np.mean(durations)\n",
        "            \n",
        "            durations.append((session.iloc[-1, 2] - session.iloc[0, 2]).seconds)\n",
        "\n",
        "            features['accumulated_accuracy'] = accumulated_accuracy / counter if counter > 0 else 0\n",
        "\n",
        "            accuracy = true_attempts / (true_attempts + false_attempts) if (true_attempts + false_attempts) != 0 else 0\n",
        "            accumulated_accuracy += accuracy\n",
        "\n",
        "            if accuracy == 0:\n",
        "                features['accuracy_group'] = 0\n",
        "            elif accuracy == 1:\n",
        "                features['accuracy_group'] = 3\n",
        "            elif accuracy == 0.5:\n",
        "                features['accuracy_group'] = 2\n",
        "            else:\n",
        "                features['accuracy_group'] = 1\n",
        "            features.update(accuracy_groups)\n",
        "            accuracy_groups[features['accuracy_group']] += 1\n",
        "\n",
        "            features['accumulated_accuracy_group'] = accumulated_accuracy_group / counter if counter > 0 else 0\n",
        "            accumulated_accuracy_group += features['accuracy_group']\n",
        "            features['accumulated_actions'] = accumulated_actions\n",
        "\n",
        "            if test_set:\n",
        "                all_assessments.append(features)\n",
        "            elif true_attempts+false_attempts > 0:\n",
        "                all_assessments.append(features)\n",
        "            \n",
        "            counter += 1\n",
        "        \n",
        "        n_of_event_codes = Counter(session['event_code'])\n",
        "\n",
        "        for key in n_of_event_codes.keys():\n",
        "            event_code_count[key] += n_of_event_codes[key]\n",
        "        \n",
        "        accumulated_actions += len(session)\n",
        "        if last_activity != session_type:\n",
        "            user_activities_count[session_type] += 1\n",
        "            last_activity = session_type\n",
        "    \n",
        "    if test_set:\n",
        "        return all_assessments[-1]\n",
        "    \n",
        "    return all_assessments"
      ],
      "execution_count": 0,
      "outputs": []
    },
    {
      "cell_type": "code",
      "metadata": {
        "id": "9ZZSupQW9kip",
        "colab_type": "code",
        "colab": {
          "base_uri": "https://localhost:8080/",
          "height": 49
        },
        "outputId": "b7db2169-cbe1-421a-c13a-3aca23337577"
      },
      "source": [
        "train[train.installation_id == \"0006a69f\"]"
      ],
      "execution_count": 124,
      "outputs": [
        {
          "output_type": "execute_result",
          "data": {
            "text/html": [
              "<div>\n",
              "<style scoped>\n",
              "    .dataframe tbody tr th:only-of-type {\n",
              "        vertical-align: middle;\n",
              "    }\n",
              "\n",
              "    .dataframe tbody tr th {\n",
              "        vertical-align: top;\n",
              "    }\n",
              "\n",
              "    .dataframe thead th {\n",
              "        text-align: right;\n",
              "    }\n",
              "</style>\n",
              "<table border=\"1\" class=\"dataframe\">\n",
              "  <thead>\n",
              "    <tr style=\"text-align: right;\">\n",
              "      <th></th>\n",
              "      <th>event_id</th>\n",
              "      <th>game_session</th>\n",
              "      <th>timestamp</th>\n",
              "      <th>event_data</th>\n",
              "      <th>installation_id</th>\n",
              "      <th>event_count</th>\n",
              "      <th>event_code</th>\n",
              "      <th>game_time</th>\n",
              "      <th>title</th>\n",
              "      <th>type</th>\n",
              "      <th>world</th>\n",
              "      <th>title_event_code</th>\n",
              "    </tr>\n",
              "  </thead>\n",
              "  <tbody>\n",
              "  </tbody>\n",
              "</table>\n",
              "</div>"
            ],
            "text/plain": [
              "Empty DataFrame\n",
              "Columns: [event_id, game_session, timestamp, event_data, installation_id, event_count, event_code, game_time, title, type, world, title_event_code]\n",
              "Index: []"
            ]
          },
          "metadata": {
            "tags": []
          },
          "execution_count": 124
        }
      ]
    },
    {
      "cell_type": "code",
      "metadata": {
        "id": "oCuHefS_99Yz",
        "colab_type": "code",
        "colab": {
          "base_uri": "https://localhost:8080/",
          "height": 609
        },
        "outputId": "38754fd2-4868-45ba-c209-feb71b76b3b4"
      },
      "source": [
        "# train[train.installation_id == \"c42aeee6\"]"
      ],
      "execution_count": 127,
      "outputs": [
        {
          "output_type": "execute_result",
          "data": {
            "text/html": [
              "<div>\n",
              "<style scoped>\n",
              "    .dataframe tbody tr th:only-of-type {\n",
              "        vertical-align: middle;\n",
              "    }\n",
              "\n",
              "    .dataframe tbody tr th {\n",
              "        vertical-align: top;\n",
              "    }\n",
              "\n",
              "    .dataframe thead th {\n",
              "        text-align: right;\n",
              "    }\n",
              "</style>\n",
              "<table border=\"1\" class=\"dataframe\">\n",
              "  <thead>\n",
              "    <tr style=\"text-align: right;\">\n",
              "      <th></th>\n",
              "      <th>event_id</th>\n",
              "      <th>game_session</th>\n",
              "      <th>timestamp</th>\n",
              "      <th>event_data</th>\n",
              "      <th>installation_id</th>\n",
              "      <th>event_count</th>\n",
              "      <th>event_code</th>\n",
              "      <th>game_time</th>\n",
              "      <th>title</th>\n",
              "      <th>type</th>\n",
              "      <th>world</th>\n",
              "      <th>title_event_code</th>\n",
              "    </tr>\n",
              "  </thead>\n",
              "  <tbody>\n",
              "    <tr>\n",
              "      <th>895515</th>\n",
              "      <td>71fe8f75</td>\n",
              "      <td>f10976498227b454</td>\n",
              "      <td>2019-09-01 18:10:36.418000+00:00</td>\n",
              "      <td>{\"description\":\"Five!\",\"identifier\":\"sid_5\",\"m...</td>\n",
              "      <td>c42aeee6</td>\n",
              "      <td>28</td>\n",
              "      <td>3110</td>\n",
              "      <td>31667</td>\n",
              "      <td>2</td>\n",
              "      <td>Activity</td>\n",
              "      <td>2</td>\n",
              "      <td>Bug Measurer (Activity)_3110</td>\n",
              "    </tr>\n",
              "    <tr>\n",
              "      <th>895670</th>\n",
              "      <td>e37a2b78</td>\n",
              "      <td>862ca503edf6afd5</td>\n",
              "      <td>2019-09-01 18:13:47.546000+00:00</td>\n",
              "      <td>{\"description\":\"Whoops. This caterpillar is to...</td>\n",
              "      <td>c42aeee6</td>\n",
              "      <td>51</td>\n",
              "      <td>3120</td>\n",
              "      <td>57799</td>\n",
              "      <td>43</td>\n",
              "      <td>Assessment</td>\n",
              "      <td>2</td>\n",
              "      <td>Bird Measurer (Assessment)_3120</td>\n",
              "    </tr>\n",
              "    <tr>\n",
              "      <th>895575</th>\n",
              "      <td>71fe8f75</td>\n",
              "      <td>f10976498227b454</td>\n",
              "      <td>2019-09-01 18:11:47.594000+00:00</td>\n",
              "      <td>{\"description\":\"Let's put this bug back where ...</td>\n",
              "      <td>c42aeee6</td>\n",
              "      <td>88</td>\n",
              "      <td>3110</td>\n",
              "      <td>102776</td>\n",
              "      <td>2</td>\n",
              "      <td>Activity</td>\n",
              "      <td>2</td>\n",
              "      <td>Bug Measurer (Activity)_3110</td>\n",
              "    </tr>\n",
              "    <tr>\n",
              "      <th>894986</th>\n",
              "      <td>9d29771f</td>\n",
              "      <td>a517304e44807d1f</td>\n",
              "      <td>2019-08-18 17:46:31.572000+00:00</td>\n",
              "      <td>{\"description\":\"That's one!\",\"identifier\":\"Dot...</td>\n",
              "      <td>c42aeee6</td>\n",
              "      <td>6</td>\n",
              "      <td>3021</td>\n",
              "      <td>2618</td>\n",
              "      <td>22</td>\n",
              "      <td>Assessment</td>\n",
              "      <td>2</td>\n",
              "      <td>Mushroom Sorter (Assessment)_3021</td>\n",
              "    </tr>\n",
              "    <tr>\n",
              "      <th>895838</th>\n",
              "      <td>f56e0afc</td>\n",
              "      <td>6a21cf4d19b3a85b</td>\n",
              "      <td>2019-09-01 18:18:15.608000+00:00</td>\n",
              "      <td>{\"version\":\"1.0\",\"event_count\":1,\"game_time\":0...</td>\n",
              "      <td>c42aeee6</td>\n",
              "      <td>1</td>\n",
              "      <td>2000</td>\n",
              "      <td>0</td>\n",
              "      <td>43</td>\n",
              "      <td>Assessment</td>\n",
              "      <td>2</td>\n",
              "      <td>Bird Measurer (Assessment)_2000</td>\n",
              "    </tr>\n",
              "    <tr>\n",
              "      <th>...</th>\n",
              "      <td>...</td>\n",
              "      <td>...</td>\n",
              "      <td>...</td>\n",
              "      <td>...</td>\n",
              "      <td>...</td>\n",
              "      <td>...</td>\n",
              "      <td>...</td>\n",
              "      <td>...</td>\n",
              "      <td>...</td>\n",
              "      <td>...</td>\n",
              "      <td>...</td>\n",
              "      <td>...</td>\n",
              "    </tr>\n",
              "    <tr>\n",
              "      <th>895201</th>\n",
              "      <td>51102b85</td>\n",
              "      <td>6829eadda4831114</td>\n",
              "      <td>2019-08-20 22:12:48.278000+00:00</td>\n",
              "      <td>{\"hat\":0,\"caterpillar\":\"left\",\"coordinates\":{\"...</td>\n",
              "      <td>c42aeee6</td>\n",
              "      <td>61</td>\n",
              "      <td>4030</td>\n",
              "      <td>55999</td>\n",
              "      <td>43</td>\n",
              "      <td>Assessment</td>\n",
              "      <td>2</td>\n",
              "      <td>Bird Measurer (Assessment)_4030</td>\n",
              "    </tr>\n",
              "    <tr>\n",
              "      <th>895240</th>\n",
              "      <td>5c2f29ca</td>\n",
              "      <td>e91fc2e36b5e5241</td>\n",
              "      <td>2019-09-01 18:00:06.750000+00:00</td>\n",
              "      <td>{\"crystal_id\":\"gem08\",\"weight\":6,\"coordinates\"...</td>\n",
              "      <td>c42aeee6</td>\n",
              "      <td>5</td>\n",
              "      <td>4020</td>\n",
              "      <td>3842</td>\n",
              "      <td>34</td>\n",
              "      <td>Assessment</td>\n",
              "      <td>3</td>\n",
              "      <td>Cart Balancer (Assessment)_4020</td>\n",
              "    </tr>\n",
              "    <tr>\n",
              "      <th>895828</th>\n",
              "      <td>587b5989</td>\n",
              "      <td>39115c6f4be49f19</td>\n",
              "      <td>2019-09-01 18:17:02.319000+00:00</td>\n",
              "      <td>{\"coordinates\":{\"x\":598,\"y\":442,\"stage_width\":...</td>\n",
              "      <td>c42aeee6</td>\n",
              "      <td>127</td>\n",
              "      <td>4070</td>\n",
              "      <td>139495</td>\n",
              "      <td>36</td>\n",
              "      <td>Game</td>\n",
              "      <td>2</td>\n",
              "      <td>All Star Sorting_4070</td>\n",
              "    </tr>\n",
              "    <tr>\n",
              "      <th>895202</th>\n",
              "      <td>4a4c3d21</td>\n",
              "      <td>6829eadda4831114</td>\n",
              "      <td>2019-08-20 22:12:48.489000+00:00</td>\n",
              "      <td>{\"height\":1,\"bird_height\":4,\"correct\":false,\"c...</td>\n",
              "      <td>c42aeee6</td>\n",
              "      <td>62</td>\n",
              "      <td>4025</td>\n",
              "      <td>56231</td>\n",
              "      <td>43</td>\n",
              "      <td>Assessment</td>\n",
              "      <td>2</td>\n",
              "      <td>Bird Measurer (Assessment)_4025</td>\n",
              "    </tr>\n",
              "    <tr>\n",
              "      <th>894980</th>\n",
              "      <td>bbfe0445</td>\n",
              "      <td>fee0ea26f45da1e7</td>\n",
              "      <td>2019-08-18 17:46:08.286000+00:00</td>\n",
              "      <td>{\"description\":\"Look at you, you lean, mean, p...</td>\n",
              "      <td>c42aeee6</td>\n",
              "      <td>18</td>\n",
              "      <td>3110</td>\n",
              "      <td>64519</td>\n",
              "      <td>6</td>\n",
              "      <td>Activity</td>\n",
              "      <td>2</td>\n",
              "      <td>Flower Waterer (Activity)_3110</td>\n",
              "    </tr>\n",
              "  </tbody>\n",
              "</table>\n",
              "<p>861 rows × 12 columns</p>\n",
              "</div>"
            ],
            "text/plain": [
              "        event_id      game_session                        timestamp  \\\n",
              "895515  71fe8f75  f10976498227b454 2019-09-01 18:10:36.418000+00:00   \n",
              "895670  e37a2b78  862ca503edf6afd5 2019-09-01 18:13:47.546000+00:00   \n",
              "895575  71fe8f75  f10976498227b454 2019-09-01 18:11:47.594000+00:00   \n",
              "894986  9d29771f  a517304e44807d1f 2019-08-18 17:46:31.572000+00:00   \n",
              "895838  f56e0afc  6a21cf4d19b3a85b 2019-09-01 18:18:15.608000+00:00   \n",
              "...          ...               ...                              ...   \n",
              "895201  51102b85  6829eadda4831114 2019-08-20 22:12:48.278000+00:00   \n",
              "895240  5c2f29ca  e91fc2e36b5e5241 2019-09-01 18:00:06.750000+00:00   \n",
              "895828  587b5989  39115c6f4be49f19 2019-09-01 18:17:02.319000+00:00   \n",
              "895202  4a4c3d21  6829eadda4831114 2019-08-20 22:12:48.489000+00:00   \n",
              "894980  bbfe0445  fee0ea26f45da1e7 2019-08-18 17:46:08.286000+00:00   \n",
              "\n",
              "                                               event_data installation_id  \\\n",
              "895515  {\"description\":\"Five!\",\"identifier\":\"sid_5\",\"m...        c42aeee6   \n",
              "895670  {\"description\":\"Whoops. This caterpillar is to...        c42aeee6   \n",
              "895575  {\"description\":\"Let's put this bug back where ...        c42aeee6   \n",
              "894986  {\"description\":\"That's one!\",\"identifier\":\"Dot...        c42aeee6   \n",
              "895838  {\"version\":\"1.0\",\"event_count\":1,\"game_time\":0...        c42aeee6   \n",
              "...                                                   ...             ...   \n",
              "895201  {\"hat\":0,\"caterpillar\":\"left\",\"coordinates\":{\"...        c42aeee6   \n",
              "895240  {\"crystal_id\":\"gem08\",\"weight\":6,\"coordinates\"...        c42aeee6   \n",
              "895828  {\"coordinates\":{\"x\":598,\"y\":442,\"stage_width\":...        c42aeee6   \n",
              "895202  {\"height\":1,\"bird_height\":4,\"correct\":false,\"c...        c42aeee6   \n",
              "894980  {\"description\":\"Look at you, you lean, mean, p...        c42aeee6   \n",
              "\n",
              "        event_count  event_code  game_time  title        type  world  \\\n",
              "895515           28        3110      31667      2    Activity      2   \n",
              "895670           51        3120      57799     43  Assessment      2   \n",
              "895575           88        3110     102776      2    Activity      2   \n",
              "894986            6        3021       2618     22  Assessment      2   \n",
              "895838            1        2000          0     43  Assessment      2   \n",
              "...             ...         ...        ...    ...         ...    ...   \n",
              "895201           61        4030      55999     43  Assessment      2   \n",
              "895240            5        4020       3842     34  Assessment      3   \n",
              "895828          127        4070     139495     36        Game      2   \n",
              "895202           62        4025      56231     43  Assessment      2   \n",
              "894980           18        3110      64519      6    Activity      2   \n",
              "\n",
              "                         title_event_code  \n",
              "895515       Bug Measurer (Activity)_3110  \n",
              "895670    Bird Measurer (Assessment)_3120  \n",
              "895575       Bug Measurer (Activity)_3110  \n",
              "894986  Mushroom Sorter (Assessment)_3021  \n",
              "895838    Bird Measurer (Assessment)_2000  \n",
              "...                                   ...  \n",
              "895201    Bird Measurer (Assessment)_4030  \n",
              "895240    Cart Balancer (Assessment)_4020  \n",
              "895828              All Star Sorting_4070  \n",
              "895202    Bird Measurer (Assessment)_4025  \n",
              "894980     Flower Waterer (Activity)_3110  \n",
              "\n",
              "[861 rows x 12 columns]"
            ]
          },
          "metadata": {
            "tags": []
          },
          "execution_count": 127
        }
      ]
    },
    {
      "cell_type": "code",
      "metadata": {
        "id": "kTHt-loexxdz",
        "colab_type": "code",
        "colab": {
          "base_uri": "https://localhost:8080/",
          "height": 334
        },
        "outputId": "3078a6bc-df29-41a6-e98e-e985fcf09398"
      },
      "source": [
        "sample_id = train[train.installation_id == \"0006a69f\"]\n",
        "sample_id_data = get_data(sample_id)\n",
        "sample_df = pd.DataFrame(sample_id_data)\n",
        "sample_df.iloc[:, -10:]"
      ],
      "execution_count": 125,
      "outputs": [
        {
          "output_type": "error",
          "ename": "IndexError",
          "evalue": "ignored",
          "traceback": [
            "\u001b[0;31m---------------------------------------------------------------------------\u001b[0m",
            "\u001b[0;31mIndexError\u001b[0m                                Traceback (most recent call last)",
            "\u001b[0;32m<ipython-input-125-8a84631493cc>\u001b[0m in \u001b[0;36m<module>\u001b[0;34m()\u001b[0m\n\u001b[1;32m      1\u001b[0m \u001b[0msample_id\u001b[0m \u001b[0;34m=\u001b[0m \u001b[0mtrain\u001b[0m\u001b[0;34m[\u001b[0m\u001b[0mtrain\u001b[0m\u001b[0;34m.\u001b[0m\u001b[0minstallation_id\u001b[0m \u001b[0;34m==\u001b[0m \u001b[0;34m\"0006a69f\"\u001b[0m\u001b[0;34m]\u001b[0m\u001b[0;34m\u001b[0m\u001b[0;34m\u001b[0m\u001b[0m\n\u001b[0;32m----> 2\u001b[0;31m \u001b[0msample_id_data\u001b[0m \u001b[0;34m=\u001b[0m \u001b[0mget_data\u001b[0m\u001b[0;34m(\u001b[0m\u001b[0msample_id\u001b[0m\u001b[0;34m)\u001b[0m\u001b[0;34m\u001b[0m\u001b[0;34m\u001b[0m\u001b[0m\n\u001b[0m\u001b[1;32m      3\u001b[0m \u001b[0msample_df\u001b[0m \u001b[0;34m=\u001b[0m \u001b[0mpd\u001b[0m\u001b[0;34m.\u001b[0m\u001b[0mDataFrame\u001b[0m\u001b[0;34m(\u001b[0m\u001b[0msample_id_data\u001b[0m\u001b[0;34m)\u001b[0m\u001b[0;34m\u001b[0m\u001b[0;34m\u001b[0m\u001b[0m\n\u001b[1;32m      4\u001b[0m \u001b[0msample_df\u001b[0m\u001b[0;34m.\u001b[0m\u001b[0miloc\u001b[0m\u001b[0;34m[\u001b[0m\u001b[0;34m:\u001b[0m\u001b[0;34m,\u001b[0m \u001b[0;34m-\u001b[0m\u001b[0;36m10\u001b[0m\u001b[0;34m:\u001b[0m\u001b[0;34m]\u001b[0m\u001b[0;34m\u001b[0m\u001b[0;34m\u001b[0m\u001b[0m\n",
            "\u001b[0;32m<ipython-input-123-dd50676dd6da>\u001b[0m in \u001b[0;36mget_data\u001b[0;34m(user_sample, test_set)\u001b[0m\n\u001b[1;32m     14\u001b[0m     \u001b[0maccumulated_actions\u001b[0m \u001b[0;34m=\u001b[0m \u001b[0;36m0\u001b[0m\u001b[0;34m\u001b[0m\u001b[0;34m\u001b[0m\u001b[0m\n\u001b[1;32m     15\u001b[0m     \u001b[0mcounter\u001b[0m \u001b[0;34m=\u001b[0m \u001b[0;36m0\u001b[0m\u001b[0;34m\u001b[0m\u001b[0;34m\u001b[0m\u001b[0m\n\u001b[0;32m---> 16\u001b[0;31m     \u001b[0mtime_first_activity\u001b[0m \u001b[0;34m=\u001b[0m \u001b[0mfloat\u001b[0m\u001b[0;34m(\u001b[0m\u001b[0muser_sample\u001b[0m\u001b[0;34m[\u001b[0m\u001b[0;34m'timestamp'\u001b[0m\u001b[0;34m]\u001b[0m\u001b[0;34m.\u001b[0m\u001b[0mvalues\u001b[0m\u001b[0;34m[\u001b[0m\u001b[0;36m0\u001b[0m\u001b[0;34m]\u001b[0m\u001b[0;34m)\u001b[0m\u001b[0;34m\u001b[0m\u001b[0;34m\u001b[0m\u001b[0m\n\u001b[0m\u001b[1;32m     17\u001b[0m     \u001b[0mdurations\u001b[0m \u001b[0;34m=\u001b[0m \u001b[0;34m[\u001b[0m\u001b[0;34m]\u001b[0m\u001b[0;34m\u001b[0m\u001b[0;34m\u001b[0m\u001b[0m\n\u001b[1;32m     18\u001b[0m \u001b[0;34m\u001b[0m\u001b[0m\n",
            "\u001b[0;31mIndexError\u001b[0m: index 0 is out of bounds for axis 0 with size 0"
          ]
        }
      ]
    },
    {
      "cell_type": "code",
      "metadata": {
        "id": "EFG0nPo-96V1",
        "colab_type": "code",
        "colab": {
          "base_uri": "https://localhost:8080/",
          "height": 204
        },
        "outputId": "69505b3a-4c7a-4185-c969-ef037d35a43e"
      },
      "source": [
        "train_labels[train_labels.installation_id == \"0006a69f\"].iloc[:, [0, 1, -3, -1]]"
      ],
      "execution_count": 128,
      "outputs": [
        {
          "output_type": "execute_result",
          "data": {
            "text/html": [
              "<div>\n",
              "<style scoped>\n",
              "    .dataframe tbody tr th:only-of-type {\n",
              "        vertical-align: middle;\n",
              "    }\n",
              "\n",
              "    .dataframe tbody tr th {\n",
              "        vertical-align: top;\n",
              "    }\n",
              "\n",
              "    .dataframe thead th {\n",
              "        text-align: right;\n",
              "    }\n",
              "</style>\n",
              "<table border=\"1\" class=\"dataframe\">\n",
              "  <thead>\n",
              "    <tr style=\"text-align: right;\">\n",
              "      <th></th>\n",
              "      <th>game_session</th>\n",
              "      <th>installation_id</th>\n",
              "      <th>num_incorrect</th>\n",
              "      <th>accuracy_group</th>\n",
              "    </tr>\n",
              "  </thead>\n",
              "  <tbody>\n",
              "    <tr>\n",
              "      <th>0</th>\n",
              "      <td>6bdf9623adc94d89</td>\n",
              "      <td>0006a69f</td>\n",
              "      <td>0</td>\n",
              "      <td>3</td>\n",
              "    </tr>\n",
              "    <tr>\n",
              "      <th>1</th>\n",
              "      <td>77b8ee947eb84b4e</td>\n",
              "      <td>0006a69f</td>\n",
              "      <td>11</td>\n",
              "      <td>0</td>\n",
              "    </tr>\n",
              "    <tr>\n",
              "      <th>2</th>\n",
              "      <td>901acc108f55a5a1</td>\n",
              "      <td>0006a69f</td>\n",
              "      <td>0</td>\n",
              "      <td>3</td>\n",
              "    </tr>\n",
              "    <tr>\n",
              "      <th>3</th>\n",
              "      <td>9501794defd84e4d</td>\n",
              "      <td>0006a69f</td>\n",
              "      <td>1</td>\n",
              "      <td>2</td>\n",
              "    </tr>\n",
              "    <tr>\n",
              "      <th>4</th>\n",
              "      <td>a9ef3ecb3d1acc6a</td>\n",
              "      <td>0006a69f</td>\n",
              "      <td>0</td>\n",
              "      <td>3</td>\n",
              "    </tr>\n",
              "  </tbody>\n",
              "</table>\n",
              "</div>"
            ],
            "text/plain": [
              "       game_session installation_id  num_incorrect  accuracy_group\n",
              "0  6bdf9623adc94d89        0006a69f              0               3\n",
              "1  77b8ee947eb84b4e        0006a69f             11               0\n",
              "2  901acc108f55a5a1        0006a69f              0               3\n",
              "3  9501794defd84e4d        0006a69f              1               2\n",
              "4  a9ef3ecb3d1acc6a        0006a69f              0               3"
            ]
          },
          "metadata": {
            "tags": []
          },
          "execution_count": 128
        }
      ]
    },
    {
      "cell_type": "code",
      "metadata": {
        "id": "3QEZTK3j-Zfy",
        "colab_type": "code",
        "colab": {
          "base_uri": "https://localhost:8080/",
          "height": 66,
          "referenced_widgets": [
            "005f8beedd614e6ab31b06e445345a80",
            "25de0062639e4e4dbda6815b33f8569d",
            "f02096350f1240bfb24022692713075f",
            "979a821a80614574aa0c5442fcd67431",
            "1e30347de2164efeba99245fe3217b77",
            "817ab6ff3cd84197936208c9b037d442",
            "a498a3128b3748aba51adeec92b7637f",
            "e72b4e737f2b4e898f675c1153db58b8"
          ]
        },
        "outputId": "542b83fb-543e-455b-b130-8ec0121190bc"
      },
      "source": [
        "compiled_data = []\n",
        "for i, (ins_id, user_sample) in tqdm(enumerate(train.groupby('installation_id', sort=False)), total=train.installation_id.nunique(), desc='Installation_id', position=0):\n",
        "    compiled_data += get_data(user_sample)"
      ],
      "execution_count": 131,
      "outputs": [
        {
          "output_type": "display_data",
          "data": {
            "application/vnd.jupyter.widget-view+json": {
              "model_id": "005f8beedd614e6ab31b06e445345a80",
              "version_minor": 0,
              "version_major": 2
            },
            "text/plain": [
              "HBox(children=(IntProgress(value=0, description='Installation_id', max=999, style=ProgressStyle(description_wi…"
            ]
          },
          "metadata": {
            "tags": []
          }
        },
        {
          "output_type": "stream",
          "text": [
            "\n"
          ],
          "name": "stdout"
        }
      ]
    },
    {
      "cell_type": "code",
      "metadata": {
        "id": "OWYQUhCm_B6M",
        "colab_type": "code",
        "colab": {
          "base_uri": "https://localhost:8080/",
          "height": 34
        },
        "outputId": "292f0f39-3bb7-4195-92f4-7987bef31311"
      },
      "source": [
        "reduce_train = pd.DataFrame(compiled_data)\n",
        "del compiled_data\n",
        "reduce_train.shape"
      ],
      "execution_count": 132,
      "outputs": [
        {
          "output_type": "execute_result",
          "data": {
            "text/plain": [
              "(1919, 103)"
            ]
          },
          "metadata": {
            "tags": []
          },
          "execution_count": 132
        }
      ]
    },
    {
      "cell_type": "code",
      "metadata": {
        "id": "DU61s1u-_yF4",
        "colab_type": "code",
        "colab": {
          "base_uri": "https://localhost:8080/",
          "height": 309
        },
        "outputId": "8e03d36e-4f25-4b89-a54c-895c98ae9a98"
      },
      "source": [
        "reduce_train.sample(5)"
      ],
      "execution_count": 133,
      "outputs": [
        {
          "output_type": "execute_result",
          "data": {
            "text/html": [
              "<div>\n",
              "<style scoped>\n",
              "    .dataframe tbody tr th:only-of-type {\n",
              "        vertical-align: middle;\n",
              "    }\n",
              "\n",
              "    .dataframe tbody tr th {\n",
              "        vertical-align: top;\n",
              "    }\n",
              "\n",
              "    .dataframe thead th {\n",
              "        text-align: right;\n",
              "    }\n",
              "</style>\n",
              "<table border=\"1\" class=\"dataframe\">\n",
              "  <thead>\n",
              "    <tr style=\"text-align: right;\">\n",
              "      <th></th>\n",
              "      <th>Clip</th>\n",
              "      <th>Activity</th>\n",
              "      <th>Assessment</th>\n",
              "      <th>Game</th>\n",
              "      <th>Chicken Balancer (Activity)</th>\n",
              "      <th>Crystal Caves - Level 2</th>\n",
              "      <th>Bug Measurer (Activity)</th>\n",
              "      <th>Crystal Caves - Level 3</th>\n",
              "      <th>Magma Peak - Level 2</th>\n",
              "      <th>Cauldron Filler (Assessment)</th>\n",
              "      <th>Flower Waterer (Activity)</th>\n",
              "      <th>Rulers</th>\n",
              "      <th>Slop Problem</th>\n",
              "      <th>Sandcastle Builder (Activity)</th>\n",
              "      <th>Crystal Caves - Level 1</th>\n",
              "      <th>Leaf Leader</th>\n",
              "      <th>Happy Camel</th>\n",
              "      <th>Tree Top City - Level 3</th>\n",
              "      <th>Treasure Map</th>\n",
              "      <th>Costume Box</th>\n",
              "      <th>Tree Top City - Level 1</th>\n",
              "      <th>Scrub-A-Dub</th>\n",
              "      <th>Ordering Spheres</th>\n",
              "      <th>Watering Hole (Activity)</th>\n",
              "      <th>Lifting Heavy Things</th>\n",
              "      <th>Bubble Bath</th>\n",
              "      <th>Mushroom Sorter (Assessment)</th>\n",
              "      <th>Balancing Act</th>\n",
              "      <th>Bottle Filler (Activity)</th>\n",
              "      <th>Chow Time</th>\n",
              "      <th>Egg Dropper (Activity)</th>\n",
              "      <th>Heavy, Heavier, Heaviest</th>\n",
              "      <th>Air Show</th>\n",
              "      <th>Magma Peak - Level 1</th>\n",
              "      <th>Pan Balance</th>\n",
              "      <th>Dino Drink</th>\n",
              "      <th>12 Monkeys</th>\n",
              "      <th>Honey Cake</th>\n",
              "      <th>Cart Balancer (Assessment)</th>\n",
              "      <th>Fireworks (Activity)</th>\n",
              "      <th>All Star Sorting</th>\n",
              "      <th>Crystals Rule</th>\n",
              "      <th>Dino Dive</th>\n",
              "      <th>Pirate's Tale</th>\n",
              "      <th>Welcome to Lost Lagoon!</th>\n",
              "      <th>Chest Sorter (Assessment)</th>\n",
              "      <th>Tree Top City - Level 2</th>\n",
              "      <th>Bird Measurer (Assessment)</th>\n",
              "      <th>2050</th>\n",
              "      <th>4100</th>\n",
              "      <th>4230</th>\n",
              "      <th>5000</th>\n",
              "      <th>4235</th>\n",
              "      <th>2060</th>\n",
              "      <th>4110</th>\n",
              "      <th>5010</th>\n",
              "      <th>2070</th>\n",
              "      <th>2075</th>\n",
              "      <th>2080</th>\n",
              "      <th>2081</th>\n",
              "      <th>2083</th>\n",
              "      <th>3110</th>\n",
              "      <th>4010</th>\n",
              "      <th>3120</th>\n",
              "      <th>3121</th>\n",
              "      <th>4020</th>\n",
              "      <th>4021</th>\n",
              "      <th>4022</th>\n",
              "      <th>4025</th>\n",
              "      <th>4030</th>\n",
              "      <th>4031</th>\n",
              "      <th>3010</th>\n",
              "      <th>4035</th>\n",
              "      <th>4040</th>\n",
              "      <th>3020</th>\n",
              "      <th>3021</th>\n",
              "      <th>4045</th>\n",
              "      <th>2000</th>\n",
              "      <th>4050</th>\n",
              "      <th>2010</th>\n",
              "      <th>2020</th>\n",
              "      <th>4070</th>\n",
              "      <th>2025</th>\n",
              "      <th>2030</th>\n",
              "      <th>4080</th>\n",
              "      <th>2035</th>\n",
              "      <th>2040</th>\n",
              "      <th>4090</th>\n",
              "      <th>4220</th>\n",
              "      <th>4095</th>\n",
              "      <th>installation_id</th>\n",
              "      <th>session_title</th>\n",
              "      <th>accumulated_correct_attempts</th>\n",
              "      <th>accumulated_uncorrect_attempts</th>\n",
              "      <th>duration_mean</th>\n",
              "      <th>accumulated_accuracy</th>\n",
              "      <th>accuracy_group</th>\n",
              "      <th>0</th>\n",
              "      <th>1</th>\n",
              "      <th>2</th>\n",
              "      <th>3</th>\n",
              "      <th>accumulated_accuracy_group</th>\n",
              "      <th>accumulated_actions</th>\n",
              "    </tr>\n",
              "  </thead>\n",
              "  <tbody>\n",
              "    <tr>\n",
              "      <th>1131</th>\n",
              "      <td>1</td>\n",
              "      <td>2</td>\n",
              "      <td>1</td>\n",
              "      <td>3</td>\n",
              "      <td>0</td>\n",
              "      <td>0</td>\n",
              "      <td>0</td>\n",
              "      <td>0</td>\n",
              "      <td>0</td>\n",
              "      <td>0</td>\n",
              "      <td>0</td>\n",
              "      <td>0</td>\n",
              "      <td>0</td>\n",
              "      <td>42</td>\n",
              "      <td>0</td>\n",
              "      <td>0</td>\n",
              "      <td>46</td>\n",
              "      <td>0</td>\n",
              "      <td>0</td>\n",
              "      <td>0</td>\n",
              "      <td>0</td>\n",
              "      <td>101</td>\n",
              "      <td>0</td>\n",
              "      <td>0</td>\n",
              "      <td>0</td>\n",
              "      <td>0</td>\n",
              "      <td>0</td>\n",
              "      <td>0</td>\n",
              "      <td>19</td>\n",
              "      <td>44</td>\n",
              "      <td>89</td>\n",
              "      <td>0</td>\n",
              "      <td>0</td>\n",
              "      <td>0</td>\n",
              "      <td>0</td>\n",
              "      <td>60</td>\n",
              "      <td>0</td>\n",
              "      <td>0</td>\n",
              "      <td>0</td>\n",
              "      <td>0</td>\n",
              "      <td>0</td>\n",
              "      <td>57</td>\n",
              "      <td>0</td>\n",
              "      <td>0</td>\n",
              "      <td>0</td>\n",
              "      <td>0</td>\n",
              "      <td>0</td>\n",
              "      <td>0</td>\n",
              "      <td>2</td>\n",
              "      <td>1</td>\n",
              "      <td>0</td>\n",
              "      <td>0</td>\n",
              "      <td>0</td>\n",
              "      <td>1</td>\n",
              "      <td>0</td>\n",
              "      <td>0</td>\n",
              "      <td>0</td>\n",
              "      <td>1</td>\n",
              "      <td>4</td>\n",
              "      <td>3</td>\n",
              "      <td>3</td>\n",
              "      <td>128</td>\n",
              "      <td>6</td>\n",
              "      <td>21</td>\n",
              "      <td>32</td>\n",
              "      <td>91</td>\n",
              "      <td>13</td>\n",
              "      <td>0</td>\n",
              "      <td>21</td>\n",
              "      <td>106</td>\n",
              "      <td>11</td>\n",
              "      <td>131</td>\n",
              "      <td>21</td>\n",
              "      <td>7</td>\n",
              "      <td>22</td>\n",
              "      <td>30</td>\n",
              "      <td>1</td>\n",
              "      <td>9</td>\n",
              "      <td>0</td>\n",
              "      <td>1</td>\n",
              "      <td>39</td>\n",
              "      <td>304</td>\n",
              "      <td>1</td>\n",
              "      <td>34</td>\n",
              "      <td>0</td>\n",
              "      <td>1</td>\n",
              "      <td>6</td>\n",
              "      <td>0</td>\n",
              "      <td>0</td>\n",
              "      <td>1</td>\n",
              "      <td>480bfe4f</td>\n",
              "      <td>34</td>\n",
              "      <td>1</td>\n",
              "      <td>0</td>\n",
              "      <td>5.0</td>\n",
              "      <td>1.00</td>\n",
              "      <td>1</td>\n",
              "      <td>0</td>\n",
              "      <td>0</td>\n",
              "      <td>0</td>\n",
              "      <td>1</td>\n",
              "      <td>3.0</td>\n",
              "      <td>1052</td>\n",
              "    </tr>\n",
              "    <tr>\n",
              "      <th>567</th>\n",
              "      <td>1</td>\n",
              "      <td>18</td>\n",
              "      <td>9</td>\n",
              "      <td>15</td>\n",
              "      <td>365</td>\n",
              "      <td>0</td>\n",
              "      <td>212</td>\n",
              "      <td>0</td>\n",
              "      <td>0</td>\n",
              "      <td>0</td>\n",
              "      <td>181</td>\n",
              "      <td>0</td>\n",
              "      <td>0</td>\n",
              "      <td>101</td>\n",
              "      <td>0</td>\n",
              "      <td>378</td>\n",
              "      <td>178</td>\n",
              "      <td>0</td>\n",
              "      <td>0</td>\n",
              "      <td>0</td>\n",
              "      <td>0</td>\n",
              "      <td>244</td>\n",
              "      <td>0</td>\n",
              "      <td>595</td>\n",
              "      <td>0</td>\n",
              "      <td>2231</td>\n",
              "      <td>0</td>\n",
              "      <td>0</td>\n",
              "      <td>579</td>\n",
              "      <td>349</td>\n",
              "      <td>317</td>\n",
              "      <td>0</td>\n",
              "      <td>244</td>\n",
              "      <td>0</td>\n",
              "      <td>1043</td>\n",
              "      <td>675</td>\n",
              "      <td>0</td>\n",
              "      <td>0</td>\n",
              "      <td>0</td>\n",
              "      <td>278</td>\n",
              "      <td>280</td>\n",
              "      <td>28</td>\n",
              "      <td>104</td>\n",
              "      <td>0</td>\n",
              "      <td>0</td>\n",
              "      <td>0</td>\n",
              "      <td>0</td>\n",
              "      <td>0</td>\n",
              "      <td>8</td>\n",
              "      <td>102</td>\n",
              "      <td>191</td>\n",
              "      <td>36</td>\n",
              "      <td>194</td>\n",
              "      <td>12</td>\n",
              "      <td>6</td>\n",
              "      <td>41</td>\n",
              "      <td>4</td>\n",
              "      <td>7</td>\n",
              "      <td>12</td>\n",
              "      <td>5</td>\n",
              "      <td>8</td>\n",
              "      <td>931</td>\n",
              "      <td>36</td>\n",
              "      <td>208</td>\n",
              "      <td>195</td>\n",
              "      <td>1063</td>\n",
              "      <td>137</td>\n",
              "      <td>28</td>\n",
              "      <td>295</td>\n",
              "      <td>1273</td>\n",
              "      <td>74</td>\n",
              "      <td>923</td>\n",
              "      <td>264</td>\n",
              "      <td>73</td>\n",
              "      <td>206</td>\n",
              "      <td>202</td>\n",
              "      <td>11</td>\n",
              "      <td>64</td>\n",
              "      <td>0</td>\n",
              "      <td>8</td>\n",
              "      <td>224</td>\n",
              "      <td>1340</td>\n",
              "      <td>12</td>\n",
              "      <td>200</td>\n",
              "      <td>0</td>\n",
              "      <td>9</td>\n",
              "      <td>8</td>\n",
              "      <td>2</td>\n",
              "      <td>39</td>\n",
              "      <td>8</td>\n",
              "      <td>8cd5bc7c</td>\n",
              "      <td>34</td>\n",
              "      <td>7</td>\n",
              "      <td>7</td>\n",
              "      <td>25927.7</td>\n",
              "      <td>0.60</td>\n",
              "      <td>3</td>\n",
              "      <td>3</td>\n",
              "      <td>0</td>\n",
              "      <td>2</td>\n",
              "      <td>5</td>\n",
              "      <td>1.9</td>\n",
              "      <td>8459</td>\n",
              "    </tr>\n",
              "    <tr>\n",
              "      <th>1011</th>\n",
              "      <td>0</td>\n",
              "      <td>0</td>\n",
              "      <td>0</td>\n",
              "      <td>0</td>\n",
              "      <td>0</td>\n",
              "      <td>0</td>\n",
              "      <td>0</td>\n",
              "      <td>0</td>\n",
              "      <td>0</td>\n",
              "      <td>0</td>\n",
              "      <td>0</td>\n",
              "      <td>0</td>\n",
              "      <td>0</td>\n",
              "      <td>0</td>\n",
              "      <td>0</td>\n",
              "      <td>0</td>\n",
              "      <td>0</td>\n",
              "      <td>0</td>\n",
              "      <td>0</td>\n",
              "      <td>0</td>\n",
              "      <td>0</td>\n",
              "      <td>0</td>\n",
              "      <td>0</td>\n",
              "      <td>0</td>\n",
              "      <td>0</td>\n",
              "      <td>0</td>\n",
              "      <td>0</td>\n",
              "      <td>0</td>\n",
              "      <td>0</td>\n",
              "      <td>0</td>\n",
              "      <td>0</td>\n",
              "      <td>0</td>\n",
              "      <td>0</td>\n",
              "      <td>0</td>\n",
              "      <td>0</td>\n",
              "      <td>0</td>\n",
              "      <td>0</td>\n",
              "      <td>0</td>\n",
              "      <td>0</td>\n",
              "      <td>0</td>\n",
              "      <td>0</td>\n",
              "      <td>0</td>\n",
              "      <td>0</td>\n",
              "      <td>0</td>\n",
              "      <td>0</td>\n",
              "      <td>0</td>\n",
              "      <td>0</td>\n",
              "      <td>0</td>\n",
              "      <td>0</td>\n",
              "      <td>0</td>\n",
              "      <td>0</td>\n",
              "      <td>0</td>\n",
              "      <td>0</td>\n",
              "      <td>0</td>\n",
              "      <td>0</td>\n",
              "      <td>0</td>\n",
              "      <td>0</td>\n",
              "      <td>0</td>\n",
              "      <td>0</td>\n",
              "      <td>0</td>\n",
              "      <td>0</td>\n",
              "      <td>0</td>\n",
              "      <td>0</td>\n",
              "      <td>0</td>\n",
              "      <td>0</td>\n",
              "      <td>0</td>\n",
              "      <td>0</td>\n",
              "      <td>0</td>\n",
              "      <td>0</td>\n",
              "      <td>0</td>\n",
              "      <td>0</td>\n",
              "      <td>0</td>\n",
              "      <td>0</td>\n",
              "      <td>0</td>\n",
              "      <td>0</td>\n",
              "      <td>0</td>\n",
              "      <td>0</td>\n",
              "      <td>0</td>\n",
              "      <td>0</td>\n",
              "      <td>0</td>\n",
              "      <td>0</td>\n",
              "      <td>0</td>\n",
              "      <td>0</td>\n",
              "      <td>0</td>\n",
              "      <td>0</td>\n",
              "      <td>0</td>\n",
              "      <td>0</td>\n",
              "      <td>0</td>\n",
              "      <td>0</td>\n",
              "      <td>0</td>\n",
              "      <td>f69fc509</td>\n",
              "      <td>22</td>\n",
              "      <td>0</td>\n",
              "      <td>0</td>\n",
              "      <td>0.0</td>\n",
              "      <td>0.00</td>\n",
              "      <td>3</td>\n",
              "      <td>0</td>\n",
              "      <td>0</td>\n",
              "      <td>0</td>\n",
              "      <td>0</td>\n",
              "      <td>0.0</td>\n",
              "      <td>0</td>\n",
              "    </tr>\n",
              "    <tr>\n",
              "      <th>986</th>\n",
              "      <td>2</td>\n",
              "      <td>3</td>\n",
              "      <td>2</td>\n",
              "      <td>5</td>\n",
              "      <td>74</td>\n",
              "      <td>0</td>\n",
              "      <td>0</td>\n",
              "      <td>0</td>\n",
              "      <td>0</td>\n",
              "      <td>0</td>\n",
              "      <td>0</td>\n",
              "      <td>0</td>\n",
              "      <td>0</td>\n",
              "      <td>18</td>\n",
              "      <td>0</td>\n",
              "      <td>231</td>\n",
              "      <td>0</td>\n",
              "      <td>0</td>\n",
              "      <td>0</td>\n",
              "      <td>0</td>\n",
              "      <td>0</td>\n",
              "      <td>159</td>\n",
              "      <td>0</td>\n",
              "      <td>7</td>\n",
              "      <td>0</td>\n",
              "      <td>0</td>\n",
              "      <td>0</td>\n",
              "      <td>0</td>\n",
              "      <td>0</td>\n",
              "      <td>249</td>\n",
              "      <td>0</td>\n",
              "      <td>0</td>\n",
              "      <td>0</td>\n",
              "      <td>0</td>\n",
              "      <td>132</td>\n",
              "      <td>0</td>\n",
              "      <td>0</td>\n",
              "      <td>0</td>\n",
              "      <td>0</td>\n",
              "      <td>0</td>\n",
              "      <td>65</td>\n",
              "      <td>0</td>\n",
              "      <td>67</td>\n",
              "      <td>0</td>\n",
              "      <td>0</td>\n",
              "      <td>0</td>\n",
              "      <td>0</td>\n",
              "      <td>0</td>\n",
              "      <td>8</td>\n",
              "      <td>15</td>\n",
              "      <td>0</td>\n",
              "      <td>4</td>\n",
              "      <td>0</td>\n",
              "      <td>2</td>\n",
              "      <td>2</td>\n",
              "      <td>2</td>\n",
              "      <td>1</td>\n",
              "      <td>1</td>\n",
              "      <td>6</td>\n",
              "      <td>0</td>\n",
              "      <td>7</td>\n",
              "      <td>91</td>\n",
              "      <td>7</td>\n",
              "      <td>54</td>\n",
              "      <td>40</td>\n",
              "      <td>156</td>\n",
              "      <td>8</td>\n",
              "      <td>2</td>\n",
              "      <td>32</td>\n",
              "      <td>143</td>\n",
              "      <td>0</td>\n",
              "      <td>88</td>\n",
              "      <td>31</td>\n",
              "      <td>4</td>\n",
              "      <td>56</td>\n",
              "      <td>41</td>\n",
              "      <td>0</td>\n",
              "      <td>12</td>\n",
              "      <td>0</td>\n",
              "      <td>1</td>\n",
              "      <td>53</td>\n",
              "      <td>175</td>\n",
              "      <td>1</td>\n",
              "      <td>53</td>\n",
              "      <td>0</td>\n",
              "      <td>0</td>\n",
              "      <td>9</td>\n",
              "      <td>3</td>\n",
              "      <td>0</td>\n",
              "      <td>2</td>\n",
              "      <td>7eff5909</td>\n",
              "      <td>22</td>\n",
              "      <td>1</td>\n",
              "      <td>3</td>\n",
              "      <td>43187.5</td>\n",
              "      <td>0.25</td>\n",
              "      <td>3</td>\n",
              "      <td>1</td>\n",
              "      <td>0</td>\n",
              "      <td>1</td>\n",
              "      <td>0</td>\n",
              "      <td>1.0</td>\n",
              "      <td>1110</td>\n",
              "    </tr>\n",
              "    <tr>\n",
              "      <th>1594</th>\n",
              "      <td>0</td>\n",
              "      <td>0</td>\n",
              "      <td>0</td>\n",
              "      <td>1</td>\n",
              "      <td>0</td>\n",
              "      <td>0</td>\n",
              "      <td>0</td>\n",
              "      <td>0</td>\n",
              "      <td>0</td>\n",
              "      <td>0</td>\n",
              "      <td>0</td>\n",
              "      <td>0</td>\n",
              "      <td>0</td>\n",
              "      <td>0</td>\n",
              "      <td>0</td>\n",
              "      <td>0</td>\n",
              "      <td>0</td>\n",
              "      <td>0</td>\n",
              "      <td>0</td>\n",
              "      <td>0</td>\n",
              "      <td>0</td>\n",
              "      <td>0</td>\n",
              "      <td>0</td>\n",
              "      <td>0</td>\n",
              "      <td>0</td>\n",
              "      <td>0</td>\n",
              "      <td>0</td>\n",
              "      <td>0</td>\n",
              "      <td>0</td>\n",
              "      <td>49</td>\n",
              "      <td>0</td>\n",
              "      <td>0</td>\n",
              "      <td>0</td>\n",
              "      <td>0</td>\n",
              "      <td>25</td>\n",
              "      <td>0</td>\n",
              "      <td>0</td>\n",
              "      <td>0</td>\n",
              "      <td>0</td>\n",
              "      <td>0</td>\n",
              "      <td>0</td>\n",
              "      <td>0</td>\n",
              "      <td>0</td>\n",
              "      <td>0</td>\n",
              "      <td>0</td>\n",
              "      <td>0</td>\n",
              "      <td>0</td>\n",
              "      <td>0</td>\n",
              "      <td>0</td>\n",
              "      <td>9</td>\n",
              "      <td>0</td>\n",
              "      <td>0</td>\n",
              "      <td>0</td>\n",
              "      <td>0</td>\n",
              "      <td>0</td>\n",
              "      <td>0</td>\n",
              "      <td>0</td>\n",
              "      <td>0</td>\n",
              "      <td>0</td>\n",
              "      <td>0</td>\n",
              "      <td>0</td>\n",
              "      <td>17</td>\n",
              "      <td>2</td>\n",
              "      <td>21</td>\n",
              "      <td>12</td>\n",
              "      <td>29</td>\n",
              "      <td>0</td>\n",
              "      <td>0</td>\n",
              "      <td>11</td>\n",
              "      <td>50</td>\n",
              "      <td>0</td>\n",
              "      <td>18</td>\n",
              "      <td>9</td>\n",
              "      <td>0</td>\n",
              "      <td>24</td>\n",
              "      <td>12</td>\n",
              "      <td>0</td>\n",
              "      <td>2</td>\n",
              "      <td>0</td>\n",
              "      <td>0</td>\n",
              "      <td>12</td>\n",
              "      <td>41</td>\n",
              "      <td>0</td>\n",
              "      <td>9</td>\n",
              "      <td>0</td>\n",
              "      <td>0</td>\n",
              "      <td>0</td>\n",
              "      <td>0</td>\n",
              "      <td>0</td>\n",
              "      <td>1</td>\n",
              "      <td>9afdf962</td>\n",
              "      <td>5</td>\n",
              "      <td>0</td>\n",
              "      <td>0</td>\n",
              "      <td>0.0</td>\n",
              "      <td>0.00</td>\n",
              "      <td>3</td>\n",
              "      <td>0</td>\n",
              "      <td>0</td>\n",
              "      <td>0</td>\n",
              "      <td>0</td>\n",
              "      <td>0.0</td>\n",
              "      <td>279</td>\n",
              "    </tr>\n",
              "  </tbody>\n",
              "</table>\n",
              "</div>"
            ],
            "text/plain": [
              "      Clip  Activity  Assessment  Game  Chicken Balancer (Activity)  \\\n",
              "1131     1         2           1     3                            0   \n",
              "567      1        18           9    15                          365   \n",
              "1011     0         0           0     0                            0   \n",
              "986      2         3           2     5                           74   \n",
              "1594     0         0           0     1                            0   \n",
              "\n",
              "      Crystal Caves - Level 2  Bug Measurer (Activity)  \\\n",
              "1131                        0                        0   \n",
              "567                         0                      212   \n",
              "1011                        0                        0   \n",
              "986                         0                        0   \n",
              "1594                        0                        0   \n",
              "\n",
              "      Crystal Caves - Level 3  Magma Peak - Level 2  \\\n",
              "1131                        0                     0   \n",
              "567                         0                     0   \n",
              "1011                        0                     0   \n",
              "986                         0                     0   \n",
              "1594                        0                     0   \n",
              "\n",
              "      Cauldron Filler (Assessment)  Flower Waterer (Activity)  Rulers  \\\n",
              "1131                             0                          0       0   \n",
              "567                              0                        181       0   \n",
              "1011                             0                          0       0   \n",
              "986                              0                          0       0   \n",
              "1594                             0                          0       0   \n",
              "\n",
              "      Slop Problem  Sandcastle Builder (Activity)  Crystal Caves - Level 1  \\\n",
              "1131             0                             42                        0   \n",
              "567              0                            101                        0   \n",
              "1011             0                              0                        0   \n",
              "986              0                             18                        0   \n",
              "1594             0                              0                        0   \n",
              "\n",
              "      Leaf Leader  Happy Camel  Tree Top City - Level 3  Treasure Map  \\\n",
              "1131            0           46                        0             0   \n",
              "567           378          178                        0             0   \n",
              "1011            0            0                        0             0   \n",
              "986           231            0                        0             0   \n",
              "1594            0            0                        0             0   \n",
              "\n",
              "      Costume Box  Tree Top City - Level 1  Scrub-A-Dub  Ordering Spheres  \\\n",
              "1131            0                        0          101                 0   \n",
              "567             0                        0          244                 0   \n",
              "1011            0                        0            0                 0   \n",
              "986             0                        0          159                 0   \n",
              "1594            0                        0            0                 0   \n",
              "\n",
              "      Watering Hole (Activity)  Lifting Heavy Things  Bubble Bath  \\\n",
              "1131                         0                     0            0   \n",
              "567                        595                     0         2231   \n",
              "1011                         0                     0            0   \n",
              "986                          7                     0            0   \n",
              "1594                         0                     0            0   \n",
              "\n",
              "      Mushroom Sorter (Assessment)  Balancing Act  Bottle Filler (Activity)  \\\n",
              "1131                             0              0                        19   \n",
              "567                              0              0                       579   \n",
              "1011                             0              0                         0   \n",
              "986                              0              0                         0   \n",
              "1594                             0              0                         0   \n",
              "\n",
              "      Chow Time  Egg Dropper (Activity)  Heavy, Heavier, Heaviest  Air Show  \\\n",
              "1131         44                      89                         0         0   \n",
              "567         349                     317                         0       244   \n",
              "1011          0                       0                         0         0   \n",
              "986         249                       0                         0         0   \n",
              "1594         49                       0                         0         0   \n",
              "\n",
              "      Magma Peak - Level 1  Pan Balance  Dino Drink  12 Monkeys  Honey Cake  \\\n",
              "1131                     0            0          60           0           0   \n",
              "567                      0         1043         675           0           0   \n",
              "1011                     0            0           0           0           0   \n",
              "986                      0          132           0           0           0   \n",
              "1594                     0           25           0           0           0   \n",
              "\n",
              "      Cart Balancer (Assessment)  Fireworks (Activity)  All Star Sorting  \\\n",
              "1131                           0                     0                 0   \n",
              "567                            0                   278               280   \n",
              "1011                           0                     0                 0   \n",
              "986                            0                     0                65   \n",
              "1594                           0                     0                 0   \n",
              "\n",
              "      Crystals Rule  Dino Dive  Pirate's Tale  Welcome to Lost Lagoon!  \\\n",
              "1131             57          0              0                        0   \n",
              "567              28        104              0                        0   \n",
              "1011              0          0              0                        0   \n",
              "986               0         67              0                        0   \n",
              "1594              0          0              0                        0   \n",
              "\n",
              "      Chest Sorter (Assessment)  Tree Top City - Level 2  \\\n",
              "1131                          0                        0   \n",
              "567                           0                        0   \n",
              "1011                          0                        0   \n",
              "986                           0                        0   \n",
              "1594                          0                        0   \n",
              "\n",
              "      Bird Measurer (Assessment)  2050  4100  4230  5000  4235  2060  4110  \\\n",
              "1131                           0     2     1     0     0     0     1     0   \n",
              "567                            0     8   102   191    36   194    12     6   \n",
              "1011                           0     0     0     0     0     0     0     0   \n",
              "986                            0     8    15     0     4     0     2     2   \n",
              "1594                           0     0     9     0     0     0     0     0   \n",
              "\n",
              "      5010  2070  2075  2080  2081  2083  3110  4010  3120  3121  4020  4021  \\\n",
              "1131     0     0     1     4     3     3   128     6    21    32    91    13   \n",
              "567     41     4     7    12     5     8   931    36   208   195  1063   137   \n",
              "1011     0     0     0     0     0     0     0     0     0     0     0     0   \n",
              "986      2     1     1     6     0     7    91     7    54    40   156     8   \n",
              "1594     0     0     0     0     0     0    17     2    21    12    29     0   \n",
              "\n",
              "      4022  4025  4030  4031  3010  4035  4040  3020  3021  4045  2000  4050  \\\n",
              "1131     0    21   106    11   131    21     7    22    30     1     9     0   \n",
              "567     28   295  1273    74   923   264    73   206   202    11    64     0   \n",
              "1011     0     0     0     0     0     0     0     0     0     0     0     0   \n",
              "986      2    32   143     0    88    31     4    56    41     0    12     0   \n",
              "1594     0    11    50     0    18     9     0    24    12     0     2     0   \n",
              "\n",
              "      2010  2020  4070  2025  2030  4080  2035  2040  4090  4220  4095  \\\n",
              "1131     1    39   304     1    34     0     1     6     0     0     1   \n",
              "567      8   224  1340    12   200     0     9     8     2    39     8   \n",
              "1011     0     0     0     0     0     0     0     0     0     0     0   \n",
              "986      1    53   175     1    53     0     0     9     3     0     2   \n",
              "1594     0    12    41     0     9     0     0     0     0     0     1   \n",
              "\n",
              "     installation_id  session_title  accumulated_correct_attempts  \\\n",
              "1131        480bfe4f             34                             1   \n",
              "567         8cd5bc7c             34                             7   \n",
              "1011        f69fc509             22                             0   \n",
              "986         7eff5909             22                             1   \n",
              "1594        9afdf962              5                             0   \n",
              "\n",
              "      accumulated_uncorrect_attempts  duration_mean  accumulated_accuracy  \\\n",
              "1131                               0            5.0                  1.00   \n",
              "567                                7        25927.7                  0.60   \n",
              "1011                               0            0.0                  0.00   \n",
              "986                                3        43187.5                  0.25   \n",
              "1594                               0            0.0                  0.00   \n",
              "\n",
              "      accuracy_group  0  1  2  3  accumulated_accuracy_group  \\\n",
              "1131               1  0  0  0  1                         3.0   \n",
              "567                3  3  0  2  5                         1.9   \n",
              "1011               3  0  0  0  0                         0.0   \n",
              "986                3  1  0  1  0                         1.0   \n",
              "1594               3  0  0  0  0                         0.0   \n",
              "\n",
              "      accumulated_actions  \n",
              "1131                 1052  \n",
              "567                  8459  \n",
              "1011                    0  \n",
              "986                  1110  \n",
              "1594                  279  "
            ]
          },
          "metadata": {
            "tags": []
          },
          "execution_count": 133
        }
      ]
    },
    {
      "cell_type": "code",
      "metadata": {
        "id": "HQOekQ3o_0Yt",
        "colab_type": "code",
        "colab": {
          "base_uri": "https://localhost:8080/",
          "height": 420,
          "referenced_widgets": [
            "a3572fd9538e4ebdae5673be4d1f94cd",
            "7324454fc0e548768f0691dcd3251cb1",
            "af445cf705f2420db487c501643074cb",
            "ca46f66661204e9e899b30193ad37f6d",
            "ab3dfb60cc754e29b65406ee37af5d58",
            "4ed55e6f6b944f30ac7be9f6288fed5c",
            "5f28f2906d2542f5808b73c365247696",
            "31103e7b15144bd8a6df0aff3a3bad41"
          ]
        },
        "outputId": "b3572b3e-2aea-4218-efc8-745da77d9250"
      },
      "source": [
        "new_test = []\n",
        "for ins_id, user_sample in tqdm(test.groupby('installation_id', sort=False), total=test.installation_id.nunique(), desc='Installation_id', position=0):\n",
        "    a = get_data(user_sample, test_set=True)\n",
        "    new_test.append(a)\n",
        "    \n",
        "reduce_test = pd.DataFrame(new_test)"
      ],
      "execution_count": 135,
      "outputs": [
        {
          "output_type": "display_data",
          "data": {
            "application/vnd.jupyter.widget-view+json": {
              "model_id": "a3572fd9538e4ebdae5673be4d1f94cd",
              "version_minor": 0,
              "version_major": 2
            },
            "text/plain": [
              "HBox(children=(IntProgress(value=0, description='Installation_id', max=957, style=ProgressStyle(description_wi…"
            ]
          },
          "metadata": {
            "tags": []
          }
        },
        {
          "output_type": "stream",
          "text": [
            "\n"
          ],
          "name": "stdout"
        },
        {
          "output_type": "error",
          "ename": "IndexError",
          "evalue": "ignored",
          "traceback": [
            "\u001b[0;31m---------------------------------------------------------------------------\u001b[0m",
            "\u001b[0;31mIndexError\u001b[0m                                Traceback (most recent call last)",
            "\u001b[0;32m<ipython-input-135-218a19a56d26>\u001b[0m in \u001b[0;36m<module>\u001b[0;34m()\u001b[0m\n\u001b[1;32m      1\u001b[0m \u001b[0mnew_test\u001b[0m \u001b[0;34m=\u001b[0m \u001b[0;34m[\u001b[0m\u001b[0;34m]\u001b[0m\u001b[0;34m\u001b[0m\u001b[0;34m\u001b[0m\u001b[0m\n\u001b[1;32m      2\u001b[0m \u001b[0;32mfor\u001b[0m \u001b[0mins_id\u001b[0m\u001b[0;34m,\u001b[0m \u001b[0muser_sample\u001b[0m \u001b[0;32min\u001b[0m \u001b[0mtqdm\u001b[0m\u001b[0;34m(\u001b[0m\u001b[0mtest\u001b[0m\u001b[0;34m.\u001b[0m\u001b[0mgroupby\u001b[0m\u001b[0;34m(\u001b[0m\u001b[0;34m'installation_id'\u001b[0m\u001b[0;34m,\u001b[0m \u001b[0msort\u001b[0m\u001b[0;34m=\u001b[0m\u001b[0;32mFalse\u001b[0m\u001b[0;34m)\u001b[0m\u001b[0;34m,\u001b[0m \u001b[0mtotal\u001b[0m\u001b[0;34m=\u001b[0m\u001b[0mtest\u001b[0m\u001b[0;34m.\u001b[0m\u001b[0minstallation_id\u001b[0m\u001b[0;34m.\u001b[0m\u001b[0mnunique\u001b[0m\u001b[0;34m(\u001b[0m\u001b[0;34m)\u001b[0m\u001b[0;34m,\u001b[0m \u001b[0mdesc\u001b[0m\u001b[0;34m=\u001b[0m\u001b[0;34m'Installation_id'\u001b[0m\u001b[0;34m,\u001b[0m \u001b[0mposition\u001b[0m\u001b[0;34m=\u001b[0m\u001b[0;36m0\u001b[0m\u001b[0;34m)\u001b[0m\u001b[0;34m:\u001b[0m\u001b[0;34m\u001b[0m\u001b[0;34m\u001b[0m\u001b[0m\n\u001b[0;32m----> 3\u001b[0;31m     \u001b[0ma\u001b[0m \u001b[0;34m=\u001b[0m \u001b[0mget_data\u001b[0m\u001b[0;34m(\u001b[0m\u001b[0muser_sample\u001b[0m\u001b[0;34m,\u001b[0m \u001b[0mtest_set\u001b[0m\u001b[0;34m=\u001b[0m\u001b[0;32mTrue\u001b[0m\u001b[0;34m)\u001b[0m\u001b[0;34m\u001b[0m\u001b[0;34m\u001b[0m\u001b[0m\n\u001b[0m\u001b[1;32m      4\u001b[0m     \u001b[0mnew_test\u001b[0m\u001b[0;34m.\u001b[0m\u001b[0mappend\u001b[0m\u001b[0;34m(\u001b[0m\u001b[0ma\u001b[0m\u001b[0;34m)\u001b[0m\u001b[0;34m\u001b[0m\u001b[0;34m\u001b[0m\u001b[0m\n\u001b[1;32m      5\u001b[0m \u001b[0;34m\u001b[0m\u001b[0m\n",
            "\u001b[0;32m<ipython-input-130-6efc0d5ab89a>\u001b[0m in \u001b[0;36mget_data\u001b[0;34m(user_sample, test_set)\u001b[0m\n\u001b[1;32m     89\u001b[0m \u001b[0;34m\u001b[0m\u001b[0m\n\u001b[1;32m     90\u001b[0m     \u001b[0;32mif\u001b[0m \u001b[0mtest_set\u001b[0m\u001b[0;34m:\u001b[0m\u001b[0;34m\u001b[0m\u001b[0;34m\u001b[0m\u001b[0m\n\u001b[0;32m---> 91\u001b[0;31m         \u001b[0;32mreturn\u001b[0m \u001b[0mall_assessments\u001b[0m\u001b[0;34m[\u001b[0m\u001b[0;34m-\u001b[0m\u001b[0;36m1\u001b[0m\u001b[0;34m]\u001b[0m\u001b[0;34m\u001b[0m\u001b[0;34m\u001b[0m\u001b[0m\n\u001b[0m\u001b[1;32m     92\u001b[0m \u001b[0;34m\u001b[0m\u001b[0m\n\u001b[1;32m     93\u001b[0m     \u001b[0;32mreturn\u001b[0m \u001b[0mall_assessments\u001b[0m\u001b[0;34m\u001b[0m\u001b[0;34m\u001b[0m\u001b[0m\n",
            "\u001b[0;31mIndexError\u001b[0m: list index out of range"
          ]
        }
      ]
    },
    {
      "cell_type": "code",
      "metadata": {
        "id": "BvNzfS68AfwC",
        "colab_type": "code",
        "colab": {
          "base_uri": "https://localhost:8080/",
          "height": 164
        },
        "outputId": "ab86f7a1-b634-458f-ebbe-dd499eda63e1"
      },
      "source": [
        "reduce_test.shape"
      ],
      "execution_count": 136,
      "outputs": [
        {
          "output_type": "error",
          "ename": "NameError",
          "evalue": "ignored",
          "traceback": [
            "\u001b[0;31m---------------------------------------------------------------------------\u001b[0m",
            "\u001b[0;31mNameError\u001b[0m                                 Traceback (most recent call last)",
            "\u001b[0;32m<ipython-input-136-d8368c179a21>\u001b[0m in \u001b[0;36m<module>\u001b[0;34m()\u001b[0m\n\u001b[0;32m----> 1\u001b[0;31m \u001b[0mreduce_test\u001b[0m\u001b[0;34m.\u001b[0m\u001b[0mshape\u001b[0m\u001b[0;34m\u001b[0m\u001b[0;34m\u001b[0m\u001b[0m\n\u001b[0m",
            "\u001b[0;31mNameError\u001b[0m: name 'reduce_test' is not defined"
          ]
        }
      ]
    },
    {
      "cell_type": "code",
      "metadata": {
        "id": "o1zp5aeUBAUc",
        "colab_type": "code",
        "colab": {
          "base_uri": "https://localhost:8080/",
          "height": 164
        },
        "outputId": "cd3db6ae-b78e-454b-9e74-4c8e3f2e5c62"
      },
      "source": [
        "reduce_test.head()"
      ],
      "execution_count": 137,
      "outputs": [
        {
          "output_type": "error",
          "ename": "NameError",
          "evalue": "ignored",
          "traceback": [
            "\u001b[0;31m---------------------------------------------------------------------------\u001b[0m",
            "\u001b[0;31mNameError\u001b[0m                                 Traceback (most recent call last)",
            "\u001b[0;32m<ipython-input-137-e7fe8da174c5>\u001b[0m in \u001b[0;36m<module>\u001b[0;34m()\u001b[0m\n\u001b[0;32m----> 1\u001b[0;31m \u001b[0mreduce_test\u001b[0m\u001b[0;34m.\u001b[0m\u001b[0mhead\u001b[0m\u001b[0;34m(\u001b[0m\u001b[0;34m)\u001b[0m\u001b[0;34m\u001b[0m\u001b[0;34m\u001b[0m\u001b[0m\n\u001b[0m",
            "\u001b[0;31mNameError\u001b[0m: name 'reduce_test' is not defined"
          ]
        }
      ]
    },
    {
      "cell_type": "code",
      "metadata": {
        "id": "hmodW9bmBCwe",
        "colab_type": "code",
        "colab": {}
      },
      "source": [
        "def preprocess(reduce_train, reduce_test):\n",
        "    for df in [reduce_train, reduce_test]:\n",
        "        df['installation_session_count'] = df.groupby(['installation_id'])['Clip'].transform('count')\n",
        "        df['installation_duration_mean'] = df.groupby(['installation_id'])['duration_mean'].transform('mean')\n",
        "        df['installation_title_nunique'] = df.groupby(['installation_id'])['session_title'].transform('nunique')\n",
        "\n",
        "        df['sum_event_code_count'] = df[[2050, 4100, 4230, 5000, 4235, 2060, 4110, 5010, \n",
        "                                         2070, 2075, 2080, 2081, 2083, 3110, 4010, 3120, \n",
        "                                         3121, 4020, 4021, 4022, 4025, 4030, 4031, 3010, \n",
        "                                         4035, 4040, 3020, 3021, 4045, 2000, 4050, 2010, \n",
        "                                         2020, 4070, 2025, 2030, 4080, 2035, 2040, 4090, 4220, 4095]].sum(axis=1)\n",
        "        df['installation_event_code_count_mean'] = df.groupby(['installation_id'])['sum_event_code_count'].transform('mean')\n",
        "\n",
        "    features = reduce_train.loc[(reduce_train.sum(axis=1) != 0), (reduce_train.sum(axis=0) != 0)].columns\n",
        "    features = [x for x in features if x not in ['accuracy_group', 'installation_id']] + ['acc_' + title for title in assess_titles]\n",
        "\n",
        "    return reduce_train, reduce_test, features\n",
        "\n",
        "reduce_train, reduce_test, features = preprocess(reduce_train, reduce_test)"
      ],
      "execution_count": 0,
      "outputs": []
    },
    {
      "cell_type": "code",
      "metadata": {
        "id": "wCgc_GrvDFYL",
        "colab_type": "code",
        "colab": {}
      },
      "source": [
        "params = {'n_estimators': 2000,\n",
        "          'boosting_type': 'gbdt',\n",
        "          'objective': 'regression',\n",
        "          'metric': 'rmse',\n",
        "          'subsample': 0.75,\n",
        "          'subsample_freq': 1,\n",
        "          'learning_rate': 0.04,\n",
        "          'feature_fraction': 0.9,\n",
        "          'max_depth': 15,\n",
        "          'lambda_l1': 1,\n",
        "          'lambda_l2': 1,\n",
        "          'verbose': 100,\n",
        "          'early_stopping_rounds': 100, \n",
        "          'eval_metric': 'cappa'}"
      ],
      "execution_count": 0,
      "outputs": []
    },
    {
      "cell_type": "code",
      "metadata": {
        "id": "A9E5EbOMDFTN",
        "colab_type": "code",
        "colab": {}
      },
      "source": [
        "y = reduce_train['accuracy_group']"
      ],
      "execution_count": 0,
      "outputs": []
    },
    {
      "cell_type": "code",
      "metadata": {
        "id": "pA-wRoXgDqEs",
        "colab_type": "code",
        "colab": {}
      },
      "source": [
        "n_fold = 5\n",
        "folds = GroupKFold(n_splits=n_fold)"
      ],
      "execution_count": 0,
      "outputs": []
    },
    {
      "cell_type": "code",
      "metadata": {
        "id": "XeWmqFm9DqCS",
        "colab_type": "code",
        "colab": {}
      },
      "source": [
        "cols_to_drop = ['game_session', 'installation_id', 'timestamp', 'accuracy_group', 'timestampDate']"
      ],
      "execution_count": 0,
      "outputs": []
    },
    {
      "cell_type": "code",
      "metadata": {
        "id": "BwX1l-FsDp_K",
        "colab_type": "code",
        "colab": {}
      },
      "source": [
        "# Quadratic Weighted Cappa function\n",
        "from sklearn.base import BaseEstimator, TransformerMixin\n",
        "@jit\n",
        "def qwk(a1, a2):\n",
        "    max_rat = 3\n",
        "    a1 = np.asarray(a1, dtype=int)\n",
        "    a2 = np.asarray(a2, dtype=int)\n",
        "\n",
        "    hist1 = np.zeros((max_rat + 1, ))\n",
        "    hist2 = np.zeros((max_rat + 1, ))\n",
        "\n",
        "    o = 0\n",
        "    for k in range(a1.shape[0]):\n",
        "        i, j = a1[k], a2[k]\n",
        "        hist1[i] += 1\n",
        "        hist2[i] += 1\n",
        "        o += (i - j) * (i - j)\n",
        "    \n",
        "    e = 0\n",
        "    for i in range(max_rat + 1):\n",
        "        for j in range(max_rat + 1):\n",
        "            e += hist1[i] * hist2[j] * (i - j) * (i - j)\n",
        "    \n",
        "    e = e / a1.shape[0]\n",
        "\n",
        "    return 1 - o / e\n",
        "\n",
        "\n",
        "def eval_qwk_lgb(y_true, y_pred):\n",
        "    y_pred = y_pred.reshape(len(np.unique(y_true)), -1).argmax(axis=0)\n",
        "    return 'cappa', qwk(y_true, y_pred), True\n",
        "\n",
        "\n",
        "def eval_qwk_lgb_regr(y_true, y_pred):\n",
        "    y_pred[y_pred <= 1.12232214] = 0\n",
        "    y_pred[np.where(np.logical_and(y_pred > 1.12232214, y_pred <= 1.73925866))] = 1\n",
        "    y_pred[np.where(np.logical_and(y_pred > 1.73925866, y_pred <= 2.22506454))] = 2\n",
        "    y_pred[y_pred > 2.22506454] = 3\n",
        "\n",
        "    # y_pred = y_pred.reshape(len(np.unique(y_true)), -1).argmax(axis=0)\n",
        "    \n",
        "    return 'cappa', qwk(y_true, y_pred), True"
      ],
      "execution_count": 0,
      "outputs": []
    },
    {
      "cell_type": "code",
      "metadata": {
        "id": "rtXQNLzGDp9L",
        "colab_type": "code",
        "colab": {}
      },
      "source": [
        "# Model wrappers\n",
        "class LGBWrapper_regr(object):\n",
        "    def __init__(self):\n",
        "        self.model = lgb.LGBMRegressor()\n",
        "\n",
        "    def fit(self, X_train, y_train, X_valid=None, y_valid=None, X_holdout=None, y_holdout=None, params=None):\n",
        "        if params['objective'] == 'regression':\n",
        "            eval_metric = eval_qwk_lgb_regr\n",
        "        else:\n",
        "            eval_metric = 'auc'\n",
        "        \n",
        "        eval_set = [(X_train, y_train)]\n",
        "        eval_names = ['train']\n",
        "        self.model = self.model.set_params(**params)\n",
        "\n",
        "        if X_valid is not None:\n",
        "            eval_set.append((X_valid, y_valid))\n",
        "            eval_names.append('valid')\n",
        "        \n",
        "        if X_holdout is not None:\n",
        "            eval_set.append((X_holdout, y_holdout))\n",
        "            eval_names.append('holdout')\n",
        "        \n",
        "        if 'cat_cols' in params.keys():\n",
        "            cat_cols = [col for col in params['cat_cols'] if col in X_train.coumns]\n",
        "            if len(cat_cols) > 0:\n",
        "                categorical_columns = params['cat_cols']\n",
        "            else:\n",
        "                categorical_columns = 'auto'\n",
        "        else:\n",
        "            categorical_columns = 'auto'\n",
        "        \n",
        "        self.model.fit(X=X_train, y=y_train, eval_set=eval_set, eval_names=eval_names, eval_metric=eval_metric, verbose=params['verbose'], early_stopping_rounds=params['early_stopping_rounds'], categorical_feature=categorical_columns)\n",
        "        self.best_score_ = self.model.best_score_\n",
        "        self.feature_importances_ = self.model.feature_importances_\n",
        "\n",
        "    def predict(self, X_test):\n",
        "        return self.model.predict(X_test, num_iteration=self.model.best_iteration_)\n",
        "\n",
        "\n",
        "def eval_qwk_xgb(y_pred, y_true):\n",
        "    # print('y_true', y_true)\n",
        "    # print('y_pred', y_pred)\n",
        "    y_true = y_true.get_label()\n",
        "    y_pred = y_pred.argmax(axis=1)\n",
        "    return 'cappa', -qwk(y_true, y_pred)\n",
        "\n",
        "\n",
        "class LGBWrapper(object):\n",
        "    def __init__(self):\n",
        "        self.model = lgb.LGBMClassifier()\n",
        "\n",
        "    def fit(self, X_train, y_train, X_valid=None, y_valid=None, X_holdout=None, y_holdout=None, params=None):\n",
        "\n",
        "        eval_set = [(X_train, y_train)]\n",
        "        eval_names = ['train']\n",
        "        self.model = self.model.set_params(**params)\n",
        "\n",
        "        if X_valid is not None:\n",
        "            eval_set.append((X_valid, y_valid))\n",
        "            eval_names.append('valid')\n",
        "\n",
        "        if X_holdout is not None:\n",
        "            eval_set.append((X_holdout, y_holdout))\n",
        "            eval_names.append('holdout')\n",
        "\n",
        "        if 'cat_cols' in params.keys():\n",
        "            cat_cols = [col for col in params['cat_cols'] if col in X_train.columns]\n",
        "            if len(cat_cols) > 0:\n",
        "                categorical_columns = params['cat_cols']\n",
        "            else:\n",
        "                categorical_columns = 'auto'\n",
        "        else:\n",
        "            categorical_columns = 'auto'\n",
        "\n",
        "        self.model.fit(X=X_train, y=y_train,\n",
        "                       eval_set=eval_set, eval_names=eval_names, eval_metric=eval_qwk_lgb,\n",
        "                       verbose=params['verbose'], early_stopping_rounds=params['early_stopping_rounds'],\n",
        "                       categorical_feature=categorical_columns)\n",
        "\n",
        "        self.best_score_ = self.model.best_score_\n",
        "        self.feature_importances_ = self.model.feature_importances_\n",
        "\n",
        "    def predict_proba(self, X_test):\n",
        "        if self.model.objective == 'binary':\n",
        "            return self.model.predict_proba(X_test, num_iteration=self.model.best_iteration_)[:, 1]\n",
        "        else:\n",
        "            return self.model.predict_proba(X_test, num_iteration=self.model.best_iteration_)\n",
        "\n",
        "\n",
        "class CatWrapper(object):\n",
        "    def __init__(self):\n",
        "        self.model = cat.CatBoostClassifier()\n",
        "\n",
        "    def fit(self, X_train, y_train, X_valid=None, y_valid=None, X_holdout=None, y_holdout=None, params=None):\n",
        "\n",
        "        eval_set = [(X_train, y_train)]\n",
        "        self.model = self.model.set_params(**{k: v for k, v in params.items() if k != 'cat_cols'})\n",
        "\n",
        "        if X_valid is not None:\n",
        "            eval_set.append((X_valid, y_valid))\n",
        "\n",
        "        if X_holdout is not None:\n",
        "            eval_set.append((X_holdout, y_holdout))\n",
        "\n",
        "        if 'cat_cols' in params.keys():\n",
        "            cat_cols = [col for col in params['cat_cols'] if col in X_train.columns]\n",
        "            if len(cat_cols) > 0:\n",
        "                categorical_columns = params['cat_cols']\n",
        "            else:\n",
        "                categorical_columns = None\n",
        "        else:\n",
        "            categorical_columns = None\n",
        "        \n",
        "        self.model.fit(X=X_train, y=y_train,\n",
        "                       eval_set=eval_set,\n",
        "                       verbose=params['verbose'], early_stopping_rounds=params['early_stopping_rounds'],\n",
        "                       cat_features=categorical_columns)\n",
        "\n",
        "        self.best_score_ = self.model.best_score_\n",
        "        self.feature_importances_ = self.model.feature_importances_\n",
        "\n",
        "    def predict_proba(self, X_test):\n",
        "        if 'MultiClass' not in self.model.get_param('loss_function'):\n",
        "            return self.model.predict_proba(X_test, ntree_end=self.model.best_iteration_)[:, 1]\n",
        "        else:\n",
        "            return self.model.predict_proba(X_test, ntree_end=self.model.best_iteration_)\n",
        "\n",
        "\n",
        "class XGBWrapper(object):\n",
        "    def __init__(self):\n",
        "        self.model = xgb.XGBClassifier()\n",
        "\n",
        "    def fit(self, X_train, y_train, X_valid=None, y_valid=None, X_holdout=None, y_holdout=None, params=None):\n",
        "\n",
        "        eval_set = [(X_train, y_train)]\n",
        "        self.model = self.model.set_params(**params)\n",
        "\n",
        "        if X_valid is not None:\n",
        "            eval_set.append((X_valid, y_valid))\n",
        "\n",
        "        if X_holdout is not None:\n",
        "            eval_set.append((X_holdout, y_holdout))\n",
        "\n",
        "        self.model.fit(X=X_train, y=y_train,\n",
        "                       eval_set=eval_set, eval_metric=eval_qwk_xgb,\n",
        "                       verbose=params['verbose'], early_stopping_rounds=params['early_stopping_rounds'])\n",
        "\n",
        "        scores = self.model.evals_result()\n",
        "        self.best_score_ = {k: {m: m_v[-1] for m, m_v in v.items()} for k, v in scores.items()}\n",
        "        self.best_score_ = {k: {m: n if m != 'cappa' else -n for m, n in v.items()} for k, v in self.best_score_.items()}\n",
        "\n",
        "        self.feature_importances_ = self.model.feature_importances_\n",
        "\n",
        "    def predict_proba(self, X_test):\n",
        "        if self.model.objective == 'binary':\n",
        "            return self.model.predict_proba(X_test, ntree_limit=self.model.best_iteration)[:, 1]\n",
        "        else:\n",
        "            return self.model.predict_proba(X_test, ntree_limit=self.model.best_iteration)"
      ],
      "execution_count": 0,
      "outputs": []
    },
    {
      "cell_type": "code",
      "metadata": {
        "id": "YyT-BydxDp52",
        "colab_type": "code",
        "colab": {}
      },
      "source": [
        "# MainTransformer\n",
        "class MainTransformer(BaseEstimator, TransformerMixin):\n",
        "\n",
        "    def __init__(self, convert_cyclical: bool = False, create_interactions: bool = False, n_interactions: int = 20):\n",
        "        self.convert_cyclical = convert_cyclical\n",
        "        self.create_interactions = create_interactions\n",
        "        self.feats_for_interaction = None\n",
        "        self.n_interactions = n_interactions\n",
        "\n",
        "    def fit(self, X, y=None):\n",
        "\n",
        "        if self.create_interactions:\n",
        "            self.feats_for_interaction = [col for col in X.columns if 'sum' in col\n",
        "                                          or 'mean' in col or 'max' in col or 'std' in col\n",
        "                                          or 'attempt' in col]\n",
        "            self.feats_for_interaction1 = np.random.choice(self.feats_for_interaction, self.n_interactions)\n",
        "            self.feats_for_interaction2 = np.random.choice(self.feats_for_interaction, self.n_interactions)\n",
        "\n",
        "        return self\n",
        "\n",
        "    def transform(self, X, y=None):\n",
        "        data = copy.deepcopy(X)\n",
        "        if self.create_interactions:\n",
        "            for col1 in self.feats_for_interaction1:\n",
        "                for col2 in self.feats_for_interaction2:\n",
        "                    data[f'{col1}_int_{col2}'] = data[col1] * data[col2]\n",
        "\n",
        "        if self.convert_cyclical:\n",
        "            data['timestampHour'] = np.sin(2 * np.pi * data['timestampHour'] / 23.0)\n",
        "            data['timestampMonth'] = np.sin(2 * np.pi * data['timestampMonth'] / 23.0)\n",
        "            data['timestampWeek'] = np.sin(2 * np.pi * data['timestampWeek'] / 23.0)\n",
        "            data['timestampMinute'] = np.sin(2 * np.pi * data['timestampMinute'] / 23.0)\n",
        "\n",
        "#         data['installation_session_count'] = data.groupby(['installation_id'])['Clip'].transform('count')\n",
        "#         data['installation_duration_mean'] = data.groupby(['installation_id'])['duration_mean'].transform('mean')\n",
        "#         data['installation_title_nunique'] = data.groupby(['installation_id'])['session_title'].transform('nunique')\n",
        "\n",
        "#         data['sum_event_code_count'] = data[['2000', '3010', '3110', '4070', '4090', '4030', '4035', '4021', '4020', '4010', '2080', '2083', '2040', '2020', '2030', '3021', '3121', '2050', '3020', '3120', '2060', '2070', '4031', '4025', '5000', '5010', '2081', '2025', '4022', '2035', '4040', '4100', '2010', '4110', '4045', '4095', '4220', '2075', '4230', '4235', '4080', '4050']].sum(axis=1)\n",
        "\n",
        "        # data['installation_event_code_count_mean'] = data.groupby(['installation_id'])['sum_event_code_count'].transform('mean')\n",
        "\n",
        "        return data\n",
        "\n",
        "    def fit_transform(self, X, y=None, **fit_params):\n",
        "        data = copy.deepcopy(X)\n",
        "        self.fit(data)\n",
        "        return self.transform(data)class MainTransformer(BaseEstimator, TransformerMixin):\n",
        "\n",
        "    def __init__(self, convert_cyclical: bool = False, create_interactions: bool = False, n_interactions: int = 20):\n",
        "\n",
        "        self.convert_cyclical = convert_cyclical\n",
        "        self.create_interactions = create_interactions\n",
        "        self.feats_for_interaction = None\n",
        "        self.n_interactions = n_interactions\n",
        "\n",
        "    def fit(self, X, y=None):\n",
        "\n",
        "        if self.create_interactions:\n",
        "            self.feats_for_interaction = [col for col in X.columns if 'sum' in col\n",
        "                                          or 'mean' in col or 'max' in col or 'std' in col\n",
        "                                          or 'attempt' in col]\n",
        "            self.feats_for_interaction1 = np.random.choice(self.feats_for_interaction, self.n_interactions)\n",
        "            self.feats_for_interaction2 = np.random.choice(self.feats_for_interaction, self.n_interactions)\n",
        "\n",
        "        return self\n",
        "\n",
        "    def transform(self, X, y=None):\n",
        "        data = copy.deepcopy(X)\n",
        "        if self.create_interactions:\n",
        "            for col1 in self.feats_for_interaction1:\n",
        "                for col2 in self.feats_for_interaction2:\n",
        "                    data[f'{col1}_int_{col2}'] = data[col1] * data[col2]\n",
        "\n",
        "        if self.convert_cyclical:\n",
        "            data['timestampHour'] = np.sin(2 * np.pi * data['timestampHour'] / 23.0)\n",
        "            data['timestampMonth'] = np.sin(2 * np.pi * data['timestampMonth'] / 23.0)\n",
        "            data['timestampWeek'] = np.sin(2 * np.pi * data['timestampWeek'] / 23.0)\n",
        "            data['timestampMinute'] = np.sin(2 * np.pi * data['timestampMinute'] / 23.0)\n",
        "\n",
        "#         data['installation_session_count'] = data.groupby(['installation_id'])['Clip'].transform('count')\n",
        "#         data['installation_duration_mean'] = data.groupby(['installation_id'])['duration_mean'].transform('mean')\n",
        "#         data['installation_title_nunique'] = data.groupby(['installation_id'])['session_title'].transform('nunique')\n",
        "\n",
        "#         data['sum_event_code_count'] = data[['2000', '3010', '3110', '4070', '4090', '4030', '4035', '4021', '4020', '4010', '2080', '2083', '2040', '2020', '2030', '3021', '3121', '2050', '3020', '3120', '2060', '2070', '4031', '4025', '5000', '5010', '2081', '2025', '4022', '2035', '4040', '4100', '2010', '4110', '4045', '4095', '4220', '2075', '4230', '4235', '4080', '4050']].sum(axis=1)\n",
        "\n",
        "        # data['installation_event_code_count_mean'] = data.groupby(['installation_id'])['sum_event_code_count'].transform('mean')\n",
        "\n",
        "        return data\n",
        "\n",
        "    def fit_transform(self, X, y=None, **fit_params):\n",
        "        data = copy.deepcopy(X)\n",
        "        self.fit(data)\n",
        "        return self.transform(data)"
      ],
      "execution_count": 0,
      "outputs": []
    },
    {
      "cell_type": "code",
      "metadata": {
        "id": "QihqeR4wDp26",
        "colab_type": "code",
        "colab": {}
      },
      "source": [
        "# FeatureTransformer\n",
        "class FeatureTransformer(BaseEstimator, TransformerMixin):\n",
        "\n",
        "    def __init__(self, main_cat_features: list = None, num_cols: list = None):\n",
        "        self.main_cat_features = main_cat_features\n",
        "        self.num_cols = num_cols\n",
        "\n",
        "    def fit(self, X, y=None):\n",
        "\n",
        "#         self.num_cols = [col for col in X.columns if 'sum' in col or 'mean' in col or 'max' in col or 'std' in col\n",
        "#                          or 'attempt' in col]\n",
        "        \n",
        "\n",
        "        return self\n",
        "\n",
        "    def transform(self, X, y=None):\n",
        "        data = copy.deepcopy(X)\n",
        "#         for col in self.num_cols:\n",
        "#             data[f'{col}_to_mean'] = data[col] / data.groupby('installation_id')[col].transform('mean')\n",
        "#             data[f'{col}_to_std'] = data[col] / data.groupby('installation_id')[col].transform('std')\n",
        "\n",
        "        return data\n",
        "\n",
        "    def fit_transform(self, X, y=None, **fit_params):\n",
        "        data = copy.deepcopy(X)\n",
        "        self.fit(data)\n",
        "        return self.transform(data)"
      ],
      "execution_count": 0,
      "outputs": []
    },
    {
      "cell_type": "code",
      "metadata": {
        "id": "_AA9dUv7Dp0I",
        "colab_type": "code",
        "colab": {}
      },
      "source": [
        "# RegressorModel class\n",
        "class RegressorModel(object):\n",
        "    \"\"\"\n",
        "    A wrapper class for classification models.\n",
        "    It can be used for training and prediction.\n",
        "    Can plot feature importance and training progress (if relevant for model).\n",
        "\n",
        "    \"\"\"\n",
        "\n",
        "    def __init__(self, columns: list = None, model_wrapper=None):\n",
        "        \"\"\"\n",
        "\n",
        "        :param original_columns:\n",
        "        :param model_wrapper:\n",
        "        \"\"\"\n",
        "        self.columns = columns\n",
        "        self.model_wrapper = model_wrapper\n",
        "        self.result_dict = {}\n",
        "        self.train_one_fold = False\n",
        "        self.preprocesser = None\n",
        "\n",
        "    def fit(self, X: pd.DataFrame, y,\n",
        "            X_holdout: pd.DataFrame = None, y_holdout=None,\n",
        "            folds=None,\n",
        "            params: dict = None,\n",
        "            eval_metric='rmse',\n",
        "            cols_to_drop: list = None,\n",
        "            preprocesser=None,\n",
        "            transformers: dict = None,\n",
        "            adversarial: bool = False,\n",
        "            plot: bool = True):\n",
        "        \"\"\"\n",
        "        Training the model.\n",
        "\n",
        "        :param X: training data\n",
        "        :param y: training target\n",
        "        :param X_holdout: holdout data\n",
        "        :param y_holdout: holdout target\n",
        "        :param folds: folds to split the data. If not defined, then model will be trained on the whole X\n",
        "        :param params: training parameters\n",
        "        :param eval_metric: metric for validataion\n",
        "        :param cols_to_drop: list of columns to drop (for example ID)\n",
        "        :param preprocesser: preprocesser class\n",
        "        :param transformers: transformer to use on folds\n",
        "        :param adversarial\n",
        "        :return:\n",
        "        \"\"\"\n",
        "\n",
        "        if folds is None:\n",
        "            folds = KFold(n_splits=3, random_state=42)\n",
        "            self.train_one_fold = True\n",
        "\n",
        "        self.columns = X.columns if self.columns is None else self.columns\n",
        "        self.feature_importances = pd.DataFrame(columns=['feature', 'importance'])\n",
        "        self.trained_transformers = {k: [] for k in transformers}\n",
        "        self.transformers = transformers\n",
        "        self.models = []\n",
        "        self.folds_dict = {}\n",
        "        self.eval_metric = eval_metric\n",
        "        n_target = 1\n",
        "        self.oof = np.zeros((len(X), n_target))\n",
        "        self.n_target = n_target\n",
        "\n",
        "        X = X[self.columns]\n",
        "        if X_holdout is not None:\n",
        "            X_holdout = X_holdout[self.columns]\n",
        "\n",
        "        if preprocesser is not None:\n",
        "            self.preprocesser = preprocesser\n",
        "            self.preprocesser.fit(X, y)\n",
        "            X = self.preprocesser.transform(X, y)\n",
        "            self.columns = X.columns.tolist()\n",
        "            if X_holdout is not None:\n",
        "                X_holdout = self.preprocesser.transform(X_holdout)\n",
        "\n",
        "        for fold_n, (train_index, valid_index) in enumerate(folds.split(X, y, X['installation_id'])):\n",
        "\n",
        "            if X_holdout is not None:\n",
        "                X_hold = X_holdout.copy()\n",
        "            else:\n",
        "                X_hold = None\n",
        "            self.folds_dict[fold_n] = {}\n",
        "            if params['verbose']:\n",
        "                print(f'Fold {fold_n + 1} started at {time.ctime()}')\n",
        "            self.folds_dict[fold_n] = {}\n",
        "\n",
        "            X_train, X_valid = X.iloc[train_index], X.iloc[valid_index]\n",
        "            y_train, y_valid = y.iloc[train_index], y.iloc[valid_index]\n",
        "            if self.train_one_fold:\n",
        "                X_train = X[self.original_columns]\n",
        "                y_train = y\n",
        "                X_valid = None\n",
        "                y_valid = None\n",
        "\n",
        "            datasets = {'X_train': X_train, 'X_valid': X_valid, 'X_holdout': X_hold, 'y_train': y_train}\n",
        "            X_train, X_valid, X_hold = self.transform_(datasets, cols_to_drop)\n",
        "\n",
        "            self.folds_dict[fold_n]['columns'] = X_train.columns.tolist()\n",
        "\n",
        "            model = copy.deepcopy(self.model_wrapper)\n",
        "\n",
        "            if adversarial:\n",
        "                X_new1 = X_train.copy()\n",
        "                if X_valid is not None:\n",
        "                    X_new2 = X_valid.copy()\n",
        "                elif X_holdout is not None:\n",
        "                    X_new2 = X_holdout.copy()\n",
        "                X_new = pd.concat([X_new1, X_new2], axis=0)\n",
        "                y_new = np.hstack((np.zeros((X_new1.shape[0])), np.ones((X_new2.shape[0]))))\n",
        "                X_train, X_valid, y_train, y_valid = train_test_split(X_new, y_new)\n",
        "\n",
        "            model.fit(X_train, y_train, X_valid, y_valid, X_hold, y_holdout, params=params)\n",
        "\n",
        "            self.folds_dict[fold_n]['scores'] = model.best_score_\n",
        "            if self.oof.shape[0] != len(X):\n",
        "                self.oof = np.zeros((X.shape[0], self.oof.shape[1]))\n",
        "            if not adversarial:\n",
        "                self.oof[valid_index] = model.predict(X_valid).reshape(-1, n_target)\n",
        "\n",
        "            fold_importance = pd.DataFrame(list(zip(X_train.columns, model.feature_importances_)),\n",
        "                                           columns=['feature', 'importance'])\n",
        "            self.feature_importances = self.feature_importances.append(fold_importance)\n",
        "            self.models.append(model)\n",
        "\n",
        "        self.feature_importances['importance'] = self.feature_importances['importance'].astype(int)\n",
        "\n",
        "        # if params['verbose']:\n",
        "        self.calc_scores_()\n",
        "\n",
        "        if plot:\n",
        "            # print(classification_report(y, self.oof.argmax(1)))\n",
        "            fig, ax = plt.subplots(figsize=(16, 12))\n",
        "            plt.subplot(2, 2, 1)\n",
        "            self.plot_feature_importance(top_n=20)\n",
        "            plt.subplot(2, 2, 2)\n",
        "            self.plot_metric()\n",
        "            plt.subplot(2, 2, 3)\n",
        "            plt.hist(y.values.reshape(-1, 1) - self.oof)\n",
        "            plt.title('Distribution of errors')\n",
        "            plt.subplot(2, 2, 4)\n",
        "            plt.hist(self.oof)\n",
        "            plt.title('Distribution of oof predictions');\n",
        "\n",
        "    def transform_(self, datasets, cols_to_drop):\n",
        "        for name, transformer in self.transformers.items():\n",
        "            transformer.fit(datasets['X_train'], datasets['y_train'])\n",
        "            datasets['X_train'] = transformer.transform(datasets['X_train'])\n",
        "            if datasets['X_valid'] is not None:\n",
        "                datasets['X_valid'] = transformer.transform(datasets['X_valid'])\n",
        "            if datasets['X_holdout'] is not None:\n",
        "                datasets['X_holdout'] = transformer.transform(datasets['X_holdout'])\n",
        "            self.trained_transformers[name].append(transformer)\n",
        "        if cols_to_drop is not None:\n",
        "            cols_to_drop = [col for col in cols_to_drop if col in datasets['X_train'].columns]\n",
        "\n",
        "            datasets['X_train'] = datasets['X_train'].drop(cols_to_drop, axis=1)\n",
        "            if datasets['X_valid'] is not None:\n",
        "                datasets['X_valid'] = datasets['X_valid'].drop(cols_to_drop, axis=1)\n",
        "            if datasets['X_holdout'] is not None:\n",
        "                datasets['X_holdout'] = datasets['X_holdout'].drop(cols_to_drop, axis=1)\n",
        "        self.cols_to_drop = cols_to_drop\n",
        "\n",
        "        return datasets['X_train'], datasets['X_valid'], datasets['X_holdout']\n",
        "\n",
        "    def calc_scores_(self):\n",
        "        print()\n",
        "        datasets = [k for k, v in [v['scores'] for k, v in self.folds_dict.items()][0].items() if len(v) > 0]\n",
        "        self.scores = {}\n",
        "        for d in datasets:\n",
        "            scores = [v['scores'][d][self.eval_metric] for k, v in self.folds_dict.items()]\n",
        "            print(f\"CV mean score on {d}: {np.mean(scores):.4f} +/- {np.std(scores):.4f} std.\")\n",
        "            self.scores[d] = np.mean(scores)\n",
        "\n",
        "    def predict(self, X_test, averaging: str = 'usual'):\n",
        "        \"\"\"\n",
        "        Make prediction\n",
        "\n",
        "        :param X_test:\n",
        "        :param averaging: method of averaging\n",
        "        :return:\n",
        "        \"\"\"\n",
        "        full_prediction = np.zeros((X_test.shape[0], self.oof.shape[1]))\n",
        "        if self.preprocesser is not None:\n",
        "            X_test = self.preprocesser.transform(X_test)\n",
        "        for i in range(len(self.models)):\n",
        "            X_t = X_test.copy()\n",
        "            for name, transformers in self.trained_transformers.items():\n",
        "                X_t = transformers[i].transform(X_t)\n",
        "\n",
        "            if self.cols_to_drop is not None:\n",
        "                cols_to_drop = [col for col in self.cols_to_drop if col in X_t.columns]\n",
        "                X_t = X_t.drop(cols_to_drop, axis=1)\n",
        "            y_pred = self.models[i].predict(X_t[self.folds_dict[i]['columns']]).reshape(-1, full_prediction.shape[1])\n",
        "\n",
        "            # if case transformation changes the number of the rows\n",
        "            if full_prediction.shape[0] != len(y_pred):\n",
        "                full_prediction = np.zeros((y_pred.shape[0], self.oof.shape[1]))\n",
        "\n",
        "            if averaging == 'usual':\n",
        "                full_prediction += y_pred\n",
        "            elif averaging == 'rank':\n",
        "                full_prediction += pd.Series(y_pred).rank().values\n",
        "\n",
        "        return full_prediction / len(self.models)\n",
        "\n",
        "    def plot_feature_importance(self, drop_null_importance: bool = True, top_n: int = 10):\n",
        "        \"\"\"\n",
        "        Plot default feature importance.\n",
        "\n",
        "        :param drop_null_importance: drop columns with null feature importance\n",
        "        :param top_n: show top n columns\n",
        "        :return:\n",
        "        \"\"\"\n",
        "\n",
        "        top_feats = self.get_top_features(drop_null_importance, top_n)\n",
        "        feature_importances = self.feature_importances.loc[self.feature_importances['feature'].isin(top_feats)]\n",
        "        feature_importances['feature'] = feature_importances['feature'].astype(str)\n",
        "        top_feats = [str(i) for i in top_feats]\n",
        "        sns.barplot(data=feature_importances, x='importance', y='feature', orient='h', order=top_feats)\n",
        "        plt.title('Feature importances')\n",
        "\n",
        "    def get_top_features(self, drop_null_importance: bool = True, top_n: int = 10):\n",
        "        \"\"\"\n",
        "        Get top features by importance.\n",
        "\n",
        "        :param drop_null_importance:\n",
        "        :param top_n:\n",
        "        :return:\n",
        "        \"\"\"\n",
        "        grouped_feats = self.feature_importances.groupby(['feature'])['importance'].mean()\n",
        "        if drop_null_importance:\n",
        "            grouped_feats = grouped_feats[grouped_feats != 0]\n",
        "        return list(grouped_feats.sort_values(ascending=False).index)[:top_n]\n",
        "\n",
        "    def plot_metric(self):\n",
        "        \"\"\"\n",
        "        Plot training progress.\n",
        "        Inspired by `plot_metric` from https://lightgbm.readthedocs.io/en/latest/_modules/lightgbm/plotting.html\n",
        "\n",
        "        :return:\n",
        "        \"\"\"\n",
        "        full_evals_results = pd.DataFrame()\n",
        "        for model in self.models:\n",
        "            evals_result = pd.DataFrame()\n",
        "            for k in model.model.evals_result_.keys():\n",
        "                evals_result[k] = model.model.evals_result_[k][self.eval_metric]\n",
        "            evals_result = evals_result.reset_index().rename(columns={'index': 'iteration'})\n",
        "            full_evals_results = full_evals_results.append(evals_result)\n",
        "\n",
        "        full_evals_results = full_evals_results.melt(id_vars=['iteration']).rename(columns={'value': self.eval_metric,\n",
        "                                                                                            'variable': 'dataset'})\n",
        "        sns.lineplot(data=full_evals_results, x='iteration', y=self.eval_metric, hue='dataset')\n",
        "        plt.title('Training progress')"
      ],
      "execution_count": 0,
      "outputs": []
    },
    {
      "cell_type": "code",
      "metadata": {
        "id": "s4UqQzNeDpwY",
        "colab_type": "code",
        "colab": {}
      },
      "source": [
        "# CategoricalTransformer class\n",
        "from category_encoders.ordinal import OrdinalEncoder\n",
        "\n",
        "class CategoricalTransformer(BaseEstimator, TransformerMixin):\n",
        "\n",
        "    def __init__(self, cat_cols=None, drop_original: bool = False, encoder=OrdinalEncoder()):\n",
        "\n",
        "        self.cat_cols = cat_cols\n",
        "        self.drop_original = drop_original\n",
        "        self.encoder = encoder\n",
        "        self.default_encoder = OrdinalEncoder()\n",
        "\n",
        "    def fit(self, X, y=None):\n",
        "\n",
        "        if self.cat_cols is None:\n",
        "            kinds = np.array([dt.kind for dt in X.dtypes])\n",
        "            is_cat = kinds == 'O'\n",
        "            self.cat_cols = list(X.columns[is_cat])\n",
        "        self.encoder.set_params(cols=self.cat_cols)\n",
        "        self.default_encoder.set_params(cols=self.cat_cols)\n",
        "\n",
        "        self.encoder.fit(X[self.cat_cols], y)\n",
        "        self.default_encoder.fit(X[self.cat_cols], y)\n",
        "\n",
        "        return self\n",
        "\n",
        "    def transform(self, X, y=None):\n",
        "        data = copy.deepcopy(X)\n",
        "        new_cat_names = [f'{col}_encoded' for col in self.cat_cols]\n",
        "        encoded_data = self.encoder.transform(data[self.cat_cols])\n",
        "        if encoded_data.shape[1] == len(self.cat_cols):\n",
        "            data[new_cat_names] = encoded_data\n",
        "        else:\n",
        "            pass\n",
        "\n",
        "        if self.drop_original:\n",
        "            data = data.drop(self.cat_cols, axis=1)\n",
        "        else:\n",
        "            data[self.cat_cols] = self.default_encoder.transform(data[self.cat_cols])\n",
        "\n",
        "        return data\n",
        "\n",
        "    def fit_transform(self, X, y=None, **fit_params):\n",
        "        data = copy.deepcopy(X)\n",
        "        self.fit(data)\n",
        "        return self.transform(data)"
      ],
      "execution_count": 0,
      "outputs": []
    },
    {
      "cell_type": "code",
      "metadata": {
        "id": "IY8kh9_dDFPS",
        "colab_type": "code",
        "colab": {}
      },
      "source": [
        "mt = MainTransformer()\n",
        "ft = FeatureTransformer()\n",
        "transformers = {'ft': ft}\n",
        "regressor_model1 = RegressorModel(model_wrapper=LGBWrapper_regr())\n",
        "regressor_model1.fit(X=reduce_train, y=y, folds=folds, params=params, preprocesser=mt, transformers=transformers,\n",
        "                    eval_metric='cappa', cols_to_drop=cols_to_drop)"
      ],
      "execution_count": 0,
      "outputs": []
    },
    {
      "cell_type": "code",
      "metadata": {
        "id": "V2rfD99oDFKo",
        "colab_type": "code",
        "colab": {}
      },
      "source": [
        "# The OptimizedRounder class\n",
        "from functools import partial\n",
        "import scipy as sp\n",
        "class OptimizedRounder(object):\n",
        "    \"\"\"\n",
        "    An optimizer for rounding thresholds\n",
        "    to maximize Quadratic Weighted Kappa (QWK) score\n",
        "    # https://www.kaggle.com/naveenasaithambi/optimizedrounder-improved\n",
        "    \"\"\"\n",
        "    def __init__(self):\n",
        "        self.coef_ = 0\n",
        "\n",
        "    def _kappa_loss(self, coef, X, y):\n",
        "        \"\"\"\n",
        "        Get loss according to\n",
        "        using current coefficients\n",
        "        \n",
        "        :param coef: A list of coefficients that will be used for rounding\n",
        "        :param X: The raw predictions\n",
        "        :param y: The ground truth labels\n",
        "        \"\"\"\n",
        "        X_p = pd.cut(X, [-np.inf] + list(np.sort(coef)) + [np.inf], labels = [0, 1, 2, 3])\n",
        "\n",
        "        return -qwk(y, X_p)\n",
        "\n",
        "    def fit(self, X, y):\n",
        "        \"\"\"\n",
        "        Optimize rounding thresholds\n",
        "        \n",
        "        :param X: The raw predictions\n",
        "        :param y: The ground truth labels\n",
        "        \"\"\"\n",
        "        loss_partial = partial(self._kappa_loss, X=X, y=y)\n",
        "        initial_coef = [0.5, 1.5, 2.5]\n",
        "        self.coef_ = sp.optimize.minimize(loss_partial, initial_coef, method='nelder-mead')\n",
        "\n",
        "    def predict(self, X, coef):\n",
        "        \"\"\"\n",
        "        Make predictions with specified thresholds\n",
        "        \n",
        "        :param X: The raw predictions\n",
        "        :param coef: A list of coefficients that will be used for rounding\n",
        "        \"\"\"\n",
        "        return pd.cut(X, [-np.inf] + list(np.sort(coef)) + [np.inf], labels = [0, 1, 2, 3])\n",
        "\n",
        "\n",
        "    def coefficients(self):\n",
        "        \"\"\"\n",
        "        Return the optimized coefficients\n",
        "        \"\"\"\n",
        "        return self.coef_['x']"
      ],
      "execution_count": 0,
      "outputs": []
    },
    {
      "cell_type": "code",
      "metadata": {
        "id": "lkqYiBPMDFHp",
        "colab_type": "code",
        "colab": {}
      },
      "source": [
        "%%time\n",
        "pr1 = regressor_model1.predict(reduce_train)\n",
        "\n",
        "optR = OptimizedRounder()\n",
        "optR.fit(pr1.reshape(-1,), y)\n",
        "coefficients = optR.coefficients()"
      ],
      "execution_count": 0,
      "outputs": []
    },
    {
      "cell_type": "code",
      "metadata": {
        "id": "EtWIUV8eDFEG",
        "colab_type": "code",
        "colab": {}
      },
      "source": [
        "coefficients"
      ],
      "execution_count": 0,
      "outputs": []
    },
    {
      "cell_type": "code",
      "metadata": {
        "id": "EzT6k2KDKhOD",
        "colab_type": "code",
        "colab": {}
      },
      "source": [
        "opt_preds = optR.predict(pr1.reshape(-1, ), coefficients)\n",
        "qwk(y, opt_preds)"
      ],
      "execution_count": 0,
      "outputs": []
    },
    {
      "cell_type": "code",
      "metadata": {
        "id": "K3BUywvNKhK6",
        "colab_type": "code",
        "colab": {}
      },
      "source": [
        "pr1 = regressor_model1.predict(reduce_test)\n",
        "pr1[pr1 <= coefficients[0]] = 0\n",
        "pr1[np.where(np.logical_and(pr1 > coefficients[0], pr1 <= coefficients[1]))] = 1\n",
        "pr1[np.where(np.logical_and(pr1 > coefficients[1], pr1 <= coefficients[2]))] = 2\n",
        "pr1[pr1 > coefficients[2]] = 3"
      ],
      "execution_count": 0,
      "outputs": []
    },
    {
      "cell_type": "code",
      "metadata": {
        "id": "FYBTuCK0KhHp",
        "colab_type": "code",
        "colab": {}
      },
      "source": [
        "sample_submission['accuracy_group'] = pr1.astype(int)\n",
        "sample_submission.to_csv('submission.csv', index=False)"
      ],
      "execution_count": 0,
      "outputs": []
    },
    {
      "cell_type": "code",
      "metadata": {
        "id": "cSNA570XKhEe",
        "colab_type": "code",
        "colab": {}
      },
      "source": [
        "sample_submission.head()"
      ],
      "execution_count": 0,
      "outputs": []
    },
    {
      "cell_type": "code",
      "metadata": {
        "id": "fnkMhJ4WKhAP",
        "colab_type": "code",
        "colab": {}
      },
      "source": [
        ""
      ],
      "execution_count": 0,
      "outputs": []
    }
  ]
}